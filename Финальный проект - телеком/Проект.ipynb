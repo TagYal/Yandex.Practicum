{
 "cells": [
  {
   "cell_type": "markdown",
   "id": "82ffdd67",
   "metadata": {},
   "source": [
    "# Review\n",
    "Hi, my name is Dmitry and I will be reviewing your project.\n",
    "\n",
    "You can find my comments in colored markdown cells:\n",
    "\n",
    "<div class=\"alert alert-success\">\n",
    "    If everything is done successfully.\n",
    "</div>\n",
    "\n",
    "<div class=\"alert alert-warning\">\n",
    "    If I have some (optional) suggestions, or questions to think about, or general comments.\n",
    "</div>\n",
    "\n",
    "<div class=\"alert alert-danger\">\n",
    "    If a section requires some corrections. Work can't be accepted with red comments.\n",
    "</div>\n",
    "\n",
    "Please don't remove my comments, as it will make further review iterations much harder for me.\n",
    "\n",
    "Feel free to reply to my comments or ask questions using the following template:\n",
    "\n",
    "<div class=\"alert alert-info\">\n",
    "    For your comments and questions.\n",
    "</div>\n",
    "\n",
    "First of all, thank you for turning in the project! You did a pretty good job overall, but there are a couple of small problems that need to be fixed before the code can be accepted. Good luck!"
   ]
  },
  {
   "cell_type": "markdown",
   "id": "4da2b71f",
   "metadata": {},
   "source": [
    "<div class=\"alert alert-info\">\n",
    "    Thank you for this review! It's not hard to resolve my mistakes but it is sad that this mistakes are conceptual ones.\n",
    "</div>"
   ]
  },
  {
   "cell_type": "markdown",
   "id": "43138733",
   "metadata": {},
   "source": [
    "<div class=\"alert alert-success\">\n",
    "    <b>Reviewer's comment V2</b><br>\n",
    "    You're welcome! Don't beat yourself up too much! It's easy to let target leakage slip in, just make sure to double check everything if your model shows suspiciously good performance (especially close to perfect). As for the cross-validation on the train set, hopefully you'll remember this going forward :)<br><br>\n",
    "    Based on the ROC-AUC of your final model, you've got 6 SP. Congratulations!\n",
    "</div>"
   ]
  },
  {
   "cell_type": "markdown",
   "id": "2f8ab536",
   "metadata": {},
   "source": [
    "## TOC:\n",
    "* [1. Work Plan](#work_plan)\n",
    "* [2. Goal](#goal)\n",
    "* [3. Load data and EDA](#load)\n",
    "** [3.1 Import files and check general information](#2nd_import)\n",
    "** * [3.1.1 df_contract](#3rd_1st_file)\n",
    "** * [3.1.2 df_personal](#3rd_2nd_file)\n",
    "** * [3.1.3 df_internet](#3rd_3rd_file)\n",
    "** * [3.1.4 df_phone](#3rd_4th_file)\n",
    "** [3.1 Mini conclusion](#Mini_conclusion3.1)\n",
    "** [3.2 EDA](#2nd_EDA)\n",
    "** * [3.2.1 type of data](#types)\n",
    "** * [- BeginDate](#begindate)\n",
    "** * [- EndDate & Contract_period](#period)\n",
    "** * [- TotalCharges](#total)\n",
    "** * [3.2.2 Merge data](#merge)\n",
    "** * [3.2.3 OHE](#ohe)\n",
    "** * [- df_contract_ohe](#contract_ohe)\n",
    "** * [- df_personal_ohe](#personal_ohe)\n",
    "** * [- df_internet_ohe](#internet_ohe)\n",
    "** * [- df_phone_ohe](#phone_ohe)\n",
    "** [3.2 Mini conclusion](#Mini_conclusion3.2)\n",
    "** [3.3 Data analysis](#da)\n",
    "* [4. Develop models](#ML)\n",
    "** [4.1 Split features and target](#features)\n",
    "** [4.2 ML Models](#ml)\n",
    "** * [4.2.1 Sanity check](#dummy)\n",
    "** * [4.2.2 LogisticRegression](#linear)\n",
    "** * [4.2.3 DecisionTreeClassifier](#tree)\n",
    "** * [4.2.4 RandomForestClassifier](#forest)\n",
    "** * [4.2.5 CatBoostClassifier](#cat)\n",
    "** [4.2 Mini conclusion](#Mini_conclusion4.2)\n",
    "* [5. Results](#results)\n",
    "* [6. Solution Report](#report)"
   ]
  },
  {
   "cell_type": "markdown",
   "id": "9baddb9c",
   "metadata": {},
   "source": [
    "# 1.Work Plan <a class=\"anchor\" id=\"work_plan\"></a>"
   ]
  },
  {
   "cell_type": "markdown",
   "id": "2da58d74",
   "metadata": {},
   "source": [
    "You're going to have to preform an exploratory data analysis (EDA). At the end of Jupyter Notebook, write: <br>\n",
    "[ ] A list of clarifying questions <br>\n",
    "[ ] A rough plan for solving the task, specifying 3-5 basic steps and explaining each step in one or two sentences <br>\n",
    "<br> The team leader will check your questions and work plan. Questions will be answered during a video call. <br> \n",
    "The code will be reviewed by the team leader only if there are some areas of doubt."
   ]
  },
  {
   "cell_type": "markdown",
   "id": "db2d1b02",
   "metadata": {},
   "source": [
    "# 2.Goal <a class=\"anchor\" id=\"goal\"></a>\n",
    "The telecom operator Interconnect would like to be able to **forecast their churn of clients**. <br>\n",
    "If it's discovered that a user is planning to leave, they will be **offered promotional codes and special plan options**. <br>\n",
    "Interconnect's marketing team has collected some of their clientele's personal data, including information about their plans and contracts."
   ]
  },
  {
   "cell_type": "markdown",
   "id": "33c6042e",
   "metadata": {},
   "source": [
    "# 3.Load data and EDA <a class=\"anchor\" id=\"load\"></a>\n",
    "- `contract.csv` — contract information\n",
    "- `personal.csv` — the client's personal data\n",
    "- `internet.csv` — information about Internet services\n",
    "- `phone.csv` — information about telephone services"
   ]
  },
  {
   "cell_type": "code",
   "execution_count": 235,
   "id": "70c4804c",
   "metadata": {},
   "outputs": [],
   "source": [
    "# import libraries\n",
    "import pandas as pd\n",
    "import numpy as np\n",
    "import matplotlib.pyplot as plt\n",
    "import seaborn as sns\n",
    "\n",
    "# work with text/strings\n",
    "import re\n",
    "\n",
    "# ML\n",
    "from sklearn.model_selection import train_test_split\n",
    "from sklearn.linear_model import LogisticRegression\n",
    "from sklearn.tree import DecisionTreeClassifier\n",
    "from sklearn.ensemble import RandomForestClassifier\n",
    "from catboost import CatBoostClassifier\n",
    "\n",
    "from sklearn.model_selection import cross_val_score\n",
    "from sklearn.model_selection import RandomizedSearchCV\n",
    "from sklearn.metrics import roc_auc_score\n",
    "from sklearn.metrics import roc_curve\n",
    "from sklearn.metrics import accuracy_score\n",
    "\n",
    "from sklearn.metrics import classification_report"
   ]
  },
  {
   "cell_type": "code",
   "execution_count": 236,
   "id": "9e20d314",
   "metadata": {},
   "outputs": [],
   "source": [
    "# current day/dataset was downloaded\n",
    "# change it, if we update the dataset\n",
    "\n",
    "day_dataset = '2020-02-01'"
   ]
  },
  {
   "cell_type": "markdown",
   "id": "70a57479",
   "metadata": {},
   "source": [
    "## 3.1 Import files and check general information <a class=\"anchor\" id=\"2nd_import\"></a>"
   ]
  },
  {
   "cell_type": "code",
   "execution_count": 237,
   "id": "27234c88",
   "metadata": {},
   "outputs": [],
   "source": [
    "# import data from files\n",
    "\n",
    "df_contract = pd.read_csv('datasets\\contract.csv')\n",
    "df_personal = pd.read_csv('datasets\\personal.csv')\n",
    "df_internet = pd.read_csv('datasets\\internet.csv')\n",
    "df_phone = pd.read_csv('datasets\\phone.csv')"
   ]
  },
  {
   "cell_type": "markdown",
   "id": "a8f61719",
   "metadata": {},
   "source": [
    "### 3.1.1 df_contract <a class=\"anchor\" id=\"3rd_1st_file\"></a>"
   ]
  },
  {
   "cell_type": "code",
   "execution_count": 238,
   "id": "64671ed1",
   "metadata": {},
   "outputs": [
    {
     "data": {},
     "execution_count": 238,
     "metadata": {},
     "output_type": "execute_result"
    }
   ],
   "source": [
    "# print 5 first rows\n",
    "\n",
    "df_contract.head()"
   ]
  },
  {
   "cell_type": "code",
   "execution_count": 239,
   "id": "d65b3d41",
   "metadata": {},
   "outputs": [],
   "source": [
    "# check info about contracts\n",
    "\n",
    "df_contract.info()"
   ]
  },
  {
   "cell_type": "code",
   "execution_count": 240,
   "id": "89ed7a88",
   "metadata": {},
   "outputs": [],
   "source": [
    "# check duplicates\n",
    "\n",
    "print('Number of duplicated rows (all columns): {:.0f}'.format(df_contract.duplicated().sum()))\n",
    "print('Number of duplicated rows (only IDs): {:.0f}'.format(df_contract.duplicated(subset=['customerID']).sum()))"
   ]
  },
  {
   "cell_type": "code",
   "execution_count": 241,
   "id": "09362cd4",
   "metadata": {},
   "outputs": [
    {
     "data": {},
     "execution_count": 241,
     "metadata": {},
     "output_type": "execute_result"
    }
   ],
   "source": [
    "df_contract.columns"
   ]
  },
  {
   "cell_type": "markdown",
   "id": "41503712",
   "metadata": {},
   "source": [
    "**So...**<br>\n",
    "We have 7043 clients. <br>\n",
    "There are no duplicated rows. <br>\n",
    "There are no N/A values. <br>\n",
    "BeginDate and EndDate are not date type, so we can change it. <br>\n",
    "<br> Description of columns: <br>\n",
    "'customerID' - customer's ID <br>\n",
    "'BeginDate' - date when contract started <br>\n",
    "'EndDate' - date when contract will end (if it is appliable) <br>\n",
    "'Type' - type of contract period: month or year <br>\n",
    "'PaperlessBilling' - paperless billing **likely useless** boolean parameter <br>\n",
    "'PaymentMethod' - payment method <br>\n",
    "'MonthlyCharges' - monthly charge <br>\n",
    "'TotalCharges' - total charge <br>"
   ]
  },
  {
   "cell_type": "markdown",
   "id": "b75c677a",
   "metadata": {},
   "source": [
    "### 3.1.2 df_personal <a class=\"anchor\" id=\"3rd_2nd_file\"></a>"
   ]
  },
  {
   "cell_type": "code",
   "execution_count": 242,
   "id": "e229362d",
   "metadata": {},
   "outputs": [
    {
     "data": {},
     "execution_count": 242,
     "metadata": {},
     "output_type": "execute_result"
    }
   ],
   "source": [
    "# print 5 first rows\n",
    "\n",
    "df_personal.head()"
   ]
  },
  {
   "cell_type": "code",
   "execution_count": 243,
   "id": "2e3aa993",
   "metadata": {},
   "outputs": [],
   "source": [
    "# check info about contracts\n",
    "\n",
    "df_personal.info()"
   ]
  },
  {
   "cell_type": "code",
   "execution_count": 244,
   "id": "0bdf66b8",
   "metadata": {},
   "outputs": [],
   "source": [
    "# check duplicates\n",
    "\n",
    "print('Number of duplicated rows (all columns): {:.0f}'.format(df_personal.duplicated().sum()))\n",
    "print('Number of duplicated rows (only IDs): {:.0f}'.format(df_personal.duplicated(subset=['customerID']).sum()))"
   ]
  },
  {
   "cell_type": "code",
   "execution_count": 245,
   "id": "faa63466",
   "metadata": {},
   "outputs": [
    {
     "data": {},
     "execution_count": 245,
     "metadata": {},
     "output_type": "execute_result"
    }
   ],
   "source": [
    "df_personal.columns"
   ]
  },
  {
   "cell_type": "markdown",
   "id": "7456c22e",
   "metadata": {},
   "source": [
    "**So...**<br>\n",
    "7043 rows. <br>\n",
    "There are no duplicated rows. <br>\n",
    "There are no N/A values. <br>\n",
    "<br>\n",
    "Description of columns: <br>\n",
    "'customerID' - IDs<br>\n",
    "'gender' - gender <br>\n",
    "'SeniorCitizen' - elderly person, especially one who is retired and living on a pension (True/False) <br>\n",
    "'Partner' - **(???)** maybe if customer has a spouse?<br>\n",
    "'Dependents' - a person who relies on another, especially a family member, for financial support <br>\n",
    "\n"
   ]
  },
  {
   "cell_type": "markdown",
   "id": "41d66747",
   "metadata": {},
   "source": [
    "### 3.1.3 df_internet <a class=\"anchor\" id=\"3rd_3rd_file\"></a>"
   ]
  },
  {
   "cell_type": "code",
   "execution_count": 246,
   "id": "cbd50ee2",
   "metadata": {},
   "outputs": [
    {
     "data": {},
     "execution_count": 246,
     "metadata": {},
     "output_type": "execute_result"
    }
   ],
   "source": [
    "df_internet.head()"
   ]
  },
  {
   "cell_type": "code",
   "execution_count": 247,
   "id": "3fbca20b",
   "metadata": {},
   "outputs": [],
   "source": [
    "# check info about contracts\n",
    "\n",
    "df_internet.info()"
   ]
  },
  {
   "cell_type": "code",
   "execution_count": 248,
   "id": "ab83e6e1",
   "metadata": {},
   "outputs": [],
   "source": [
    "# check duplicates\n",
    "\n",
    "print('Number of duplicated rows (all columns): {:.0f}'.format(df_internet.duplicated().sum()))\n",
    "print('Number of duplicated rows (only IDs): {:.0f}'.format(df_internet.duplicated(subset=['customerID']).sum()))"
   ]
  },
  {
   "cell_type": "code",
   "execution_count": 249,
   "id": "64fcc44f",
   "metadata": {},
   "outputs": [
    {
     "data": {},
     "execution_count": 249,
     "metadata": {},
     "output_type": "execute_result"
    }
   ],
   "source": [
    "df_internet.columns"
   ]
  },
  {
   "cell_type": "markdown",
   "id": "1db0d280",
   "metadata": {},
   "source": [
    "**So...**<br>\n",
    "We have only 5517 rows. <br>\n",
    "There are no duplicated rows. <br>\n",
    "There are no N/A values. <br>\n",
    "<br>\n",
    "Description of columns: <br>\n",
    "'customerID' - IDs<br>\n",
    "'InternetService' - type of network setup <br>\n",
    "'OnlineSecurity' - **SERVICE:** Internet security: a malicious website blocker <br>\n",
    "'OnlineBackup' - **SERVICE:** Cloud file storage and data backup <br>\n",
    "'DeviceProtection' - **SERVICE:** Internet security: antivirus software <br>\n",
    "'TechSupport' - **SERVICE:** A dedicated technical support line <br>\n",
    "'StreamingTV' - **SERVICE:** TV streaming <br>\n",
    "'StreamingMovies' - **SERVICE:** movie directory <br>"
   ]
  },
  {
   "cell_type": "markdown",
   "id": "b96cb188",
   "metadata": {},
   "source": [
    "### 3.1.4 df_phone <a class=\"anchor\" id=\"3rd_4th_file\"></a>"
   ]
  },
  {
   "cell_type": "code",
   "execution_count": 250,
   "id": "f7622e30",
   "metadata": {},
   "outputs": [
    {
     "data": {},
     "execution_count": 250,
     "metadata": {},
     "output_type": "execute_result"
    }
   ],
   "source": [
    "df_phone.head()"
   ]
  },
  {
   "cell_type": "code",
   "execution_count": 251,
   "id": "1e24e52c",
   "metadata": {},
   "outputs": [],
   "source": [
    "# check info about contracts\n",
    "\n",
    "df_phone.info()"
   ]
  },
  {
   "cell_type": "code",
   "execution_count": 252,
   "id": "b9326574",
   "metadata": {},
   "outputs": [],
   "source": [
    "# check duplicates\n",
    "\n",
    "print('Number of duplicated rows (all columns): {:.0f}'.format(df_phone.duplicated().sum()))\n",
    "print('Number of duplicated rows (only IDs): {:.0f}'.format(df_phone.duplicated(subset=['customerID']).sum()))"
   ]
  },
  {
   "cell_type": "code",
   "execution_count": 253,
   "id": "1eb74075",
   "metadata": {},
   "outputs": [
    {
     "data": {},
     "execution_count": 253,
     "metadata": {},
     "output_type": "execute_result"
    }
   ],
   "source": [
    "df_phone.columns"
   ]
  },
  {
   "cell_type": "markdown",
   "id": "9a358332",
   "metadata": {},
   "source": [
    "**Mini conclusion** <br> <a class=\"anchor\" id=\"Mini_conclusion3.1\"></a>\n",
    "1. We successfully imported datasets <br>\n",
    "2. 7043 clients <br>\n",
    "3. There are no duplicated rows. There are no N/A values. <br>\n",
    "4. However some clients use only internet service, some of them use only phone. <br>\n",
    "After merging some N/A-values will appear. But we can use this information, that people do not use some service. <br>\n",
    "5. We should change type of some columns. <br>"
   ]
  },
  {
   "cell_type": "markdown",
   "id": "ba93844d",
   "metadata": {},
   "source": [
    "## 3.2 EDA <a class=\"anchor\" id=\"2nd_EDA\"></a>"
   ]
  },
  {
   "cell_type": "markdown",
   "id": "e5e2f048",
   "metadata": {},
   "source": [
    "### 3.2.1 type of data <a class=\"anchor\" id=\"types\"></a>"
   ]
  },
  {
   "cell_type": "markdown",
   "id": "780557a7",
   "metadata": {},
   "source": [
    "#### - df_contract: BeginDate <a class=\"anchor\" id=\"begindate\"></a>"
   ]
  },
  {
   "cell_type": "code",
   "execution_count": 254,
   "id": "fb4a4107",
   "metadata": {},
   "outputs": [
    {
     "data": {},
     "execution_count": 254,
     "metadata": {},
     "output_type": "execute_result"
    }
   ],
   "source": [
    "df_contract.head()"
   ]
  },
  {
   "cell_type": "code",
   "execution_count": 255,
   "id": "28f9b34b",
   "metadata": {},
   "outputs": [],
   "source": [
    "# check type of date and change type to Timestamp\n",
    "\n",
    "print('Type of data in BeginDate: {:}'.format(\n",
    "        type(df_contract['BeginDate'][0])))\n",
    "\n",
    "df_contract['BeginDate'] = pd.to_datetime(df_contract['BeginDate'], format='%Y-%m-%d')"
   ]
  },
  {
   "cell_type": "code",
   "execution_count": 256,
   "id": "e280799c",
   "metadata": {},
   "outputs": [
    {
     "data": {},
     "execution_count": 256,
     "metadata": {},
     "output_type": "execute_result"
    }
   ],
   "source": [
    "# what is the date?\n",
    "\n",
    "df_contract['BeginDate'].dt.day.unique()"
   ]
  },
  {
   "cell_type": "markdown",
   "id": "10a60588",
   "metadata": {},
   "source": [
    "**So...**<br>\n",
    "We need only year and month here <br>\n",
    "Add these values in table."
   ]
  },
  {
   "cell_type": "code",
   "execution_count": 257,
   "id": "d28c1538",
   "metadata": {},
   "outputs": [],
   "source": [
    "df_contract['Begin_year'] = df_contract['BeginDate'].dt.year\n",
    "df_contract['Begin_month'] = df_contract['BeginDate'].dt.month"
   ]
  },
  {
   "cell_type": "code",
   "execution_count": 258,
   "id": "96f76c06",
   "metadata": {},
   "outputs": [],
   "source": [
    "print(\"Minimal Date when contract has been signed:\", df_contract['BeginDate'].min())\n",
    "print(\"Minimal Date when contract has been signed:\", df_contract['BeginDate'].max())"
   ]
  },
  {
   "cell_type": "markdown",
   "id": "17481a3a",
   "metadata": {},
   "source": [
    "#### - df_contract: EndDate & Contract_period <a class=\"anchor\" id=\"period\"></a>"
   ]
  },
  {
   "cell_type": "code",
   "execution_count": 259,
   "id": "8cc3c683",
   "metadata": {},
   "outputs": [
    {
     "data": {},
     "execution_count": 259,
     "metadata": {},
     "output_type": "execute_result"
    }
   ],
   "source": [
    "df_contract['EndDate'].unique()"
   ]
  },
  {
   "cell_type": "markdown",
   "id": "9783f0b3",
   "metadata": {},
   "source": [
    "**So...** There are only 4 values."
   ]
  },
  {
   "cell_type": "code",
   "execution_count": 260,
   "id": "5546d8ef",
   "metadata": {},
   "outputs": [],
   "source": [
    "# calculate period of contract\n",
    "# when contract is valid, we calculate it according parameter: day_dataset\n",
    "# day_dataset is February 1, 2020 (current day/dataset was downloaded).\n",
    "df_contract['Contract_period'] = df_contract.query('EndDate != \"No\"')['EndDate']\n",
    "df_contract['Contract_period'] = df_contract['Contract_period'].fillna(day_dataset)\n",
    "df_contract['Contract_period'] = pd.to_datetime(df_contract['Contract_period'], format='%Y-%m-%d %H:%M:%S')\n",
    "df_contract['Contract_period'] = (df_contract['Contract_period'] - df_contract['BeginDate']).dt.days\n",
    "\n",
    "# create target: column with information about if the contract is valid\n",
    "df_contract['Valid_client'] = [1 if x==True else 0 for x in df_contract['EndDate'] == \"No\" ]"
   ]
  },
  {
   "cell_type": "code",
   "execution_count": 261,
   "id": "fe4f4e15",
   "metadata": {},
   "outputs": [],
   "source": [
    "# drop 'EndDate' and 'BeginDate'\n",
    "# because we save this information in 'Contract_period' and 'Valid_client'\n",
    "# and in 'Begin_year' and 'Begin_month'\n",
    "df_contract = df_contract.drop(columns=['EndDate','BeginDate'])"
   ]
  },
  {
   "cell_type": "markdown",
   "id": "0180ecfa",
   "metadata": {},
   "source": [
    "#### - df_contract: TotalCharges <a class=\"anchor\" id=\"total\"></a>"
   ]
  },
  {
   "cell_type": "code",
   "execution_count": 262,
   "id": "9f6a779c",
   "metadata": {},
   "outputs": [
    {
     "data": {},
     "execution_count": 262,
     "metadata": {},
     "output_type": "execute_result"
    }
   ],
   "source": [
    "df_contract['TotalCharges'].unique()"
   ]
  },
  {
   "cell_type": "code",
   "execution_count": 263,
   "id": "8c2a4a03",
   "metadata": {},
   "outputs": [],
   "source": [
    "try:\n",
    "    df_contract['TotalCharges'] = df_contract['TotalCharges'].astype(float)\n",
    "except:\n",
    "    print('There is some problems with TotalCharges. Cannot convert type')"
   ]
  },
  {
   "cell_type": "code",
   "execution_count": 264,
   "id": "6be136ac",
   "metadata": {
    "scrolled": true
   },
   "outputs": [],
   "source": [
    "# try to find the index where there is a problem\n",
    "index = 0\n",
    "list_index = []\n",
    "for text in df_contract['TotalCharges']:\n",
    "    numbers_float = re.findall(r\"[0-9]*\\.[0-9]*\", text)\n",
    "    numbers_int = re.findall(r\"\\d+\", text)\n",
    "    if len(numbers_float) != 1 and len(numbers_int) != 1:\n",
    "        print(index, text)\n",
    "        list_index.append(index)    \n",
    "    index += 1"
   ]
  },
  {
   "cell_type": "markdown",
   "id": "95e4fc98",
   "metadata": {},
   "source": [
    "So, we see, that the problem with rows, where no information about TotalCharges; \" \"-values"
   ]
  },
  {
   "cell_type": "code",
   "execution_count": 265,
   "id": "3b16a685",
   "metadata": {},
   "outputs": [
    {
     "data": {},
     "execution_count": 265,
     "metadata": {},
     "output_type": "execute_result"
    }
   ],
   "source": [
    "df_contract.iloc[list_index]"
   ]
  },
  {
   "cell_type": "code",
   "execution_count": 266,
   "id": "c0379207",
   "metadata": {},
   "outputs": [
    {
     "data": {
      "image/png": "[encoded data removed]"
     },
     "metadata": {
      "needs_background": "light"
     },
     "output_type": "display_data"
    }
   ],
   "source": [
    "# try to find a correlation between MonthlyCharges and TotalCharges\n",
    "#x = df_contract[df_contract['TotalCharges'] != \" \" and df_contract['TotalCharges'] == 'Two year']['MonthlyCharges']\n",
    "x = df_contract.query('TotalCharges != \" \" and Type == \"Two year\"')['MonthlyCharges']\n",
    "y = df_contract.query('TotalCharges != \" \" and Type == \"Two year\"')['TotalCharges'].astype(float)\n",
    "\n",
    "#y = df_contract[df_contract['TotalCharges'] != \" \"]['TotalCharges'].astype(float)\n",
    "\n",
    "plt.figure()\n",
    "plt.plot(x,y,'.')\n",
    "plt.show()"
   ]
  },
  {
   "cell_type": "markdown",
   "id": "5c54016e",
   "metadata": {},
   "source": [
    "Strictly say, we can't use this correlation"
   ]
  },
  {
   "cell_type": "code",
   "execution_count": 267,
   "id": "f58ffe70",
   "metadata": {},
   "outputs": [],
   "source": [
    "print('Remove only {:.2%} rows'.format(len(list_index) / len(df_contract)))"
   ]
  },
  {
   "cell_type": "code",
   "execution_count": 268,
   "id": "7a3ed5f2",
   "metadata": {},
   "outputs": [],
   "source": [
    "# remove this values\n",
    "\n",
    "df_contract = df_contract.drop(list_index, axis=0)\n",
    "df_contract = df_contract.reset_index(drop=True)"
   ]
  },
  {
   "cell_type": "code",
   "execution_count": 269,
   "id": "a8ba1de5",
   "metadata": {},
   "outputs": [],
   "source": [
    "try:\n",
    "    df_contract['TotalCharges'] = df_contract['TotalCharges'].astype(float)\n",
    "except:\n",
    "    print('There is some problems with TotalCharges. Cannot convert type')"
   ]
  },
  {
   "cell_type": "markdown",
   "id": "082fb967",
   "metadata": {},
   "source": [
    "### 3.2.2 Merge data <a class=\"anchor\" id=\"merge\"></a>"
   ]
  },
  {
   "cell_type": "code",
   "execution_count": 270,
   "id": "4aabf8c0",
   "metadata": {},
   "outputs": [],
   "source": [
    "df = df_contract.   \\\n",
    "    merge(df_personal, on='customerID', how='left').   \\\n",
    "    merge(df_internet, on='customerID', how='left').   \\\n",
    "    merge(df_phone, on='customerID', how='left')"
   ]
  },
  {
   "cell_type": "code",
   "execution_count": 271,
   "id": "bd889b46",
   "metadata": {
    "scrolled": true
   },
   "outputs": [
    {
     "data": {},
     "execution_count": 271,
     "metadata": {},
     "output_type": "execute_result"
    }
   ],
   "source": [
    "df"
   ]
  },
  {
   "cell_type": "markdown",
   "id": "792a11a8",
   "metadata": {},
   "source": [
    "We have N/A-values in some columns. <br>\n",
    "In this case absence of values is **important**. So we will reserve this values in OHE"
   ]
  },
  {
   "cell_type": "markdown",
   "id": "b1f661bd",
   "metadata": {},
   "source": [
    "<div class=\"alert alert-success\">\n",
    "    <b>Reviewer's comment</b><br>\n",
    "    Dataframes were merged correctly\n",
    "</div>"
   ]
  },
  {
   "cell_type": "markdown",
   "id": "27dcfcbf",
   "metadata": {},
   "source": [
    "### 3.2.3 OHE <a class=\"anchor\" id=\"ohe\"></a>"
   ]
  },
  {
   "cell_type": "markdown",
   "id": "aa8e0e68",
   "metadata": {},
   "source": [
    "#### - df_contract_ohe <a class=\"anchor\" id=\"contract_ohe\"></a>"
   ]
  },
  {
   "cell_type": "code",
   "execution_count": 272,
   "id": "7ecdc440",
   "metadata": {},
   "outputs": [],
   "source": [
    "# we can apply OHE in 'Type'\n",
    "# there are only 3 columns\n",
    "\n",
    "print(df['Type'].unique())\n",
    "\n",
    "# we can apply OHE in 'PaperlessBilling'\n",
    "# there are only 2 columns\n",
    "\n",
    "print(df['PaperlessBilling'].unique())\n",
    "\n",
    "# we can apply OHE in 'PaymentMethod'\n",
    "# there are only 4 columns\n",
    "\n",
    "print(df['PaymentMethod'].unique())"
   ]
  },
  {
   "cell_type": "code",
   "execution_count": 273,
   "id": "92bdfd08",
   "metadata": {},
   "outputs": [],
   "source": [
    "# OHE\n",
    "# we have not got N/A values! so, we don't need use dummy_na\n",
    "\n",
    "df = pd.get_dummies(\n",
    "    df,\n",
    "    columns=['Type', 'PaperlessBilling', 'PaymentMethod'],\n",
    "    # dummy_na = True,\n",
    "    drop_first=True)"
   ]
  },
  {
   "cell_type": "markdown",
   "id": "7b9696a4",
   "metadata": {},
   "source": [
    "#### - df_personal_ohe <a class=\"anchor\" id=\"personal_ohe\"></a>"
   ]
  },
  {
   "cell_type": "code",
   "execution_count": 274,
   "id": "a305a640",
   "metadata": {},
   "outputs": [],
   "source": [
    "# check if in gender only 2 values\n",
    "print(df['gender'].unique())\n",
    "\n",
    "# ohe in gender_male\n",
    "df['gender_male'] = [1 if x == 'Male' else 0 for x in df['gender']]\n",
    "\n",
    "# check if in Partner only 2 values\n",
    "print(df['Partner'].unique())\n",
    "\n",
    "# ohe in Partner\n",
    "df['Partner_yes'] = [1 if x == 'Yes' else 0 for x in df['Partner']]\n",
    "\n",
    "# check if in Dependents only 2 values\n",
    "print(df_personal['Dependents'].unique())\n",
    "\n",
    "# ohe in Dependents\n",
    "df['Dependents_yes'] = [1 if x == 'Yes' else 0 for x in df['Dependents']]"
   ]
  },
  {
   "cell_type": "code",
   "execution_count": 275,
   "id": "6a01dfb8",
   "metadata": {},
   "outputs": [],
   "source": [
    "df = df.drop(columns=['gender','Partner', 'Dependents'])"
   ]
  },
  {
   "cell_type": "markdown",
   "id": "c76a70aa",
   "metadata": {},
   "source": [
    "#### - df_internet_ohe <a class=\"anchor\" id=\"internet_ohe\"></a>"
   ]
  },
  {
   "cell_type": "code",
   "execution_count": 276,
   "id": "bdff3000",
   "metadata": {},
   "outputs": [],
   "source": [
    "# check if in InternetService only 2 values\n",
    "print('InternetService:', df['InternetService'].unique())\n",
    "\n",
    "# check if in OnlineSecurity only 2 values\n",
    "print('OnlineSecurity:', df['OnlineSecurity'].unique())\n",
    "\n",
    "# check if in OnlineBackup only 2 values\n",
    "print('OnlineBackup:', df['OnlineBackup'].unique())\n",
    "\n",
    "# check if in DeviceProtection only 2 values\n",
    "print('DeviceProtection:', df['DeviceProtection'].unique())\n",
    "\n",
    "# check if in TechSupport only 2 values\n",
    "print('TechSupport:', df['TechSupport'].unique())\n",
    "\n",
    "# check if in StreamingTV only 2 values\n",
    "print('StreamingTV:', df['StreamingTV'].unique())\n",
    "\n",
    "# check if in StreamingMovies only 2 values\n",
    "print('StreamingMovies:', df['StreamingMovies'].unique())"
   ]
  },
  {
   "cell_type": "code",
   "execution_count": 277,
   "id": "52cf4f5b",
   "metadata": {},
   "outputs": [],
   "source": [
    "# OHE\n",
    "\n",
    "df = pd.get_dummies(\n",
    "    df,\n",
    "    columns=['InternetService', 'OnlineSecurity', 'OnlineBackup',\n",
    "            'DeviceProtection', 'TechSupport', 'StreamingTV',\n",
    "            'StreamingMovies'],\n",
    "    dummy_na = True,\n",
    "    drop_first=True)"
   ]
  },
  {
   "cell_type": "markdown",
   "id": "96f96a72",
   "metadata": {},
   "source": [
    "#### - df_phone_ohe <a class=\"anchor\" id=\"phone_ohe\"></a>"
   ]
  },
  {
   "cell_type": "code",
   "execution_count": 278,
   "id": "d7712820",
   "metadata": {},
   "outputs": [],
   "source": [
    "# check if in InternetService only 2 values\n",
    "print('MultipleLines:', df['MultipleLines'].unique())"
   ]
  },
  {
   "cell_type": "code",
   "execution_count": 279,
   "id": "ad88a4be",
   "metadata": {},
   "outputs": [],
   "source": [
    "# create target: column with information about if the contract is valid\n",
    "df = pd.get_dummies(\n",
    "    df,\n",
    "    columns=['MultipleLines'],\n",
    "    dummy_na = True,\n",
    "    drop_first=True)"
   ]
  },
  {
   "cell_type": "code",
   "execution_count": 280,
   "id": "5d6fea0a",
   "metadata": {
    "scrolled": false
   },
   "outputs": [
    {
     "data": {},
     "execution_count": 280,
     "metadata": {},
     "output_type": "execute_result"
    }
   ],
   "source": [
    "df"
   ]
  },
  {
   "cell_type": "code",
   "execution_count": 281,
   "id": "79cd9b9d",
   "metadata": {
    "scrolled": true
   },
   "outputs": [],
   "source": [
    "df.info()"
   ]
  },
  {
   "cell_type": "markdown",
   "id": "10dbfe09",
   "metadata": {},
   "source": [
    "**Mini conclusion** <br> <a class=\"anchor\" id=\"Mini_conclusion3.2\"></a>\n",
    "1. We dropped 0,016% of rows <br>\n",
    "2. We changed type of data, prepared dates (remain only periods and starting months and years). <br>\n",
    "3. We done OHE, so we have only numbers in merged dataset <br>\n",
    "4. Merged table contains the most important information."
   ]
  },
  {
   "cell_type": "markdown",
   "id": "97aeb8d5",
   "metadata": {},
   "source": [
    "<div class=\"alert alert-success\">\n",
    "    <b>Reviewer's comment</b><br>\n",
    "    Categorical features were encoded\n",
    "</div>"
   ]
  },
  {
   "cell_type": "markdown",
   "id": "b9722130",
   "metadata": {},
   "source": [
    "## 3.3 Data analysis <a class=\"anchor\" id=\"da\"></a>\n",
    "I am going to do here Additional Assignment later (before the hard deadline).\n",
    "Now I just plot some of interesting histograms."
   ]
  },
  {
   "cell_type": "code",
   "execution_count": 282,
   "id": "e6650f9a",
   "metadata": {},
   "outputs": [
    {
     "data": {},
     "execution_count": 282,
     "metadata": {},
     "output_type": "execute_result"
    }
   ],
   "source": [
    "df.columns"
   ]
  },
  {
   "cell_type": "code",
   "execution_count": 283,
   "id": "9e20afa4",
   "metadata": {},
   "outputs": [
    {
     "data": {
      "image/png": "[encoded data removed]"
     },
     "metadata": {
      "needs_background": "light"
     },
     "output_type": "display_data"
    }
   ],
   "source": [
    "plt.hist(df_contract['Begin_year'], 8, facecolor='green', alpha=0.75)\n",
    "\n",
    "plt.xlabel('Year')\n",
    "plt.ylabel('Count')\n",
    "plt.title('BeginDate: years')\n",
    "plt.grid(True)"
   ]
  },
  {
   "cell_type": "code",
   "execution_count": 284,
   "id": "e892519e",
   "metadata": {
    "scrolled": true
   },
   "outputs": [
    {
     "data": {
      "image/png": "[encoded data removed]"
     },
     "metadata": {
      "needs_background": "light"
     },
     "output_type": "display_data"
    }
   ],
   "source": [
    "plt.hist(df_contract['Begin_month'], 12, facecolor='red', alpha=0.75)\n",
    "\n",
    "plt.xlabel('Month')\n",
    "plt.ylabel('Count')\n",
    "plt.title('BeginDate: months')\n",
    "plt.grid(True)"
   ]
  },
  {
   "cell_type": "code",
   "execution_count": 285,
   "id": "4178f7e5",
   "metadata": {},
   "outputs": [
    {
     "data": {
      "image/png": "[encoded data removed]"
     },
     "metadata": {
      "needs_background": "light"
     },
     "output_type": "display_data"
    }
   ],
   "source": [
    "plt.hist(df[df['Valid_client'] == 0]['Contract_period'], 30, facecolor='blue', alpha=0.75)\n",
    "\n",
    "plt.xlabel('days')\n",
    "plt.ylabel('Count')\n",
    "plt.title('Terminated contract period')\n",
    "plt.grid(True)"
   ]
  },
  {
   "cell_type": "markdown",
   "id": "42cca40a",
   "metadata": {},
   "source": [
    "Most of the users terminated their contracts in the first days"
   ]
  },
  {
   "cell_type": "code",
   "execution_count": 286,
   "id": "12868fc3",
   "metadata": {},
   "outputs": [
    {
     "data": {},
     "execution_count": 286,
     "metadata": {},
     "output_type": "execute_result"
    }
   ],
   "source": [
    "df_contract\n",
    "df_personal\n",
    "df_internet\n",
    "df_phone"
   ]
  },
  {
   "cell_type": "markdown",
   "id": "31813882",
   "metadata": {},
   "source": [
    "# 4.Develop models <a class=\"anchor\" id=\"ML\"></a>\n",
    "- Linear Regression"
   ]
  },
  {
   "cell_type": "markdown",
   "id": "0c71035e",
   "metadata": {},
   "source": [
    "## 4.1 Split features and target <a class=\"anchor\" id=\"features\"></a>"
   ]
  },
  {
   "cell_type": "markdown",
   "id": "d1fff547",
   "metadata": {},
   "source": [
    "<div class=\"alert alert-info\">\n",
    "    So, I understand that period of ctontract is very important. We can drop month_begin and year_begin to solve this problem with data leakage. <br>\n",
    "    So, we can't restore EndDate (where our target value).\n",
    "</div>"
   ]
  },
  {
   "cell_type": "markdown",
   "id": "3b2c85db",
   "metadata": {},
   "source": [
    "<div class=\"alert alert-success\">\n",
    "    <b>Reviewer's comment V2</b><br>\n",
    "    Sure, that works!\n",
    "</div>"
   ]
  },
  {
   "cell_type": "code",
   "execution_count": 287,
   "id": "904bc3d0",
   "metadata": {
    "scrolled": true
   },
   "outputs": [],
   "source": [
    "features = df.drop(columns=['customerID', 'Valid_client', 'Begin_year', 'Begin_month'])\n",
    "target = df['Valid_client']"
   ]
  },
  {
   "cell_type": "code",
   "execution_count": 288,
   "id": "46c08178",
   "metadata": {},
   "outputs": [
    {
     "data": {},
     "execution_count": 288,
     "metadata": {},
     "output_type": "execute_result"
    },
    {
     "data": {
      "image/png": "[encoded data removed]"
     },
     "metadata": {
      "needs_background": "light"
     },
     "output_type": "display_data"
    }
   ],
   "source": [
    "plt.hist(target, 3, facecolor='blue', alpha=0.75)\n",
    "\n",
    "plt.xlabel('Contract is valid or not')\n",
    "plt.ylabel('Count')\n",
    "plt.title('Comparison number of valid and terminated contracts')"
   ]
  },
  {
   "cell_type": "markdown",
   "id": "75871bd6",
   "metadata": {},
   "source": [
    "So, target is slightly unbalanced, but it is not a big problem here."
   ]
  },
  {
   "cell_type": "code",
   "execution_count": 289,
   "id": "ea9ad411",
   "metadata": {},
   "outputs": [],
   "source": [
    "# we use stratify to reserve ratio of target in \n",
    "\n",
    "features_train, features_test, target_train, target_test = train_test_split(\n",
    "                features, target, test_size=0.25, random_state=12345, stratify=target)"
   ]
  },
  {
   "cell_type": "markdown",
   "id": "bb453d4a",
   "metadata": {},
   "source": [
    "<div class=\"alert alert-success\">\n",
    "    <b>Reviewer's comment</b><br>\n",
    "    The data was split into train and test\n",
    "</div>"
   ]
  },
  {
   "cell_type": "markdown",
   "id": "477c4c18",
   "metadata": {},
   "source": [
    "## 4.2 ML Models <a class=\"anchor\" id=\"ml\"></a>"
   ]
  },
  {
   "cell_type": "markdown",
   "id": "b82b64cf",
   "metadata": {},
   "source": [
    "### 4.2.1 Sanity check <a class=\"anchor\" id=\"dummy\"></a>\n",
    "Most of clients have valid contracts, so in sanity check we predict \"1\". "
   ]
  },
  {
   "cell_type": "code",
   "execution_count": 290,
   "id": "b1781d8a",
   "metadata": {
    "scrolled": true
   },
   "outputs": [],
   "source": [
    "predicted_sanity_test = [1]*features_test.shape[0]\n",
    "print(\"ROC-AUC score for sanity check model:\", roc_auc_score(target_test, predicted_sanity_test))\n",
    "print(\"Accuracy score for sanity check model:\", accuracy_score(target_test, predicted_sanity_test))"
   ]
  },
  {
   "cell_type": "markdown",
   "id": "2e9d053d",
   "metadata": {},
   "source": [
    "### 4.2.2 LogisticRegression <a class=\"anchor\" id=\"linear\"></a>"
   ]
  },
  {
   "cell_type": "markdown",
   "id": "7979a629",
   "metadata": {},
   "source": [
    "<div class=\"alert alert-info\">\n",
    "    Find cross-validation on train dataset but not for all dataset as it was.\n",
    "</div>"
   ]
  },
  {
   "cell_type": "markdown",
   "id": "3bad3745",
   "metadata": {},
   "source": [
    "<div class=\"alert alert-success\">\n",
    "    <b>Reviewer's comment V2</b><br>\n",
    "    Ok, great!\n",
    "</div>"
   ]
  },
  {
   "cell_type": "code",
   "execution_count": 291,
   "id": "730601a5",
   "metadata": {
    "scrolled": true
   },
   "outputs": [
    {
     "data": {},
     "execution_count": 291,
     "metadata": {},
     "output_type": "execute_result"
    }
   ],
   "source": [
    "lr = LogisticRegression(solver='liblinear',\n",
    "                        random_state=12345)\n",
    "\n",
    "scores = cross_val_score(lr, features_train, target_train, cv=5, scoring='roc_auc')\n",
    "print(\"Linear regression: mean_cross_val_score = {:.3f}\".format(scores.mean()))\n",
    "\n",
    "# train\n",
    "lr.fit(features_train, target_train)"
   ]
  },
  {
   "cell_type": "code",
   "execution_count": 292,
   "id": "2ae9a687",
   "metadata": {},
   "outputs": [],
   "source": [
    "# predict probabilities\n",
    "lr_probs = lr.predict_proba(features_test)\n",
    "# keep probabilities for the positive outcome only\n",
    "lr_probs = lr_probs[:, 1]"
   ]
  },
  {
   "cell_type": "code",
   "execution_count": 293,
   "id": "d5b86b00",
   "metadata": {},
   "outputs": [
    {
     "data": {
      "image/png": "[encoded data removed]"
     },
     "metadata": {
      "needs_background": "light"
     },
     "output_type": "display_data"
    }
   ],
   "source": [
    "# calculate scores\n",
    "ns_auc = roc_auc_score(target_test, predicted_sanity_test)\n",
    "lr_auc = roc_auc_score(target_test, lr_probs)\n",
    "# summarize scores\n",
    "print('No Skill: ROC AUC=%.3f' % (ns_auc))\n",
    "print('LogisticRegression: ROC AUC=%.3f' % (lr_auc))\n",
    "# calculate roc curves\n",
    "ns_fpr, ns_tpr, _ = roc_curve(target_test, predicted_sanity_test)\n",
    "lr_fpr, lr_tpr, _ = roc_curve(target_test, lr_probs)\n",
    "# plot the roc curve for the model\n",
    "plt.plot(ns_fpr, ns_tpr, linestyle='--', label='No Skill')\n",
    "plt.plot(lr_fpr, lr_tpr, marker='.', label='Logistic')\n",
    "# axis labels\n",
    "plt.xlabel('False Positive Rate')\n",
    "plt.ylabel('True Positive Rate')\n",
    "# show the legend\n",
    "plt.legend()\n",
    "# show the plot\n",
    "plt.show()"
   ]
  },
  {
   "cell_type": "code",
   "execution_count": 294,
   "id": "5be9b610",
   "metadata": {},
   "outputs": [],
   "source": [
    "print(\"LogisticRegression test ROC-AUC: {:.3f}\".format(\n",
    "    roc_auc_score(target_test, lr_probs)))"
   ]
  },
  {
   "cell_type": "code",
   "execution_count": 295,
   "id": "dc1ac5a4",
   "metadata": {},
   "outputs": [],
   "source": [
    "lr_predicted = lr.predict(features_test)\n",
    "\n",
    "print(classification_report(target_test, lr_predicted, digits=3))"
   ]
  },
  {
   "cell_type": "markdown",
   "id": "3413c227",
   "metadata": {},
   "source": [
    "<div class=\"alert alert-info\">\n",
    "    Update of results: LogisticRegression ROC-AUC: 0.849, accuracy: 0.809. <br>\n",
    "</div>"
   ]
  },
  {
   "cell_type": "markdown",
   "id": "26dd8422",
   "metadata": {},
   "source": [
    "### 4.2.3 DecisionTreeClassifier <a class=\"anchor\" id=\"tree\"></a>"
   ]
  },
  {
   "cell_type": "markdown",
   "id": "76a83d39",
   "metadata": {},
   "source": [
    "<div class=\"alert alert-info\">\n",
    "    Corrected\n",
    "</div>"
   ]
  },
  {
   "cell_type": "code",
   "execution_count": 302,
   "id": "887034a0",
   "metadata": {},
   "outputs": [
    {
     "data": {},
     "execution_count": 302,
     "metadata": {},
     "output_type": "execute_result"
    }
   ],
   "source": [
    "%%time\n",
    "# tuning parameters\n",
    "\n",
    "# fixing random state\n",
    "random_state_value = 110\n",
    "\n",
    "# parameters\n",
    "rs_params = {\n",
    "    'max_depth': range(2, 15, 1),\n",
    "    'min_samples_leaf':range(1,6,1)\n",
    "}\n",
    "# create RandomizedSearchCV\n",
    "tree = RandomizedSearchCV(\n",
    "    DecisionTreeClassifier(\n",
    "        random_state=random_state_value\n",
    "        ),\n",
    "        rs_params,\n",
    "        scoring='roc_auc',\n",
    "        cv=5,\n",
    "        n_jobs=-1,\n",
    "        n_iter=40)\n",
    "# train model\n",
    "tree.fit(features_train, target_train)"
   ]
  },
  {
   "cell_type": "code",
   "execution_count": 303,
   "id": "48de460b",
   "metadata": {},
   "outputs": [
    {
     "data": {},
     "execution_count": 303,
     "metadata": {},
     "output_type": "execute_result"
    }
   ],
   "source": [
    "tree.best_params_"
   ]
  },
  {
   "cell_type": "code",
   "execution_count": 305,
   "id": "60f55430",
   "metadata": {},
   "outputs": [
    {
     "data": {},
     "execution_count": 305,
     "metadata": {},
     "output_type": "execute_result"
    }
   ],
   "source": [
    "tree = DecisionTreeClassifier(max_depth=6,\n",
    "                              min_samples_leaf=2,\n",
    "                             random_state=12345)\n",
    "scores = cross_val_score(tree, features_train, target_train, cv=5, scoring='roc_auc')\n",
    "print(\"DecisionTreeClassifier: mean_cross_val_score = {:.3f}\".format(scores.mean()))\n",
    "\n",
    "tree.fit(features_train, target_train)"
   ]
  },
  {
   "cell_type": "code",
   "execution_count": 306,
   "id": "9e7710a8",
   "metadata": {},
   "outputs": [],
   "source": [
    "# predict probabilities\n",
    "tree_probs = tree.predict_proba(features_test)\n",
    "# keep probabilities for the positive outcome only\n",
    "tree_probs = tree_probs[:, 1]"
   ]
  },
  {
   "cell_type": "code",
   "execution_count": 307,
   "id": "84bcf620",
   "metadata": {},
   "outputs": [
    {
     "data": {
      "image/png": "[encoded data removed]"
     },
     "metadata": {
      "needs_background": "light"
     },
     "output_type": "display_data"
    }
   ],
   "source": [
    "# calculate scores\n",
    "ns_auc = roc_auc_score(target_test, predicted_sanity_test)\n",
    "tree_auc = roc_auc_score(target_test, tree_probs)\n",
    "# summarize scores\n",
    "print('No Skill: ROC AUC=%.3f' % (ns_auc))\n",
    "print('LogisticRegression: ROC AUC=%.3f' % (tree_auc))\n",
    "# calculate roc curves\n",
    "ns_fpr, ns_tpr, _ = roc_curve(target_test, predicted_sanity_test)\n",
    "tree_fpr, tree_tpr, _ = roc_curve(target_test, tree_probs)\n",
    "# plot the roc curve for the model\n",
    "plt.plot(ns_fpr, ns_tpr, linestyle='--', label='No Skill')\n",
    "plt.plot(tree_fpr, tree_tpr, marker='.', label='DecisionTreeClassifier')\n",
    "# axis labels\n",
    "plt.xlabel('False Positive Rate')\n",
    "plt.ylabel('True Positive Rate')\n",
    "# show the legend\n",
    "plt.legend()\n",
    "# show the plot\n",
    "plt.show()"
   ]
  },
  {
   "cell_type": "code",
   "execution_count": 308,
   "id": "c3e92629",
   "metadata": {},
   "outputs": [],
   "source": [
    "print(\"DecisionTreeClassifier test ROC-AUC: {:.3f}\".format(\n",
    "    roc_auc_score(target_test, tree_probs)))"
   ]
  },
  {
   "cell_type": "code",
   "execution_count": 309,
   "id": "90179822",
   "metadata": {
    "scrolled": true
   },
   "outputs": [],
   "source": [
    "tree_predicted = tree.predict(features_test)\n",
    "\n",
    "print(classification_report(target_test, tree_predicted, digits=3))"
   ]
  },
  {
   "cell_type": "markdown",
   "id": "16bcda3c",
   "metadata": {},
   "source": [
    "<div class=\"alert alert-info\">\n",
    "    Update of results: DecisionTreeClassifier ROC-AUC: 0.859, accuracy: 0.818. <br>\n",
    "</div>"
   ]
  },
  {
   "cell_type": "markdown",
   "id": "1b8748df",
   "metadata": {},
   "source": [
    "### 4.2.4 RandomForestClassifier <a class=\"anchor\" id=\"forest\"></a>"
   ]
  },
  {
   "cell_type": "markdown",
   "id": "56a77e6f",
   "metadata": {},
   "source": [
    "<div class=\"alert alert-info\">\n",
    "    Corrected\n",
    "</div>"
   ]
  },
  {
   "cell_type": "code",
   "execution_count": 318,
   "id": "480321f9",
   "metadata": {},
   "outputs": [
    {
     "data": {},
     "execution_count": 318,
     "metadata": {},
     "output_type": "execute_result"
    }
   ],
   "source": [
    "%%time\n",
    "# tuning parameters\n",
    "\n",
    "# fixing random state\n",
    "random_state_value = 110\n",
    "\n",
    "# parameters\n",
    "rs_params = {\n",
    "    'max_depth': range(5, 15, 1),\n",
    "    'min_samples_leaf':range(1,4,1),\n",
    "    'n_estimators':range(100,400,50)\n",
    "}\n",
    "# create RandomizedSearchCV\n",
    "rf = RandomizedSearchCV(\n",
    "    RandomForestClassifier(\n",
    "        random_state=random_state_value\n",
    "        ),\n",
    "        rs_params,\n",
    "        scoring='roc_auc',\n",
    "        cv=5,\n",
    "        n_jobs=-1,\n",
    "        n_iter=40)\n",
    "# train model\n",
    "rf.fit(features_train, target_train)"
   ]
  },
  {
   "cell_type": "code",
   "execution_count": 319,
   "id": "02379bec",
   "metadata": {},
   "outputs": [
    {
     "data": {},
     "execution_count": 319,
     "metadata": {},
     "output_type": "execute_result"
    }
   ],
   "source": [
    "rf.best_params_"
   ]
  },
  {
   "cell_type": "code",
   "execution_count": 320,
   "id": "c390aaa4",
   "metadata": {},
   "outputs": [
    {
     "data": {},
     "execution_count": 320,
     "metadata": {},
     "output_type": "execute_result"
    }
   ],
   "source": [
    "rf = RandomForestClassifier(max_depth=10,\n",
    "                              min_samples_leaf=3,\n",
    "                              n_estimators=150,\n",
    "                             random_state=12345)\n",
    "scores = cross_val_score(rf, features_train, target_train, cv=5, scoring='roc_auc')\n",
    "print(\"RandomForestClassifier: mean_cross_val_score = {:.3f}\".format(scores.mean()))\n",
    "\n",
    "rf.fit(features_train, target_train)"
   ]
  },
  {
   "cell_type": "code",
   "execution_count": 321,
   "id": "16d0d410",
   "metadata": {},
   "outputs": [],
   "source": [
    "# predict probabilities\n",
    "rf_probs = rf.predict_proba(features_test)\n",
    "# keep probabilities for the positive outcome only\n",
    "rf_probs = rf_probs[:, 1]"
   ]
  },
  {
   "cell_type": "code",
   "execution_count": 322,
   "id": "0b2161b8",
   "metadata": {},
   "outputs": [
    {
     "data": {
      "image/png": "[encoded data removed]"
     },
     "metadata": {
      "needs_background": "light"
     },
     "output_type": "display_data"
    }
   ],
   "source": [
    "# calculate scores\n",
    "ns_auc = roc_auc_score(target_test, predicted_sanity_test)\n",
    "rf_auc = roc_auc_score(target_test, rf_probs)\n",
    "# summarize scores\n",
    "print('No Skill: ROC AUC=%.3f' % (ns_auc))\n",
    "print('LogisticRegression: ROC AUC=%.3f' % (rf_auc))\n",
    "# calculate roc curves\n",
    "ns_fpr, ns_tpr, _ = roc_curve(target_test, predicted_sanity_test)\n",
    "rf_fpr, rf_tpr, _ = roc_curve(target_test, rf_probs)\n",
    "# plot the roc curve for the model\n",
    "plt.plot(ns_fpr, ns_tpr, linestyle='--', label='No Skill')\n",
    "plt.plot(rf_fpr, rf_tpr, marker='.', label='RandomForestClassifier')\n",
    "# axis labels\n",
    "plt.xlabel('False Positive Rate')\n",
    "plt.ylabel('True Positive Rate')\n",
    "# show the legend\n",
    "plt.legend()\n",
    "# show the plot\n",
    "plt.show()"
   ]
  },
  {
   "cell_type": "code",
   "execution_count": 323,
   "id": "02460247",
   "metadata": {},
   "outputs": [],
   "source": [
    "print(\"RandomForestClassifier test ROC-AUC: {:.3f}\".format(\n",
    "    roc_auc_score(target_test, rf_probs)))"
   ]
  },
  {
   "cell_type": "code",
   "execution_count": 324,
   "id": "6b7624fb",
   "metadata": {
    "scrolled": true
   },
   "outputs": [],
   "source": [
    "rf_predicted = rf.predict(features_test)\n",
    "\n",
    "print(classification_report(target_test, rf_predicted, digits=3))"
   ]
  },
  {
   "cell_type": "markdown",
   "id": "b3857fab",
   "metadata": {},
   "source": [
    "<div class=\"alert alert-info\">\n",
    "    Update of results: RandomForestClassifier ROC-AUC: 0.863, accuracy: 0.823. <br>\n",
    "</div>"
   ]
  },
  {
   "cell_type": "markdown",
   "id": "756a64a0",
   "metadata": {},
   "source": [
    "### 4.2.5 CatBoostClassifier <a class=\"anchor\" id=\"cat\"></a>"
   ]
  },
  {
   "cell_type": "markdown",
   "id": "d0685f6b",
   "metadata": {},
   "source": [
    "<div class=\"alert alert-info\">\n",
    "    Corrected\n",
    "</div>"
   ]
  },
  {
   "cell_type": "code",
   "execution_count": 270,
   "id": "c97cd477",
   "metadata": {},
   "outputs": [
    {
     "data": {},
     "execution_count": 270,
     "metadata": {},
     "output_type": "execute_result"
    }
   ],
   "source": [
    "%%time\n",
    "# tuning parameters\n",
    "\n",
    "# fixing random state\n",
    "random_state_value = 110\n",
    "\n",
    "# parameters\n",
    "rs_params = {\n",
    "    'iterations':range(100,1000,100),\n",
    "    'learning_rate':np.arange(0.001,0.5,0.01),\n",
    "    'depth': range(1, 15, 1) \n",
    "}\n",
    "# create RandomizedSearchCV\n",
    "cat = RandomizedSearchCV(\n",
    "    CatBoostClassifier(\n",
    "        random_state=random_state_value,\n",
    "        verbose=False),\n",
    "        rs_params,\n",
    "        scoring='roc_auc',\n",
    "        cv=5,\n",
    "        n_jobs=-1,        \n",
    "        n_iter=20)\n",
    "# train model\n",
    "cat.fit(features_train, target_train)"
   ]
  },
  {
   "cell_type": "code",
   "execution_count": 271,
   "id": "cd6ed0e2",
   "metadata": {},
   "outputs": [
    {
     "data": {},
     "execution_count": 271,
     "metadata": {},
     "output_type": "execute_result"
    }
   ],
   "source": [
    "cat.best_params_"
   ]
  },
  {
   "cell_type": "code",
   "execution_count": 326,
   "id": "8a093e87",
   "metadata": {},
   "outputs": [
    {
     "data": {},
     "execution_count": 326,
     "metadata": {},
     "output_type": "execute_result"
    }
   ],
   "source": [
    "cat = CatBoostClassifier(learning_rate=0.3,\n",
    "                            iterations=600,\n",
    "                            depth=5,\n",
    "                            verbose=False,\n",
    "                            random_state=12345)\n",
    "\n",
    "scores = cross_val_score(cat, features_train, target_train, cv=5, scoring='roc_auc')\n",
    "print(\"CatBoostClassifier: mean_cross_val_score = {:.3f}\".format(scores.mean()))\n",
    "\n",
    "cat.fit(features_train, target_train)"
   ]
  },
  {
   "cell_type": "code",
   "execution_count": 327,
   "id": "db9b3227",
   "metadata": {},
   "outputs": [],
   "source": [
    "# predict probabilities\n",
    "cat_probs = cat.predict_proba(features_test)\n",
    "# keep probabilities for the positive outcome only\n",
    "cat_probs = cat_probs[:, 1]"
   ]
  },
  {
   "cell_type": "code",
   "execution_count": 328,
   "id": "82dc797c",
   "metadata": {},
   "outputs": [
    {
     "data": {
      "image/png": "[encoded data removed]"
     },
     "metadata": {
      "needs_background": "light"
     },
     "output_type": "display_data"
    }
   ],
   "source": [
    "# calculate scores\n",
    "ns_auc = roc_auc_score(target_test, predicted_sanity_test)\n",
    "cat_auc = roc_auc_score(target_test, cat_probs)\n",
    "# summarize scores\n",
    "print('No Skill: ROC AUC=%.3f' % (ns_auc))\n",
    "print('LogisticRegression: ROC AUC=%.3f' % (cat_auc))\n",
    "# calculate roc curves\n",
    "ns_fpr, ns_tpr, _ = roc_curve(target_test, predicted_sanity_test)\n",
    "cat_fpr, cat_tpr, _ = roc_curve(target_test, cat_probs)\n",
    "# plot the roc curve for the model\n",
    "plt.plot(ns_fpr, ns_tpr, linestyle='--', label='No Skill')\n",
    "plt.plot(cat_fpr, cat_tpr, marker='.', label='CatBoostClassifier')\n",
    "# axis labels\n",
    "plt.xlabel('False Positive Rate')\n",
    "plt.ylabel('True Positive Rate')\n",
    "# show the legend\n",
    "plt.legend()\n",
    "# show the plot\n",
    "plt.show()"
   ]
  },
  {
   "cell_type": "code",
   "execution_count": 329,
   "id": "97f2ce52",
   "metadata": {},
   "outputs": [],
   "source": [
    "print(\"CatBoostClassifier test ROC-AUC: {:.3f}\".format(\n",
    "    roc_auc_score(target_test, cat_probs)))"
   ]
  },
  {
   "cell_type": "code",
   "execution_count": 330,
   "id": "1240ebac",
   "metadata": {
    "scrolled": true
   },
   "outputs": [],
   "source": [
    "cat_predicted = cat.predict(features_test)\n",
    "\n",
    "print(classification_report(target_test, cat_predicted, digits=3))"
   ]
  },
  {
   "cell_type": "code",
   "execution_count": 333,
   "id": "64acb5ce",
   "metadata": {},
   "outputs": [],
   "source": [
    "df_cat_features = pd.DataFrame({'features': cat.feature_names_, 'score': cat.get_feature_importance()})\n",
    "df_cat_features = df_cat_features.sort_values(by=\"score\", ascending = False)"
   ]
  },
  {
   "cell_type": "code",
   "execution_count": 334,
   "id": "12bd0f3a",
   "metadata": {
    "scrolled": true
   },
   "outputs": [
    {
     "data": {},
     "execution_count": 334,
     "metadata": {},
     "output_type": "execute_result"
    }
   ],
   "source": [
    "df_cat_features.head()"
   ]
  },
  {
   "cell_type": "code",
   "execution_count": 335,
   "id": "cbeadc6a",
   "metadata": {
    "scrolled": false
   },
   "outputs": [
    {
     "data": {
      "image/png": "[encoded data removed]"
     },
     "metadata": {
      "needs_background": "light"
     },
     "output_type": "display_data"
    }
   ],
   "source": [
    "fig, ax = plt.subplots(figsize=(12, 9))\n",
    "sns.barplot(ax=ax, x=df_cat_features[\"score\"], y=df_cat_features[\"features\"]);"
   ]
  },
  {
   "cell_type": "markdown",
   "id": "fbfacd68",
   "metadata": {},
   "source": [
    "<div class=\"alert alert-info\">\n",
    "    Update of results: CatBoostClassifier  ROC-AUC: 0.913, accuracy: 0.877. <br>\n",
    "    The most improtant features: Contract_period, TotalCharges and MonthlyCharges\n",
    "</div>"
   ]
  },
  {
   "cell_type": "markdown",
   "id": "37db6099",
   "metadata": {},
   "source": [
    "**Mini conclusion** <br> <a class=\"anchor\" id=\"Mini_conclusion4.2\"></a>\n",
    "LogisticRegression ROC-AUC: 0.849, accuracy: 0.809. <br>\n",
    "DecisionTreeClassifier ROC-AUC: 0.859, accuracy: 0.818. <br>\n",
    "RandomForestClassifier ROC-AUC: 0.863, accuracy: 0.823. <br>\n",
    "CatBoostClassifier  ROC-AUC: 0.913, accuracy: 0.877. <br>\n",
    "The most improtant features: Contract_period, TotalCharges and MonthlyCharges <br>"
   ]
  },
  {
   "cell_type": "markdown",
   "id": "619a9c89",
   "metadata": {},
   "source": [
    "<div class=\"alert alert-danger\">\n",
    "<s>    <b>Reviewer's comment</b><br>\n",
    "    The modelling section is pretty good. You tried several different models and did some hyperparameter tuning. There are a couple of problems though:\n",
    "    <ol><li>Cross-validation is done using the whole dataset. That's problematic, because if the test set intersect the cross-validation set, you are going to get a biased test set score. Cross-validation should be done using the train set instead.\n",
    "        <li>The model should be evaluated on the test set only once: after all hyperparameter tuning (using cross-validation or a validation set) is finished. Otherwise, again we risk getting a biased test set score.\n",
    "        <li>There is target leakage: combining begin_month and contract period gives you the end month. Almost perfect ROC-AUC of catboostclassifier and its feature importances confirm this\n",
    "</div>"
   ]
  },
  {
   "cell_type": "markdown",
   "id": "11885365",
   "metadata": {},
   "source": [
    "<div class=\"alert alert-info\">\n",
    "    1. Done cross validation only on train dataset and tuninig the parameters <br>\n",
    "    2. Calculate metrics after tuning. <br>\n",
    "    3. Problem with target leakage solved (we drop from features StartDate, so we can't restore target values)\n",
    "</div>"
   ]
  },
  {
   "cell_type": "markdown",
   "id": "00b34443",
   "metadata": {},
   "source": [
    "<div class=\"alert alert-success\">\n",
    "    <b>Reviewer's comment V2</b><br>\n",
    "    Excellent! All problems were fixed\n",
    "</div>"
   ]
  },
  {
   "cell_type": "markdown",
   "id": "b31d6aee",
   "metadata": {},
   "source": [
    "# 5.Results <a class=\"anchor\" id=\"results\"></a>"
   ]
  },
  {
   "cell_type": "markdown",
   "id": "5ccbd79b",
   "metadata": {},
   "source": [
    "1. Results of calculations <br>\n",
    "LogisticRegression ROC-AUC: 0.849, accuracy: 0.809. <br>\n",
    "DecisionTreeClassifier ROC-AUC: 0.859, accuracy: 0.818. <br>\n",
    "RandomForestClassifier ROC-AUC: 0.863, accuracy: 0.823. <br>\n",
    "BEST MODEL: **CatBoostClassifier  ROC-AUC: 0.913, accuracy: 0.877.** <br>\n",
    "<br>\n",
    "2. The most improtant features in CatBoostClassifier: <br>\n",
    "Contract_period, TotalCharges and MonthlyCharges <br>\n",
    "<br>\n",
    "3. The developed model could help to to forecast their churn of clients.\n",
    "<br><br>"
   ]
  },
  {
   "cell_type": "markdown",
   "id": "945ace9f",
   "metadata": {},
   "source": [
    "[x] Have you performed all the steps? <br>\n",
    "[x] Does the solution match the task condition? <br>\n",
    "[x] Have you trained and tested the model correctly? <br>\n",
    "[x] What is the quality score of the best model? <br>\n",
    "[x] Have you kept to the project structure? <br>\n",
    "[x] Have you kept the code neat?"
   ]
  },
  {
   "cell_type": "markdown",
   "id": "2568add2",
   "metadata": {},
   "source": [
    "# 6.Solution Report <a class=\"anchor\" id=\"report\"></a> "
   ]
  },
  {
   "cell_type": "markdown",
   "id": "2ae3187d",
   "metadata": {},
   "source": [
    "In the report, please answer the following questions: <br>\n",
    "[ ] What steps of the plan were performed and what steps were skipped (explain why)? <br>\n",
    "[ ] What difficulties did you encounter and how did you manage to solve them? <br>\n",
    "[ ] What were some of the key steps to solving the task? <br>\n",
    "[ ] What is your final model and what quality score does it have? <br>\n",
    " <br>\n",
    "Here are some of the criteria used by the team leader: <br>\n",
    "Did you answer all the questions? <br>\n",
    "Are the answers clear? <br>"
   ]
  },
  {
   "cell_type": "markdown",
   "id": "d34c23c8",
   "metadata": {},
   "source": [
    "**STEPS**\n",
    "1. Import libraries.\n",
    "2. Load data\n",
    "3. EDA <br>\n",
    "   3.1 Check general information: number of rows, type of data and if there are duplicates.\n",
    "    - We found that we should change type of some columns.\n",
    "    - We don't have exactly target column. We have only EndDate, and from it's values can understand if the contract is valid or not.\n",
    "    3.2 We change type of data, merge it, create column of target.\n",
    "    - We changed type of dates: StartDate and EndDate. And created parameter: period of contract + month and year when contracts were started.\n",
    "    - We changet type of Total charges too, cause this column were as text type but should be a real number.\n",
    "    - There were a little problem: some calues were just an empty string \" \". We can't restore this values exactly, cause correlation of this parameter with the others wasn't so strong. And it is good, because if the correlation was strong, I likely drop this column from the features. Finally we drop this rows with \" \" values from dataset, number of this rows were extremely low ~ 0.1%, so it is not a problem.\n",
    "    - We applied OHE on cathegorical parameters, to use them as features in ML models.\n",
    "    - We merged data. After preprocessing it was easy.\n",
    "    - we create target value from EndDate.\n",
    "4. Develop models <br>\n",
    "    4.1 We split features and target.\n",
    "    - The problem was in that we should drop period of contract or startDate form features, in otherwise we could restore target, that could bring us to the leakage of data.\n",
    "    4.2 We did sanity check model. <br>\n",
    "    4.3 We developed Logistic regression, Decision tree Classifier, random forest classifier and catboost classifier model.\n",
    "    - The scheme: we did cross-validation + tuning of parameters to find the best ones on train dataset, then fit model with the best parameters, then predict on test data values and find metrics.\n",
    "    - We plotted some graphs to visualize results.\n",
    "5. We made a conclusion\n",
    "- We found the best model and compared metrics.\n",
    "<br> <br>\n",
    "We skipped xgboost: the reason is that I wait for the same result. But result is good enough. Based on the practice here in Yandex, I don't really understand the great difference between this boosting methods. I understanf, that some of them fit faster, some of them predict faster, some can work without OHE and so on, but there wasn't not information about the quality of the models. So, I just skipped this.<br>\n",
    "I really want use keras (neural methods) for this classification task. As I understand we can use it, but I haven't GPU. So, I skipped it.<br>  "
   ]
  },
  {
   "cell_type": "markdown",
   "id": "932e5ed6",
   "metadata": {},
   "source": [
    "What were some of the key steps to solving the task? <br>\n",
    "It is strange question. We can't miss some of those steps. Although... we can use catboost and skip OHE."
   ]
  },
  {
   "cell_type": "markdown",
   "id": "e5974382",
   "metadata": {},
   "source": [
    "BEST MODEL: **CatBoostClassifier  ROC-AUC: 0.913, accuracy: 0.877.** <br>"
   ]
  },
  {
   "cell_type": "markdown",
   "id": "59ce6714",
   "metadata": {},
   "source": [
    "I didn't understand for what reason there were additional assignement in the task. And why it wasn't mandatory."
   ]
  },
  {
   "cell_type": "markdown",
   "id": "5b30fd23",
   "metadata": {},
   "source": [
    "**FINALLY** <br>\n",
    "I want to say great thank for all reviewers. It was interesting to study here in Yandex Practicum. Although I live in Moscow, I'm glad to be here in the US part of Yandex Practicum. It keep my English on some level. <br>\n",
    "I hope that all of this knowledge help me to change my job, despite the fact that in my work there is data science problems. <br> I want to be more data scientist.\n"
   ]
  },
  {
   "cell_type": "code",
   "execution_count": null,
   "id": "bb0e477a",
   "metadata": {},
   "outputs": [],
   "source": []
  }
 ],
 "metadata": {
  "kernelspec": {
   "display_name": "Python 3",
   "language": "python",
   "name": "python3"
  },
  "language_info": {
   "codemirror_mode": {
    "name": "ipython",
    "version": 3
   },
   "file_extension": ".py",
   "mimetype": "text/x-python",
   "name": "python",
   "nbconvert_exporter": "python",
   "pygments_lexer": "ipython3",
   "version": "3.7.10"
  },
  "toc": {
   "base_numbering": 1,
   "nav_menu": {},
   "number_sections": true,
   "sideBar": true,
   "skip_h1_title": true,
   "title_cell": "Table of Contents",
   "title_sidebar": "Contents",
   "toc_cell": false,
   "toc_position": {},
   "toc_section_display": true,
   "toc_window_display": false
  }
 },
 "nbformat": 4,
 "nbformat_minor": 5
}
