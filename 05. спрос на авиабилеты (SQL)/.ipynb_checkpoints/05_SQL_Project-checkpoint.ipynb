{
 "cells": [
  {
   "cell_type": "markdown",
   "metadata": {},
   "source": [
    "# Step 4. Exploratory data analysis (Python)\n",
    "In addition to the data you retrieved in the previous tasks, you've been given a second file. You now have these two CSVs:<br>\n",
    "**project_sql_result_01.csv** . It contains the following data:\n",
    "- company_name: taxi company name\n",
    "- trips_amount: the number of rides for each taxi company on November 15-16, 2017. <br><br>\n",
    "**project_sql_result_04.csv** . It contains the following data: <br>\n",
    "- dropoff_location_name: Chicago neighborhoods where rides ended\n",
    "- average_trips: the average number of rides that ended in each neighborhood in November 2017."
   ]
  },
  {
   "cell_type": "markdown",
   "metadata": {},
   "source": [
    "# For these two datasets you now need to:\n",
    "- import the files (DONE)\n",
    "- study the data they contain (DONE)\n",
    "- make sure the data types are correct (DONE)\n",
    "- identify the top 10 neighborhoods in terms of drop-offs (DONE)\n",
    "- make graphs: taxi companies and number of rides, top 10 neighborhoods by number of dropoffs\n",
    "- draw conclusions based on each graph and explain the results"
   ]
  },
  {
   "cell_type": "code",
   "execution_count": 92,
   "metadata": {},
   "outputs": [],
   "source": [
    "import pandas as pd\n",
    "import matplotlib.pyplot as plt\n",
    "import seaborn as sns\n",
    "from scipy import stats as st"
   ]
  },
  {
   "cell_type": "code",
   "execution_count": 2,
   "metadata": {},
   "outputs": [],
   "source": [
    "# import files\n",
    "df_company_trip = pd.read_csv('C:/ML/05.SQL_Project/datasets/project_sql_result_01.csv')\n",
    "df_dropoffarea_trip_Nov = pd.read_csv('C:/ML/05.SQL_Project/datasets/project_sql_result_04.csv')\n",
    "df_query_loop_ohera = pd.read_csv('C:/ML/05.SQL_Project/datasets/project_sql_result_07.csv')"
   ]
  },
  {
   "cell_type": "markdown",
   "metadata": {},
   "source": [
    "#### check the 1st dataset *df_company_trip* (project_sql_result_01)"
   ]
  },
  {
   "cell_type": "code",
   "execution_count": 3,
   "metadata": {},
   "outputs": [
    {
     "data": {
      "text/html": [
       "<div>\n",
       "<style scoped>\n",
       "    .dataframe tbody tr th:only-of-type {\n",
       "        vertical-align: middle;\n",
       "    }\n",
       "\n",
       "    .dataframe tbody tr th {\n",
       "        vertical-align: top;\n",
       "    }\n",
       "\n",
       "    .dataframe thead th {\n",
       "        text-align: right;\n",
       "    }\n",
       "</style>\n",
       "<table border=\"1\" class=\"dataframe\">\n",
       "  <thead>\n",
       "    <tr style=\"text-align: right;\">\n",
       "      <th></th>\n",
       "      <th>company_name</th>\n",
       "      <th>trips_amount</th>\n",
       "    </tr>\n",
       "  </thead>\n",
       "  <tbody>\n",
       "    <tr>\n",
       "      <th>0</th>\n",
       "      <td>Flash Cab</td>\n",
       "      <td>19558</td>\n",
       "    </tr>\n",
       "    <tr>\n",
       "      <th>1</th>\n",
       "      <td>Taxi Affiliation Services</td>\n",
       "      <td>11422</td>\n",
       "    </tr>\n",
       "    <tr>\n",
       "      <th>2</th>\n",
       "      <td>Medallion Leasin</td>\n",
       "      <td>10367</td>\n",
       "    </tr>\n",
       "    <tr>\n",
       "      <th>3</th>\n",
       "      <td>Yellow Cab</td>\n",
       "      <td>9888</td>\n",
       "    </tr>\n",
       "    <tr>\n",
       "      <th>4</th>\n",
       "      <td>Taxi Affiliation Service Yellow</td>\n",
       "      <td>9299</td>\n",
       "    </tr>\n",
       "  </tbody>\n",
       "</table>\n",
       "</div>"
      ],
      "text/plain": [
       "                      company_name  trips_amount\n",
       "0                        Flash Cab         19558\n",
       "1        Taxi Affiliation Services         11422\n",
       "2                 Medallion Leasin         10367\n",
       "3                       Yellow Cab          9888\n",
       "4  Taxi Affiliation Service Yellow          9299"
      ]
     },
     "execution_count": 3,
     "metadata": {},
     "output_type": "execute_result"
    }
   ],
   "source": [
    "df_company_trip.head()"
   ]
  },
  {
   "cell_type": "code",
   "execution_count": 4,
   "metadata": {},
   "outputs": [],
   "source": [
    "# OK. There are 2 columns 'company_name' and 'trips_amount'"
   ]
  },
  {
   "cell_type": "code",
   "execution_count": 5,
   "metadata": {},
   "outputs": [
    {
     "name": "stdout",
     "output_type": "stream",
     "text": [
      "<class 'pandas.core.frame.DataFrame'>\n",
      "RangeIndex: 64 entries, 0 to 63\n",
      "Data columns (total 2 columns):\n",
      " #   Column        Non-Null Count  Dtype \n",
      "---  ------        --------------  ----- \n",
      " 0   company_name  64 non-null     object\n",
      " 1   trips_amount  64 non-null     int64 \n",
      "dtypes: int64(1), object(1)\n",
      "memory usage: 1.1+ KB\n"
     ]
    }
   ],
   "source": [
    "df_company_trip.info()"
   ]
  },
  {
   "cell_type": "code",
   "execution_count": 6,
   "metadata": {},
   "outputs": [],
   "source": [
    "# OK. There are 64 non-null rows; types of data are correct (int and text)"
   ]
  },
  {
   "cell_type": "code",
   "execution_count": 7,
   "metadata": {},
   "outputs": [
    {
     "data": {
      "text/plain": [
       "64"
      ]
     },
     "execution_count": 7,
     "metadata": {},
     "output_type": "execute_result"
    }
   ],
   "source": [
    "len(df_company_trip.company_name.unique())"
   ]
  },
  {
   "cell_type": "code",
   "execution_count": 8,
   "metadata": {},
   "outputs": [],
   "source": [
    "# OK. Names of neighborhoods are unique, there are no duplicates."
   ]
  },
  {
   "cell_type": "code",
   "execution_count": 9,
   "metadata": {},
   "outputs": [
    {
     "data": {
      "text/plain": [
       "array([19558, 11422, 10367,  9888,  9299,  9181,  8448,  7701,  7455,\n",
       "        5953,  5015,  4383,  3355,  3175,  2235,  2216,  2070,  1955,\n",
       "        1775,  1607,  1486,  1404,  1296,  1259,  1014,   978,   428,\n",
       "         402,   310,   250,   230,   210,   147,   146,   127,    39,\n",
       "          37,    36,    33,    33,    31,    29,    29,    29,    27,\n",
       "          25,    21,    21,    20,    16,    15,    15,    14,    14,\n",
       "          14,    13,    12,    11,     8,     7,     7,     5,     3,\n",
       "           2], dtype=int64)"
      ]
     },
     "execution_count": 9,
     "metadata": {},
     "output_type": "execute_result"
    }
   ],
   "source": [
    "df_company_trip.trips_amount.values"
   ]
  },
  {
   "cell_type": "code",
   "execution_count": 10,
   "metadata": {},
   "outputs": [],
   "source": [
    "# OK. Number of trips are in descending order"
   ]
  },
  {
   "cell_type": "code",
   "execution_count": 46,
   "metadata": {},
   "outputs": [
    {
     "data": {
      "text/plain": [
       "<matplotlib.lines.Line2D at 0x1ec0e4bd308>"
      ]
     },
     "execution_count": 46,
     "metadata": {},
     "output_type": "execute_result"
    },
    {
     "data": {
      "image/png": "[encoded data removed]",
      "text/plain": [
       "<Figure size 1080x360 with 1 Axes>"
      ]
     },
     "metadata": {
      "needs_background": "light"
     },
     "output_type": "display_data"
    }
   ],
   "source": [
    "plt.figure(figsize=(15,5))\n",
    "sns.barplot(x=df_company_trip['company_name'], y=df_company_trip['trips_amount'])\n",
    "plt.xticks(fontsize=7,rotation=90)\n",
    "plt.axhline((df_company_trip['trips_amount'].mean()), color='r', linestyle='-')\n",
    "plt.axhline((df_company_trip['trips_amount'].median()), color='b', linestyle='--')"
   ]
  },
  {
   "cell_type": "code",
   "execution_count": 66,
   "metadata": {},
   "outputs": [
    {
     "name": "stdout",
     "output_type": "stream",
     "text": [
      "The first 6th companies have  69715 trips >  68655.5 half of trips of all companies\n"
     ]
    }
   ],
   "source": [
    "print('The first 6th companies have ',df_company_trip['trips_amount'][0:6].sum(),\n",
    "      'trips > ',df_company_trip['trips_amount'].sum() / 2,'half of trips of all companies')"
   ]
  },
  {
   "cell_type": "markdown",
   "metadata": {},
   "source": [
    "#### Notice 01\n",
    "1) Flash Cab is the leader beside of all companies (close to have a twice number of trips comparing to his competitors)\n",
    "2) The first 6th companies have 69715 trips, that is great than half of number of trips of all companies 68655."
   ]
  },
  {
   "cell_type": "markdown",
   "metadata": {},
   "source": [
    "#### check the 2nd dataset *df_dropoffarea_trip_Nov* (project_sql_result_04)"
   ]
  },
  {
   "cell_type": "code",
   "execution_count": 11,
   "metadata": {},
   "outputs": [
    {
     "data": {
      "text/html": [
       "<div>\n",
       "<style scoped>\n",
       "    .dataframe tbody tr th:only-of-type {\n",
       "        vertical-align: middle;\n",
       "    }\n",
       "\n",
       "    .dataframe tbody tr th {\n",
       "        vertical-align: top;\n",
       "    }\n",
       "\n",
       "    .dataframe thead th {\n",
       "        text-align: right;\n",
       "    }\n",
       "</style>\n",
       "<table border=\"1\" class=\"dataframe\">\n",
       "  <thead>\n",
       "    <tr style=\"text-align: right;\">\n",
       "      <th></th>\n",
       "      <th>dropoff_location_name</th>\n",
       "      <th>average_trips</th>\n",
       "    </tr>\n",
       "  </thead>\n",
       "  <tbody>\n",
       "    <tr>\n",
       "      <th>0</th>\n",
       "      <td>Loop</td>\n",
       "      <td>10727.466667</td>\n",
       "    </tr>\n",
       "    <tr>\n",
       "      <th>1</th>\n",
       "      <td>River North</td>\n",
       "      <td>9523.666667</td>\n",
       "    </tr>\n",
       "    <tr>\n",
       "      <th>2</th>\n",
       "      <td>Streeterville</td>\n",
       "      <td>6664.666667</td>\n",
       "    </tr>\n",
       "    <tr>\n",
       "      <th>3</th>\n",
       "      <td>West Loop</td>\n",
       "      <td>5163.666667</td>\n",
       "    </tr>\n",
       "    <tr>\n",
       "      <th>4</th>\n",
       "      <td>O'Hare</td>\n",
       "      <td>2546.900000</td>\n",
       "    </tr>\n",
       "  </tbody>\n",
       "</table>\n",
       "</div>"
      ],
      "text/plain": [
       "  dropoff_location_name  average_trips\n",
       "0                  Loop   10727.466667\n",
       "1           River North    9523.666667\n",
       "2         Streeterville    6664.666667\n",
       "3             West Loop    5163.666667\n",
       "4                O'Hare    2546.900000"
      ]
     },
     "execution_count": 11,
     "metadata": {},
     "output_type": "execute_result"
    }
   ],
   "source": [
    "# next dataframe\n",
    "df_dropoffarea_trip_Nov.head()"
   ]
  },
  {
   "cell_type": "code",
   "execution_count": 12,
   "metadata": {},
   "outputs": [],
   "source": [
    "# OK. There are 2 columns 'dropoff_location_name' and 'average_trips'"
   ]
  },
  {
   "cell_type": "code",
   "execution_count": 13,
   "metadata": {},
   "outputs": [
    {
     "name": "stdout",
     "output_type": "stream",
     "text": [
      "<class 'pandas.core.frame.DataFrame'>\n",
      "RangeIndex: 94 entries, 0 to 93\n",
      "Data columns (total 2 columns):\n",
      " #   Column                 Non-Null Count  Dtype  \n",
      "---  ------                 --------------  -----  \n",
      " 0   dropoff_location_name  94 non-null     object \n",
      " 1   average_trips          94 non-null     float64\n",
      "dtypes: float64(1), object(1)\n",
      "memory usage: 1.6+ KB\n"
     ]
    }
   ],
   "source": [
    "df_dropoffarea_trip_Nov.info()"
   ]
  },
  {
   "cell_type": "code",
   "execution_count": 14,
   "metadata": {},
   "outputs": [],
   "source": [
    "# OK. There are 94 non-null rows; types of data are correct (int and float). Mean value could be a float number."
   ]
  },
  {
   "cell_type": "code",
   "execution_count": 15,
   "metadata": {},
   "outputs": [
    {
     "data": {
      "text/plain": [
       "94"
      ]
     },
     "execution_count": 15,
     "metadata": {},
     "output_type": "execute_result"
    }
   ],
   "source": [
    "len(df_dropoffarea_trip_Nov.dropoff_location_name.unique())"
   ]
  },
  {
   "cell_type": "code",
   "execution_count": 16,
   "metadata": {},
   "outputs": [],
   "source": [
    "# OK. Names of neighborhoods are unique, there are no duplicates."
   ]
  },
  {
   "cell_type": "code",
   "execution_count": 17,
   "metadata": {},
   "outputs": [
    {
     "data": {
      "text/plain": [
       "94"
      ]
     },
     "execution_count": 17,
     "metadata": {},
     "output_type": "execute_result"
    }
   ],
   "source": [
    "len(df_dropoffarea_trip_Nov.query('average_trips>=0'))"
   ]
  },
  {
   "cell_type": "code",
   "execution_count": 18,
   "metadata": {},
   "outputs": [],
   "source": [
    "# OK. Mean values are positive."
   ]
  },
  {
   "cell_type": "code",
   "execution_count": 19,
   "metadata": {},
   "outputs": [
    {
     "data": {
      "text/html": [
       "<div>\n",
       "<style scoped>\n",
       "    .dataframe tbody tr th:only-of-type {\n",
       "        vertical-align: middle;\n",
       "    }\n",
       "\n",
       "    .dataframe tbody tr th {\n",
       "        vertical-align: top;\n",
       "    }\n",
       "\n",
       "    .dataframe thead th {\n",
       "        text-align: right;\n",
       "    }\n",
       "</style>\n",
       "<table border=\"1\" class=\"dataframe\">\n",
       "  <thead>\n",
       "    <tr style=\"text-align: right;\">\n",
       "      <th></th>\n",
       "      <th>dropoff_location_name</th>\n",
       "      <th>average_trips</th>\n",
       "    </tr>\n",
       "  </thead>\n",
       "  <tbody>\n",
       "    <tr>\n",
       "      <th>0</th>\n",
       "      <td>Loop</td>\n",
       "      <td>10727.466667</td>\n",
       "    </tr>\n",
       "    <tr>\n",
       "      <th>1</th>\n",
       "      <td>River North</td>\n",
       "      <td>9523.666667</td>\n",
       "    </tr>\n",
       "    <tr>\n",
       "      <th>2</th>\n",
       "      <td>Streeterville</td>\n",
       "      <td>6664.666667</td>\n",
       "    </tr>\n",
       "    <tr>\n",
       "      <th>3</th>\n",
       "      <td>West Loop</td>\n",
       "      <td>5163.666667</td>\n",
       "    </tr>\n",
       "    <tr>\n",
       "      <th>4</th>\n",
       "      <td>O'Hare</td>\n",
       "      <td>2546.900000</td>\n",
       "    </tr>\n",
       "    <tr>\n",
       "      <th>5</th>\n",
       "      <td>Lake View</td>\n",
       "      <td>2420.966667</td>\n",
       "    </tr>\n",
       "    <tr>\n",
       "      <th>6</th>\n",
       "      <td>Grant Park</td>\n",
       "      <td>2068.533333</td>\n",
       "    </tr>\n",
       "    <tr>\n",
       "      <th>7</th>\n",
       "      <td>Museum Campus</td>\n",
       "      <td>1510.000000</td>\n",
       "    </tr>\n",
       "    <tr>\n",
       "      <th>8</th>\n",
       "      <td>Gold Coast</td>\n",
       "      <td>1364.233333</td>\n",
       "    </tr>\n",
       "    <tr>\n",
       "      <th>9</th>\n",
       "      <td>Sheffield &amp; DePaul</td>\n",
       "      <td>1259.766667</td>\n",
       "    </tr>\n",
       "  </tbody>\n",
       "</table>\n",
       "</div>"
      ],
      "text/plain": [
       "  dropoff_location_name  average_trips\n",
       "0                  Loop   10727.466667\n",
       "1           River North    9523.666667\n",
       "2         Streeterville    6664.666667\n",
       "3             West Loop    5163.666667\n",
       "4                O'Hare    2546.900000\n",
       "5             Lake View    2420.966667\n",
       "6            Grant Park    2068.533333\n",
       "7         Museum Campus    1510.000000\n",
       "8            Gold Coast    1364.233333\n",
       "9    Sheffield & DePaul    1259.766667"
      ]
     },
     "execution_count": 19,
     "metadata": {},
     "output_type": "execute_result"
    }
   ],
   "source": [
    "# top-10\n",
    "# sorting in descending order just in case\n",
    "# select the first 10 rows\n",
    "top10 = df_dropoffarea_trip_Nov.sort_values('average_trips',ascending=False).head(10)\n",
    "top10"
   ]
  },
  {
   "cell_type": "markdown",
   "metadata": {},
   "source": [
    "#### check the 3rd dataset *df_query_loop_ohera* (project_sql_result_07)"
   ]
  },
  {
   "cell_type": "code",
   "execution_count": 20,
   "metadata": {},
   "outputs": [
    {
     "data": {
      "text/html": [
       "<div>\n",
       "<style scoped>\n",
       "    .dataframe tbody tr th:only-of-type {\n",
       "        vertical-align: middle;\n",
       "    }\n",
       "\n",
       "    .dataframe tbody tr th {\n",
       "        vertical-align: top;\n",
       "    }\n",
       "\n",
       "    .dataframe thead th {\n",
       "        text-align: right;\n",
       "    }\n",
       "</style>\n",
       "<table border=\"1\" class=\"dataframe\">\n",
       "  <thead>\n",
       "    <tr style=\"text-align: right;\">\n",
       "      <th></th>\n",
       "      <th>start_ts</th>\n",
       "      <th>weather_conditions</th>\n",
       "      <th>duration_seconds</th>\n",
       "    </tr>\n",
       "  </thead>\n",
       "  <tbody>\n",
       "    <tr>\n",
       "      <th>0</th>\n",
       "      <td>2017-11-25 16:00:00</td>\n",
       "      <td>Good</td>\n",
       "      <td>2410.0</td>\n",
       "    </tr>\n",
       "    <tr>\n",
       "      <th>1</th>\n",
       "      <td>2017-11-25 14:00:00</td>\n",
       "      <td>Good</td>\n",
       "      <td>1920.0</td>\n",
       "    </tr>\n",
       "    <tr>\n",
       "      <th>2</th>\n",
       "      <td>2017-11-25 12:00:00</td>\n",
       "      <td>Good</td>\n",
       "      <td>1543.0</td>\n",
       "    </tr>\n",
       "    <tr>\n",
       "      <th>3</th>\n",
       "      <td>2017-11-04 10:00:00</td>\n",
       "      <td>Good</td>\n",
       "      <td>2512.0</td>\n",
       "    </tr>\n",
       "    <tr>\n",
       "      <th>4</th>\n",
       "      <td>2017-11-11 07:00:00</td>\n",
       "      <td>Good</td>\n",
       "      <td>1440.0</td>\n",
       "    </tr>\n",
       "  </tbody>\n",
       "</table>\n",
       "</div>"
      ],
      "text/plain": [
       "              start_ts weather_conditions  duration_seconds\n",
       "0  2017-11-25 16:00:00               Good            2410.0\n",
       "1  2017-11-25 14:00:00               Good            1920.0\n",
       "2  2017-11-25 12:00:00               Good            1543.0\n",
       "3  2017-11-04 10:00:00               Good            2512.0\n",
       "4  2017-11-11 07:00:00               Good            1440.0"
      ]
     },
     "execution_count": 20,
     "metadata": {},
     "output_type": "execute_result"
    }
   ],
   "source": [
    "df_query_loop_ohera.head()"
   ]
  },
  {
   "cell_type": "code",
   "execution_count": 21,
   "metadata": {},
   "outputs": [],
   "source": [
    "# one can see that duration_seconds should be integer not real\n",
    "df_query_loop_ohera['duration_seconds'] = df_query_loop_ohera['duration_seconds'].astype(int)"
   ]
  },
  {
   "cell_type": "code",
   "execution_count": 22,
   "metadata": {
    "scrolled": true
   },
   "outputs": [
    {
     "data": {
      "text/plain": [
       "array(['Good', 'Bad'], dtype=object)"
      ]
     },
     "execution_count": 22,
     "metadata": {},
     "output_type": "execute_result"
    }
   ],
   "source": [
    "df_query_loop_ohera.weather_conditions.unique()\n",
    "# nothing extra OK"
   ]
  },
  {
   "cell_type": "markdown",
   "metadata": {},
   "source": [
    "#### PLOT"
   ]
  },
  {
   "cell_type": "code",
   "execution_count": 31,
   "metadata": {
    "scrolled": true
   },
   "outputs": [
    {
     "data": {
      "text/plain": [
       "<matplotlib.axes._subplots.AxesSubplot at 0x1ec09dd0748>"
      ]
     },
     "execution_count": 31,
     "metadata": {},
     "output_type": "execute_result"
    },
    {
     "data": {
      "image/png": "[encoded data removed]",
      "text/plain": [
       "<Figure size 1080x360 with 1 Axes>"
      ]
     },
     "metadata": {
      "needs_background": "light"
     },
     "output_type": "display_data"
    }
   ],
   "source": [
    "plt.figure(figsize=(15,5))\n",
    "sns.barplot(x=top10['dropoff_location_name'], y=top10['average_trips'])"
   ]
  },
  {
   "cell_type": "code",
   "execution_count": 27,
   "metadata": {
    "scrolled": true
   },
   "outputs": [
    {
     "data": {
      "text/plain": [
       "array([[<matplotlib.axes._subplots.AxesSubplot object at 0x000001EC097A4748>]],\n",
       "      dtype=object)"
      ]
     },
     "execution_count": 27,
     "metadata": {},
     "output_type": "execute_result"
    },
    {
     "data": {
      "image/png": "[encoded data removed]",
      "text/plain": [
       "<Figure size 432x288 with 1 Axes>"
      ]
     },
     "metadata": {
      "needs_background": "light"
     },
     "output_type": "display_data"
    }
   ],
   "source": [
    "# plot graphs: taxi companies and number of rides\n",
    "df_company_trip.hist('trips_amount', bins=50) #, range=[0,1500]"
   ]
  },
  {
   "cell_type": "markdown",
   "metadata": {},
   "source": [
    "##### Notice_02\n",
    "As expected most of the companies has a little number of rides <400"
   ]
  },
  {
   "cell_type": "markdown",
   "metadata": {},
   "source": [
    "# hypothesis\n",
    "Test the hypothesis:\n",
    "\"The average duration of rides from Loop neighborhood to O'Hare\n",
    "International Airport changes on rainy Sundays.\""
   ]
  },
  {
   "cell_type": "code",
   "execution_count": 73,
   "metadata": {},
   "outputs": [
    {
     "data": {
      "text/html": [
       "<div>\n",
       "<style scoped>\n",
       "    .dataframe tbody tr th:only-of-type {\n",
       "        vertical-align: middle;\n",
       "    }\n",
       "\n",
       "    .dataframe tbody tr th {\n",
       "        vertical-align: top;\n",
       "    }\n",
       "\n",
       "    .dataframe thead th {\n",
       "        text-align: right;\n",
       "    }\n",
       "</style>\n",
       "<table border=\"1\" class=\"dataframe\">\n",
       "  <thead>\n",
       "    <tr style=\"text-align: right;\">\n",
       "      <th></th>\n",
       "      <th>start_ts</th>\n",
       "      <th>weather_conditions</th>\n",
       "      <th>duration_seconds</th>\n",
       "    </tr>\n",
       "  </thead>\n",
       "  <tbody>\n",
       "    <tr>\n",
       "      <th>0</th>\n",
       "      <td>2017-11-25 16:00:00</td>\n",
       "      <td>Good</td>\n",
       "      <td>2410</td>\n",
       "    </tr>\n",
       "    <tr>\n",
       "      <th>1</th>\n",
       "      <td>2017-11-25 14:00:00</td>\n",
       "      <td>Good</td>\n",
       "      <td>1920</td>\n",
       "    </tr>\n",
       "    <tr>\n",
       "      <th>2</th>\n",
       "      <td>2017-11-25 12:00:00</td>\n",
       "      <td>Good</td>\n",
       "      <td>1543</td>\n",
       "    </tr>\n",
       "    <tr>\n",
       "      <th>3</th>\n",
       "      <td>2017-11-04 10:00:00</td>\n",
       "      <td>Good</td>\n",
       "      <td>2512</td>\n",
       "    </tr>\n",
       "    <tr>\n",
       "      <th>4</th>\n",
       "      <td>2017-11-11 07:00:00</td>\n",
       "      <td>Good</td>\n",
       "      <td>1440</td>\n",
       "    </tr>\n",
       "    <tr>\n",
       "      <th>...</th>\n",
       "      <td>...</td>\n",
       "      <td>...</td>\n",
       "      <td>...</td>\n",
       "    </tr>\n",
       "    <tr>\n",
       "      <th>1063</th>\n",
       "      <td>2017-11-25 11:00:00</td>\n",
       "      <td>Good</td>\n",
       "      <td>0</td>\n",
       "    </tr>\n",
       "    <tr>\n",
       "      <th>1064</th>\n",
       "      <td>2017-11-11 10:00:00</td>\n",
       "      <td>Good</td>\n",
       "      <td>1318</td>\n",
       "    </tr>\n",
       "    <tr>\n",
       "      <th>1065</th>\n",
       "      <td>2017-11-11 13:00:00</td>\n",
       "      <td>Good</td>\n",
       "      <td>2100</td>\n",
       "    </tr>\n",
       "    <tr>\n",
       "      <th>1066</th>\n",
       "      <td>2017-11-11 08:00:00</td>\n",
       "      <td>Good</td>\n",
       "      <td>1380</td>\n",
       "    </tr>\n",
       "    <tr>\n",
       "      <th>1067</th>\n",
       "      <td>2017-11-04 16:00:00</td>\n",
       "      <td>Bad</td>\n",
       "      <td>2834</td>\n",
       "    </tr>\n",
       "  </tbody>\n",
       "</table>\n",
       "<p>1068 rows × 3 columns</p>\n",
       "</div>"
      ],
      "text/plain": [
       "                 start_ts weather_conditions  duration_seconds\n",
       "0     2017-11-25 16:00:00               Good              2410\n",
       "1     2017-11-25 14:00:00               Good              1920\n",
       "2     2017-11-25 12:00:00               Good              1543\n",
       "3     2017-11-04 10:00:00               Good              2512\n",
       "4     2017-11-11 07:00:00               Good              1440\n",
       "...                   ...                ...               ...\n",
       "1063  2017-11-25 11:00:00               Good                 0\n",
       "1064  2017-11-11 10:00:00               Good              1318\n",
       "1065  2017-11-11 13:00:00               Good              2100\n",
       "1066  2017-11-11 08:00:00               Good              1380\n",
       "1067  2017-11-04 16:00:00                Bad              2834\n",
       "\n",
       "[1068 rows x 3 columns]"
      ]
     },
     "execution_count": 73,
     "metadata": {},
     "output_type": "execute_result"
    }
   ],
   "source": [
    "df_query_loop_ohera"
   ]
  },
  {
   "cell_type": "code",
   "execution_count": 80,
   "metadata": {},
   "outputs": [
    {
     "data": {
      "text/plain": [
       "array([5], dtype=int64)"
      ]
     },
     "execution_count": 80,
     "metadata": {},
     "output_type": "execute_result"
    }
   ],
   "source": [
    "# I want check if there not Saturdays\n",
    "df_query_loop_ohera['day_of_week'] = pd.to_datetime(df_query_loop_ohera['start_ts']).dt.dayofweek\n",
    "df_query_loop_ohera['day_of_week'].unique()"
   ]
  },
  {
   "cell_type": "markdown",
   "metadata": {},
   "source": [
    "It is OK."
   ]
  },
  {
   "cell_type": "code",
   "execution_count": 90,
   "metadata": {},
   "outputs": [],
   "source": [
    "df_sunny = df_query_loop_ohera.query('weather_conditions == \"Good\"')\n",
    "df_rainy = df_query_loop_ohera.query('weather_conditions == \"Bad\"')"
   ]
  },
  {
   "cell_type": "code",
   "execution_count": 100,
   "metadata": {},
   "outputs": [
    {
     "name": "stdout",
     "output_type": "stream",
     "text": [
      "<class 'pandas.core.frame.DataFrame'>\n",
      "Int64Index: 888 entries, 0 to 1066\n",
      "Data columns (total 4 columns):\n",
      " #   Column              Non-Null Count  Dtype \n",
      "---  ------              --------------  ----- \n",
      " 0   start_ts            888 non-null    object\n",
      " 1   weather_conditions  888 non-null    object\n",
      " 2   duration_seconds    888 non-null    int32 \n",
      " 3   day_of_week         888 non-null    int64 \n",
      "dtypes: int32(1), int64(1), object(2)\n",
      "memory usage: 31.2+ KB\n"
     ]
    }
   ],
   "source": [
    "df_sunny.info()"
   ]
  },
  {
   "cell_type": "code",
   "execution_count": 101,
   "metadata": {},
   "outputs": [
    {
     "name": "stdout",
     "output_type": "stream",
     "text": [
      "<class 'pandas.core.frame.DataFrame'>\n",
      "Int64Index: 180 entries, 6 to 1067\n",
      "Data columns (total 4 columns):\n",
      " #   Column              Non-Null Count  Dtype \n",
      "---  ------              --------------  ----- \n",
      " 0   start_ts            180 non-null    object\n",
      " 1   weather_conditions  180 non-null    object\n",
      " 2   duration_seconds    180 non-null    int32 \n",
      " 3   day_of_week         180 non-null    int64 \n",
      "dtypes: int32(1), int64(1), object(2)\n",
      "memory usage: 6.3+ KB\n"
     ]
    }
   ],
   "source": [
    "df_rainy.info()"
   ]
  },
  {
   "cell_type": "code",
   "execution_count": 114,
   "metadata": {},
   "outputs": [
    {
     "name": "stdout",
     "output_type": "stream",
     "text": [
      "We have only 180 bad days in comparison with 888 of good days\n",
      "But it is still enough to test hypothesis.\n",
      "There is no any good reason to put the same variance for these two sets. They could be different.\n",
      "But in fact it doesnt influence to the result.\n"
     ]
    }
   ],
   "source": [
    "print('We have only',len(df_rainy),'bad days in comparison with',len(df_sunny),'of good days')\n",
    "print('But it is still enough to test hypothesis.')\n",
    "print('There is no any good reason to put the same variance for these two sets. They could be different.')\n",
    "print('But in fact it doesn''t influence to the result.')"
   ]
  },
  {
   "cell_type": "code",
   "execution_count": 115,
   "metadata": {},
   "outputs": [
    {
     "name": "stdout",
     "output_type": "stream",
     "text": [
      "p-value:  6.738994326108734e-12\n",
      "We reject the null hypothesis\n"
     ]
    }
   ],
   "source": [
    "alpha = .05\n",
    "results = st.ttest_ind(\n",
    "        df_sunny.duration_seconds, \n",
    "        df_rainy.duration_seconds,\n",
    "        equal_var=False)\n",
    "\n",
    "print('p-value: ', results.pvalue)\n",
    "\n",
    "if (results.pvalue < alpha):\n",
    "        print(\"We reject the null hypothesis\")\n",
    "else:\n",
    "        print(\"We can't reject the null hypothesis\") "
   ]
  },
  {
   "cell_type": "code",
   "execution_count": 99,
   "metadata": {},
   "outputs": [
    {
     "name": "stdout",
     "output_type": "stream",
     "text": [
      "Good is (mean duration) 1999.6756756756756\n",
      "Bad is (mean duration) 2427.2055555555557\n"
     ]
    }
   ],
   "source": [
    "print('Good is (mean duration)',df_sunny.duration_seconds.mean())\n",
    "print('Bad is (mean duration)',df_rainy.duration_seconds.mean())"
   ]
  },
  {
   "cell_type": "markdown",
   "metadata": {},
   "source": [
    "Null hypothesis: means of the two statistical populations (bad or good weather) are equal based on samples taken from them\n",
    "We reject the null hypothesis, so they are not equal.\n",
    "P-value extremely low, so we could be very confident."
   ]
  },
  {
   "cell_type": "markdown",
   "metadata": {},
   "source": [
    "# How will my project be evaluated?\n",
    "Here are the project assessment criteria. Read them over carefully before you\n",
    "get to work.\n",
    "Here’s what the project reviewer will look for when assessing your project:\n",
    "- how you retrieve data from the website\n",
    "- how you make data slices\n",
    "- how you group data\n",
    "- whether you use the the right methods for joining tables\n",
    "- how you formulate hypotheses\n",
    "- what criteria you use to test the hypotheses and why\n",
    "- what conclusions you reach\n",
    "- whether you leave comments at each step"
   ]
  }
 ],
 "metadata": {
  "kernelspec": {
   "display_name": "Python 3 (ipykernel)",
   "language": "python",
   "name": "python3"
  },
  "language_info": {
   "codemirror_mode": {
    "name": "ipython",
    "version": 3
   },
   "file_extension": ".py",
   "mimetype": "text/x-python",
   "name": "python",
   "nbconvert_exporter": "python",
   "pygments_lexer": "ipython3",
   "version": "3.9.7"
  }
 },
 "nbformat": 4,
 "nbformat_minor": 4
}
