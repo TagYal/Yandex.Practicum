{
 "cells": [
  {
   "cell_type": "code",
   "execution_count": 3,
   "metadata": {},
   "outputs": [],
   "source": [
    "import pandas as pd\n",
    "import numpy as np\n",
    "from scipy import stats as st"
   ]
  },
  {
   "cell_type": "markdown",
   "metadata": {},
   "source": [
    "# Project description\n",
    "You work as an analyst for the telecom operator Megaline. The company\n",
    "offers its clients two prepaid plans, Surf and Ultimate. The commercial\n",
    "department wants to know which of the plans is more profitable in order to\n",
    "adjust the advertising budget. <br>\n",
    "You are going to carry out a preliminary analysis of the plans based on a\n",
    "relatively small client selection. You'll have the data on 500 Megaline clients:\n",
    "who the clients are, where they're from, which plan they use, and the number\n",
    "of calls they made and text messages they sent in 2018. Your job is to analyze\n",
    "clients' behavior and determine which prepaid plan is more profitable."
   ]
  },
  {
   "cell_type": "markdown",
   "metadata": {},
   "source": [
    "# Description of the plans\n",
    "Remember! Megaline rounds seconds up to minutes, and megabytes to\n",
    "gigabytes. For calls, each individual call is rounded up: even if the call lasted\n",
    "just one second, it will be counted as one minute. For web traffic, individual\n",
    "web sessions are not rounded up. Instead, the total for the month is rounded\n",
    "up. If someone uses 1025 megabytes this month, they will be charged for 2\n",
    "gigabyes. <br>\n",
    "Note: Megaline rounds seconds up to minutes, and megabytes to gigabytes.\n",
    "For calls, each individual call is rounded up: even if the call lasted just one\n",
    "second, it will be counted as one minute. For web traffic, individual web\n",
    "sessions are not rounded up. Instead, the total for the month is rounded up. If\n",
    "someone uses 1025 megabytes this month, they will be charged for 2\n",
    "gigabytes."
   ]
  },
  {
   "cell_type": "markdown",
   "metadata": {},
   "source": [
    "# Surf\n",
    "1. Monthly charge 20 USD\n",
    "2. 500 monthly minutes, 50 texts, and 15 GB of data\n",
    "3. After exceeding the package limits\n",
    "        * 1 minute 3 cents\n",
    "        * 1 text message 3 cents\n",
    "        * 1 GB of data 10 USD"
   ]
  },
  {
   "cell_type": "markdown",
   "metadata": {},
   "source": [
    "# Ultimate\n",
    "1. Monthly charge: 70 USD\n",
    "2. 3000 monthly minutes, 1000 text messages, and 30 GB of data\n",
    "3. After exceeding the package limits:\n",
    "         * 1 minute: 1 cent\n",
    "         * 1 text message: 1 cent\n",
    "         * 1 GB of data: 7 USD"
   ]
  },
  {
   "cell_type": "markdown",
   "metadata": {},
   "source": [
    "# Step 1. Open the data file and study the general information"
   ]
  },
  {
   "cell_type": "code",
   "execution_count": 4,
   "metadata": {},
   "outputs": [],
   "source": [
    "# open files and see brief description \n",
    "\n",
    "# data_users = pd.read_csv('/datasets/megaline_users.csv')\n",
    "# data_calls = pd.read_csv('/datasets/megaline_calls.csv')\n",
    "# data_messages = pd.read_csv('/datasets/megaline_messages.csv')\n",
    "# data_internet = pd.read_csv('/datasets/megaline_internet.csv')\n",
    "# data_plans = pd.read_csv('/datasets/megaline_plans.csv') \n",
    "\n",
    "# open files and see brief description \n",
    "data_users = pd.read_csv('datasets/megaline_users.csv')\n",
    "data_calls = pd.read_csv('datasets/megaline_calls.csv')\n",
    "data_messages = pd.read_csv('datasets/megaline_messages.csv')\n",
    "data_internet = pd.read_csv('datasets/megaline_internet.csv')\n",
    "data_plans = pd.read_csv('datasets/megaline_plans.csv') "
   ]
  },
  {
   "cell_type": "code",
   "execution_count": 5,
   "metadata": {},
   "outputs": [
    {
     "data": {
      "text/html": [
       "<div>\n",
       "<style scoped>\n",
       "    .dataframe tbody tr th:only-of-type {\n",
       "        vertical-align: middle;\n",
       "    }\n",
       "\n",
       "    .dataframe tbody tr th {\n",
       "        vertical-align: top;\n",
       "    }\n",
       "\n",
       "    .dataframe thead th {\n",
       "        text-align: right;\n",
       "    }\n",
       "</style>\n",
       "<table border=\"1\" class=\"dataframe\">\n",
       "  <thead>\n",
       "    <tr style=\"text-align: right;\">\n",
       "      <th></th>\n",
       "      <th>user_id</th>\n",
       "      <th>first_name</th>\n",
       "      <th>last_name</th>\n",
       "      <th>age</th>\n",
       "      <th>city</th>\n",
       "      <th>reg_date</th>\n",
       "      <th>plan</th>\n",
       "      <th>churn_date</th>\n",
       "    </tr>\n",
       "  </thead>\n",
       "  <tbody>\n",
       "    <tr>\n",
       "      <th>0</th>\n",
       "      <td>1000</td>\n",
       "      <td>Anamaria</td>\n",
       "      <td>Bauer</td>\n",
       "      <td>45</td>\n",
       "      <td>Atlanta-Sandy Springs-Roswell, GA MSA</td>\n",
       "      <td>2018-12-24</td>\n",
       "      <td>ultimate</td>\n",
       "      <td>NaN</td>\n",
       "    </tr>\n",
       "    <tr>\n",
       "      <th>1</th>\n",
       "      <td>1001</td>\n",
       "      <td>Mickey</td>\n",
       "      <td>Wilkerson</td>\n",
       "      <td>28</td>\n",
       "      <td>Seattle-Tacoma-Bellevue, WA MSA</td>\n",
       "      <td>2018-08-13</td>\n",
       "      <td>surf</td>\n",
       "      <td>NaN</td>\n",
       "    </tr>\n",
       "    <tr>\n",
       "      <th>2</th>\n",
       "      <td>1002</td>\n",
       "      <td>Carlee</td>\n",
       "      <td>Hoffman</td>\n",
       "      <td>36</td>\n",
       "      <td>Las Vegas-Henderson-Paradise, NV MSA</td>\n",
       "      <td>2018-10-21</td>\n",
       "      <td>surf</td>\n",
       "      <td>NaN</td>\n",
       "    </tr>\n",
       "    <tr>\n",
       "      <th>3</th>\n",
       "      <td>1003</td>\n",
       "      <td>Reynaldo</td>\n",
       "      <td>Jenkins</td>\n",
       "      <td>52</td>\n",
       "      <td>Tulsa, OK MSA</td>\n",
       "      <td>2018-01-28</td>\n",
       "      <td>surf</td>\n",
       "      <td>NaN</td>\n",
       "    </tr>\n",
       "    <tr>\n",
       "      <th>4</th>\n",
       "      <td>1004</td>\n",
       "      <td>Leonila</td>\n",
       "      <td>Thompson</td>\n",
       "      <td>40</td>\n",
       "      <td>Seattle-Tacoma-Bellevue, WA MSA</td>\n",
       "      <td>2018-05-23</td>\n",
       "      <td>surf</td>\n",
       "      <td>NaN</td>\n",
       "    </tr>\n",
       "  </tbody>\n",
       "</table>\n",
       "</div>"
      ],
      "text/plain": [
       "   user_id first_name  last_name  age                                   city  \\\n",
       "0     1000   Anamaria      Bauer   45  Atlanta-Sandy Springs-Roswell, GA MSA   \n",
       "1     1001     Mickey  Wilkerson   28        Seattle-Tacoma-Bellevue, WA MSA   \n",
       "2     1002     Carlee    Hoffman   36   Las Vegas-Henderson-Paradise, NV MSA   \n",
       "3     1003   Reynaldo    Jenkins   52                          Tulsa, OK MSA   \n",
       "4     1004    Leonila   Thompson   40        Seattle-Tacoma-Bellevue, WA MSA   \n",
       "\n",
       "     reg_date      plan churn_date  \n",
       "0  2018-12-24  ultimate        NaN  \n",
       "1  2018-08-13      surf        NaN  \n",
       "2  2018-10-21      surf        NaN  \n",
       "3  2018-01-28      surf        NaN  \n",
       "4  2018-05-23      surf        NaN  "
      ]
     },
     "execution_count": 5,
     "metadata": {},
     "output_type": "execute_result"
    }
   ],
   "source": [
    "data_users.head()"
   ]
  },
  {
   "cell_type": "code",
   "execution_count": 6,
   "metadata": {},
   "outputs": [
    {
     "data": {
      "text/html": [
       "<div>\n",
       "<style scoped>\n",
       "    .dataframe tbody tr th:only-of-type {\n",
       "        vertical-align: middle;\n",
       "    }\n",
       "\n",
       "    .dataframe tbody tr th {\n",
       "        vertical-align: top;\n",
       "    }\n",
       "\n",
       "    .dataframe thead th {\n",
       "        text-align: right;\n",
       "    }\n",
       "</style>\n",
       "<table border=\"1\" class=\"dataframe\">\n",
       "  <thead>\n",
       "    <tr style=\"text-align: right;\">\n",
       "      <th></th>\n",
       "      <th>id</th>\n",
       "      <th>user_id</th>\n",
       "      <th>call_date</th>\n",
       "      <th>duration</th>\n",
       "    </tr>\n",
       "  </thead>\n",
       "  <tbody>\n",
       "    <tr>\n",
       "      <th>0</th>\n",
       "      <td>1000_93</td>\n",
       "      <td>1000</td>\n",
       "      <td>2018-12-27</td>\n",
       "      <td>8.52</td>\n",
       "    </tr>\n",
       "    <tr>\n",
       "      <th>1</th>\n",
       "      <td>1000_145</td>\n",
       "      <td>1000</td>\n",
       "      <td>2018-12-27</td>\n",
       "      <td>13.66</td>\n",
       "    </tr>\n",
       "    <tr>\n",
       "      <th>2</th>\n",
       "      <td>1000_247</td>\n",
       "      <td>1000</td>\n",
       "      <td>2018-12-27</td>\n",
       "      <td>14.48</td>\n",
       "    </tr>\n",
       "    <tr>\n",
       "      <th>3</th>\n",
       "      <td>1000_309</td>\n",
       "      <td>1000</td>\n",
       "      <td>2018-12-28</td>\n",
       "      <td>5.76</td>\n",
       "    </tr>\n",
       "    <tr>\n",
       "      <th>4</th>\n",
       "      <td>1000_380</td>\n",
       "      <td>1000</td>\n",
       "      <td>2018-12-30</td>\n",
       "      <td>4.22</td>\n",
       "    </tr>\n",
       "  </tbody>\n",
       "</table>\n",
       "</div>"
      ],
      "text/plain": [
       "         id  user_id   call_date  duration\n",
       "0   1000_93     1000  2018-12-27      8.52\n",
       "1  1000_145     1000  2018-12-27     13.66\n",
       "2  1000_247     1000  2018-12-27     14.48\n",
       "3  1000_309     1000  2018-12-28      5.76\n",
       "4  1000_380     1000  2018-12-30      4.22"
      ]
     },
     "execution_count": 6,
     "metadata": {},
     "output_type": "execute_result"
    }
   ],
   "source": [
    "data_calls.head()"
   ]
  },
  {
   "cell_type": "code",
   "execution_count": 7,
   "metadata": {},
   "outputs": [
    {
     "data": {
      "text/html": [
       "<div>\n",
       "<style scoped>\n",
       "    .dataframe tbody tr th:only-of-type {\n",
       "        vertical-align: middle;\n",
       "    }\n",
       "\n",
       "    .dataframe tbody tr th {\n",
       "        vertical-align: top;\n",
       "    }\n",
       "\n",
       "    .dataframe thead th {\n",
       "        text-align: right;\n",
       "    }\n",
       "</style>\n",
       "<table border=\"1\" class=\"dataframe\">\n",
       "  <thead>\n",
       "    <tr style=\"text-align: right;\">\n",
       "      <th></th>\n",
       "      <th>id</th>\n",
       "      <th>user_id</th>\n",
       "      <th>message_date</th>\n",
       "    </tr>\n",
       "  </thead>\n",
       "  <tbody>\n",
       "    <tr>\n",
       "      <th>0</th>\n",
       "      <td>1000_125</td>\n",
       "      <td>1000</td>\n",
       "      <td>2018-12-27</td>\n",
       "    </tr>\n",
       "    <tr>\n",
       "      <th>1</th>\n",
       "      <td>1000_160</td>\n",
       "      <td>1000</td>\n",
       "      <td>2018-12-31</td>\n",
       "    </tr>\n",
       "    <tr>\n",
       "      <th>2</th>\n",
       "      <td>1000_223</td>\n",
       "      <td>1000</td>\n",
       "      <td>2018-12-31</td>\n",
       "    </tr>\n",
       "    <tr>\n",
       "      <th>3</th>\n",
       "      <td>1000_251</td>\n",
       "      <td>1000</td>\n",
       "      <td>2018-12-27</td>\n",
       "    </tr>\n",
       "    <tr>\n",
       "      <th>4</th>\n",
       "      <td>1000_255</td>\n",
       "      <td>1000</td>\n",
       "      <td>2018-12-26</td>\n",
       "    </tr>\n",
       "  </tbody>\n",
       "</table>\n",
       "</div>"
      ],
      "text/plain": [
       "         id  user_id message_date\n",
       "0  1000_125     1000   2018-12-27\n",
       "1  1000_160     1000   2018-12-31\n",
       "2  1000_223     1000   2018-12-31\n",
       "3  1000_251     1000   2018-12-27\n",
       "4  1000_255     1000   2018-12-26"
      ]
     },
     "execution_count": 7,
     "metadata": {},
     "output_type": "execute_result"
    }
   ],
   "source": [
    "data_messages.head()"
   ]
  },
  {
   "cell_type": "code",
   "execution_count": 8,
   "metadata": {},
   "outputs": [
    {
     "data": {
      "text/html": [
       "<div>\n",
       "<style scoped>\n",
       "    .dataframe tbody tr th:only-of-type {\n",
       "        vertical-align: middle;\n",
       "    }\n",
       "\n",
       "    .dataframe tbody tr th {\n",
       "        vertical-align: top;\n",
       "    }\n",
       "\n",
       "    .dataframe thead th {\n",
       "        text-align: right;\n",
       "    }\n",
       "</style>\n",
       "<table border=\"1\" class=\"dataframe\">\n",
       "  <thead>\n",
       "    <tr style=\"text-align: right;\">\n",
       "      <th></th>\n",
       "      <th>id</th>\n",
       "      <th>user_id</th>\n",
       "      <th>session_date</th>\n",
       "      <th>mb_used</th>\n",
       "    </tr>\n",
       "  </thead>\n",
       "  <tbody>\n",
       "    <tr>\n",
       "      <th>0</th>\n",
       "      <td>1000_13</td>\n",
       "      <td>1000</td>\n",
       "      <td>2018-12-29</td>\n",
       "      <td>89.86</td>\n",
       "    </tr>\n",
       "    <tr>\n",
       "      <th>1</th>\n",
       "      <td>1000_204</td>\n",
       "      <td>1000</td>\n",
       "      <td>2018-12-31</td>\n",
       "      <td>0.00</td>\n",
       "    </tr>\n",
       "    <tr>\n",
       "      <th>2</th>\n",
       "      <td>1000_379</td>\n",
       "      <td>1000</td>\n",
       "      <td>2018-12-28</td>\n",
       "      <td>660.40</td>\n",
       "    </tr>\n",
       "    <tr>\n",
       "      <th>3</th>\n",
       "      <td>1000_413</td>\n",
       "      <td>1000</td>\n",
       "      <td>2018-12-26</td>\n",
       "      <td>270.99</td>\n",
       "    </tr>\n",
       "    <tr>\n",
       "      <th>4</th>\n",
       "      <td>1000_442</td>\n",
       "      <td>1000</td>\n",
       "      <td>2018-12-27</td>\n",
       "      <td>880.22</td>\n",
       "    </tr>\n",
       "  </tbody>\n",
       "</table>\n",
       "</div>"
      ],
      "text/plain": [
       "         id  user_id session_date  mb_used\n",
       "0   1000_13     1000   2018-12-29    89.86\n",
       "1  1000_204     1000   2018-12-31     0.00\n",
       "2  1000_379     1000   2018-12-28   660.40\n",
       "3  1000_413     1000   2018-12-26   270.99\n",
       "4  1000_442     1000   2018-12-27   880.22"
      ]
     },
     "execution_count": 8,
     "metadata": {},
     "output_type": "execute_result"
    }
   ],
   "source": [
    "data_internet.head()"
   ]
  },
  {
   "cell_type": "code",
   "execution_count": 9,
   "metadata": {},
   "outputs": [
    {
     "data": {
      "text/html": [
       "<div>\n",
       "<style scoped>\n",
       "    .dataframe tbody tr th:only-of-type {\n",
       "        vertical-align: middle;\n",
       "    }\n",
       "\n",
       "    .dataframe tbody tr th {\n",
       "        vertical-align: top;\n",
       "    }\n",
       "\n",
       "    .dataframe thead th {\n",
       "        text-align: right;\n",
       "    }\n",
       "</style>\n",
       "<table border=\"1\" class=\"dataframe\">\n",
       "  <thead>\n",
       "    <tr style=\"text-align: right;\">\n",
       "      <th></th>\n",
       "      <th>messages_included</th>\n",
       "      <th>mb_per_month_included</th>\n",
       "      <th>minutes_included</th>\n",
       "      <th>usd_monthly_pay</th>\n",
       "      <th>usd_per_gb</th>\n",
       "      <th>usd_per_message</th>\n",
       "      <th>usd_per_minute</th>\n",
       "      <th>plan_name</th>\n",
       "    </tr>\n",
       "  </thead>\n",
       "  <tbody>\n",
       "    <tr>\n",
       "      <th>0</th>\n",
       "      <td>50</td>\n",
       "      <td>15360</td>\n",
       "      <td>500</td>\n",
       "      <td>20</td>\n",
       "      <td>10</td>\n",
       "      <td>0.03</td>\n",
       "      <td>0.03</td>\n",
       "      <td>surf</td>\n",
       "    </tr>\n",
       "    <tr>\n",
       "      <th>1</th>\n",
       "      <td>1000</td>\n",
       "      <td>30720</td>\n",
       "      <td>3000</td>\n",
       "      <td>70</td>\n",
       "      <td>7</td>\n",
       "      <td>0.01</td>\n",
       "      <td>0.01</td>\n",
       "      <td>ultimate</td>\n",
       "    </tr>\n",
       "  </tbody>\n",
       "</table>\n",
       "</div>"
      ],
      "text/plain": [
       "   messages_included  mb_per_month_included  minutes_included  \\\n",
       "0                 50                  15360               500   \n",
       "1               1000                  30720              3000   \n",
       "\n",
       "   usd_monthly_pay  usd_per_gb  usd_per_message  usd_per_minute plan_name  \n",
       "0               20          10             0.03            0.03      surf  \n",
       "1               70           7             0.01            0.01  ultimate  "
      ]
     },
     "execution_count": 9,
     "metadata": {},
     "output_type": "execute_result"
    }
   ],
   "source": [
    "data_plans.head()"
   ]
  },
  {
   "cell_type": "code",
   "execution_count": 10,
   "metadata": {},
   "outputs": [
    {
     "name": "stdout",
     "output_type": "stream",
     "text": [
      "-----------USERS-----------\n",
      "<class 'pandas.core.frame.DataFrame'>\n",
      "RangeIndex: 500 entries, 0 to 499\n",
      "Data columns (total 8 columns):\n",
      " #   Column      Non-Null Count  Dtype \n",
      "---  ------      --------------  ----- \n",
      " 0   user_id     500 non-null    int64 \n",
      " 1   first_name  500 non-null    object\n",
      " 2   last_name   500 non-null    object\n",
      " 3   age         500 non-null    int64 \n",
      " 4   city        500 non-null    object\n",
      " 5   reg_date    500 non-null    object\n",
      " 6   plan        500 non-null    object\n",
      " 7   churn_date  34 non-null     object\n",
      "dtypes: int64(2), object(6)\n",
      "memory usage: 31.4+ KB\n",
      "\n",
      "-----------CALLS-----------\n",
      "<class 'pandas.core.frame.DataFrame'>\n",
      "RangeIndex: 137735 entries, 0 to 137734\n",
      "Data columns (total 4 columns):\n",
      " #   Column     Non-Null Count   Dtype  \n",
      "---  ------     --------------   -----  \n",
      " 0   id         137735 non-null  object \n",
      " 1   user_id    137735 non-null  int64  \n",
      " 2   call_date  137735 non-null  object \n",
      " 3   duration   137735 non-null  float64\n",
      "dtypes: float64(1), int64(1), object(2)\n",
      "memory usage: 4.2+ MB\n",
      "\n",
      "-----------MESSAGES-----------\n",
      "<class 'pandas.core.frame.DataFrame'>\n",
      "RangeIndex: 76051 entries, 0 to 76050\n",
      "Data columns (total 3 columns):\n",
      " #   Column        Non-Null Count  Dtype \n",
      "---  ------        --------------  ----- \n",
      " 0   id            76051 non-null  object\n",
      " 1   user_id       76051 non-null  int64 \n",
      " 2   message_date  76051 non-null  object\n",
      "dtypes: int64(1), object(2)\n",
      "memory usage: 1.7+ MB\n",
      "\n",
      "-----------INTERNET-----------\n",
      "<class 'pandas.core.frame.DataFrame'>\n",
      "RangeIndex: 104825 entries, 0 to 104824\n",
      "Data columns (total 4 columns):\n",
      " #   Column        Non-Null Count   Dtype  \n",
      "---  ------        --------------   -----  \n",
      " 0   id            104825 non-null  object \n",
      " 1   user_id       104825 non-null  int64  \n",
      " 2   session_date  104825 non-null  object \n",
      " 3   mb_used       104825 non-null  float64\n",
      "dtypes: float64(1), int64(1), object(2)\n",
      "memory usage: 3.2+ MB\n",
      "\n",
      "-----------PLANS-----------\n",
      "<class 'pandas.core.frame.DataFrame'>\n",
      "RangeIndex: 2 entries, 0 to 1\n",
      "Data columns (total 8 columns):\n",
      " #   Column                 Non-Null Count  Dtype  \n",
      "---  ------                 --------------  -----  \n",
      " 0   messages_included      2 non-null      int64  \n",
      " 1   mb_per_month_included  2 non-null      int64  \n",
      " 2   minutes_included       2 non-null      int64  \n",
      " 3   usd_monthly_pay        2 non-null      int64  \n",
      " 4   usd_per_gb             2 non-null      int64  \n",
      " 5   usd_per_message        2 non-null      float64\n",
      " 6   usd_per_minute         2 non-null      float64\n",
      " 7   plan_name              2 non-null      object \n",
      "dtypes: float64(2), int64(5), object(1)\n",
      "memory usage: 256.0+ bytes\n"
     ]
    }
   ],
   "source": [
    "print('-----------USERS-----------')\n",
    "data_users.info()\n",
    "print()\n",
    "print('-----------CALLS-----------')\n",
    "data_calls.info()\n",
    "print()\n",
    "print('-----------MESSAGES-----------')\n",
    "data_messages.info()\n",
    "print()\n",
    "print('-----------INTERNET-----------')\n",
    "data_internet.info()\n",
    "print()\n",
    "print('-----------PLANS-----------')\n",
    "data_plans.info()"
   ]
  },
  {
   "cell_type": "markdown",
   "metadata": {},
   "source": [
    "## RESULTS STEP 1.\n",
    "I read brief information about all the data. <br>\n",
    "Glad to see that there is no empty data. From the first view data is really good. Naturally I'am going to do detailed review on the next steps. <br>\n",
    "It is necessary to use pivot tables when I will show the final results."
   ]
  },
  {
   "cell_type": "markdown",
   "metadata": {},
   "source": [
    "# Step 2. Prepare the data\n",
    "* Convert the data to the necessary types\n",
    "* Find and eliminate errors in the data <br>\n",
    "Explain what errors you found and how you eliminated them. <br><br>\n",
    "\n",
    "For each user, find:\n",
    "* The number of calls made and minutes used per month\n",
    "* The number of text messages sent per month\n",
    "* The volume of data per month\n",
    "* The monthly profit from each user (subtract the free package limit from the total number of calls, text messages, and data; multiply the result by the calling plan value; add the monthly charge depending on the calling plan)"
   ]
  },
  {
   "cell_type": "markdown",
   "metadata": {},
   "source": [
    "#### Step 2.1 Convert the data to the necessary types"
   ]
  },
  {
   "cell_type": "code",
   "execution_count": 11,
   "metadata": {},
   "outputs": [],
   "source": [
    "# In **Data_users** convert *reg_date* from strings to date\n",
    "data_users['reg_date'] = pd.to_datetime(data_users['reg_date'], format='%Y-%m-%d')\n",
    "# separate states\n",
    "data_users['state'] = data_users['city']\n",
    "\n",
    "# In **Data_users** convert *churn_date* from strings to date\n",
    "data_users['churn_date'] = pd.to_datetime(data_users['churn_date'], format='%Y-%m-%d')\n",
    "\n",
    "# In **data_calls** convert *call_date* from strings to date\n",
    "data_calls['call_date'] = pd.to_datetime(data_calls['call_date'], format='%Y-%m-%d')\n",
    "\n",
    "# In **data_messages** convert *message_date* from strings to date\n",
    "data_messages['message_date'] = pd.to_datetime(data_messages['message_date'], format='%Y-%m-%d')\n",
    "  \n",
    "# In **data_internet** convert *session_date* from strings to date\n",
    "data_internet['session_date'] = pd.to_datetime(data_internet['session_date'], format='%Y-%m-%d')    "
   ]
  },
  {
   "cell_type": "code",
   "execution_count": 12,
   "metadata": {},
   "outputs": [],
   "source": [
    "# year is the same in every row\n",
    "# add month and weekday\n",
    "data_users['reg_month'] = data_users['reg_date'].dt.month\n",
    "data_users['reg_weekday'] = data_users['reg_date'].dt.weekday"
   ]
  },
  {
   "cell_type": "markdown",
   "metadata": {},
   "source": [
    "#### Step 2.2 Find and eliminate errors in the data"
   ]
  },
  {
   "cell_type": "markdown",
   "metadata": {},
   "source": [
    "**data_users**"
   ]
  },
  {
   "cell_type": "code",
   "execution_count": 13,
   "metadata": {},
   "outputs": [
    {
     "data": {
      "text/html": [
       "<div>\n",
       "<style scoped>\n",
       "    .dataframe tbody tr th:only-of-type {\n",
       "        vertical-align: middle;\n",
       "    }\n",
       "\n",
       "    .dataframe tbody tr th {\n",
       "        vertical-align: top;\n",
       "    }\n",
       "\n",
       "    .dataframe thead th {\n",
       "        text-align: right;\n",
       "    }\n",
       "</style>\n",
       "<table border=\"1\" class=\"dataframe\">\n",
       "  <thead>\n",
       "    <tr style=\"text-align: right;\">\n",
       "      <th></th>\n",
       "      <th>user_id</th>\n",
       "      <th>first_name</th>\n",
       "      <th>last_name</th>\n",
       "      <th>age</th>\n",
       "      <th>city</th>\n",
       "      <th>reg_date</th>\n",
       "      <th>plan</th>\n",
       "      <th>churn_date</th>\n",
       "      <th>state</th>\n",
       "      <th>reg_month</th>\n",
       "      <th>reg_weekday</th>\n",
       "    </tr>\n",
       "  </thead>\n",
       "  <tbody>\n",
       "    <tr>\n",
       "      <th>0</th>\n",
       "      <td>1000</td>\n",
       "      <td>Anamaria</td>\n",
       "      <td>Bauer</td>\n",
       "      <td>45</td>\n",
       "      <td>Atlanta-Sandy Springs-Roswell, GA MSA</td>\n",
       "      <td>2018-12-24</td>\n",
       "      <td>ultimate</td>\n",
       "      <td>NaT</td>\n",
       "      <td>Atlanta-Sandy Springs-Roswell, GA MSA</td>\n",
       "      <td>12</td>\n",
       "      <td>0</td>\n",
       "    </tr>\n",
       "    <tr>\n",
       "      <th>1</th>\n",
       "      <td>1001</td>\n",
       "      <td>Mickey</td>\n",
       "      <td>Wilkerson</td>\n",
       "      <td>28</td>\n",
       "      <td>Seattle-Tacoma-Bellevue, WA MSA</td>\n",
       "      <td>2018-08-13</td>\n",
       "      <td>surf</td>\n",
       "      <td>NaT</td>\n",
       "      <td>Seattle-Tacoma-Bellevue, WA MSA</td>\n",
       "      <td>8</td>\n",
       "      <td>0</td>\n",
       "    </tr>\n",
       "    <tr>\n",
       "      <th>2</th>\n",
       "      <td>1002</td>\n",
       "      <td>Carlee</td>\n",
       "      <td>Hoffman</td>\n",
       "      <td>36</td>\n",
       "      <td>Las Vegas-Henderson-Paradise, NV MSA</td>\n",
       "      <td>2018-10-21</td>\n",
       "      <td>surf</td>\n",
       "      <td>NaT</td>\n",
       "      <td>Las Vegas-Henderson-Paradise, NV MSA</td>\n",
       "      <td>10</td>\n",
       "      <td>6</td>\n",
       "    </tr>\n",
       "  </tbody>\n",
       "</table>\n",
       "</div>"
      ],
      "text/plain": [
       "   user_id first_name  last_name  age                                   city  \\\n",
       "0     1000   Anamaria      Bauer   45  Atlanta-Sandy Springs-Roswell, GA MSA   \n",
       "1     1001     Mickey  Wilkerson   28        Seattle-Tacoma-Bellevue, WA MSA   \n",
       "2     1002     Carlee    Hoffman   36   Las Vegas-Henderson-Paradise, NV MSA   \n",
       "\n",
       "    reg_date      plan churn_date                                  state  \\\n",
       "0 2018-12-24  ultimate        NaT  Atlanta-Sandy Springs-Roswell, GA MSA   \n",
       "1 2018-08-13      surf        NaT        Seattle-Tacoma-Bellevue, WA MSA   \n",
       "2 2018-10-21      surf        NaT   Las Vegas-Henderson-Paradise, NV MSA   \n",
       "\n",
       "   reg_month  reg_weekday  \n",
       "0         12            0  \n",
       "1          8            0  \n",
       "2         10            6  "
      ]
     },
     "execution_count": 13,
     "metadata": {},
     "output_type": "execute_result"
    }
   ],
   "source": [
    "data_users.head(3)"
   ]
  },
  {
   "cell_type": "code",
   "execution_count": 14,
   "metadata": {},
   "outputs": [
    {
     "name": "stdout",
     "output_type": "stream",
     "text": [
      "Number of  unique user_id: 500\n"
     ]
    }
   ],
   "source": [
    "# users id\n",
    "print('Number of  unique user_id:', len(data_users['user_id'].unique()))\n",
    "# That's good!"
   ]
  },
  {
   "cell_type": "code",
   "execution_count": 15,
   "metadata": {},
   "outputs": [
    {
     "name": "stdout",
     "output_type": "stream",
     "text": [
      "Minimal age: 18\n",
      "Maximal age: 75\n"
     ]
    },
    {
     "data": {
      "text/plain": [
       "<matplotlib.axes._subplots.AxesSubplot at 0x1f4e4a10508>"
      ]
     },
     "execution_count": 15,
     "metadata": {},
     "output_type": "execute_result"
    },
    {
     "data": {
      "image/png": "[encoded data removed]",
      "text/plain": [
       "<Figure size 432x288 with 1 Axes>"
      ]
     },
     "metadata": {
      "needs_background": "light"
     },
     "output_type": "display_data"
    }
   ],
   "source": [
    "# age\n",
    "print('Minimal age:',data_users['age'].min())\n",
    "print('Maximal age:',data_users['age'].max())\n",
    "data_users['age'].hist(bins=20)"
   ]
  },
  {
   "cell_type": "markdown",
   "metadata": {},
   "source": [
    "It seems that this data is a representative of some global data. And selection of this data was made by age. <br>\n",
    "Why? Usually distribution of age is not so uniform. <br>\n",
    "Minimal age is 18. That is so because company can't sell their plans to children. <br>\n",
    "IT is OK. It isn't a mistake."
   ]
  },
  {
   "cell_type": "code",
   "execution_count": 16,
   "metadata": {},
   "outputs": [
    {
     "data": {
      "text/plain": [
       "array(['GA', 'WA', 'NV', 'OK', 'TX', 'CA', 'MI', 'FL', 'OH', 'IL-IN-WI',\n",
       "       'TN', 'NY-NJ-PA', 'PA', 'DC-VA-MD-WV', 'IN', 'NE-IA',\n",
       "       'PA-NJ-DE-MD', 'AL', 'NC-SC', 'CO', 'NM', 'MA-NH', 'AZ', 'OR-WA',\n",
       "       'OH-KY-IN', 'SC', 'NY', 'TN-MS-AR', 'KY-IN', 'RI-MA', 'UT', 'HI',\n",
       "       'CT', 'LA', 'VA-NC', 'MD', 'WI', 'VA', 'MO-IL', 'MN-WI', 'MO-KS',\n",
       "       'NC'], dtype=object)"
      ]
     },
     "execution_count": 16,
     "metadata": {},
     "output_type": "execute_result"
    }
   ],
   "source": [
    "# city; add state column\n",
    "data_users['state'] = [item.split(' ')[-2] for item in data_users['city']]\n",
    "data_users['state'].unique()"
   ]
  },
  {
   "cell_type": "code",
   "execution_count": 17,
   "metadata": {},
   "outputs": [
    {
     "data": {
      "text/plain": [
       "<matplotlib.axes._subplots.AxesSubplot at 0x1f4e3836dc8>"
      ]
     },
     "execution_count": 17,
     "metadata": {},
     "output_type": "execute_result"
    },
    {
     "data": {
      "image/png": "[encoded data removed]",
      "text/plain": [
       "<Figure size 432x288 with 1 Axes>"
      ]
     },
     "metadata": {
      "needs_background": "light"
     },
     "output_type": "display_data"
    }
   ],
   "source": [
    "data_users['plan'].hist(bins=2)"
   ]
  },
  {
   "cell_type": "code",
   "execution_count": 18,
   "metadata": {},
   "outputs": [
    {
     "data": {
      "text/html": [
       "<div>\n",
       "<style scoped>\n",
       "    .dataframe tbody tr th:only-of-type {\n",
       "        vertical-align: middle;\n",
       "    }\n",
       "\n",
       "    .dataframe tbody tr th {\n",
       "        vertical-align: top;\n",
       "    }\n",
       "\n",
       "    .dataframe thead th {\n",
       "        text-align: right;\n",
       "    }\n",
       "</style>\n",
       "<table border=\"1\" class=\"dataframe\">\n",
       "  <thead>\n",
       "    <tr style=\"text-align: right;\">\n",
       "      <th></th>\n",
       "      <th>user_id</th>\n",
       "      <th>first_name</th>\n",
       "      <th>last_name</th>\n",
       "      <th>age</th>\n",
       "      <th>city</th>\n",
       "      <th>reg_date</th>\n",
       "      <th>plan</th>\n",
       "      <th>churn_date</th>\n",
       "      <th>state</th>\n",
       "      <th>reg_month</th>\n",
       "      <th>reg_weekday</th>\n",
       "    </tr>\n",
       "  </thead>\n",
       "  <tbody>\n",
       "    <tr>\n",
       "      <th>0</th>\n",
       "      <td>1000</td>\n",
       "      <td>Anamaria</td>\n",
       "      <td>Bauer</td>\n",
       "      <td>45</td>\n",
       "      <td>Atlanta-Sandy Springs-Roswell, GA MSA</td>\n",
       "      <td>2018-12-24</td>\n",
       "      <td>ultimate</td>\n",
       "      <td>NaT</td>\n",
       "      <td>GA</td>\n",
       "      <td>12</td>\n",
       "      <td>0</td>\n",
       "    </tr>\n",
       "    <tr>\n",
       "      <th>1</th>\n",
       "      <td>1001</td>\n",
       "      <td>Mickey</td>\n",
       "      <td>Wilkerson</td>\n",
       "      <td>28</td>\n",
       "      <td>Seattle-Tacoma-Bellevue, WA MSA</td>\n",
       "      <td>2018-08-13</td>\n",
       "      <td>surf</td>\n",
       "      <td>NaT</td>\n",
       "      <td>WA</td>\n",
       "      <td>8</td>\n",
       "      <td>0</td>\n",
       "    </tr>\n",
       "    <tr>\n",
       "      <th>2</th>\n",
       "      <td>1002</td>\n",
       "      <td>Carlee</td>\n",
       "      <td>Hoffman</td>\n",
       "      <td>36</td>\n",
       "      <td>Las Vegas-Henderson-Paradise, NV MSA</td>\n",
       "      <td>2018-10-21</td>\n",
       "      <td>surf</td>\n",
       "      <td>NaT</td>\n",
       "      <td>NV</td>\n",
       "      <td>10</td>\n",
       "      <td>6</td>\n",
       "    </tr>\n",
       "  </tbody>\n",
       "</table>\n",
       "</div>"
      ],
      "text/plain": [
       "   user_id first_name  last_name  age                                   city  \\\n",
       "0     1000   Anamaria      Bauer   45  Atlanta-Sandy Springs-Roswell, GA MSA   \n",
       "1     1001     Mickey  Wilkerson   28        Seattle-Tacoma-Bellevue, WA MSA   \n",
       "2     1002     Carlee    Hoffman   36   Las Vegas-Henderson-Paradise, NV MSA   \n",
       "\n",
       "    reg_date      plan churn_date state  reg_month  reg_weekday  \n",
       "0 2018-12-24  ultimate        NaT    GA         12            0  \n",
       "1 2018-08-13      surf        NaT    WA          8            0  \n",
       "2 2018-10-21      surf        NaT    NV         10            6  "
      ]
     },
     "execution_count": 18,
     "metadata": {},
     "output_type": "execute_result"
    }
   ],
   "source": [
    "data_users.head(3)"
   ]
  },
  {
   "cell_type": "markdown",
   "metadata": {},
   "source": [
    "**data_calls**"
   ]
  },
  {
   "cell_type": "code",
   "execution_count": 19,
   "metadata": {},
   "outputs": [
    {
     "data": {
      "text/html": [
       "<div>\n",
       "<style scoped>\n",
       "    .dataframe tbody tr th:only-of-type {\n",
       "        vertical-align: middle;\n",
       "    }\n",
       "\n",
       "    .dataframe tbody tr th {\n",
       "        vertical-align: top;\n",
       "    }\n",
       "\n",
       "    .dataframe thead th {\n",
       "        text-align: right;\n",
       "    }\n",
       "</style>\n",
       "<table border=\"1\" class=\"dataframe\">\n",
       "  <thead>\n",
       "    <tr style=\"text-align: right;\">\n",
       "      <th></th>\n",
       "      <th>id</th>\n",
       "      <th>user_id</th>\n",
       "      <th>call_date</th>\n",
       "      <th>duration</th>\n",
       "    </tr>\n",
       "  </thead>\n",
       "  <tbody>\n",
       "    <tr>\n",
       "      <th>0</th>\n",
       "      <td>1000_93</td>\n",
       "      <td>1000</td>\n",
       "      <td>2018-12-27</td>\n",
       "      <td>8.52</td>\n",
       "    </tr>\n",
       "    <tr>\n",
       "      <th>1</th>\n",
       "      <td>1000_145</td>\n",
       "      <td>1000</td>\n",
       "      <td>2018-12-27</td>\n",
       "      <td>13.66</td>\n",
       "    </tr>\n",
       "    <tr>\n",
       "      <th>2</th>\n",
       "      <td>1000_247</td>\n",
       "      <td>1000</td>\n",
       "      <td>2018-12-27</td>\n",
       "      <td>14.48</td>\n",
       "    </tr>\n",
       "  </tbody>\n",
       "</table>\n",
       "</div>"
      ],
      "text/plain": [
       "         id  user_id  call_date  duration\n",
       "0   1000_93     1000 2018-12-27      8.52\n",
       "1  1000_145     1000 2018-12-27     13.66\n",
       "2  1000_247     1000 2018-12-27     14.48"
      ]
     },
     "execution_count": 19,
     "metadata": {},
     "output_type": "execute_result"
    }
   ],
   "source": [
    "data_calls.head(3)"
   ]
  },
  {
   "cell_type": "code",
   "execution_count": 20,
   "metadata": {},
   "outputs": [
    {
     "data": {
      "text/plain": [
       "<matplotlib.axes._subplots.AxesSubplot at 0x1f4e4c3d8c8>"
      ]
     },
     "execution_count": 20,
     "metadata": {},
     "output_type": "execute_result"
    },
    {
     "data": {
      "image/png": "[encoded data removed]",
      "text/plain": [
       "<Figure size 432x288 with 1 Axes>"
      ]
     },
     "metadata": {
      "needs_background": "light"
     },
     "output_type": "display_data"
    }
   ],
   "source": [
    "# duration\n",
    "data_calls['duration'].hist(bins=30)"
   ]
  },
  {
   "cell_type": "markdown",
   "metadata": {},
   "source": [
    "I see thar there are a lot of calls in the beginning if histogram. It could be zero or 0.5 or 1 and etc. <br>"
   ]
  },
  {
   "cell_type": "code",
   "execution_count": 21,
   "metadata": {},
   "outputs": [
    {
     "data": {
      "text/plain": [
       "<matplotlib.axes._subplots.AxesSubplot at 0x1f4e4a10988>"
      ]
     },
     "execution_count": 21,
     "metadata": {},
     "output_type": "execute_result"
    },
    {
     "data": {
      "image/png": "[encoded data removed]",
      "text/plain": [
       "<Figure size 432x288 with 1 Axes>"
      ]
     },
     "metadata": {
      "needs_background": "light"
     },
     "output_type": "display_data"
    }
   ],
   "source": [
    "data_calls.query('duration != 0.')['duration'].hist(bins=30)"
   ]
  },
  {
   "cell_type": "code",
   "execution_count": 22,
   "metadata": {},
   "outputs": [
    {
     "name": "stdout",
     "output_type": "stream",
     "text": [
      "Share of data last in final data calls table (%): 80.52\n"
     ]
    }
   ],
   "source": [
    "print('Share of data last in final data calls table (%): {:.2f}'.format(\n",
    "                            len(data_calls.query('duration != 0.'))/len(data_calls) * 100))"
   ]
  },
  {
   "cell_type": "markdown",
   "metadata": {},
   "source": [
    "**data_messages** is OK"
   ]
  },
  {
   "cell_type": "markdown",
   "metadata": {},
   "source": [
    "**data_internet** is OK"
   ]
  },
  {
   "cell_type": "code",
   "execution_count": 23,
   "metadata": {},
   "outputs": [
    {
     "data": {
      "text/html": [
       "<div>\n",
       "<style scoped>\n",
       "    .dataframe tbody tr th:only-of-type {\n",
       "        vertical-align: middle;\n",
       "    }\n",
       "\n",
       "    .dataframe tbody tr th {\n",
       "        vertical-align: top;\n",
       "    }\n",
       "\n",
       "    .dataframe thead th {\n",
       "        text-align: right;\n",
       "    }\n",
       "</style>\n",
       "<table border=\"1\" class=\"dataframe\">\n",
       "  <thead>\n",
       "    <tr style=\"text-align: right;\">\n",
       "      <th></th>\n",
       "      <th>id</th>\n",
       "      <th>user_id</th>\n",
       "      <th>session_date</th>\n",
       "      <th>mb_used</th>\n",
       "    </tr>\n",
       "  </thead>\n",
       "  <tbody>\n",
       "    <tr>\n",
       "      <th>0</th>\n",
       "      <td>1000_13</td>\n",
       "      <td>1000</td>\n",
       "      <td>2018-12-29</td>\n",
       "      <td>89.86</td>\n",
       "    </tr>\n",
       "    <tr>\n",
       "      <th>1</th>\n",
       "      <td>1000_204</td>\n",
       "      <td>1000</td>\n",
       "      <td>2018-12-31</td>\n",
       "      <td>0.00</td>\n",
       "    </tr>\n",
       "    <tr>\n",
       "      <th>2</th>\n",
       "      <td>1000_379</td>\n",
       "      <td>1000</td>\n",
       "      <td>2018-12-28</td>\n",
       "      <td>660.40</td>\n",
       "    </tr>\n",
       "  </tbody>\n",
       "</table>\n",
       "</div>"
      ],
      "text/plain": [
       "         id  user_id session_date  mb_used\n",
       "0   1000_13     1000   2018-12-29    89.86\n",
       "1  1000_204     1000   2018-12-31     0.00\n",
       "2  1000_379     1000   2018-12-28   660.40"
      ]
     },
     "execution_count": 23,
     "metadata": {},
     "output_type": "execute_result"
    }
   ],
   "source": [
    "data_internet.head(3)"
   ]
  },
  {
   "cell_type": "code",
   "execution_count": 24,
   "metadata": {},
   "outputs": [
    {
     "name": "stdout",
     "output_type": "stream",
     "text": [
      "Share of data last in final data internet table (%): 86.89\n"
     ]
    }
   ],
   "source": [
    "print('Share of data last in final data internet table (%): {:.2f}'.format(\n",
    "                            len(data_internet.query('mb_used != 0.'))/len(data_internet) * 100))"
   ]
  },
  {
   "cell_type": "code",
   "execution_count": 25,
   "metadata": {},
   "outputs": [
    {
     "data": {
      "text/plain": [
       "<matplotlib.axes._subplots.AxesSubplot at 0x1f4e51eee08>"
      ]
     },
     "execution_count": 25,
     "metadata": {},
     "output_type": "execute_result"
    },
    {
     "data": {
      "image/png": "[encoded data removed]",
      "text/plain": [
       "<Figure size 432x288 with 1 Axes>"
      ]
     },
     "metadata": {
      "needs_background": "light"
     },
     "output_type": "display_data"
    }
   ],
   "source": [
    "data_internet.query('mb_used != 0.')['mb_used'].hist(bins=30)"
   ]
  },
  {
   "cell_type": "markdown",
   "metadata": {},
   "source": [
    "So, later I should member that there are a lot of garbage of 0-values in two tables."
   ]
  },
  {
   "cell_type": "markdown",
   "metadata": {},
   "source": [
    "#### Step 2.3 For each user, find:\n",
    "* The number of calls made and minutes used per month\n",
    "* The number of text messages sent per month\n",
    "* The volume of data per month\n",
    "* The monthly profit from each user (subtract the free package limit from the total number of calls, text messages, and data; multiply the result by the calling plan value; add the monthly charge depending on the calling plan)"
   ]
  },
  {
   "cell_type": "code",
   "execution_count": 26,
   "metadata": {},
   "outputs": [],
   "source": [
    "# Note: Megaline rounds seconds up to minutes, and megabytes to gigabytes.\n",
    "# so before calculate new parameters, I should roundup minutes.\n",
    "# As it is important to calculate this parameters for each month, I assign new columns."
   ]
  },
  {
   "cell_type": "code",
   "execution_count": 27,
   "metadata": {
    "scrolled": true
   },
   "outputs": [],
   "source": [
    "# round up minutes and update column minutes\n",
    "\n",
    "# def calls_minutes_update(row):\n",
    "#     time = row['duration']\n",
    "#     return np.ceil(time)\n",
    "\n",
    "# data_calls['duration_round'] = data_calls.apply(calls_minutes_update, axis=1)\n",
    "\n",
    "data_calls['duration_round'] = np.ceil(data_calls['duration'])"
   ]
  },
  {
   "cell_type": "code",
   "execution_count": 28,
   "metadata": {
    "scrolled": true
   },
   "outputs": [],
   "source": [
    "# save months\n",
    "data_calls['month'] = data_calls['call_date'].dt.month"
   ]
  },
  {
   "cell_type": "markdown",
   "metadata": {},
   "source": [
    "#### Mini result (pivot table 1 - calls):"
   ]
  },
  {
   "cell_type": "code",
   "execution_count": 29,
   "metadata": {
    "scrolled": false
   },
   "outputs": [
    {
     "data": {
      "text/html": [
       "<div>\n",
       "<style scoped>\n",
       "    .dataframe tbody tr th:only-of-type {\n",
       "        vertical-align: middle;\n",
       "    }\n",
       "\n",
       "    .dataframe tbody tr th {\n",
       "        vertical-align: top;\n",
       "    }\n",
       "\n",
       "    .dataframe thead tr th {\n",
       "        text-align: left;\n",
       "    }\n",
       "\n",
       "    .dataframe thead tr:last-of-type th {\n",
       "        text-align: right;\n",
       "    }\n",
       "</style>\n",
       "<table border=\"1\" class=\"dataframe\">\n",
       "  <thead>\n",
       "    <tr>\n",
       "      <th></th>\n",
       "      <th></th>\n",
       "      <th>count</th>\n",
       "      <th>sum</th>\n",
       "    </tr>\n",
       "    <tr>\n",
       "      <th></th>\n",
       "      <th></th>\n",
       "      <th>duration_round</th>\n",
       "      <th>duration_round</th>\n",
       "    </tr>\n",
       "    <tr>\n",
       "      <th>user_id</th>\n",
       "      <th>month</th>\n",
       "      <th></th>\n",
       "      <th></th>\n",
       "    </tr>\n",
       "  </thead>\n",
       "  <tbody>\n",
       "    <tr>\n",
       "      <th>1000</th>\n",
       "      <th>12</th>\n",
       "      <td>16</td>\n",
       "      <td>124.0</td>\n",
       "    </tr>\n",
       "    <tr>\n",
       "      <th rowspan=\"4\" valign=\"top\">1001</th>\n",
       "      <th>8</th>\n",
       "      <td>22</td>\n",
       "      <td>182.0</td>\n",
       "    </tr>\n",
       "    <tr>\n",
       "      <th>9</th>\n",
       "      <td>38</td>\n",
       "      <td>315.0</td>\n",
       "    </tr>\n",
       "    <tr>\n",
       "      <th>10</th>\n",
       "      <td>47</td>\n",
       "      <td>393.0</td>\n",
       "    </tr>\n",
       "    <tr>\n",
       "      <th>11</th>\n",
       "      <td>49</td>\n",
       "      <td>426.0</td>\n",
       "    </tr>\n",
       "    <tr>\n",
       "      <th>...</th>\n",
       "      <th>...</th>\n",
       "      <td>...</td>\n",
       "      <td>...</td>\n",
       "    </tr>\n",
       "    <tr>\n",
       "      <th>1498</th>\n",
       "      <th>12</th>\n",
       "      <td>32</td>\n",
       "      <td>339.0</td>\n",
       "    </tr>\n",
       "    <tr>\n",
       "      <th rowspan=\"4\" valign=\"top\">1499</th>\n",
       "      <th>9</th>\n",
       "      <td>35</td>\n",
       "      <td>346.0</td>\n",
       "    </tr>\n",
       "    <tr>\n",
       "      <th>10</th>\n",
       "      <td>41</td>\n",
       "      <td>385.0</td>\n",
       "    </tr>\n",
       "    <tr>\n",
       "      <th>11</th>\n",
       "      <td>39</td>\n",
       "      <td>308.0</td>\n",
       "    </tr>\n",
       "    <tr>\n",
       "      <th>12</th>\n",
       "      <td>56</td>\n",
       "      <td>496.0</td>\n",
       "    </tr>\n",
       "  </tbody>\n",
       "</table>\n",
       "<p>2256 rows × 2 columns</p>\n",
       "</div>"
      ],
      "text/plain": [
       "                       count            sum\n",
       "              duration_round duration_round\n",
       "user_id month                              \n",
       "1000    12                16          124.0\n",
       "1001    8                 22          182.0\n",
       "        9                 38          315.0\n",
       "        10                47          393.0\n",
       "        11                49          426.0\n",
       "...                      ...            ...\n",
       "1498    12                32          339.0\n",
       "1499    9                 35          346.0\n",
       "        10                41          385.0\n",
       "        11                39          308.0\n",
       "        12                56          496.0\n",
       "\n",
       "[2256 rows x 2 columns]"
      ]
     },
     "execution_count": 29,
     "metadata": {},
     "output_type": "execute_result"
    }
   ],
   "source": [
    "# pivot table: calculate number of calls and minutes for each month\n",
    "data_calls.query('duration != 0').pivot_table(index=['user_id','month'], values='duration_round', aggfunc=['count','sum'])"
   ]
  },
  {
   "cell_type": "code",
   "execution_count": 30,
   "metadata": {},
   "outputs": [],
   "source": [
    "# pivot table: calculate number of calls and minutes for each month\n",
    "data_pivot_calls = data_calls.query('duration != 0').pivot_table(index=['user_id','month'], values='duration_round', aggfunc=['count','sum'])"
   ]
  },
  {
   "cell_type": "code",
   "execution_count": 31,
   "metadata": {},
   "outputs": [
    {
     "data": {
      "text/html": [
       "<div>\n",
       "<style scoped>\n",
       "    .dataframe tbody tr th:only-of-type {\n",
       "        vertical-align: middle;\n",
       "    }\n",
       "\n",
       "    .dataframe tbody tr th {\n",
       "        vertical-align: top;\n",
       "    }\n",
       "\n",
       "    .dataframe thead th {\n",
       "        text-align: right;\n",
       "    }\n",
       "</style>\n",
       "<table border=\"1\" class=\"dataframe\">\n",
       "  <thead>\n",
       "    <tr style=\"text-align: right;\">\n",
       "      <th></th>\n",
       "      <th>id</th>\n",
       "      <th>user_id</th>\n",
       "      <th>message_date</th>\n",
       "      <th>month</th>\n",
       "    </tr>\n",
       "  </thead>\n",
       "  <tbody>\n",
       "    <tr>\n",
       "      <th>0</th>\n",
       "      <td>1000_125</td>\n",
       "      <td>1000</td>\n",
       "      <td>2018-12-27</td>\n",
       "      <td>12</td>\n",
       "    </tr>\n",
       "  </tbody>\n",
       "</table>\n",
       "</div>"
      ],
      "text/plain": [
       "         id  user_id message_date  month\n",
       "0  1000_125     1000   2018-12-27     12"
      ]
     },
     "execution_count": 31,
     "metadata": {},
     "output_type": "execute_result"
    }
   ],
   "source": [
    "# messages\n",
    "# create new column - month\n",
    "data_messages['month'] = data_messages['message_date'].dt.month\n",
    "data_messages.head(1)"
   ]
  },
  {
   "cell_type": "markdown",
   "metadata": {},
   "source": [
    "#### Mini result (pivot table 2 - sms):"
   ]
  },
  {
   "cell_type": "code",
   "execution_count": 32,
   "metadata": {
    "scrolled": true
   },
   "outputs": [
    {
     "data": {
      "text/html": [
       "<div>\n",
       "<style scoped>\n",
       "    .dataframe tbody tr th:only-of-type {\n",
       "        vertical-align: middle;\n",
       "    }\n",
       "\n",
       "    .dataframe tbody tr th {\n",
       "        vertical-align: top;\n",
       "    }\n",
       "\n",
       "    .dataframe thead tr th {\n",
       "        text-align: left;\n",
       "    }\n",
       "\n",
       "    .dataframe thead tr:last-of-type th {\n",
       "        text-align: right;\n",
       "    }\n",
       "</style>\n",
       "<table border=\"1\" class=\"dataframe\">\n",
       "  <thead>\n",
       "    <tr>\n",
       "      <th></th>\n",
       "      <th></th>\n",
       "      <th>count</th>\n",
       "    </tr>\n",
       "    <tr>\n",
       "      <th></th>\n",
       "      <th></th>\n",
       "      <th>id</th>\n",
       "    </tr>\n",
       "    <tr>\n",
       "      <th>user_id</th>\n",
       "      <th>month</th>\n",
       "      <th></th>\n",
       "    </tr>\n",
       "  </thead>\n",
       "  <tbody>\n",
       "    <tr>\n",
       "      <th>1000</th>\n",
       "      <th>12</th>\n",
       "      <td>11</td>\n",
       "    </tr>\n",
       "    <tr>\n",
       "      <th rowspan=\"4\" valign=\"top\">1001</th>\n",
       "      <th>8</th>\n",
       "      <td>30</td>\n",
       "    </tr>\n",
       "    <tr>\n",
       "      <th>9</th>\n",
       "      <td>44</td>\n",
       "    </tr>\n",
       "    <tr>\n",
       "      <th>10</th>\n",
       "      <td>53</td>\n",
       "    </tr>\n",
       "    <tr>\n",
       "      <th>11</th>\n",
       "      <td>36</td>\n",
       "    </tr>\n",
       "    <tr>\n",
       "      <th>...</th>\n",
       "      <th>...</th>\n",
       "      <td>...</td>\n",
       "    </tr>\n",
       "    <tr>\n",
       "      <th rowspan=\"4\" valign=\"top\">1496</th>\n",
       "      <th>9</th>\n",
       "      <td>21</td>\n",
       "    </tr>\n",
       "    <tr>\n",
       "      <th>10</th>\n",
       "      <td>18</td>\n",
       "    </tr>\n",
       "    <tr>\n",
       "      <th>11</th>\n",
       "      <td>13</td>\n",
       "    </tr>\n",
       "    <tr>\n",
       "      <th>12</th>\n",
       "      <td>11</td>\n",
       "    </tr>\n",
       "    <tr>\n",
       "      <th>1497</th>\n",
       "      <th>12</th>\n",
       "      <td>50</td>\n",
       "    </tr>\n",
       "  </tbody>\n",
       "</table>\n",
       "<p>1806 rows × 1 columns</p>\n",
       "</div>"
      ],
      "text/plain": [
       "              count\n",
       "                 id\n",
       "user_id month      \n",
       "1000    12       11\n",
       "1001    8        30\n",
       "        9        44\n",
       "        10       53\n",
       "        11       36\n",
       "...             ...\n",
       "1496    9        21\n",
       "        10       18\n",
       "        11       13\n",
       "        12       11\n",
       "1497    12       50\n",
       "\n",
       "[1806 rows x 1 columns]"
      ]
     },
     "execution_count": 32,
     "metadata": {},
     "output_type": "execute_result"
    }
   ],
   "source": [
    "# pivot table: calculate number of calls and minutes for each month\n",
    "data_messages.pivot_table(index=['user_id','month'], values='id', aggfunc=['count'])"
   ]
  },
  {
   "cell_type": "code",
   "execution_count": 33,
   "metadata": {},
   "outputs": [],
   "source": [
    "# pivot table: calculate number of calls and minutes for each month\n",
    "data_pivot_sms = data_messages.pivot_table(index=['user_id','month'], values='id', aggfunc=['count'])"
   ]
  },
  {
   "cell_type": "code",
   "execution_count": 34,
   "metadata": {},
   "outputs": [
    {
     "data": {
      "text/html": [
       "<div>\n",
       "<style scoped>\n",
       "    .dataframe tbody tr th:only-of-type {\n",
       "        vertical-align: middle;\n",
       "    }\n",
       "\n",
       "    .dataframe tbody tr th {\n",
       "        vertical-align: top;\n",
       "    }\n",
       "\n",
       "    .dataframe thead th {\n",
       "        text-align: right;\n",
       "    }\n",
       "</style>\n",
       "<table border=\"1\" class=\"dataframe\">\n",
       "  <thead>\n",
       "    <tr style=\"text-align: right;\">\n",
       "      <th></th>\n",
       "      <th>id</th>\n",
       "      <th>user_id</th>\n",
       "      <th>session_date</th>\n",
       "      <th>mb_used</th>\n",
       "      <th>month</th>\n",
       "    </tr>\n",
       "  </thead>\n",
       "  <tbody>\n",
       "    <tr>\n",
       "      <th>0</th>\n",
       "      <td>1000_13</td>\n",
       "      <td>1000</td>\n",
       "      <td>2018-12-29</td>\n",
       "      <td>89.86</td>\n",
       "      <td>12</td>\n",
       "    </tr>\n",
       "  </tbody>\n",
       "</table>\n",
       "</div>"
      ],
      "text/plain": [
       "        id  user_id session_date  mb_used  month\n",
       "0  1000_13     1000   2018-12-29    89.86     12"
      ]
     },
     "execution_count": 34,
     "metadata": {},
     "output_type": "execute_result"
    }
   ],
   "source": [
    "# internet\n",
    "# I haven't rounded because Megaline rounds megabytes to gigabyte monthly\n",
    "data_internet['month'] = data_internet['session_date'].dt.month\n",
    "data_internet.head(1)"
   ]
  },
  {
   "cell_type": "markdown",
   "metadata": {},
   "source": [
    "#### Mini result (pivot table 3 - internet):"
   ]
  },
  {
   "cell_type": "code",
   "execution_count": 35,
   "metadata": {
    "scrolled": true
   },
   "outputs": [
    {
     "data": {
      "text/html": [
       "<div>\n",
       "<style scoped>\n",
       "    .dataframe tbody tr th:only-of-type {\n",
       "        vertical-align: middle;\n",
       "    }\n",
       "\n",
       "    .dataframe tbody tr th {\n",
       "        vertical-align: top;\n",
       "    }\n",
       "\n",
       "    .dataframe thead tr th {\n",
       "        text-align: left;\n",
       "    }\n",
       "\n",
       "    .dataframe thead tr:last-of-type th {\n",
       "        text-align: right;\n",
       "    }\n",
       "</style>\n",
       "<table border=\"1\" class=\"dataframe\">\n",
       "  <thead>\n",
       "    <tr>\n",
       "      <th></th>\n",
       "      <th></th>\n",
       "      <th>sum</th>\n",
       "    </tr>\n",
       "    <tr>\n",
       "      <th></th>\n",
       "      <th></th>\n",
       "      <th>mb_used</th>\n",
       "    </tr>\n",
       "    <tr>\n",
       "      <th>user_id</th>\n",
       "      <th>month</th>\n",
       "      <th></th>\n",
       "    </tr>\n",
       "  </thead>\n",
       "  <tbody>\n",
       "    <tr>\n",
       "      <th>1000</th>\n",
       "      <th>12</th>\n",
       "      <td>1901.47</td>\n",
       "    </tr>\n",
       "    <tr>\n",
       "      <th rowspan=\"4\" valign=\"top\">1001</th>\n",
       "      <th>8</th>\n",
       "      <td>6919.15</td>\n",
       "    </tr>\n",
       "    <tr>\n",
       "      <th>9</th>\n",
       "      <td>13314.82</td>\n",
       "    </tr>\n",
       "    <tr>\n",
       "      <th>10</th>\n",
       "      <td>22330.49</td>\n",
       "    </tr>\n",
       "    <tr>\n",
       "      <th>11</th>\n",
       "      <td>18504.30</td>\n",
       "    </tr>\n",
       "    <tr>\n",
       "      <th>...</th>\n",
       "      <th>...</th>\n",
       "      <td>...</td>\n",
       "    </tr>\n",
       "    <tr>\n",
       "      <th>1498</th>\n",
       "      <th>12</th>\n",
       "      <td>23137.69</td>\n",
       "    </tr>\n",
       "    <tr>\n",
       "      <th rowspan=\"4\" valign=\"top\">1499</th>\n",
       "      <th>9</th>\n",
       "      <td>12984.76</td>\n",
       "    </tr>\n",
       "    <tr>\n",
       "      <th>10</th>\n",
       "      <td>19492.43</td>\n",
       "    </tr>\n",
       "    <tr>\n",
       "      <th>11</th>\n",
       "      <td>16813.83</td>\n",
       "    </tr>\n",
       "    <tr>\n",
       "      <th>12</th>\n",
       "      <td>22059.21</td>\n",
       "    </tr>\n",
       "  </tbody>\n",
       "</table>\n",
       "<p>2277 rows × 1 columns</p>\n",
       "</div>"
      ],
      "text/plain": [
       "                    sum\n",
       "                mb_used\n",
       "user_id month          \n",
       "1000    12      1901.47\n",
       "1001    8       6919.15\n",
       "        9      13314.82\n",
       "        10     22330.49\n",
       "        11     18504.30\n",
       "...                 ...\n",
       "1498    12     23137.69\n",
       "1499    9      12984.76\n",
       "        10     19492.43\n",
       "        11     16813.83\n",
       "        12     22059.21\n",
       "\n",
       "[2277 rows x 1 columns]"
      ]
     },
     "execution_count": 35,
     "metadata": {},
     "output_type": "execute_result"
    }
   ],
   "source": [
    "(data_internet\n",
    "    .query('mb_used != 0.')\n",
    "    .pivot_table(index=['user_id','month'], values='mb_used', aggfunc=['sum'])\n",
    ")"
   ]
  },
  {
   "cell_type": "code",
   "execution_count": 36,
   "metadata": {
    "scrolled": true
   },
   "outputs": [],
   "source": [
    "data_pivot_internet = (data_internet\n",
    "     .pivot_table(index=['user_id','month'], values='mb_used', aggfunc=['sum'])\n",
    " )\n",
    "\n",
    "# # add column with Gb and round up it\n",
    "# data_pivot_internet['gb_used'] = [np.ceil(item) for item in data_pivot_internet[('sum','mb_used')] / 1024.]"
   ]
  },
  {
   "cell_type": "code",
   "execution_count": 37,
   "metadata": {},
   "outputs": [],
   "source": [
    "data_pivot_internet['gb_used'] = np.ceil(data_pivot_internet[('sum','mb_used')] / 1024)"
   ]
  },
  {
   "cell_type": "code",
   "execution_count": 38,
   "metadata": {},
   "outputs": [
    {
     "data": {
      "text/html": [
       "<div>\n",
       "<style scoped>\n",
       "    .dataframe tbody tr th:only-of-type {\n",
       "        vertical-align: middle;\n",
       "    }\n",
       "\n",
       "    .dataframe tbody tr th {\n",
       "        vertical-align: top;\n",
       "    }\n",
       "\n",
       "    .dataframe thead tr th {\n",
       "        text-align: left;\n",
       "    }\n",
       "\n",
       "    .dataframe thead tr:last-of-type th {\n",
       "        text-align: right;\n",
       "    }\n",
       "</style>\n",
       "<table border=\"1\" class=\"dataframe\">\n",
       "  <thead>\n",
       "    <tr>\n",
       "      <th></th>\n",
       "      <th></th>\n",
       "      <th>sum</th>\n",
       "      <th>gb_used</th>\n",
       "    </tr>\n",
       "    <tr>\n",
       "      <th></th>\n",
       "      <th></th>\n",
       "      <th>mb_used</th>\n",
       "      <th></th>\n",
       "    </tr>\n",
       "    <tr>\n",
       "      <th>user_id</th>\n",
       "      <th>month</th>\n",
       "      <th></th>\n",
       "      <th></th>\n",
       "    </tr>\n",
       "  </thead>\n",
       "  <tbody>\n",
       "    <tr>\n",
       "      <th>1000</th>\n",
       "      <th>12</th>\n",
       "      <td>1901.47</td>\n",
       "      <td>2.0</td>\n",
       "    </tr>\n",
       "    <tr>\n",
       "      <th rowspan=\"4\" valign=\"top\">1001</th>\n",
       "      <th>8</th>\n",
       "      <td>6919.15</td>\n",
       "      <td>7.0</td>\n",
       "    </tr>\n",
       "    <tr>\n",
       "      <th>9</th>\n",
       "      <td>13314.82</td>\n",
       "      <td>14.0</td>\n",
       "    </tr>\n",
       "    <tr>\n",
       "      <th>10</th>\n",
       "      <td>22330.49</td>\n",
       "      <td>22.0</td>\n",
       "    </tr>\n",
       "    <tr>\n",
       "      <th>11</th>\n",
       "      <td>18504.30</td>\n",
       "      <td>19.0</td>\n",
       "    </tr>\n",
       "  </tbody>\n",
       "</table>\n",
       "</div>"
      ],
      "text/plain": [
       "                    sum gb_used\n",
       "                mb_used        \n",
       "user_id month                  \n",
       "1000    12      1901.47     2.0\n",
       "1001    8       6919.15     7.0\n",
       "        9      13314.82    14.0\n",
       "        10     22330.49    22.0\n",
       "        11     18504.30    19.0"
      ]
     },
     "execution_count": 38,
     "metadata": {},
     "output_type": "execute_result"
    }
   ],
   "source": [
    "data_pivot_internet.head()"
   ]
  },
  {
   "cell_type": "markdown",
   "metadata": {},
   "source": [
    "So, I have obtained 3 pivot tables. Now I can merge them."
   ]
  },
  {
   "cell_type": "code",
   "execution_count": 39,
   "metadata": {},
   "outputs": [
    {
     "data": {
      "text/html": [
       "<div>\n",
       "<style scoped>\n",
       "    .dataframe tbody tr th:only-of-type {\n",
       "        vertical-align: middle;\n",
       "    }\n",
       "\n",
       "    .dataframe tbody tr th {\n",
       "        vertical-align: top;\n",
       "    }\n",
       "\n",
       "    .dataframe thead tr th {\n",
       "        text-align: left;\n",
       "    }\n",
       "\n",
       "    .dataframe thead tr:last-of-type th {\n",
       "        text-align: right;\n",
       "    }\n",
       "</style>\n",
       "<table border=\"1\" class=\"dataframe\">\n",
       "  <thead>\n",
       "    <tr>\n",
       "      <th></th>\n",
       "      <th></th>\n",
       "      <th>count</th>\n",
       "      <th>sum</th>\n",
       "      <th>count</th>\n",
       "    </tr>\n",
       "    <tr>\n",
       "      <th></th>\n",
       "      <th></th>\n",
       "      <th>duration_round</th>\n",
       "      <th>duration_round</th>\n",
       "      <th>id</th>\n",
       "    </tr>\n",
       "    <tr>\n",
       "      <th>user_id</th>\n",
       "      <th>month</th>\n",
       "      <th></th>\n",
       "      <th></th>\n",
       "      <th></th>\n",
       "    </tr>\n",
       "  </thead>\n",
       "  <tbody>\n",
       "    <tr>\n",
       "      <th>1000</th>\n",
       "      <th>12</th>\n",
       "      <td>16.0</td>\n",
       "      <td>124.0</td>\n",
       "      <td>11.0</td>\n",
       "    </tr>\n",
       "    <tr>\n",
       "      <th rowspan=\"4\" valign=\"top\">1001</th>\n",
       "      <th>8</th>\n",
       "      <td>22.0</td>\n",
       "      <td>182.0</td>\n",
       "      <td>30.0</td>\n",
       "    </tr>\n",
       "    <tr>\n",
       "      <th>9</th>\n",
       "      <td>38.0</td>\n",
       "      <td>315.0</td>\n",
       "      <td>44.0</td>\n",
       "    </tr>\n",
       "    <tr>\n",
       "      <th>10</th>\n",
       "      <td>47.0</td>\n",
       "      <td>393.0</td>\n",
       "      <td>53.0</td>\n",
       "    </tr>\n",
       "    <tr>\n",
       "      <th>11</th>\n",
       "      <td>49.0</td>\n",
       "      <td>426.0</td>\n",
       "      <td>36.0</td>\n",
       "    </tr>\n",
       "    <tr>\n",
       "      <th>...</th>\n",
       "      <th>...</th>\n",
       "      <td>...</td>\n",
       "      <td>...</td>\n",
       "      <td>...</td>\n",
       "    </tr>\n",
       "    <tr>\n",
       "      <th>1498</th>\n",
       "      <th>12</th>\n",
       "      <td>32.0</td>\n",
       "      <td>339.0</td>\n",
       "      <td>NaN</td>\n",
       "    </tr>\n",
       "    <tr>\n",
       "      <th rowspan=\"4\" valign=\"top\">1499</th>\n",
       "      <th>9</th>\n",
       "      <td>35.0</td>\n",
       "      <td>346.0</td>\n",
       "      <td>NaN</td>\n",
       "    </tr>\n",
       "    <tr>\n",
       "      <th>10</th>\n",
       "      <td>41.0</td>\n",
       "      <td>385.0</td>\n",
       "      <td>NaN</td>\n",
       "    </tr>\n",
       "    <tr>\n",
       "      <th>11</th>\n",
       "      <td>39.0</td>\n",
       "      <td>308.0</td>\n",
       "      <td>NaN</td>\n",
       "    </tr>\n",
       "    <tr>\n",
       "      <th>12</th>\n",
       "      <td>56.0</td>\n",
       "      <td>496.0</td>\n",
       "      <td>NaN</td>\n",
       "    </tr>\n",
       "  </tbody>\n",
       "</table>\n",
       "<p>2290 rows × 3 columns</p>\n",
       "</div>"
      ],
      "text/plain": [
       "                       count            sum count\n",
       "              duration_round duration_round    id\n",
       "user_id month                                    \n",
       "1000    12              16.0          124.0  11.0\n",
       "1001    8               22.0          182.0  30.0\n",
       "        9               38.0          315.0  44.0\n",
       "        10              47.0          393.0  53.0\n",
       "        11              49.0          426.0  36.0\n",
       "...                      ...            ...   ...\n",
       "1498    12              32.0          339.0   NaN\n",
       "1499    9               35.0          346.0   NaN\n",
       "        10              41.0          385.0   NaN\n",
       "        11              39.0          308.0   NaN\n",
       "        12              56.0          496.0   NaN\n",
       "\n",
       "[2290 rows x 3 columns]"
      ]
     },
     "execution_count": 39,
     "metadata": {},
     "output_type": "execute_result"
    }
   ],
   "source": [
    "# I choose outer because we should take into account all data\n",
    "data_pivot_calls.merge(data_pivot_sms, left_index=True, right_index=True, how='outer')"
   ]
  },
  {
   "cell_type": "markdown",
   "metadata": {},
   "source": [
    "Fantastic! It works!!!"
   ]
  },
  {
   "cell_type": "code",
   "execution_count": 40,
   "metadata": {},
   "outputs": [],
   "source": [
    "# assing final dataframe, which I will analyse\n",
    "df = data_pivot_calls.merge(data_pivot_sms, left_index=True, right_index=True, how='outer')"
   ]
  },
  {
   "cell_type": "code",
   "execution_count": 41,
   "metadata": {},
   "outputs": [],
   "source": [
    "# merge with internet data\n",
    "df = df.merge(data_pivot_internet, left_index=True, right_index=True, how='outer')"
   ]
  },
  {
   "cell_type": "code",
   "execution_count": 42,
   "metadata": {},
   "outputs": [],
   "source": [
    "# change name of columns\n",
    "df.columns = ['num_calls', 'min_calls_round','sms','mb', 'gb_round']"
   ]
  },
  {
   "cell_type": "code",
   "execution_count": 43,
   "metadata": {
    "scrolled": true
   },
   "outputs": [
    {
     "data": {
      "text/html": [
       "<div>\n",
       "<style scoped>\n",
       "    .dataframe tbody tr th:only-of-type {\n",
       "        vertical-align: middle;\n",
       "    }\n",
       "\n",
       "    .dataframe tbody tr th {\n",
       "        vertical-align: top;\n",
       "    }\n",
       "\n",
       "    .dataframe thead th {\n",
       "        text-align: right;\n",
       "    }\n",
       "</style>\n",
       "<table border=\"1\" class=\"dataframe\">\n",
       "  <thead>\n",
       "    <tr style=\"text-align: right;\">\n",
       "      <th></th>\n",
       "      <th></th>\n",
       "      <th>num_calls</th>\n",
       "      <th>min_calls_round</th>\n",
       "      <th>sms</th>\n",
       "      <th>mb</th>\n",
       "      <th>gb_round</th>\n",
       "    </tr>\n",
       "    <tr>\n",
       "      <th>user_id</th>\n",
       "      <th>month</th>\n",
       "      <th></th>\n",
       "      <th></th>\n",
       "      <th></th>\n",
       "      <th></th>\n",
       "      <th></th>\n",
       "    </tr>\n",
       "  </thead>\n",
       "  <tbody>\n",
       "    <tr>\n",
       "      <th>1000</th>\n",
       "      <th>12</th>\n",
       "      <td>16.0</td>\n",
       "      <td>124.0</td>\n",
       "      <td>11.0</td>\n",
       "      <td>1901.47</td>\n",
       "      <td>2.0</td>\n",
       "    </tr>\n",
       "    <tr>\n",
       "      <th rowspan=\"4\" valign=\"top\">1001</th>\n",
       "      <th>8</th>\n",
       "      <td>22.0</td>\n",
       "      <td>182.0</td>\n",
       "      <td>30.0</td>\n",
       "      <td>6919.15</td>\n",
       "      <td>7.0</td>\n",
       "    </tr>\n",
       "    <tr>\n",
       "      <th>9</th>\n",
       "      <td>38.0</td>\n",
       "      <td>315.0</td>\n",
       "      <td>44.0</td>\n",
       "      <td>13314.82</td>\n",
       "      <td>14.0</td>\n",
       "    </tr>\n",
       "    <tr>\n",
       "      <th>10</th>\n",
       "      <td>47.0</td>\n",
       "      <td>393.0</td>\n",
       "      <td>53.0</td>\n",
       "      <td>22330.49</td>\n",
       "      <td>22.0</td>\n",
       "    </tr>\n",
       "    <tr>\n",
       "      <th>11</th>\n",
       "      <td>49.0</td>\n",
       "      <td>426.0</td>\n",
       "      <td>36.0</td>\n",
       "      <td>18504.30</td>\n",
       "      <td>19.0</td>\n",
       "    </tr>\n",
       "    <tr>\n",
       "      <th>...</th>\n",
       "      <th>...</th>\n",
       "      <td>...</td>\n",
       "      <td>...</td>\n",
       "      <td>...</td>\n",
       "      <td>...</td>\n",
       "      <td>...</td>\n",
       "    </tr>\n",
       "    <tr>\n",
       "      <th>1498</th>\n",
       "      <th>12</th>\n",
       "      <td>32.0</td>\n",
       "      <td>339.0</td>\n",
       "      <td>NaN</td>\n",
       "      <td>23137.69</td>\n",
       "      <td>23.0</td>\n",
       "    </tr>\n",
       "    <tr>\n",
       "      <th rowspan=\"4\" valign=\"top\">1499</th>\n",
       "      <th>9</th>\n",
       "      <td>35.0</td>\n",
       "      <td>346.0</td>\n",
       "      <td>NaN</td>\n",
       "      <td>12984.76</td>\n",
       "      <td>13.0</td>\n",
       "    </tr>\n",
       "    <tr>\n",
       "      <th>10</th>\n",
       "      <td>41.0</td>\n",
       "      <td>385.0</td>\n",
       "      <td>NaN</td>\n",
       "      <td>19492.43</td>\n",
       "      <td>20.0</td>\n",
       "    </tr>\n",
       "    <tr>\n",
       "      <th>11</th>\n",
       "      <td>39.0</td>\n",
       "      <td>308.0</td>\n",
       "      <td>NaN</td>\n",
       "      <td>16813.83</td>\n",
       "      <td>17.0</td>\n",
       "    </tr>\n",
       "    <tr>\n",
       "      <th>12</th>\n",
       "      <td>56.0</td>\n",
       "      <td>496.0</td>\n",
       "      <td>NaN</td>\n",
       "      <td>22059.21</td>\n",
       "      <td>22.0</td>\n",
       "    </tr>\n",
       "  </tbody>\n",
       "</table>\n",
       "<p>2293 rows × 5 columns</p>\n",
       "</div>"
      ],
      "text/plain": [
       "               num_calls  min_calls_round   sms        mb  gb_round\n",
       "user_id month                                                      \n",
       "1000    12          16.0            124.0  11.0   1901.47       2.0\n",
       "1001    8           22.0            182.0  30.0   6919.15       7.0\n",
       "        9           38.0            315.0  44.0  13314.82      14.0\n",
       "        10          47.0            393.0  53.0  22330.49      22.0\n",
       "        11          49.0            426.0  36.0  18504.30      19.0\n",
       "...                  ...              ...   ...       ...       ...\n",
       "1498    12          32.0            339.0   NaN  23137.69      23.0\n",
       "1499    9           35.0            346.0   NaN  12984.76      13.0\n",
       "        10          41.0            385.0   NaN  19492.43      20.0\n",
       "        11          39.0            308.0   NaN  16813.83      17.0\n",
       "        12          56.0            496.0   NaN  22059.21      22.0\n",
       "\n",
       "[2293 rows x 5 columns]"
      ]
     },
     "execution_count": 43,
     "metadata": {},
     "output_type": "execute_result"
    }
   ],
   "source": [
    "df"
   ]
  },
  {
   "cell_type": "markdown",
   "metadata": {},
   "source": [
    "All necessary data are in pivot table. It is reall handy to use. <br>\n",
    "Now is remained the most interesting. Let's calculate another's payments.\n",
    "## I couldn't add plan using merge() or join() ((((\n",
    "Try use another ways"
   ]
  },
  {
   "cell_type": "code",
   "execution_count": 44,
   "metadata": {},
   "outputs": [],
   "source": [
    "# add column user id (now it is not an index)\n",
    "#df['user_id'] = [id_row[0] for id_row in df.index]\n",
    "\n",
    "#!@#$%"
   ]
  },
  {
   "cell_type": "code",
   "execution_count": 45,
   "metadata": {},
   "outputs": [],
   "source": [
    "df = df.reset_index()"
   ]
  },
  {
   "cell_type": "code",
   "execution_count": 46,
   "metadata": {},
   "outputs": [
    {
     "data": {
      "text/html": [
       "<div>\n",
       "<style scoped>\n",
       "    .dataframe tbody tr th:only-of-type {\n",
       "        vertical-align: middle;\n",
       "    }\n",
       "\n",
       "    .dataframe tbody tr th {\n",
       "        vertical-align: top;\n",
       "    }\n",
       "\n",
       "    .dataframe thead th {\n",
       "        text-align: right;\n",
       "    }\n",
       "</style>\n",
       "<table border=\"1\" class=\"dataframe\">\n",
       "  <thead>\n",
       "    <tr style=\"text-align: right;\">\n",
       "      <th></th>\n",
       "      <th>user_id</th>\n",
       "      <th>month</th>\n",
       "      <th>num_calls</th>\n",
       "      <th>min_calls_round</th>\n",
       "      <th>sms</th>\n",
       "      <th>mb</th>\n",
       "      <th>gb_round</th>\n",
       "    </tr>\n",
       "  </thead>\n",
       "  <tbody>\n",
       "    <tr>\n",
       "      <th>0</th>\n",
       "      <td>1000</td>\n",
       "      <td>12</td>\n",
       "      <td>16.0</td>\n",
       "      <td>124.0</td>\n",
       "      <td>11.0</td>\n",
       "      <td>1901.47</td>\n",
       "      <td>2.0</td>\n",
       "    </tr>\n",
       "    <tr>\n",
       "      <th>1</th>\n",
       "      <td>1001</td>\n",
       "      <td>8</td>\n",
       "      <td>22.0</td>\n",
       "      <td>182.0</td>\n",
       "      <td>30.0</td>\n",
       "      <td>6919.15</td>\n",
       "      <td>7.0</td>\n",
       "    </tr>\n",
       "    <tr>\n",
       "      <th>2</th>\n",
       "      <td>1001</td>\n",
       "      <td>9</td>\n",
       "      <td>38.0</td>\n",
       "      <td>315.0</td>\n",
       "      <td>44.0</td>\n",
       "      <td>13314.82</td>\n",
       "      <td>14.0</td>\n",
       "    </tr>\n",
       "    <tr>\n",
       "      <th>3</th>\n",
       "      <td>1001</td>\n",
       "      <td>10</td>\n",
       "      <td>47.0</td>\n",
       "      <td>393.0</td>\n",
       "      <td>53.0</td>\n",
       "      <td>22330.49</td>\n",
       "      <td>22.0</td>\n",
       "    </tr>\n",
       "    <tr>\n",
       "      <th>4</th>\n",
       "      <td>1001</td>\n",
       "      <td>11</td>\n",
       "      <td>49.0</td>\n",
       "      <td>426.0</td>\n",
       "      <td>36.0</td>\n",
       "      <td>18504.30</td>\n",
       "      <td>19.0</td>\n",
       "    </tr>\n",
       "    <tr>\n",
       "      <th>...</th>\n",
       "      <td>...</td>\n",
       "      <td>...</td>\n",
       "      <td>...</td>\n",
       "      <td>...</td>\n",
       "      <td>...</td>\n",
       "      <td>...</td>\n",
       "      <td>...</td>\n",
       "    </tr>\n",
       "    <tr>\n",
       "      <th>2288</th>\n",
       "      <td>1498</td>\n",
       "      <td>12</td>\n",
       "      <td>32.0</td>\n",
       "      <td>339.0</td>\n",
       "      <td>NaN</td>\n",
       "      <td>23137.69</td>\n",
       "      <td>23.0</td>\n",
       "    </tr>\n",
       "    <tr>\n",
       "      <th>2289</th>\n",
       "      <td>1499</td>\n",
       "      <td>9</td>\n",
       "      <td>35.0</td>\n",
       "      <td>346.0</td>\n",
       "      <td>NaN</td>\n",
       "      <td>12984.76</td>\n",
       "      <td>13.0</td>\n",
       "    </tr>\n",
       "    <tr>\n",
       "      <th>2290</th>\n",
       "      <td>1499</td>\n",
       "      <td>10</td>\n",
       "      <td>41.0</td>\n",
       "      <td>385.0</td>\n",
       "      <td>NaN</td>\n",
       "      <td>19492.43</td>\n",
       "      <td>20.0</td>\n",
       "    </tr>\n",
       "    <tr>\n",
       "      <th>2291</th>\n",
       "      <td>1499</td>\n",
       "      <td>11</td>\n",
       "      <td>39.0</td>\n",
       "      <td>308.0</td>\n",
       "      <td>NaN</td>\n",
       "      <td>16813.83</td>\n",
       "      <td>17.0</td>\n",
       "    </tr>\n",
       "    <tr>\n",
       "      <th>2292</th>\n",
       "      <td>1499</td>\n",
       "      <td>12</td>\n",
       "      <td>56.0</td>\n",
       "      <td>496.0</td>\n",
       "      <td>NaN</td>\n",
       "      <td>22059.21</td>\n",
       "      <td>22.0</td>\n",
       "    </tr>\n",
       "  </tbody>\n",
       "</table>\n",
       "<p>2293 rows × 7 columns</p>\n",
       "</div>"
      ],
      "text/plain": [
       "      user_id  month  num_calls  min_calls_round   sms        mb  gb_round\n",
       "0        1000     12       16.0            124.0  11.0   1901.47       2.0\n",
       "1        1001      8       22.0            182.0  30.0   6919.15       7.0\n",
       "2        1001      9       38.0            315.0  44.0  13314.82      14.0\n",
       "3        1001     10       47.0            393.0  53.0  22330.49      22.0\n",
       "4        1001     11       49.0            426.0  36.0  18504.30      19.0\n",
       "...       ...    ...        ...              ...   ...       ...       ...\n",
       "2288     1498     12       32.0            339.0   NaN  23137.69      23.0\n",
       "2289     1499      9       35.0            346.0   NaN  12984.76      13.0\n",
       "2290     1499     10       41.0            385.0   NaN  19492.43      20.0\n",
       "2291     1499     11       39.0            308.0   NaN  16813.83      17.0\n",
       "2292     1499     12       56.0            496.0   NaN  22059.21      22.0\n",
       "\n",
       "[2293 rows x 7 columns]"
      ]
     },
     "execution_count": 46,
     "metadata": {},
     "output_type": "execute_result"
    }
   ],
   "source": [
    "df"
   ]
  },
  {
   "cell_type": "code",
   "execution_count": 47,
   "metadata": {},
   "outputs": [],
   "source": [
    "df = pd.merge(df, data_users[['user_id', 'plan', 'state']], on='user_id')"
   ]
  },
  {
   "cell_type": "code",
   "execution_count": 48,
   "metadata": {},
   "outputs": [],
   "source": [
    "#df = pd.merge(df, data_plans, left_on='plan', right_on='plan_name')"
   ]
  },
  {
   "cell_type": "code",
   "execution_count": 49,
   "metadata": {},
   "outputs": [
    {
     "data": {
      "text/html": [
       "<div>\n",
       "<style scoped>\n",
       "    .dataframe tbody tr th:only-of-type {\n",
       "        vertical-align: middle;\n",
       "    }\n",
       "\n",
       "    .dataframe tbody tr th {\n",
       "        vertical-align: top;\n",
       "    }\n",
       "\n",
       "    .dataframe thead th {\n",
       "        text-align: right;\n",
       "    }\n",
       "</style>\n",
       "<table border=\"1\" class=\"dataframe\">\n",
       "  <thead>\n",
       "    <tr style=\"text-align: right;\">\n",
       "      <th></th>\n",
       "      <th>user_id</th>\n",
       "      <th>month</th>\n",
       "      <th>num_calls</th>\n",
       "      <th>min_calls_round</th>\n",
       "      <th>sms</th>\n",
       "      <th>mb</th>\n",
       "      <th>gb_round</th>\n",
       "      <th>plan</th>\n",
       "      <th>state</th>\n",
       "    </tr>\n",
       "  </thead>\n",
       "  <tbody>\n",
       "    <tr>\n",
       "      <th>0</th>\n",
       "      <td>1000</td>\n",
       "      <td>12</td>\n",
       "      <td>16.0</td>\n",
       "      <td>124.0</td>\n",
       "      <td>11.0</td>\n",
       "      <td>1901.47</td>\n",
       "      <td>2.0</td>\n",
       "      <td>ultimate</td>\n",
       "      <td>GA</td>\n",
       "    </tr>\n",
       "    <tr>\n",
       "      <th>1</th>\n",
       "      <td>1001</td>\n",
       "      <td>8</td>\n",
       "      <td>22.0</td>\n",
       "      <td>182.0</td>\n",
       "      <td>30.0</td>\n",
       "      <td>6919.15</td>\n",
       "      <td>7.0</td>\n",
       "      <td>surf</td>\n",
       "      <td>WA</td>\n",
       "    </tr>\n",
       "    <tr>\n",
       "      <th>2</th>\n",
       "      <td>1001</td>\n",
       "      <td>9</td>\n",
       "      <td>38.0</td>\n",
       "      <td>315.0</td>\n",
       "      <td>44.0</td>\n",
       "      <td>13314.82</td>\n",
       "      <td>14.0</td>\n",
       "      <td>surf</td>\n",
       "      <td>WA</td>\n",
       "    </tr>\n",
       "    <tr>\n",
       "      <th>3</th>\n",
       "      <td>1001</td>\n",
       "      <td>10</td>\n",
       "      <td>47.0</td>\n",
       "      <td>393.0</td>\n",
       "      <td>53.0</td>\n",
       "      <td>22330.49</td>\n",
       "      <td>22.0</td>\n",
       "      <td>surf</td>\n",
       "      <td>WA</td>\n",
       "    </tr>\n",
       "    <tr>\n",
       "      <th>4</th>\n",
       "      <td>1001</td>\n",
       "      <td>11</td>\n",
       "      <td>49.0</td>\n",
       "      <td>426.0</td>\n",
       "      <td>36.0</td>\n",
       "      <td>18504.30</td>\n",
       "      <td>19.0</td>\n",
       "      <td>surf</td>\n",
       "      <td>WA</td>\n",
       "    </tr>\n",
       "    <tr>\n",
       "      <th>...</th>\n",
       "      <td>...</td>\n",
       "      <td>...</td>\n",
       "      <td>...</td>\n",
       "      <td>...</td>\n",
       "      <td>...</td>\n",
       "      <td>...</td>\n",
       "      <td>...</td>\n",
       "      <td>...</td>\n",
       "      <td>...</td>\n",
       "    </tr>\n",
       "    <tr>\n",
       "      <th>2288</th>\n",
       "      <td>1498</td>\n",
       "      <td>12</td>\n",
       "      <td>32.0</td>\n",
       "      <td>339.0</td>\n",
       "      <td>NaN</td>\n",
       "      <td>23137.69</td>\n",
       "      <td>23.0</td>\n",
       "      <td>surf</td>\n",
       "      <td>NY-NJ-PA</td>\n",
       "    </tr>\n",
       "    <tr>\n",
       "      <th>2289</th>\n",
       "      <td>1499</td>\n",
       "      <td>9</td>\n",
       "      <td>35.0</td>\n",
       "      <td>346.0</td>\n",
       "      <td>NaN</td>\n",
       "      <td>12984.76</td>\n",
       "      <td>13.0</td>\n",
       "      <td>surf</td>\n",
       "      <td>FL</td>\n",
       "    </tr>\n",
       "    <tr>\n",
       "      <th>2290</th>\n",
       "      <td>1499</td>\n",
       "      <td>10</td>\n",
       "      <td>41.0</td>\n",
       "      <td>385.0</td>\n",
       "      <td>NaN</td>\n",
       "      <td>19492.43</td>\n",
       "      <td>20.0</td>\n",
       "      <td>surf</td>\n",
       "      <td>FL</td>\n",
       "    </tr>\n",
       "    <tr>\n",
       "      <th>2291</th>\n",
       "      <td>1499</td>\n",
       "      <td>11</td>\n",
       "      <td>39.0</td>\n",
       "      <td>308.0</td>\n",
       "      <td>NaN</td>\n",
       "      <td>16813.83</td>\n",
       "      <td>17.0</td>\n",
       "      <td>surf</td>\n",
       "      <td>FL</td>\n",
       "    </tr>\n",
       "    <tr>\n",
       "      <th>2292</th>\n",
       "      <td>1499</td>\n",
       "      <td>12</td>\n",
       "      <td>56.0</td>\n",
       "      <td>496.0</td>\n",
       "      <td>NaN</td>\n",
       "      <td>22059.21</td>\n",
       "      <td>22.0</td>\n",
       "      <td>surf</td>\n",
       "      <td>FL</td>\n",
       "    </tr>\n",
       "  </tbody>\n",
       "</table>\n",
       "<p>2293 rows × 9 columns</p>\n",
       "</div>"
      ],
      "text/plain": [
       "      user_id  month  num_calls  min_calls_round   sms        mb  gb_round  \\\n",
       "0        1000     12       16.0            124.0  11.0   1901.47       2.0   \n",
       "1        1001      8       22.0            182.0  30.0   6919.15       7.0   \n",
       "2        1001      9       38.0            315.0  44.0  13314.82      14.0   \n",
       "3        1001     10       47.0            393.0  53.0  22330.49      22.0   \n",
       "4        1001     11       49.0            426.0  36.0  18504.30      19.0   \n",
       "...       ...    ...        ...              ...   ...       ...       ...   \n",
       "2288     1498     12       32.0            339.0   NaN  23137.69      23.0   \n",
       "2289     1499      9       35.0            346.0   NaN  12984.76      13.0   \n",
       "2290     1499     10       41.0            385.0   NaN  19492.43      20.0   \n",
       "2291     1499     11       39.0            308.0   NaN  16813.83      17.0   \n",
       "2292     1499     12       56.0            496.0   NaN  22059.21      22.0   \n",
       "\n",
       "          plan     state  \n",
       "0     ultimate        GA  \n",
       "1         surf        WA  \n",
       "2         surf        WA  \n",
       "3         surf        WA  \n",
       "4         surf        WA  \n",
       "...        ...       ...  \n",
       "2288      surf  NY-NJ-PA  \n",
       "2289      surf        FL  \n",
       "2290      surf        FL  \n",
       "2291      surf        FL  \n",
       "2292      surf        FL  \n",
       "\n",
       "[2293 rows x 9 columns]"
      ]
     },
     "execution_count": 49,
     "metadata": {},
     "output_type": "execute_result"
    }
   ],
   "source": [
    "df"
   ]
  },
  {
   "cell_type": "code",
   "execution_count": 50,
   "metadata": {},
   "outputs": [],
   "source": [
    "# create dictionary of plan name\n",
    "# dictionary_plan = {'ultimate':[], 'surf':[]}\n",
    "# for k,item in enumerate(data_users['user_id']):\n",
    "#     if data_users.loc[k,'plan'] == 'ultimate':\n",
    "#         dictionary_plan['ultimate'].append(item)\n",
    "#     else:\n",
    "#         dictionary_plan['surf'].append(item)"
   ]
  },
  {
   "cell_type": "code",
   "execution_count": 51,
   "metadata": {
    "scrolled": true
   },
   "outputs": [],
   "source": [
    "# new column 'plan' in df using dictionary and apply()\n",
    "# def fun_plan_from_id(row):\n",
    "#     user_id = row['user_id']\n",
    "#     if user_id in dictionary_plan['ultimate']:\n",
    "#         return 'ultimate'\n",
    "#     else:\n",
    "#         return 'surf'\n",
    "    \n",
    "# df['plan'] = df.apply(fun_plan_from_id, axis=1)"
   ]
  },
  {
   "cell_type": "markdown",
   "metadata": {},
   "source": [
    "I don't think this is a good solution, but it works."
   ]
  },
  {
   "cell_type": "code",
   "execution_count": 52,
   "metadata": {},
   "outputs": [],
   "source": [
    "# the same thing I do with state\n",
    "\n",
    "# create dictionary of states\n",
    "# dictionary_states = {}\n",
    "\n",
    "# # determine set of keys (states)\n",
    "# for item in data_users['state'].unique():\n",
    "#     if item not in dictionary_states.keys():\n",
    "#         dictionary_states[item] = []\n",
    "\n",
    "# # fill dictionary with values\n",
    "# for k,item in enumerate(data_users['user_id']):\n",
    "#     for key in dictionary_states.keys():\n",
    "#         if data_users.loc[k,'state'] == key:\n",
    "#             dictionary_states[key].append(item)\n",
    "#             break\n",
    "            \n",
    "# # new column 'state' in df using dictionary and apply()\n",
    "# def fun_state_from_id(row):\n",
    "#     user_id = row['user_id']\n",
    "    \n",
    "#     for key in dictionary_states.keys():\n",
    "#         if user_id in dictionary_states[key]:\n",
    "#             return key\n",
    "    \n",
    "# df['state'] = df.apply(fun_state_from_id, axis=1)"
   ]
  },
  {
   "cell_type": "code",
   "execution_count": 53,
   "metadata": {},
   "outputs": [
    {
     "data": {
      "text/html": [
       "<div>\n",
       "<style scoped>\n",
       "    .dataframe tbody tr th:only-of-type {\n",
       "        vertical-align: middle;\n",
       "    }\n",
       "\n",
       "    .dataframe tbody tr th {\n",
       "        vertical-align: top;\n",
       "    }\n",
       "\n",
       "    .dataframe thead th {\n",
       "        text-align: right;\n",
       "    }\n",
       "</style>\n",
       "<table border=\"1\" class=\"dataframe\">\n",
       "  <thead>\n",
       "    <tr style=\"text-align: right;\">\n",
       "      <th></th>\n",
       "      <th>user_id</th>\n",
       "      <th>month</th>\n",
       "      <th>num_calls</th>\n",
       "      <th>min_calls_round</th>\n",
       "      <th>sms</th>\n",
       "      <th>mb</th>\n",
       "      <th>gb_round</th>\n",
       "      <th>plan</th>\n",
       "      <th>state</th>\n",
       "    </tr>\n",
       "  </thead>\n",
       "  <tbody>\n",
       "    <tr>\n",
       "      <th>0</th>\n",
       "      <td>1000</td>\n",
       "      <td>12</td>\n",
       "      <td>16.0</td>\n",
       "      <td>124.0</td>\n",
       "      <td>11.0</td>\n",
       "      <td>1901.47</td>\n",
       "      <td>2.0</td>\n",
       "      <td>ultimate</td>\n",
       "      <td>GA</td>\n",
       "    </tr>\n",
       "    <tr>\n",
       "      <th>1</th>\n",
       "      <td>1001</td>\n",
       "      <td>8</td>\n",
       "      <td>22.0</td>\n",
       "      <td>182.0</td>\n",
       "      <td>30.0</td>\n",
       "      <td>6919.15</td>\n",
       "      <td>7.0</td>\n",
       "      <td>surf</td>\n",
       "      <td>WA</td>\n",
       "    </tr>\n",
       "    <tr>\n",
       "      <th>2</th>\n",
       "      <td>1001</td>\n",
       "      <td>9</td>\n",
       "      <td>38.0</td>\n",
       "      <td>315.0</td>\n",
       "      <td>44.0</td>\n",
       "      <td>13314.82</td>\n",
       "      <td>14.0</td>\n",
       "      <td>surf</td>\n",
       "      <td>WA</td>\n",
       "    </tr>\n",
       "  </tbody>\n",
       "</table>\n",
       "</div>"
      ],
      "text/plain": [
       "   user_id  month  num_calls  min_calls_round   sms        mb  gb_round  \\\n",
       "0     1000     12       16.0            124.0  11.0   1901.47       2.0   \n",
       "1     1001      8       22.0            182.0  30.0   6919.15       7.0   \n",
       "2     1001      9       38.0            315.0  44.0  13314.82      14.0   \n",
       "\n",
       "       plan state  \n",
       "0  ultimate    GA  \n",
       "1      surf    WA  \n",
       "2      surf    WA  "
      ]
     },
     "execution_count": 53,
     "metadata": {},
     "output_type": "execute_result"
    }
   ],
   "source": [
    "df.head(3)"
   ]
  },
  {
   "cell_type": "code",
   "execution_count": 54,
   "metadata": {},
   "outputs": [
    {
     "name": "stderr",
     "output_type": "stream",
     "text": [
      "C:\\Users\\tyala\\anaconda3\\lib\\site-packages\\ipykernel_launcher.py:14: RuntimeWarning: invalid value encountered in less\n",
      "  \n",
      "C:\\Users\\tyala\\anaconda3\\lib\\site-packages\\ipykernel_launcher.py:22: RuntimeWarning: invalid value encountered in less\n"
     ]
    }
   ],
   "source": [
    "# new column 'pay' in df\n",
    "def fun_payments(row):\n",
    "    plan = row['plan']\n",
    "    calls = row['min_calls_round']\n",
    "    sms = row['sms']\n",
    "    internet = row['gb_round']\n",
    "    \n",
    "    pay_total = 0\n",
    "    # we have only two plans, so there is only two ways k = 0 or k = 1\n",
    "    k_plan = 0\n",
    "    if plan != data_plans.loc[k_plan,'plan_name']:\n",
    "        k_plan = 1\n",
    "        \n",
    "    if sms > data_plans.loc[k_plan,'messages_included']:\n",
    "        sms_excess = sms - data_plans.loc[k_plan,'messages_included']\n",
    "        pay_total += sms_excess * data_plans.loc[k_plan,'usd_per_message']\n",
    "        \n",
    "    if internet > data_plans.loc[k_plan,'mb_per_month_included'] / 1024:\n",
    "        internet_excess = internet - data_plans.loc[k_plan,'mb_per_month_included'] / 1024\n",
    "        pay_total += internet_excess * data_plans.loc[k_plan,'usd_per_gb']\n",
    "        \n",
    "    if calls > data_plans.loc[k_plan,'minutes_included']:\n",
    "        calls_excess = calls - data_plans.loc[k_plan,'minutes_included']\n",
    "        pay_total += calls_excess * data_plans.loc[k_plan,'usd_per_minute']\n",
    "        \n",
    "    pay_total += data_plans.loc[k_plan,'usd_monthly_pay']\n",
    "    \n",
    "    return pay_total\n",
    "\n",
    "df['pay'] = df.apply(fun_payments, axis=1)"
   ]
  },
  {
   "cell_type": "code",
   "execution_count": 55,
   "metadata": {
    "scrolled": true
   },
   "outputs": [
    {
     "data": {
      "text/html": [
       "<div>\n",
       "<style scoped>\n",
       "    .dataframe tbody tr th:only-of-type {\n",
       "        vertical-align: middle;\n",
       "    }\n",
       "\n",
       "    .dataframe tbody tr th {\n",
       "        vertical-align: top;\n",
       "    }\n",
       "\n",
       "    .dataframe thead th {\n",
       "        text-align: right;\n",
       "    }\n",
       "</style>\n",
       "<table border=\"1\" class=\"dataframe\">\n",
       "  <thead>\n",
       "    <tr style=\"text-align: right;\">\n",
       "      <th></th>\n",
       "      <th>user_id</th>\n",
       "      <th>month</th>\n",
       "      <th>num_calls</th>\n",
       "      <th>min_calls_round</th>\n",
       "      <th>sms</th>\n",
       "      <th>mb</th>\n",
       "      <th>gb_round</th>\n",
       "      <th>plan</th>\n",
       "      <th>state</th>\n",
       "      <th>pay</th>\n",
       "    </tr>\n",
       "  </thead>\n",
       "  <tbody>\n",
       "    <tr>\n",
       "      <th>0</th>\n",
       "      <td>1000</td>\n",
       "      <td>12</td>\n",
       "      <td>16.0</td>\n",
       "      <td>124.0</td>\n",
       "      <td>11.0</td>\n",
       "      <td>1901.47</td>\n",
       "      <td>2.0</td>\n",
       "      <td>ultimate</td>\n",
       "      <td>GA</td>\n",
       "      <td>70.00</td>\n",
       "    </tr>\n",
       "    <tr>\n",
       "      <th>1</th>\n",
       "      <td>1001</td>\n",
       "      <td>8</td>\n",
       "      <td>22.0</td>\n",
       "      <td>182.0</td>\n",
       "      <td>30.0</td>\n",
       "      <td>6919.15</td>\n",
       "      <td>7.0</td>\n",
       "      <td>surf</td>\n",
       "      <td>WA</td>\n",
       "      <td>20.00</td>\n",
       "    </tr>\n",
       "    <tr>\n",
       "      <th>2</th>\n",
       "      <td>1001</td>\n",
       "      <td>9</td>\n",
       "      <td>38.0</td>\n",
       "      <td>315.0</td>\n",
       "      <td>44.0</td>\n",
       "      <td>13314.82</td>\n",
       "      <td>14.0</td>\n",
       "      <td>surf</td>\n",
       "      <td>WA</td>\n",
       "      <td>20.00</td>\n",
       "    </tr>\n",
       "    <tr>\n",
       "      <th>3</th>\n",
       "      <td>1001</td>\n",
       "      <td>10</td>\n",
       "      <td>47.0</td>\n",
       "      <td>393.0</td>\n",
       "      <td>53.0</td>\n",
       "      <td>22330.49</td>\n",
       "      <td>22.0</td>\n",
       "      <td>surf</td>\n",
       "      <td>WA</td>\n",
       "      <td>90.09</td>\n",
       "    </tr>\n",
       "    <tr>\n",
       "      <th>4</th>\n",
       "      <td>1001</td>\n",
       "      <td>11</td>\n",
       "      <td>49.0</td>\n",
       "      <td>426.0</td>\n",
       "      <td>36.0</td>\n",
       "      <td>18504.30</td>\n",
       "      <td>19.0</td>\n",
       "      <td>surf</td>\n",
       "      <td>WA</td>\n",
       "      <td>60.00</td>\n",
       "    </tr>\n",
       "    <tr>\n",
       "      <th>5</th>\n",
       "      <td>1001</td>\n",
       "      <td>12</td>\n",
       "      <td>46.0</td>\n",
       "      <td>412.0</td>\n",
       "      <td>44.0</td>\n",
       "      <td>19369.18</td>\n",
       "      <td>19.0</td>\n",
       "      <td>surf</td>\n",
       "      <td>WA</td>\n",
       "      <td>60.00</td>\n",
       "    </tr>\n",
       "    <tr>\n",
       "      <th>6</th>\n",
       "      <td>1002</td>\n",
       "      <td>10</td>\n",
       "      <td>8.0</td>\n",
       "      <td>59.0</td>\n",
       "      <td>15.0</td>\n",
       "      <td>6552.01</td>\n",
       "      <td>7.0</td>\n",
       "      <td>surf</td>\n",
       "      <td>NV</td>\n",
       "      <td>20.00</td>\n",
       "    </tr>\n",
       "    <tr>\n",
       "      <th>7</th>\n",
       "      <td>1002</td>\n",
       "      <td>11</td>\n",
       "      <td>48.0</td>\n",
       "      <td>386.0</td>\n",
       "      <td>32.0</td>\n",
       "      <td>19345.08</td>\n",
       "      <td>19.0</td>\n",
       "      <td>surf</td>\n",
       "      <td>NV</td>\n",
       "      <td>60.00</td>\n",
       "    </tr>\n",
       "    <tr>\n",
       "      <th>8</th>\n",
       "      <td>1002</td>\n",
       "      <td>12</td>\n",
       "      <td>38.0</td>\n",
       "      <td>384.0</td>\n",
       "      <td>41.0</td>\n",
       "      <td>14396.24</td>\n",
       "      <td>15.0</td>\n",
       "      <td>surf</td>\n",
       "      <td>NV</td>\n",
       "      <td>20.00</td>\n",
       "    </tr>\n",
       "    <tr>\n",
       "      <th>9</th>\n",
       "      <td>1003</td>\n",
       "      <td>12</td>\n",
       "      <td>118.0</td>\n",
       "      <td>1104.0</td>\n",
       "      <td>50.0</td>\n",
       "      <td>27044.14</td>\n",
       "      <td>27.0</td>\n",
       "      <td>surf</td>\n",
       "      <td>OK</td>\n",
       "      <td>158.12</td>\n",
       "    </tr>\n",
       "  </tbody>\n",
       "</table>\n",
       "</div>"
      ],
      "text/plain": [
       "   user_id  month  num_calls  min_calls_round   sms        mb  gb_round  \\\n",
       "0     1000     12       16.0            124.0  11.0   1901.47       2.0   \n",
       "1     1001      8       22.0            182.0  30.0   6919.15       7.0   \n",
       "2     1001      9       38.0            315.0  44.0  13314.82      14.0   \n",
       "3     1001     10       47.0            393.0  53.0  22330.49      22.0   \n",
       "4     1001     11       49.0            426.0  36.0  18504.30      19.0   \n",
       "5     1001     12       46.0            412.0  44.0  19369.18      19.0   \n",
       "6     1002     10        8.0             59.0  15.0   6552.01       7.0   \n",
       "7     1002     11       48.0            386.0  32.0  19345.08      19.0   \n",
       "8     1002     12       38.0            384.0  41.0  14396.24      15.0   \n",
       "9     1003     12      118.0           1104.0  50.0  27044.14      27.0   \n",
       "\n",
       "       plan state     pay  \n",
       "0  ultimate    GA   70.00  \n",
       "1      surf    WA   20.00  \n",
       "2      surf    WA   20.00  \n",
       "3      surf    WA   90.09  \n",
       "4      surf    WA   60.00  \n",
       "5      surf    WA   60.00  \n",
       "6      surf    NV   20.00  \n",
       "7      surf    NV   60.00  \n",
       "8      surf    NV   20.00  \n",
       "9      surf    OK  158.12  "
      ]
     },
     "execution_count": 55,
     "metadata": {},
     "output_type": "execute_result"
    }
   ],
   "source": [
    "df.head(10)"
   ]
  },
  {
   "cell_type": "markdown",
   "metadata": {},
   "source": [
    "#### filter outliers, 3-sigma filter\n",
    "I don't take into account filter mu - 3 * sigma, because it is a negative value <br>\n",
    "Behavior of people, who using different plans, could be different, so I separate filters of these plans. In fact people who use ultimate plan can use much more internet, for example."
   ]
  },
  {
   "cell_type": "code",
   "execution_count": 56,
   "metadata": {},
   "outputs": [],
   "source": [
    "# calculate limits using formula mu + 3 * sigma for different packs and plans\n",
    "str_plan = \"surf\"\n",
    "str_action = 'min_calls_round'\n",
    "limit_min_surf = df.query('plan == @str_plan')[str_action].mean() + 3 * df.query('plan == @str_plan')[str_action].std()\n",
    "str_plan = \"ultimate\"\n",
    "str_action = 'min_calls_round'\n",
    "limit_min_ultimate = df.query('plan == @str_plan')[str_action].mean() + 3 * df.query('plan == @str_plan')[str_action].std()\n",
    "\n",
    "str_plan = \"surf\"\n",
    "str_action = 'sms'\n",
    "limit_sms_surf = df.query('plan == @str_plan')[str_action].mean() + 3 * df.query('plan == @str_plan')[str_action].std()\n",
    "str_plan = \"ultimate\"\n",
    "str_action = 'sms'\n",
    "limit_sms_ultimate = df.query('plan == @str_plan')[str_action].mean() + 3 * df.query('plan == @str_plan')[str_action].std()\n",
    "\n",
    "str_plan = \"surf\"\n",
    "str_action = 'gb_round'\n",
    "limit_internet_surf = df.query('plan == @str_plan')[str_action].mean() + 3 * df.query('plan == @str_plan')[str_action].std()\n",
    "str_plan = \"ultimate\"\n",
    "str_action = 'gb_round'\n",
    "limit_internet_ultimate = df.query('plan == @str_plan')[str_action].mean() + 3 * df.query('plan == @str_plan')[str_action].std()"
   ]
  },
  {
   "cell_type": "code",
   "execution_count": 57,
   "metadata": {
    "scrolled": true
   },
   "outputs": [],
   "source": [
    "# create filtered dataframe\n",
    "df_final = df.query(' (min_calls_round <= @limit_min_surf & plan == \"surf\" or \\\n",
    "           min_calls_round <= @limit_min_ultimate & plan == \"ultimate\" or \\\n",
    "           min_calls_round!=min_calls_round) and \\\n",
    "           (sms <= @limit_sms_surf & plan == \"surf\" or \\\n",
    "           sms <= @limit_sms_ultimate & plan == \"ultimate\" or \\\n",
    "           sms!=sms) and \\\n",
    "           (gb_round <= @limit_internet_surf & plan == \"surf\" or \\\n",
    "           gb_round <= @limit_internet_ultimate & plan == \"ultimate\" or \\\n",
    "           sms!=sms)')"
   ]
  },
  {
   "cell_type": "code",
   "execution_count": 58,
   "metadata": {},
   "outputs": [
    {
     "name": "stdout",
     "output_type": "stream",
     "text": [
      "Remained number of rows (%): 96.9\n"
     ]
    }
   ],
   "source": [
    "print('Remained number of rows (%): {:.1f}'.format(len(df_final) / len(df) * 100))"
   ]
  },
  {
   "cell_type": "markdown",
   "metadata": {},
   "source": [
    "## RESULTS STEP 2.\n",
    "I prepared data: convered and detected empty values in initial data-tables. <br>\n",
    "I have constructed pivot table that provides information about costs for each user for each month. <br>\n",
    "I have removed outliers from pivot table by calls, messages and internet."
   ]
  },
  {
   "cell_type": "markdown",
   "metadata": {},
   "source": [
    "# Step 3. Analyze the data\n",
    "Describe the customers' behavior. Find the minutes, texts, and volume of data\n",
    "the users of each plan require per month. Calculate the mean, dispersion, and\n",
    "standard deviation. Plot histograms. Describe the distributions."
   ]
  },
  {
   "cell_type": "code",
   "execution_count": 59,
   "metadata": {
    "scrolled": true
   },
   "outputs": [
    {
     "name": "stdout",
     "output_type": "stream",
     "text": [
      "Average number of calls: 48.05850091407678\n"
     ]
    }
   ],
   "source": [
    "# Every month each user do some calls.\n",
    "print('Average number of calls:',df_final['num_calls'].mean())"
   ]
  },
  {
   "cell_type": "code",
   "execution_count": 60,
   "metadata": {
    "scrolled": true
   },
   "outputs": [
    {
     "name": "stdout",
     "output_type": "stream",
     "text": [
      "We have rows in df: 2222\n"
     ]
    }
   ],
   "source": [
    "print('We have rows in df:',len(df_final))"
   ]
  },
  {
   "cell_type": "markdown",
   "metadata": {},
   "source": [
    "In this Step 3 I'm going to analyse set of this samples. <br>\n",
    "In the next step we can calculate mean and standard deviation to describe this distributions."
   ]
  },
  {
   "cell_type": "markdown",
   "metadata": {},
   "source": [
    "#### CALLS"
   ]
  },
  {
   "cell_type": "code",
   "execution_count": 61,
   "metadata": {
    "scrolled": false
   },
   "outputs": [
    {
     "name": "stdout",
     "output_type": "stream",
     "text": [
      "Plan surf - min_calls_round\n",
      "Average: 427.83\n",
      "Standard deviation: 215.83\n",
      "Dispersion: 46583.64\n",
      "How many people use 500 minutes: 63%\n"
     ]
    },
    {
     "data": {
      "image/png": "[encoded data removed]",
      "text/plain": [
       "<Figure size 432x288 with 1 Axes>"
      ]
     },
     "metadata": {
      "needs_background": "light"
     },
     "output_type": "display_data"
    }
   ],
   "source": [
    "# now we assume that number of minutes used every month is a random variable.\n",
    "# plan: surf\n",
    "str_plan = \"surf\"\n",
    "str_action = 'min_calls_round'\n",
    "df_final.query('plan == @str_plan')[str_action].hist(bins=30)    # all data\n",
    "print('Plan ' + str_plan + ' - ' + str_action)\n",
    "print('Average: {:.2f}'.format(df_final.query('plan == @str_plan')[str_action].mean()))\n",
    "print('Standard deviation: {:.2f}'.format(df_final.query('plan == @str_plan')[str_action].std()))\n",
    "print('Dispersion: {:.2f}'.format(df_final.query('plan == @str_plan')[str_action].std()**2))\n",
    "\n",
    "minutes_in_surf = 500\n",
    "mu = df_final.query('plan == @str_plan')[str_action].mean()\n",
    "std = df_final.query('plan == @str_plan')[str_action].std()\n",
    "result = st.norm(mu,std).cdf(minutes_in_surf)\n",
    "print('How many people use {:.0f} minutes: {:.0%}'.format(minutes_in_surf,result))"
   ]
  },
  {
   "cell_type": "code",
   "execution_count": 62,
   "metadata": {
    "scrolled": true
   },
   "outputs": [
    {
     "name": "stdout",
     "output_type": "stream",
     "text": [
      "Plan ultimate - min_calls_round\n",
      "Average: 422.86\n",
      "Standard deviation: 217.79\n",
      "Dispersion: 47433.05\n",
      "How many people use 500 minutes: 64%\n"
     ]
    },
    {
     "data": {
      "image/png": "[encoded data removed]",
      "text/plain": [
       "<Figure size 432x288 with 1 Axes>"
      ]
     },
     "metadata": {
      "needs_background": "light"
     },
     "output_type": "display_data"
    }
   ],
   "source": [
    "# plan: ultimate\n",
    "str_plan = \"ultimate\"\n",
    "str_action = 'min_calls_round'\n",
    "df_final.query('plan == @str_plan')[str_action].hist(bins=30)    # all data\n",
    "print('Plan ' + str_plan + ' - ' + str_action)\n",
    "print('Average: {:.2f}'.format(df_final.query('plan == @str_plan')[str_action].mean()))\n",
    "print('Standard deviation: {:.2f}'.format(df_final.query('plan == @str_plan')[str_action].std()))\n",
    "print('Dispersion: {:.2f}'.format(df_final.query('plan == @str_plan')[str_action].std()**2))\n",
    "\n",
    "minutes_in_surf = 500\n",
    "mu = df_final.query('plan == @str_plan')[str_action].mean()\n",
    "std = df_final.query('plan == @str_plan')[str_action].std()\n",
    "result = st.norm(mu,std).cdf(minutes_in_surf)\n",
    "print('How many people use {:.0f} minutes: {:.0%}'.format(minutes_in_surf,result))"
   ]
  },
  {
   "cell_type": "markdown",
   "metadata": {},
   "source": [
    "#### Mini results:\n",
    "'How many minutes do the users of each of the plans require per month?\n",
    "1. Users of both plans use in average in between ~425 minutes. \n",
    "2. Moreover standard deviation is the same for both plans ~ 216.\n",
    "3. Surf plan includes 500 minutes. I calculated number of people who used 500 minutes: ~63%. So 37% of people in surf plan pay exceed dollars.\n",
    "4. Distribution is close to normal distribution with negative skew.\n",
    "5. Some people could not use their minutes. Maybe they use internet. Maybe those people just connected to the operator. In fact it is better to filter people who are became a user in the last 15-20 days. It could decrease number of minutes in some months."
   ]
  },
  {
   "cell_type": "markdown",
   "metadata": {},
   "source": [
    "#### MESSAGES"
   ]
  },
  {
   "cell_type": "code",
   "execution_count": 63,
   "metadata": {
    "scrolled": true
   },
   "outputs": [
    {
     "name": "stdout",
     "output_type": "stream",
     "text": [
      "Plan surf - sms\n",
      "Average: 37.51\n",
      "Standard deviation: 28.06\n",
      "Dispersion: 787.30\n",
      "How many people use 50 sms: 67%\n"
     ]
    },
    {
     "data": {
      "image/png": "[encoded data removed]",
      "text/plain": [
       "<Figure size 432x288 with 1 Axes>"
      ]
     },
     "metadata": {
      "needs_background": "light"
     },
     "output_type": "display_data"
    }
   ],
   "source": [
    "# now we assume that number of sms used every month is a random variable.\n",
    "# plan: surf\n",
    "str_plan = \"surf\"\n",
    "str_action = 'sms'\n",
    "df_final.query('plan == @str_plan')[str_action].hist(bins=20)    # all data\n",
    "print('Plan ' + str_plan + ' - ' + str_action)\n",
    "print('Average: {:.2f}'.format(df_final.query('plan == @str_plan')[str_action].mean()))\n",
    "print('Standard deviation: {:.2f}'.format(df_final.query('plan == @str_plan')[str_action].std()))\n",
    "print('Dispersion: {:.2f}'.format(df_final.query('plan == @str_plan')[str_action].std()**2))\n",
    "\n",
    "minutes_in_surf = 50\n",
    "mu = df_final.query('plan == @str_plan')[str_action].mean()\n",
    "std = df_final.query('plan == @str_plan')[str_action].std()\n",
    "result = st.norm(mu,std).cdf(minutes_in_surf)\n",
    "print('How many people use {:.0f} sms: {:.0%}'.format(minutes_in_surf,result))"
   ]
  },
  {
   "cell_type": "code",
   "execution_count": 64,
   "metadata": {
    "scrolled": false
   },
   "outputs": [
    {
     "name": "stdout",
     "output_type": "stream",
     "text": [
      "Plan ultimate - sms\n",
      "Average: 43.91\n",
      "Standard deviation: 29.95\n",
      "Dispersion: 896.82\n",
      "How many people use 50 sms: 58%\n"
     ]
    },
    {
     "data": {
      "image/png": "[encoded data removed]",
      "text/plain": [
       "<Figure size 432x288 with 1 Axes>"
      ]
     },
     "metadata": {
      "needs_background": "light"
     },
     "output_type": "display_data"
    }
   ],
   "source": [
    "# plan: ultimate\n",
    "str_plan = \"ultimate\"\n",
    "str_action = 'sms'\n",
    "df_final.query('plan == @str_plan')[str_action].hist(bins=20)    # all data\n",
    "print('Plan ' + str_plan + ' - ' + str_action)\n",
    "print('Average: {:.2f}'.format(df_final.query('plan == @str_plan')[str_action].mean()))\n",
    "print('Standard deviation: {:.2f}'.format(df_final.query('plan == @str_plan')[str_action].std()))\n",
    "print('Dispersion: {:.2f}'.format(df_final.query('plan == @str_plan')[str_action].std()**2))\n",
    "\n",
    "minutes_in_surf = 50\n",
    "mu = df_final.query('plan == @str_plan')[str_action].mean()\n",
    "std = df_final.query('plan == @str_plan')[str_action].std()\n",
    "result = st.norm(mu,std).cdf(minutes_in_surf)\n",
    "print('How many people use {:.0f} sms: {:.0%}'.format(minutes_in_surf,result))"
   ]
  },
  {
   "cell_type": "markdown",
   "metadata": {},
   "source": [
    "#### Mini results:\n",
    "'How many SMS do the users of each of the plans require per month?\n",
    "1. SMS distributions don't look like a normal distribution. It is because many of people don't use messsages at all.\n",
    "2. Distributionы looks like a Poisson distribution but it is normal. In comparison of the last parameter (minutes), the number of messages is a descrete parameter.\n",
    "3. Users of ultimate plan use more messages than surf users. ~44 vs ~37. Standard deviations are close ~ 29.\n",
    "4. Only 67% os surf users use only their limit per month.\n",
    "5. 1000 text messages in unlimited plan are more than sufficient. Even 150 sms is enough for all. But it could a marketing trick to attract new clients. "
   ]
  },
  {
   "cell_type": "markdown",
   "metadata": {},
   "source": [
    "#### INTERNET"
   ]
  },
  {
   "cell_type": "code",
   "execution_count": 65,
   "metadata": {
    "scrolled": true
   },
   "outputs": [
    {
     "name": "stdout",
     "output_type": "stream",
     "text": [
      "Plan surf - gb_round\n",
      "Average: 16.54\n",
      "Standard deviation: 7.25\n",
      "Dispersion: 52.53\n",
      "How many people use 15 Gb: 42%\n"
     ]
    },
    {
     "data": {
      "image/png": "[encoded data removed]",
      "text/plain": [
       "<Figure size 432x288 with 1 Axes>"
      ]
     },
     "metadata": {
      "needs_background": "light"
     },
     "output_type": "display_data"
    }
   ],
   "source": [
    "# now we assume that number of Gb used every month is a random variable.\n",
    "# plan: surf\n",
    "str_plan = \"surf\"\n",
    "str_action = 'gb_round'\n",
    "df_final.query('plan == @str_plan')[str_action].hist(bins=30)    # all data\n",
    "print('Plan ' + str_plan + ' - ' + str_action)\n",
    "print('Average: {:.2f}'.format(df_final.query('plan == @str_plan')[str_action].mean()))\n",
    "print('Standard deviation: {:.2f}'.format(df_final.query('plan == @str_plan')[str_action].std()))\n",
    "print('Dispersion: {:.2f}'.format(df_final.query('plan == @str_plan')[str_action].std()**2))\n",
    "\n",
    "Gb_in_surf = 15\n",
    "mu = df_final.query('plan == @str_plan')[str_action].mean()\n",
    "std = df_final.query('plan == @str_plan')[str_action].std()\n",
    "result = st.norm(mu,std).cdf(Gb_in_surf)\n",
    "print('How many people use {:.0f} Gb: {:.0%}'.format(Gb_in_surf,result))"
   ]
  },
  {
   "cell_type": "code",
   "execution_count": 66,
   "metadata": {
    "scrolled": true
   },
   "outputs": [
    {
     "name": "stdout",
     "output_type": "stream",
     "text": [
      "Plan ultimate - gb_round\n",
      "Average: 17.08\n",
      "Standard deviation: 7.47\n",
      "Dispersion: 55.82\n",
      "How many people use 30 Gb: 96%\n"
     ]
    },
    {
     "data": {
      "image/png": "[encoded data removed]",
      "text/plain": [
       "<Figure size 432x288 with 1 Axes>"
      ]
     },
     "metadata": {
      "needs_background": "light"
     },
     "output_type": "display_data"
    }
   ],
   "source": [
    "# plan: ultimate\n",
    "str_plan = \"ultimate\"\n",
    "str_action = 'gb_round'\n",
    "df_final.query('plan == @str_plan')[str_action].hist(bins=30)    # all data\n",
    "print('Plan ' + str_plan + ' - ' + str_action)\n",
    "print('Average: {:.2f}'.format(df_final.query('plan == @str_plan')[str_action].mean()))\n",
    "print('Standard deviation: {:.2f}'.format(df_final.query('plan == @str_plan')[str_action].std()))\n",
    "print('Dispersion: {:.2f}'.format(df_final.query('plan == @str_plan')[str_action].std()**2))\n",
    "\n",
    "Gb_in_surf = 30\n",
    "mu = df_final.query('plan == @str_plan')[str_action].mean()\n",
    "std = df_final.query('plan == @str_plan')[str_action].std()\n",
    "result = st.norm(mu,std).cdf(Gb_in_surf)\n",
    "print('How many people use {:.0f} Gb: {:.0%}'.format(Gb_in_surf,result))"
   ]
  },
  {
   "cell_type": "markdown",
   "metadata": {},
   "source": [
    "#### Mini results:\n",
    "How many the volume of web traffic do the users of each of the plans require per month?\n",
    "1. Internet is the most interesting thing because users of both plans reach their limits\n",
    "2. It has normal distribution. Standard deviation is less than for minutes.\n",
    "3. In average surf-users need 16.5 Gb vs ultim-users need 17.0 Gb. Standard deviation ~7.3 Gb.\n",
    "4. 30 Gb in ultimate plan used by 96% of users not 99. But it is enough for the most of people. "
   ]
  },
  {
   "cell_type": "markdown",
   "metadata": {},
   "source": [
    "# Results Step 3.\n",
    "I have calculated parameters of distribution and gave a charachteristic of this distribution. <br>\n",
    "Many of people don't use messages, so this distribution is the most skewed. <br>\n",
    "Surprising people in average use nearly the same number of minutes, sms and Gb. <br>"
   ]
  },
  {
   "cell_type": "markdown",
   "metadata": {},
   "source": [
    "<div class=\"alert alert-danger\">\n",
    "    You need to add an explicit answer to the question: 'How many minutes and SMS and the volume of web traffic do the users of each of the plans require per month?' Also would be really great if you described the histograms some more than just 'the data is skewed'.<br>\n",
    "    Sidenote: while 'dispersion deviation' might be a thing, you probably meant just 'dispersion' or 'variance'.\n",
    "</div>\n",
    "\n",
    "**Tagir: corrected. I added answer for this question right after plotting and I described in details this histograms. Could you give me a clue how to do it better?**\n"
   ]
  },
  {
   "cell_type": "markdown",
   "metadata": {},
   "source": [
    "# Step 4. Test the hypotheses\n",
    "* The average profit from users of Ultimate and Surf calling plans differs.\n",
    "* The average profit from users in NY-NJ area is different from that of the users from other regions. <br>\n",
    "You decide what alpha value to use. <br>\n",
    "Explain:\n",
    "* How you formulated the null and alternative hypotheses.\n",
    "* What criterion you used to test the hypotheses and why."
   ]
  },
  {
   "cell_type": "markdown",
   "metadata": {},
   "source": [
    "The commercial department wants to know which of the plans is more profitable in order to adjust the advertising budget. <br>\n",
    "PROFIT is a MONEY. First of all I should calculate how many payments there are. "
   ]
  },
  {
   "cell_type": "code",
   "execution_count": 67,
   "metadata": {
    "scrolled": true
   },
   "outputs": [
    {
     "name": "stdout",
     "output_type": "stream",
     "text": [
      "Plan surf - pay\n",
      "Average: 58.21\n",
      "Standard deviation: 48.94\n",
      "Dispersion: 2395.31\n"
     ]
    },
    {
     "data": {
      "image/png": "[encoded data removed]",
      "text/plain": [
       "<Figure size 432x288 with 1 Axes>"
      ]
     },
     "metadata": {
      "needs_background": "light"
     },
     "output_type": "display_data"
    }
   ],
   "source": [
    "# now we assume that number of Gb used every month is a random variable.\n",
    "# plan: surf\n",
    "str_plan = \"surf\"\n",
    "str_action = 'pay'\n",
    "df_final.query('plan == @str_plan')[str_action].hist(bins=30)    # all data\n",
    "print('Plan ' + str_plan + ' - ' + str_action)\n",
    "print('Average: {:.2f}'.format(df_final.query('plan == @str_plan')[str_action].mean()))\n",
    "print('Standard deviation: {:.2f}'.format(df_final.query('plan == @str_plan')[str_action].std()))\n",
    "print('Dispersion: {:.2f}'.format(df_final.query('plan == @str_plan')[str_action].std()**2))"
   ]
  },
  {
   "cell_type": "markdown",
   "metadata": {},
   "source": [
    "Many of people pay more than they have in plan. Std is high"
   ]
  },
  {
   "cell_type": "code",
   "execution_count": 68,
   "metadata": {
    "scrolled": false
   },
   "outputs": [
    {
     "name": "stdout",
     "output_type": "stream",
     "text": [
      "Plan ultimate - pay\n",
      "Average: 71.97\n",
      "Standard deviation: 9.69\n",
      "Dispersion: 93.84\n"
     ]
    },
    {
     "data": {
      "image/png": "[encoded data removed]",
      "text/plain": [
       "<Figure size 432x288 with 1 Axes>"
      ]
     },
     "metadata": {
      "needs_background": "light"
     },
     "output_type": "display_data"
    }
   ],
   "source": [
    "# plan: ultimate\n",
    "str_plan = \"ultimate\"\n",
    "str_action = 'pay'\n",
    "df_final.query('plan == @str_plan')[str_action].hist(bins=30)    # all data\n",
    "print('Plan ' + str_plan + ' - ' + str_action)\n",
    "print('Average: {:.2f}'.format(df_final.query('plan == @str_plan')[str_action].mean()))\n",
    "print('Standard deviation: {:.2f}'.format(df_final.query('plan == @str_plan')[str_action].std()))\n",
    "print('Dispersion: {:.2f}'.format(df_final.query('plan == @str_plan')[str_action].std()**2))"
   ]
  },
  {
   "cell_type": "markdown",
   "metadata": {},
   "source": [
    "std is low, that means that people don't exceed on their plans."
   ]
  },
  {
   "cell_type": "code",
   "execution_count": 69,
   "metadata": {},
   "outputs": [
    {
     "name": "stdout",
     "output_type": "stream",
     "text": [
      "p-value:  3.2405422145762677e-25\n",
      "We reject the null hypothesis\n"
     ]
    }
   ],
   "source": [
    "# null: test the hypothesis that the means of the two statistical populations are equal based on samples taken from them\n",
    "# alternative: there are not equal\n",
    "\n",
    "alpha = .05 # critical statistical significance level\n",
    "                        # if the p-value is less than alpha, we reject the hypothesis\n",
    "\n",
    "results = st.ttest_ind(\n",
    "        df_final.query('plan == \"surf\"')['pay'], \n",
    "        df_final.query('plan == \"ultimate\"')['pay'],\n",
    "        equal_var=False)\n",
    "\n",
    "print('p-value: ', results.pvalue)\n",
    "\n",
    "if (results.pvalue < alpha):\n",
    "        print(\"We reject the null hypothesis\")\n",
    "else:\n",
    "        print(\"We can't reject the null hypothesis\")"
   ]
  },
  {
   "cell_type": "code",
   "execution_count": 70,
   "metadata": {},
   "outputs": [
    {
     "name": "stdout",
     "output_type": "stream",
     "text": [
      "share of surf-plan users who pays more than 70 USD: 0.4334018573728883\n"
     ]
    }
   ],
   "source": [
    "# calculate share of 'surf' users who pays more than 70 USD\n",
    "mu = 60.71\n",
    "std = 55.39\n",
    "result = 1 - st.norm(mu,std).cdf(70)\n",
    "print('share of surf-plan users who pays more than 70 USD:',result)\n"
   ]
  },
  {
   "cell_type": "markdown",
   "metadata": {},
   "source": [
    "#### state NY-NJ\n",
    "I don't exact;y know what does it mean @NY-NJ area. So I take into account all places included NY and NJ"
   ]
  },
  {
   "cell_type": "code",
   "execution_count": 71,
   "metadata": {
    "scrolled": false
   },
   "outputs": [
    {
     "name": "stdout",
     "output_type": "stream",
     "text": [
      "State NY - pay\n",
      "Average: 60.14\n",
      "Standard deviation: 43.97\n",
      "Dispersion: 1933.03\n"
     ]
    },
    {
     "data": {
      "image/png": "[encoded data removed]",
      "text/plain": [
       "<Figure size 432x288 with 1 Axes>"
      ]
     },
     "metadata": {
      "needs_background": "light"
     },
     "output_type": "display_data"
    }
   ],
   "source": [
    "str_plan = \"NY\"\n",
    "str_action = 'pay'\n",
    "df_final.query('state == @str_plan or state == \"NY-NJ-PA\"')[str_action].hist(bins=30)    # all data\n",
    "print('State ' + str_plan + ' - ' + str_action)\n",
    "print('Average: {:.2f}'.format(df_final.query('state == @str_plan or state == \"NY-NJ-PA\"')[str_action].mean()))\n",
    "print('Standard deviation: {:.2f}'.format(df_final.query('state == @str_plan or state == \"NY-NJ-PA\"')[str_action].std()))\n",
    "print('Dispersion: {:.2f}'.format(df_final.query('state == @str_plan or state == \"NY-NJ-PA\"')[str_action].std()**2))"
   ]
  },
  {
   "cell_type": "code",
   "execution_count": 72,
   "metadata": {},
   "outputs": [
    {
     "name": "stdout",
     "output_type": "stream",
     "text": [
      "State NY - pay\n",
      "Average: 63.05\n",
      "Standard deviation: 40.80\n",
      "Dispersion: 1665.02\n"
     ]
    },
    {
     "data": {
      "image/png": "[encoded data removed]",
      "text/plain": [
       "<Figure size 432x288 with 1 Axes>"
      ]
     },
     "metadata": {
      "needs_background": "light"
     },
     "output_type": "display_data"
    }
   ],
   "source": [
    "str_plan = \"NY\"\n",
    "str_action = 'pay'\n",
    "df_final.query('not(state == @str_plan or state == \"NY-NJ-PA\")')[str_action].hist(bins=30)    # all data\n",
    "print('State ' + str_plan + ' - ' + str_action)\n",
    "print('Average: {:.2f}'.format(df_final.query('not(state == @str_plan or state == \"NY-NJ-PA\")')[str_action].mean()))\n",
    "print('Standard deviation: {:.2f}'.format(df_final.query('not(state == @str_plan or state == \"NY-NJ-PA\")')[str_action].std()))\n",
    "print('Dispersion: {:.2f}'.format(df_final.query('not(state == @str_plan or state == \"NY-NJ-PA\")')[str_action].std()**2))"
   ]
  },
  {
   "cell_type": "code",
   "execution_count": 73,
   "metadata": {},
   "outputs": [
    {
     "name": "stdout",
     "output_type": "stream",
     "text": [
      "p-value:  0.20272110179646383\n",
      "We can't reject the null hypothesis\n"
     ]
    }
   ],
   "source": [
    "# null: test the hypothesis that the means of the two statistical populations are equal based on samples taken from them\n",
    "# alternative: there are not equal\n",
    "\n",
    "alpha = .05 # critical statistical significance level\n",
    "                        # if the p-value is less than alpha, we reject the hypothesis\n",
    "\n",
    "results = st.ttest_ind(\n",
    "        df_final.query('state == @str_plan or state == \"NY-NJ-PA\"')['pay'], \n",
    "        df_final.query('not(state == @str_plan or state == \"NY-NJ-PA\")')['pay'])\n",
    "\n",
    "print('p-value: ', results.pvalue)\n",
    "\n",
    "if (results.pvalue < alpha):\n",
    "        print(\"We reject the null hypothesis\")\n",
    "else:\n",
    "        print(\"We can't reject the null hypothesis\")"
   ]
  },
  {
   "cell_type": "markdown",
   "metadata": {},
   "source": [
    "We can't reject hypothesis. So locally more likely payments doesn't differ."
   ]
  },
  {
   "cell_type": "markdown",
   "metadata": {},
   "source": [
    "# Results Step 4.\n",
    "So, these plans have different profits. <br>\n",
    "hypothesis about states can't be rejected. "
   ]
  },
  {
   "cell_type": "markdown",
   "metadata": {},
   "source": [
    "# Step 5. Write an overall conclusion\n",
    "\n",
    "I have prepared a lot of pivot table and have done statistical analysis. <br>\n",
    "The commercial department wants to know which of the plans is more profitable in order to adjust the advertising budget. <br>\n",
    "The answer is that ultimate plan is more profitable. It is so due to several factors:\n",
    "1. Exceed payments in surf plan is too low to make this plan more profitable than ultimate. Although a lot of people ~36% use exceed calls/sms or internet packs. Increase of payment of additional internet could give for profit than increase of minutes and sms. Maybe it could be a good idea to increase cost of additional Gb.\n",
    "2. People have the same behaviour of their call, messages and internet use. It is easier to change plans than change people behaviour.\n",
    "3. Monthly payments in ultimate plan is higher on 50 USD."
   ]
  },
  {
   "cell_type": "code",
   "execution_count": null,
   "metadata": {},
   "outputs": [],
   "source": []
  }
 ],
 "metadata": {
  "kernelspec": {
   "display_name": "Python 3 (ipykernel)",
   "language": "python",
   "name": "python3"
  },
  "language_info": {
   "codemirror_mode": {
    "name": "ipython",
    "version": 3
   },
   "file_extension": ".py",
   "mimetype": "text/x-python",
   "name": "python",
   "nbconvert_exporter": "python",
   "pygments_lexer": "ipython3",
   "version": "3.9.7"
  }
 },
 "nbformat": 4,
 "nbformat_minor": 4
}
