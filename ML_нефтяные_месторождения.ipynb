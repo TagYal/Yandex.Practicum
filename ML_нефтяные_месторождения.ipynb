{
 "cells": [
  {
   "cell_type": "markdown",
   "metadata": {},
   "source": [
    "# Цель\n",
    "Выбор региона для разработки новых нефтяных месторождений\n",
    "\n",
    "# Задачи\n",
    "Решить в каком регионе добывать нефть. Построить модель машинного обучения, которая поможет определить регион, где добыча принесет наибольшую прибыль с наименьшим риском убытков.\n",
    "\n",
    "# Описание\n",
    "Добывающей компании нужно решить, где бурить новую скважину.\n",
    "Собраны характеристики пробы нефти для скважин: качество нефти и объём её запасов по трем регионам. Характеристики для каждой скважины в регионе уже известны. \n",
    "Построена модель для предсказания объёма запасов в новых скважинах.\n",
    "Выбраны скважины с самыми высокими оценками значений.\n",
    "Определены регионы с максимальной суммарной прибылью отобранных скважин.\n",
    "Построена модель для определения региона, где добыча принесёт наибольшую прибыль. Проанализирована возможная прибыль и риски техникой Bootstrap."
   ]
  },
  {
   "cell_type": "code",
   "execution_count": 1,
   "metadata": {},
   "outputs": [],
   "source": [
    "# import libraries\n",
    "import pandas as pd\n",
    "import numpy as np\n",
    "import matplotlib.pyplot as plt\n",
    "from scipy import stats as st\n",
    "\n",
    "from sklearn.model_selection import train_test_split\n",
    "from sklearn.linear_model import LinearRegression\n",
    "from sklearn.metrics import mean_squared_error\n",
    "from sklearn.ensemble import RandomForestRegressor\n",
    "\n",
    "from numpy.random import RandomState "
   ]
  },
  {
   "cell_type": "markdown",
   "metadata": {},
   "source": [
    "# Section 1\n",
    "<font size=\"3\">**1. Download and prepare the data.**</font> "
   ]
  },
  {
   "cell_type": "code",
   "execution_count": 2,
   "metadata": {},
   "outputs": [],
   "source": [
    "# import all external data\n",
    "df_geo_0 = pd.read_csv('/datasets/geo_data_0.csv')\n",
    "df_geo_1 = pd.read_csv('/datasets/geo_data_1.csv')\n",
    "df_geo_2 = pd.read_csv('/datasets/geo_data_2.csv')\n",
    "\n",
    "# id — unique oil well identifier\n",
    "# f0, f1, f2 — three features of points (their specific meaning is unimportant, but the features themselves are significant)\n",
    "# product — volume of reserves in the oil well (thousand barrels)."
   ]
  },
  {
   "cell_type": "code",
   "execution_count": 3,
   "metadata": {},
   "outputs": [
    {
     "name": "stdout",
     "output_type": "stream",
     "text": [
      "      id        f0        f1        f2     product\n",
      "0  txEyH  0.705745 -0.497823  1.221170  105.280062\n",
      "1  2acmU  1.334711 -0.340164  4.365080   73.037750\n",
      "2  409Wp  1.022732  0.151990  1.419926   85.265647\n",
      "3  iJLyR -0.032172  0.139033  2.978566  168.620776\n",
      "4  Xdl7t  1.988431  0.155413  4.751769  154.036647 \n",
      "\n",
      "      id         f0         f1        f2     product\n",
      "0  kBEdx -15.001348  -8.276000 -0.005876    3.179103\n",
      "1  62mP7  14.272088  -3.475083  0.999183   26.953261\n",
      "2  vyE1P   6.263187  -5.948386  5.001160  134.766305\n",
      "3  KcrkZ -13.081196 -11.506057  4.999415  137.945408\n",
      "4  AHL4O  12.702195  -8.147433  5.004363  134.766305 \n",
      "\n",
      "      id        f0        f1        f2     product\n",
      "0  fwXo0 -1.146987  0.963328 -0.828965   27.758673\n",
      "1  WJtFt  0.262778  0.269839 -2.530187   56.069697\n",
      "2  ovLUW  0.194587  0.289035 -5.586433   62.871910\n",
      "3  q6cA6  2.236060 -0.553760  0.930038  114.572842\n",
      "4  WPMUX -0.515993  1.716266  5.899011  149.600746\n"
     ]
    }
   ],
   "source": [
    "# check if it is imported correctly df_geo_0\n",
    "print(df_geo_0.head(),'\\n')\n",
    "print(df_geo_1.head(),'\\n')\n",
    "print(df_geo_2.head())"
   ]
  },
  {
   "cell_type": "markdown",
   "metadata": {},
   "source": [
    "**So...** The data import process went well"
   ]
  },
  {
   "cell_type": "code",
   "execution_count": 4,
   "metadata": {},
   "outputs": [
    {
     "name": "stdout",
     "output_type": "stream",
     "text": [
      "<class 'pandas.core.frame.DataFrame'>\n",
      "RangeIndex: 100000 entries, 0 to 99999\n",
      "Data columns (total 5 columns):\n",
      "id         100000 non-null object\n",
      "f0         100000 non-null float64\n",
      "f1         100000 non-null float64\n",
      "f2         100000 non-null float64\n",
      "product    100000 non-null float64\n",
      "dtypes: float64(4), object(1)\n",
      "memory usage: 3.8+ MB\n",
      "None \n",
      "\n",
      "<class 'pandas.core.frame.DataFrame'>\n",
      "RangeIndex: 100000 entries, 0 to 99999\n",
      "Data columns (total 5 columns):\n",
      "id         100000 non-null object\n",
      "f0         100000 non-null float64\n",
      "f1         100000 non-null float64\n",
      "f2         100000 non-null float64\n",
      "product    100000 non-null float64\n",
      "dtypes: float64(4), object(1)\n",
      "memory usage: 3.8+ MB\n",
      "None \n",
      "\n",
      "<class 'pandas.core.frame.DataFrame'>\n",
      "RangeIndex: 100000 entries, 0 to 99999\n",
      "Data columns (total 5 columns):\n",
      "id         100000 non-null object\n",
      "f0         100000 non-null float64\n",
      "f1         100000 non-null float64\n",
      "f2         100000 non-null float64\n",
      "product    100000 non-null float64\n",
      "dtypes: float64(4), object(1)\n",
      "memory usage: 3.8+ MB\n",
      "None\n"
     ]
    }
   ],
   "source": [
    "# check the data: type, statistics and unique values\n",
    "# type of data:\n",
    "print(df_geo_0.info(),'\\n')\n",
    "print(df_geo_1.info(),'\\n')\n",
    "print(df_geo_2.info())"
   ]
  },
  {
   "cell_type": "markdown",
   "metadata": {},
   "source": [
    "**Notice:** no NA-values, *id* is string (OK), others columns are float (OK)"
   ]
  },
  {
   "cell_type": "code",
   "execution_count": 5,
   "metadata": {},
   "outputs": [
    {
     "name": "stdout",
     "output_type": "stream",
     "text": [
      "                  f0             f1             f2        product\n",
      "count  100000.000000  100000.000000  100000.000000  100000.000000\n",
      "mean        0.500419       0.250143       2.502647      92.500000\n",
      "std         0.871832       0.504433       3.248248      44.288691\n",
      "min        -1.408605      -0.848218     -12.088328       0.000000\n",
      "25%        -0.072580      -0.200881       0.287748      56.497507\n",
      "50%         0.502360       0.250252       2.515969      91.849972\n",
      "75%         1.073581       0.700646       4.715088     128.564089\n",
      "max         2.362331       1.343769      16.003790     185.364347 \n",
      "\n",
      "                  f0             f1             f2        product\n",
      "count  100000.000000  100000.000000  100000.000000  100000.000000\n",
      "mean        1.141296      -4.796579       2.494541      68.825000\n",
      "std         8.965932       5.119872       1.703572      45.944423\n",
      "min       -31.609576     -26.358598      -0.018144       0.000000\n",
      "25%        -6.298551      -8.267985       1.000021      26.953261\n",
      "50%         1.153055      -4.813172       2.011479      57.085625\n",
      "75%         8.621015      -1.332816       3.999904     107.813044\n",
      "max        29.421755      18.734063       5.019721     137.945408 \n",
      "\n",
      "                  f0             f1             f2        product\n",
      "count  100000.000000  100000.000000  100000.000000  100000.000000\n",
      "mean        0.002023      -0.002081       2.495128      95.000000\n",
      "std         1.732045       1.730417       3.473445      44.749921\n",
      "min        -8.760004      -7.084020     -11.970335       0.000000\n",
      "25%        -1.162288      -1.174820       0.130359      59.450441\n",
      "50%         0.009424      -0.009482       2.484236      94.925613\n",
      "75%         1.158535       1.163678       4.858794     130.595027\n",
      "max         7.238262       7.844801      16.739402     190.029838\n"
     ]
    }
   ],
   "source": [
    "# statistics:\n",
    "print(df_geo_0.describe(),'\\n')\n",
    "print(df_geo_1.describe(),'\\n')\n",
    "print(df_geo_2.describe())"
   ]
  },
  {
   "cell_type": "markdown",
   "metadata": {},
   "source": [
    "**Notice:**\n",
    "1. features (f0,f1,f2) could be negative\n",
    "2. There are outliers: $\\mu + 3*\\sigma < max $ (detailed below)"
   ]
  },
  {
   "cell_type": "code",
   "execution_count": 6,
   "metadata": {},
   "outputs": [
    {
     "name": "stdout",
     "output_type": "stream",
     "text": [
      "geo_0:\n",
      "No outliers        for f0 mu+3*sigma: 3.1 great than 2.4\n",
      "No outliers        for f1 mu+3*sigma: 1.8 great than 1.3\n",
      "There are outliers for f2 mu+3*sigma: 1.2e+01 less than 1.6e+01\n",
      "\n",
      "geo_1:\n",
      "There are outliers for f0 mu+3*sigma: 2.8e+01 less than 2.9e+01\n",
      "There are outliers for f1 mu+3*sigma: 1.1e+01 less than 1.9e+01\n",
      "No outliers        for f2 mu+3*sigma: 7.6 great than 5.0\n",
      "\n",
      "geo_2:\n",
      "There are outliers for f0 mu+3*sigma: 5.2 less than 7.2\n",
      "There are outliers for f1 mu+3*sigma: 5.2 less than 7.8\n",
      "There are outliers for f2 mu+3*sigma: 1.3e+01 less than 1.7e+01\n"
     ]
    }
   ],
   "source": [
    "# print columns with outliers for each dataframe\n",
    "def print_outliers(df_column):\n",
    "    three_sigma = df_column.mean() + 3 * df_column.std()\n",
    "    maximum = df_column.max()\n",
    "    if three_sigma >= maximum :\n",
    "        print ('No outliers        for {:} mu+3*sigma: {:.2} great than {:.2}'.format(\n",
    "                                                df_column.name, three_sigma, maximum))\n",
    "    else:\n",
    "        print ('There are outliers for {:} mu+3*sigma: {:.2} less than {:.2}'.format(\n",
    "                                                df_column.name, three_sigma, maximum))\n",
    "\n",
    "print('geo_0:')\n",
    "print_outliers(df_geo_0.f0)\n",
    "print_outliers(df_geo_0.f1)\n",
    "print_outliers(df_geo_0.f2)\n",
    "print()\n",
    "\n",
    "print('geo_1:')\n",
    "print_outliers(df_geo_1.f0)\n",
    "print_outliers(df_geo_1.f1)\n",
    "print_outliers(df_geo_1.f2)\n",
    "print()\n",
    "\n",
    "print('geo_2:')\n",
    "print_outliers(df_geo_2.f0)\n",
    "print_outliers(df_geo_2.f1)\n",
    "print_outliers(df_geo_2.f2)"
   ]
  },
  {
   "cell_type": "markdown",
   "metadata": {},
   "source": [
    "**So...** I haven't calculated $\\mu - 3*\\sigma < min $. But it isn't necessary. <br>\n",
    "We know that outliers are in the data"
   ]
  },
  {
   "cell_type": "code",
   "execution_count": 7,
   "metadata": {},
   "outputs": [
    {
     "name": "stdout",
     "output_type": "stream",
     "text": [
      "There are 0 duplicates in df_geo_0\n",
      "There are 0 duplicates in df_geo_1\n",
      "There are 0 duplicates in df_geo_2\n"
     ]
    }
   ],
   "source": [
    "# check duplicates in dataframe\n",
    "print('There are {:} duplicates in df_geo_0'.format(df_geo_0.duplicated().sum()))\n",
    "print('There are {:} duplicates in df_geo_1'.format(df_geo_1.duplicated().sum()))\n",
    "print('There are {:} duplicates in df_geo_2'.format(df_geo_2.duplicated().sum()))"
   ]
  },
  {
   "cell_type": "markdown",
   "metadata": {},
   "source": [
    "**So...** That is good. We shouldn't filter the data"
   ]
  },
  {
   "cell_type": "code",
   "execution_count": 8,
   "metadata": {},
   "outputs": [
    {
     "name": "stdout",
     "output_type": "stream",
     "text": [
      "geo_0:\n",
      "f0 unique values: 100000\n",
      "f1 unique values: 100000\n",
      "f2 unique values: 100000\n",
      "product unique values: 100000\n",
      "\n",
      "geo_1:\n",
      "f0 unique values: 100000\n",
      "f1 unique values: 100000\n",
      "f2 unique values: 100000\n",
      "product unique values: 100000\n",
      "\n",
      "geo_2:\n",
      "f0 unique values: 100000\n",
      "f1 unique values: 100000\n",
      "f2 unique values: 100000\n",
      "product unique values: 100000\n",
      "\n"
     ]
    }
   ],
   "source": [
    "# check unique values\n",
    "def print_num_uniques(df_column):\n",
    "    print('{:} unique values: {:}'.format(df_column.name, len(df_geo_0['f0'].unique())))\n",
    "\n",
    "print('geo_0:')\n",
    "print_num_uniques(df_geo_0['f0'])\n",
    "print_num_uniques(df_geo_0['f1'])\n",
    "print_num_uniques(df_geo_0['f2'])\n",
    "print_num_uniques(df_geo_0['product'])\n",
    "print()\n",
    "\n",
    "print('geo_1:')\n",
    "print_num_uniques(df_geo_1['f0'])\n",
    "print_num_uniques(df_geo_1['f1'])\n",
    "print_num_uniques(df_geo_1['f2'])\n",
    "print_num_uniques(df_geo_1['product'])\n",
    "print()\n",
    "\n",
    "print('geo_2:')\n",
    "print_num_uniques(df_geo_2['f0'])\n",
    "print_num_uniques(df_geo_2['f1'])\n",
    "print_num_uniques(df_geo_2['f2'])\n",
    "print_num_uniques(df_geo_2['product'])\n",
    "print()"
   ]
  },
  {
   "cell_type": "markdown",
   "metadata": {},
   "source": [
    "**So...** All values are unique."
   ]
  },
  {
   "cell_type": "code",
   "execution_count": 9,
   "metadata": {
    "scrolled": true
   },
   "outputs": [
    {
     "name": "stdout",
     "output_type": "stream",
     "text": [
      "[[<matplotlib.axes._subplots.AxesSubplot object at 0x7f98e636ad50>\n",
      "  <matplotlib.axes._subplots.AxesSubplot object at 0x7f98e6353bd0>]\n",
      " [<matplotlib.axes._subplots.AxesSubplot object at 0x7f98e6308d50>\n",
      "  <matplotlib.axes._subplots.AxesSubplot object at 0x7f98e62c8d50>]]\n",
      "[[<matplotlib.axes._subplots.AxesSubplot object at 0x7f98e621a550>\n",
      "  <matplotlib.axes._subplots.AxesSubplot object at 0x7f98e61c4f90>]\n",
      " [<matplotlib.axes._subplots.AxesSubplot object at 0x7f98e6186510>\n",
      "  <matplotlib.axes._subplots.AxesSubplot object at 0x7f98e613acd0>]]\n",
      "[[<matplotlib.axes._subplots.AxesSubplot object at 0x7f98e5c01dd0>\n",
      "  <matplotlib.axes._subplots.AxesSubplot object at 0x7f98e5bba750>]\n",
      " [<matplotlib.axes._subplots.AxesSubplot object at 0x7f98e5bebf50>\n",
      "  <matplotlib.axes._subplots.AxesSubplot object at 0x7f98e5bad790>]]\n"
     ]
    },
    {
     "data": {
      "image/png": "[encoded data removed]",
      "text/plain": [
       "<Figure size 432x288 with 4 Axes>"
      ]
     },
     "metadata": {
      "needs_background": "light"
     },
     "output_type": "display_data"
    },
    {
     "data": {
      "image/png": "[encoded data removed]",
      "text/plain": [
       "<Figure size 432x288 with 4 Axes>"
      ]
     },
     "metadata": {
      "needs_background": "light"
     },
     "output_type": "display_data"
    },
    {
     "data": {
      "image/png": "[encoded data removed]",
      "text/plain": [
       "<Figure size 432x288 with 4 Axes>"
      ]
     },
     "metadata": {
      "needs_background": "light"
     },
     "output_type": "display_data"
    }
   ],
   "source": [
    "print(df_geo_0.hist())\n",
    "print(df_geo_1.hist())\n",
    "print(df_geo_2.hist())"
   ]
  },
  {
   "cell_type": "markdown",
   "metadata": {},
   "source": [
    "**Notice:** all features and target in df_geo_0 seems to be normal distributed "
   ]
  },
  {
   "cell_type": "code",
   "execution_count": 10,
   "metadata": {
    "scrolled": true
   },
   "outputs": [
    {
     "name": "stdout",
     "output_type": "stream",
     "text": [
      "df_geo_0:\n",
      "P-value of f0: 0.0\n",
      "P-value of f1: 0.0\n",
      "P-value of f2: 2.5829362598194747e-13\n",
      "P-value of product: 0.0\n",
      "df_geo_1:\n",
      "P-value of f0: 0.0\n",
      "P-value of f1: 0.03276406499792999\n",
      "P-value of f2: 0.0\n",
      "P-value of product: 0.0\n",
      "df_geo_2:\n",
      "P-value of f0: 0.5371167431415869\n",
      "P-value of f1: 0.11763198211551353\n",
      "P-value of f2: 2.873142751023688e-05\n",
      "P-value of product: 0.0\n"
     ]
    }
   ],
   "source": [
    "# check if it is normal distribution\n",
    "# null hypothesis: feature or target comes from a normal distribution\n",
    "# I use stat-library and function normaltest (Pearson’s criteria) to check it\n",
    "\n",
    "print('df_geo_0:')\n",
    "for name_col in df_geo_0:\n",
    "    if name_col != 'id':\n",
    "        print('P-value of {:}: {:}'.format(name_col, st.normaltest(df_geo_0[name_col]).pvalue))\n",
    "\n",
    "print('df_geo_1:')\n",
    "for name_col in df_geo_1:\n",
    "    if name_col != 'id':\n",
    "        print('P-value of {:}: {:}'.format(name_col, st.normaltest(df_geo_1[name_col]).pvalue))\n",
    "        \n",
    "print('df_geo_2:')\n",
    "for name_col in df_geo_2:\n",
    "    if name_col != 'id':\n",
    "        print('P-value of {:}: {:}'.format(name_col, st.normaltest(df_geo_2[name_col]).pvalue))"
   ]
  },
  {
   "cell_type": "markdown",
   "metadata": {},
   "source": [
    "**Notice:** we can reject null hypothesis if $P_{value} < \\alpha$ <br>\n",
    "if $\\alpha=0.05$ then we can surely reject all but for df_geo_2['f0'] and df_geo_2['f1'] <br>\n",
    "We expected to find out that all data normally distributed (because the data is synthetic) but it isn't so."
   ]
  },
  {
   "cell_type": "markdown",
   "metadata": {},
   "source": [
    "<div class=\"alert alert-info\">\n",
    "    <b>- Can you explain why we need to test the data for normality? </b> <br>\n",
    "    The instructions for this issue indicate that the data is synthetic. When I saw how the histograms are distributed, it seemed to me that they correspond to a normal distribution. I became <b>curious</b> if this synthetic data was just being created as a collection of synthetically normally distributed values. I checked and realized that it was not. <br>\n",
    "    From the point of view of the task itself, there was no need to do this. But I haven't deleted the code, because I thought that it could be interesting findings. <br>\n",
    "    <b>- Also, why does the data being synthetic lead you to expect the data to be normally distributed? </b> <br>\n",
    "    Synthetic data shouldn't be normally distributed. It was an assumption based on the view of histograms. Normal distribution is like a gold standard of distributions, in my opinion of course. We encountered with normal (Gauss) disribution in physics, biology. We don't know about this feature-values (f0, f1, f2) but we know that they related with geology. It means nothing about distribution, but it was intersting for me to check it.<br>\n",
    "    <b>- Can't we synthesize data from pretty much any distribution? </b> <br>\n",
    "     Of course we can. And in life we encounter different distributions. Classical example is Poisson distribution (number of events in interval), beta-distribution, gamma, lognormal and so on. And we can use them to create synthetic data.\n",
    "</div>"
   ]
  },
  {
   "cell_type": "markdown",
   "metadata": {},
   "source": [
    "# Results of Section 1\n",
    "<font size=\"2\">\n",
    "1. <b> Data has been imported correctly</b>. We have 3 tables. <br>\n",
    "2. There are no NA-values and duplicates. All values are unique in their columns. <br>\n",
    "3. Types of data are correct. <br>\n",
    "4. <b> Exploratory Data Analysis(EDA) is not necessary </b> here. Data is well prepared for developing a model. <br>\n",
    "5. With high probability df_geo_2['f0'] and df_geo_2['f1'] are normally distributed (data is synthetic; we can't reject hypothesis)\n",
    "    \n",
    "    \n"
   ]
  },
  {
   "cell_type": "markdown",
   "metadata": {},
   "source": [
    "# PS\n",
    "**About scaling and standartization of features (f1,f2 and f3)** <br>\n",
    "We haven't scaled the data because of (a) I forgot it... (but after I have done this project I read about it in our Slack channel), (b) after reading slack I understand that it is not important here, when we use linear regression. <br>\n",
    "<br> Dmitry Donetskov / Дмитрий Донецков: <br>\n",
    "Mathematically, Linear Regression does not require transforming numerical features to a same scale, that's because every feature/predictor receives its own coefficient and their values are calculated with respect to range of relevant feature/predictor. <br>\n",
    "Computationally though, extreme (very large) values of features may impact so-called computational stability of Linear Regression algorithm. It may lead to issues with computing coefficients, near zero values of coefficients etc. <br>\n",
    "So, the scaling is not necessary for LR unless there are extreme values for some of predictors, the latter can be scaled to help algorithm with keeping significant digits while computing coefficients."
   ]
  },
  {
   "cell_type": "markdown",
   "metadata": {},
   "source": [
    "# Section 2\n",
    "<font size=\"3\">**2. Train and test the model for each region:<br>\n",
    "2.1 [x] Split the data into a training set and validation set at a ratio of 75:25.<br>\n",
    "2.2.[x] Train the model and make predictions for the validation set.<br>\n",
    "2.3.[x] Save the predictions and correct answers for the validation set.<br>\n",
    "2.4.[x] Print the average volume of predicted reserves and model RMSE.<br>\n",
    "2.5.[x] Analyze the results. <br>**</font> \n",
    "Note: we should use only linear regression"
   ]
  },
  {
   "cell_type": "code",
   "execution_count": 11,
   "metadata": {},
   "outputs": [],
   "source": [
    "# we defined a new function because we need triple times use it in different regions\n",
    "# it is important that we can fit model in seconds (it is not time consuming)\n",
    "def rmse_linear_model(df):\n",
    "    features = df[['f0','f1','f2']] # we don't use id, as it doesn't influence on the target value\n",
    "    target = df['product']\n",
    "\n",
    "    features_train, features_valid, target_train, target_valid = train_test_split(\n",
    "                    features, target, test_size=0.25, random_state=12345)\n",
    "\n",
    "    model = LinearRegression()\n",
    "    model.fit(features_train, target_train)\n",
    "    predicted_valid = model.predict(features_valid)\n",
    "    print('RMSE: {:.2f}'.format(mean_squared_error(target_valid, predicted_valid)**0.5))\n",
    "    return model.predict(features)"
   ]
  },
  {
   "cell_type": "code",
   "execution_count": 12,
   "metadata": {
    "scrolled": false
   },
   "outputs": [
    {
     "name": "stdout",
     "output_type": "stream",
     "text": [
      "Region 0:\n",
      "RMSE: 37.58\n",
      "Region 1:\n",
      "RMSE: 0.89\n",
      "Region 2:\n",
      "RMSE: 40.03\n"
     ]
    }
   ],
   "source": [
    "print('Region 0:')\n",
    "predicted_values = rmse_linear_model(df_geo_0)\n",
    "df_geo_0['prod_predicted'] = predicted_values\n",
    "print('Region 1:')\n",
    "predicted_values = rmse_linear_model(df_geo_1)\n",
    "df_geo_1['prod_predicted'] = predicted_values\n",
    "print('Region 2:')\n",
    "predicted_values = rmse_linear_model(df_geo_2)\n",
    "df_geo_2['prod_predicted'] = predicted_values"
   ]
  },
  {
   "cell_type": "code",
   "execution_count": 13,
   "metadata": {},
   "outputs": [],
   "source": [
    "def plot_predictions(x,y):\n",
    "    plt.figure()\n",
    "    plt.plot(x, y, '.')\n",
    "    plt.plot([0, 200], [0, 200], linestyle='--')\n",
    "    #plt.xlim(0,1)\n",
    "    #plt.ylim(0,1)\n",
    "    plt.ylabel(\"Product\")\n",
    "    plt.xlabel(\"Predited reserves\")\n",
    "    plt.title(\"Predicted vs True\")\n",
    "    plt.show()"
   ]
  },
  {
   "cell_type": "code",
   "execution_count": 14,
   "metadata": {
    "scrolled": true
   },
   "outputs": [
    {
     "name": "stdout",
     "output_type": "stream",
     "text": [
      "Region 0:\n"
     ]
    },
    {
     "data": {
      "image/png": "[encoded data removed]",
      "text/plain": [
       "<Figure size 432x288 with 1 Axes>"
      ]
     },
     "metadata": {
      "needs_background": "light"
     },
     "output_type": "display_data"
    },
    {
     "name": "stdout",
     "output_type": "stream",
     "text": [
      "Region 1:\n"
     ]
    },
    {
     "data": {
      "image/png": "[encoded data removed]",
      "text/plain": [
       "<Figure size 432x288 with 1 Axes>"
      ]
     },
     "metadata": {
      "needs_background": "light"
     },
     "output_type": "display_data"
    },
    {
     "name": "stdout",
     "output_type": "stream",
     "text": [
      "Region 2:\n"
     ]
    },
    {
     "data": {
      "image/png": "[encoded data removed]",
      "text/plain": [
       "<Figure size 432x288 with 1 Axes>"
      ]
     },
     "metadata": {
      "needs_background": "light"
     },
     "output_type": "display_data"
    }
   ],
   "source": [
    "print('Region 0:')\n",
    "plot_predictions(df_geo_0['prod_predicted'],df_geo_0['product'])\n",
    "print('Region 1:')\n",
    "plot_predictions(df_geo_1['prod_predicted'],df_geo_1['product'])\n",
    "print('Region 2:')\n",
    "plot_predictions(df_geo_2['prod_predicted'],df_geo_2['product'])"
   ]
  },
  {
   "cell_type": "markdown",
   "metadata": {},
   "source": [
    "# Results of Section 2\n",
    "<font size=\"2\">\n",
    "1. We developed model to predict target value. <br>\n",
    "2. Good prediction should deviate around the line $ y = x $ <br>\n",
    "3. It doesn't look like a good prediction for Region 0 (RMSE is 37.58) and Region 1 (RMSE is 40.03). Plots show how they deviate from the correct values. <br>\n",
    "4. It is a very good prediction for Region 1. RMSE is 0.89. It is super perfect. <br>"
   ]
  },
  {
   "cell_type": "markdown",
   "metadata": {},
   "source": [
    "# Section 3\n",
    "<font size=\"3\">**3. Prepare for profit calculation:<br>\n",
    "3.1. Store all key values for calculations in separate variables.<br>\n",
    "3.2. Calculate the volume of reserves sufficient for developing a new well without losses. Compare the obtained value with the average volume of reserves in each region.<br>\n",
    "3.3. Provide the findings about the preparation for profit calculation step. <br>**</font> "
   ]
  },
  {
   "cell_type": "code",
   "execution_count": 15,
   "metadata": {},
   "outputs": [],
   "source": [
    "# key values\n",
    "num_wells_region = 500 # study of 500 points is carried\n",
    "num_wells_best = 200   # pick the best 200 points for the profit calculation\n",
    "budget = 1e8           # budget to drill best wells\n",
    "price_barrel = 4.5     # price of 1 barrel\n",
    "risk_bound = 0.025     # keep only the regions with the risk of losses lower than 2.5%"
   ]
  },
  {
   "cell_type": "code",
   "execution_count": 16,
   "metadata": {},
   "outputs": [
    {
     "name": "stdout",
     "output_type": "stream",
     "text": [
      " Total volume of reserves we should obtain in case of zero profit: 2e+04 thousand of barrels\n",
      " The volume of reserves sufficient for developing a new well without losses: 111.11 thousand of barrels\n"
     ]
    }
   ],
   "source": [
    "# calculate cost of 1 well based on total budget\n",
    "cost_one_well = 1.0 * budget / num_wells_best\n",
    "\n",
    "# calculate what volume of reserves we need to obtain based on the available budget\n",
    "volume_reserves_zero_profit = 1.0 * budget / price_barrel\n",
    "# print it\n",
    "text = 'Total volume of reserves we should obtain in case of zero profit:'\n",
    "print(' {:} {:.1} thousand of barrels'.format(text, volume_reserves_zero_profit / 1000))\n",
    "\n",
    "# calculate what volume of reserves **by 1 well** we need to obtain\n",
    "volume_reserves_one_well_zero_profit = 1.0 * budget / price_barrel / num_wells_best\n",
    "# print it\n",
    "text = 'The volume of reserves sufficient for developing a new well without losses:'\n",
    "print(' {:} {:.2f} thousand of barrels'.format(text, volume_reserves_one_well_zero_profit / 1000))"
   ]
  },
  {
   "cell_type": "markdown",
   "metadata": {},
   "source": [
    "**Notice:**\n",
    "1. Average volume of predicted reserves in Region 0: 92.59; Region 1: 68.73; Region 2: 94.97;  <br>\n",
    "The volume of reserves sufficient for developing a new well without losses: 111.11. <br>\n",
    "That is, our economic (when we calculate average volume in all wells) is not profitable. <br>\n",
    "Nevertheless it could become better when we select the best wells, especially if our prediction model is good."
   ]
  },
  {
   "cell_type": "markdown",
   "metadata": {},
   "source": [
    "# Results of Section 3\n",
    "<font size=\"2\">\n",
    "1. Now we ready to evaluate profit for each region. <br>\n",
    "2. Our budget is supposed to drill 200 oil wells. Null-profit volume of reserves in one well is 111.11 kbbl (thousand of barrels). According to our model each well in Region 0 in average could give us 92.59 kbbl (less). However mean-value doesn't give us information about deviations from it. If we have very good model and if standard deviation is high we will obtain a good economic in the next step. <br>\n",
    "3. We can suppose that Region 1 have a good chances to be the best region. Let's check our guesses."
   ]
  },
  {
   "cell_type": "markdown",
   "metadata": {},
   "source": [
    "# Section 4\n",
    "<font size=\"3\">**4. Write a function to calculate profit from a set of selected oil wells and model predictions:<br>\n",
    "4.1. [x] Pick the wells with the highest values of predictions.<br>\n",
    "4.2. [x] Summarize the target volume of reserves in accordance with these predictions<br>\n",
    "4.3. Provide findings: suggest a region for oil wells' development and justify the choice. Calculate the profit for the obtained volume of reserves.**</font> "
   ]
  },
  {
   "cell_type": "code",
   "execution_count": 17,
   "metadata": {},
   "outputs": [],
   "source": [
    "# define funtion to calculate profit of the wells\n",
    "def calculate_profit(model_volume, real_volume, num):\n",
    "    index_best_well = model_volume.sort_values(ascending=False)[:num].index # find index of the best wells\n",
    "    real_volume = real_volume[index_best_well] # find real volume of reserves in the best wells\n",
    "    total_volume = real_volume.sum() # return total volume of reserves in the best wells\n",
    "    return total_volume * price_barrel * 1e3 - budget # return profit (revenue minus budget)"
   ]
  },
  {
   "cell_type": "markdown",
   "metadata": {},
   "source": [
    "**Notice:** <br>\n",
    "I understand 4.3 as an initial assessment of choosing the region. We will obtain final result **only after bootstrap analysis**."
   ]
  },
  {
   "cell_type": "code",
   "execution_count": 18,
   "metadata": {
    "scrolled": false
   },
   "outputs": [
    {
     "name": "stdout",
     "output_type": "stream",
     "text": [
      "Region0 profit: 1967713.97\n",
      "Region1 profit: 3121725.38\n",
      "Region2 profit: -173046.57\n"
     ]
    }
   ],
   "source": [
    "sample = df_geo_0.sample(num_wells_region, random_state=12345)\n",
    "print('Region0 profit: {:.2f}'.format(calculate_profit(sample['prod_predicted'], sample['product'], num_wells_best)))\n",
    "sample = df_geo_1.sample(num_wells_region, random_state=12345)\n",
    "print('Region1 profit: {:.2f}'.format(calculate_profit(sample['prod_predicted'], sample['product'], num_wells_best)))\n",
    "sample = df_geo_2.sample(num_wells_region, random_state=12345)\n",
    "print('Region2 profit: {:.2f}'.format(calculate_profit(sample['prod_predicted'], sample['product'], num_wells_best)))"
   ]
  },
  {
   "cell_type": "markdown",
   "metadata": {},
   "source": [
    "**Notice:** <br>\n",
    "! It is based only on the one random sample !\n",
    "1. I can't say what region is the best based only on this data, because of the random when we select the sample. <br>\n",
    "Now we can suggest that it is Region 1. In the next section we will know for sure.\n",
    "2. Our Region1 revenue (103.1 mln USD) > our budget (100.0 mln USD). It is a good sign!"
   ]
  },
  {
   "cell_type": "markdown",
   "metadata": {},
   "source": [
    "# Results of Section 4\n",
    "<font size=\"2\">\n",
    "1. Function to evaluate profit is ready . <br>\n",
    "2. **It is based only on the one random sample** I can't say what region is the best based only on this data, because of the random when we select the sample. <br>\n",
    "Now we can suggest that it is Region 1. In the next section we will know for sure. <br>\n",
    "3. Our Region1 profit is positive +3 mln USD. It is a good sign!"
   ]
  },
  {
   "cell_type": "markdown",
   "metadata": {},
   "source": [
    "# Section 5\n",
    "<font size=\"3\">**5. Calculate risks and profit for each region:<br>\n",
    "5.1. Use the bootstrapping technique with 1000 samples to find the distribution of profit.<br>\n",
    "5.2. Find average profit, 95% confidence interval and risk of losses. Loss is negative profit, calculate it as a probability and then express as a percentage.<br>\n",
    "5.3. Provide findings: suggest a region for development of oil wells and justify the choice.**</font> "
   ]
  },
  {
   "cell_type": "code",
   "execution_count": 19,
   "metadata": {
    "scrolled": true
   },
   "outputs": [
    {
     "name": "stdout",
     "output_type": "stream",
     "text": [
      "Average profit Region 0: 4792506.986625174\n",
      "Average profit Region 1: 4553627.114171754\n",
      "Average profit Region 2: 3591671.7082301653\n"
     ]
    }
   ],
   "source": [
    "# save profits during bootstrapping\n",
    "state = RandomState(12345)\n",
    "\n",
    "profit_region_0 = []\n",
    "profit_region_1 = []\n",
    "profit_region_2 = []\n",
    "\n",
    "for k in range(1000):\n",
    "    sample = df_geo_0.sample(num_wells_region, replace=True, random_state=state)\n",
    "    profit_region_0.append(calculate_profit(sample['prod_predicted'], sample['product'], num_wells_best))\n",
    "    \n",
    "    sample = df_geo_1.sample(num_wells_region, random_state=state)\n",
    "    profit_region_1.append(calculate_profit(sample['prod_predicted'], sample['product'], num_wells_best))\n",
    "    \n",
    "    sample = df_geo_2.sample(num_wells_region, random_state=state)\n",
    "    profit_region_2.append(calculate_profit(sample['prod_predicted'], sample['product'], num_wells_best))\n",
    "\n",
    "# find average profit\n",
    "average_profit_region_0 = pd.Series(profit_region_0).mean()\n",
    "average_profit_region_1 = pd.Series(profit_region_1).mean()\n",
    "average_profit_region_2 = pd.Series(profit_region_2).mean()\n",
    "print('Average profit Region 0:', average_profit_region_0)\n",
    "print('Average profit Region 1:', average_profit_region_1)\n",
    "print('Average profit Region 2:', average_profit_region_2)"
   ]
  },
  {
   "cell_type": "markdown",
   "metadata": {},
   "source": [
    "**So:** The average profit in each region is positive. The least one is Region 2 with 3.6 mln USD, the largest is Region 0 with approximately 4.8 mln USD."
   ]
  },
  {
   "cell_type": "code",
   "execution_count": 20,
   "metadata": {
    "scrolled": true
   },
   "outputs": [
    {
     "name": "stdout",
     "output_type": "stream",
     "text": [
      "Region 0 confidence interval 95%: (4620789.201413887, 4964224.7718364615)\n",
      "Region 1 confidence interval 95%: (4426591.372906486, 4680662.855437022)\n",
      "Region 2 confidence interval 95%: (3426040.1097355834, 3757303.306724747)\n"
     ]
    }
   ],
   "source": [
    "# 95% confidence interval using the Student distribution\n",
    "confidence_interval = st.t.interval(0.95, len(profit_region_0)-1, \n",
    "                                    loc=pd.Series(profit_region_0).mean(),\n",
    "                                    scale=pd.Series(profit_region_0).sem()) \n",
    "\n",
    "print(\"Region 0 confidence interval 95%:\", confidence_interval)\n",
    "\n",
    "# 95% confidence interval using the Student distribution\n",
    "confidence_interval = st.t.interval(0.95, len(profit_region_1)-1, \n",
    "                                    loc=pd.Series(profit_region_1).mean(),\n",
    "                                    scale=pd.Series(profit_region_1).sem()) \n",
    "\n",
    "print(\"Region 1 confidence interval 95%:\", confidence_interval)\n",
    "\n",
    "# 95% confidence interval using the Student distribution\n",
    "confidence_interval = st.t.interval(0.95, len(profit_region_2)-1, \n",
    "                                    loc=pd.Series(profit_region_2).mean(),\n",
    "                                    scale=pd.Series(profit_region_2).sem()) \n",
    "\n",
    "print(\"Region 2 confidence interval 95%:\", confidence_interval)"
   ]
  },
  {
   "cell_type": "markdown",
   "metadata": {},
   "source": [
    "**So:** In the 95% confidence interval only positive profit!"
   ]
  },
  {
   "cell_type": "code",
   "execution_count": 21,
   "metadata": {},
   "outputs": [
    {
     "data": {
      "text/plain": [
       "<matplotlib.axes._subplots.AxesSubplot at 0x7f98e5760d50>"
      ]
     },
     "execution_count": 21,
     "metadata": {},
     "output_type": "execute_result"
    },
    {
     "data": {
      "image/png": "[encoded data removed]",
      "text/plain": [
       "<Figure size 432x288 with 1 Axes>"
      ]
     },
     "metadata": {
      "needs_background": "light"
     },
     "output_type": "display_data"
    }
   ],
   "source": [
    "pd.Series(profit_region_0).hist()"
   ]
  },
  {
   "cell_type": "code",
   "execution_count": 22,
   "metadata": {
    "scrolled": true
   },
   "outputs": [
    {
     "name": "stdout",
     "output_type": "stream",
     "text": [
      "Region 0 risk of looses: 4.8%\n",
      "Region 1 risk of looses: 1.4%\n",
      "Region 2 risk of looses: 8.8%\n"
     ]
    }
   ],
   "source": [
    "# risk of looses determined by the negative profit\n",
    "print('Region 0 risk of looses: {:}%'.format(st.percentileofscore(pd.Series(profit_region_0), 0)))\n",
    "print('Region 1 risk of looses: {:}%'.format(st.percentileofscore(pd.Series(profit_region_1), 0)))\n",
    "print('Region 2 risk of looses: {:}%'.format(st.percentileofscore(pd.Series(profit_region_2), 0)))"
   ]
  },
  {
   "cell_type": "markdown",
   "metadata": {},
   "source": [
    "# Results of Section 5\n",
    "<font size=\"2\">\n",
    "<div class=\"alert alert-info\">\n",
    "    <b>V2.</b>\n",
    "    Remember, that we should keep only the regions with the risk of losses lower than 2.5%. From the ones that fit the criteria, the region with the highest average profit should be selected.<br>\n",
    "1. The best region is Region 1. It has very low risk to be not profitable (only 1.4%), more it has high profit in between (4426591.372906486, 4680662.855437022) USD with confidence 95% <br>\n",
    "</div>\n",
    "2. The other regions could loose (Region 1: 4.8%, Region 2: 8.8%). <br>\n",
    "Region 0 confidence interval 95%: (4620789.201413887, 4964224.7718364615) <br>\n",
    "Region 2 confidence interval 95%: (3426040.1097355834, 3757303.306724747)"
   ]
  },
  {
   "cell_type": "markdown",
   "metadata": {},
   "source": [
    "# Conclusion"
   ]
  },
  {
   "cell_type": "markdown",
   "metadata": {},
   "source": [
    "The best place for a new well: **Region 1**. <br>\n",
    "It has low chance to be unprofitable only 0.7%. <br>\n",
    "The profit is the highest: 4.44-4.69 mln dollars with confidence 95%. <br>\n",
    "We developed a very good model to predict wells reserves. RMSE of selected region: 0.89. <br>\n",
    "As we can see in the plot we can even classify \"bad\" and \"good\" wells."
   ]
  }
 ],
 "metadata": {
  "kernelspec": {
   "display_name": "Python 3",
   "language": "python",
   "name": "python3"
  },
  "language_info": {
   "codemirror_mode": {
    "name": "ipython",
    "version": 3
   },
   "file_extension": ".py",
   "mimetype": "text/x-python",
   "name": "python",
   "nbconvert_exporter": "python",
   "pygments_lexer": "ipython3",
   "version": "3.7.10"
  },
  "toc": {
   "base_numbering": 1,
   "nav_menu": {},
   "number_sections": true,
   "sideBar": true,
   "skip_h1_title": true,
   "title_cell": "Table of Contents",
   "title_sidebar": "Contents",
   "toc_cell": false,
   "toc_position": {},
   "toc_section_display": true,
   "toc_window_display": false
  }
 },
 "nbformat": 4,
 "nbformat_minor": 2
}
