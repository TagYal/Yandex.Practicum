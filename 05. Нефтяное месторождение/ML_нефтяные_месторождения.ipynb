{
 "cells": [
  {
   "cell_type": "code",
   "execution_count": 2,
   "metadata": {},
   "outputs": [
    {
     "name": "stdout",
     "output_type": "stream",
     "text": [
      "3.9.7\n"
     ]
    }
   ],
   "source": [
    "from platform import python_version\n",
    "\n",
    "print(python_version())"
   ]
  },
  {
   "cell_type": "markdown",
   "metadata": {},
   "source": [
    "# Цель\n",
    "Выбрать один из трёх регионов для разработки нового нефтяного месторождения.\n",
    "\n",
    "# Задачи\n",
    "- посмотреть данные, при необходимости провести EDA\n",
    "- построить модель машинного обучения, которая поможет определить регион, где добыча принесет наибольшую прибыль с наименьшим риском убытков\n",
    "- определить скважины с самыми высокими оценками значений\n",
    "- оценить риски\n",
    "- решить в каком регионе добывать нефть\n",
    "\n",
    "# Описание\n",
    "Добывающей компании нужно решить, где бурить новую скважину.\n",
    "Собраны характеристики пробы нефти для скважин: качество нефти и объём её запасов по трем регионам. Характеристики для каждой скважины в регионе уже известны.\n",
    "Построена модель для предсказания объёма запасов в новых скважинах.\n",
    "Выбраны скважины с самыми высокими оценками значений.\n",
    "Определены регионы с максимальной суммарной прибылью отобранных скважин.\n",
    "Построена модель для определения региона, где добыча принесёт наибольшую прибыль.\n",
    "Проанализирована возможная прибыль и риски техникой Bootstrap."
   ]
  },
  {
   "cell_type": "code",
   "execution_count": 3,
   "metadata": {},
   "outputs": [],
   "source": [
    "# импорт библиотек\n",
    "import pandas as pd\n",
    "import numpy as np\n",
    "import matplotlib.pyplot as plt\n",
    "from scipy import stats as st\n",
    "\n",
    "from sklearn.model_selection import train_test_split\n",
    "from sklearn.linear_model import LinearRegression\n",
    "from sklearn.metrics import mean_squared_error\n",
    "from sklearn.ensemble import RandomForestRegressor\n",
    "\n",
    "from numpy.random import RandomState "
   ]
  },
  {
   "cell_type": "markdown",
   "metadata": {},
   "source": [
    "# Секция 1 (EDA)\n",
    "<font size=\"3\">**1. Загрузка и подготовка данных.**</font>"
   ]
  },
  {
   "cell_type": "code",
   "execution_count": 4,
   "metadata": {},
   "outputs": [],
   "source": [
    "# загрузка данных\n",
    "# 3 файла - 3 месторождения\n",
    "\n",
    "df_geo_0 = pd.read_csv('datasets/geo_data_0.csv')\n",
    "df_geo_1 = pd.read_csv('datasets/geo_data_1.csv')\n",
    "df_geo_2 = pd.read_csv('datasets/geo_data_2.csv')"
   ]
  },
  {
   "cell_type": "code",
   "execution_count": 5,
   "metadata": {},
   "outputs": [
    {
     "name": "stdout",
     "output_type": "stream",
     "text": [
      "      id        f0        f1        f2     product\n",
      "0  txEyH  0.705745 -0.497823  1.221170  105.280062\n",
      "1  2acmU  1.334711 -0.340164  4.365080   73.037750\n",
      "2  409Wp  1.022732  0.151990  1.419926   85.265647\n",
      "3  iJLyR -0.032172  0.139033  2.978566  168.620776\n",
      "4  Xdl7t  1.988431  0.155413  4.751769  154.036647 \n",
      "\n",
      "      id         f0         f1        f2     product\n",
      "0  kBEdx -15.001348  -8.276000 -0.005876    3.179103\n",
      "1  62mP7  14.272088  -3.475083  0.999183   26.953261\n",
      "2  vyE1P   6.263187  -5.948386  5.001160  134.766305\n",
      "3  KcrkZ -13.081196 -11.506057  4.999415  137.945408\n",
      "4  AHL4O  12.702195  -8.147433  5.004363  134.766305 \n",
      "\n",
      "      id        f0        f1        f2     product\n",
      "0  fwXo0 -1.146987  0.963328 -0.828965   27.758673\n",
      "1  WJtFt  0.262778  0.269839 -2.530187   56.069697\n",
      "2  ovLUW  0.194587  0.289035 -5.586433   62.871910\n",
      "3  q6cA6  2.236060 -0.553760  0.930038  114.572842\n",
      "4  WPMUX -0.515993  1.716266  5.899011  149.600746\n"
     ]
    }
   ],
   "source": [
    "# проверка, правильно ли произошло считывание данных\n",
    "\n",
    "print(df_geo_0.head(),'\\n')\n",
    "print(df_geo_1.head(),'\\n')\n",
    "print(df_geo_2.head())\n",
    "\n",
    "# id — номера идентификаторы скважин\n",
    "# f0, f1, f2 — характеристики скважин (эти фичи без описания, но известно, что они )\n",
    "# product — объем запасов нефти в скважине (в тыс. баррелей)"
   ]
  },
  {
   "cell_type": "code",
   "execution_count": 6,
   "metadata": {},
   "outputs": [
    {
     "name": "stdout",
     "output_type": "stream",
     "text": [
      "Количество скважин: 100000\n"
     ]
    }
   ],
   "source": [
    "print('Количество скважин:', len(df_geo_0['id']))"
   ]
  },
  {
   "cell_type": "markdown",
   "metadata": {},
   "source": [
    "**Итак..** Данные загружены корректно. <br>\n",
    "В качестве скважин здесь принимаются непробуренные траектории скважин, поэтому их так много. Ни на одном месторождении не бывает такого количества пробуренных скважин."
   ]
  },
  {
   "cell_type": "code",
   "execution_count": 7,
   "metadata": {},
   "outputs": [
    {
     "name": "stdout",
     "output_type": "stream",
     "text": [
      "<class 'pandas.core.frame.DataFrame'>\n",
      "RangeIndex: 100000 entries, 0 to 99999\n",
      "Data columns (total 5 columns):\n",
      " #   Column   Non-Null Count   Dtype  \n",
      "---  ------   --------------   -----  \n",
      " 0   id       100000 non-null  object \n",
      " 1   f0       100000 non-null  float64\n",
      " 2   f1       100000 non-null  float64\n",
      " 3   f2       100000 non-null  float64\n",
      " 4   product  100000 non-null  float64\n",
      "dtypes: float64(4), object(1)\n",
      "memory usage: 3.8+ MB\n",
      "None \n",
      "\n",
      "<class 'pandas.core.frame.DataFrame'>\n",
      "RangeIndex: 100000 entries, 0 to 99999\n",
      "Data columns (total 5 columns):\n",
      " #   Column   Non-Null Count   Dtype  \n",
      "---  ------   --------------   -----  \n",
      " 0   id       100000 non-null  object \n",
      " 1   f0       100000 non-null  float64\n",
      " 2   f1       100000 non-null  float64\n",
      " 3   f2       100000 non-null  float64\n",
      " 4   product  100000 non-null  float64\n",
      "dtypes: float64(4), object(1)\n",
      "memory usage: 3.8+ MB\n",
      "None \n",
      "\n",
      "<class 'pandas.core.frame.DataFrame'>\n",
      "RangeIndex: 100000 entries, 0 to 99999\n",
      "Data columns (total 5 columns):\n",
      " #   Column   Non-Null Count   Dtype  \n",
      "---  ------   --------------   -----  \n",
      " 0   id       100000 non-null  object \n",
      " 1   f0       100000 non-null  float64\n",
      " 2   f1       100000 non-null  float64\n",
      " 3   f2       100000 non-null  float64\n",
      " 4   product  100000 non-null  float64\n",
      "dtypes: float64(4), object(1)\n",
      "memory usage: 3.8+ MB\n",
      "None\n"
     ]
    }
   ],
   "source": [
    "# вывод общих характеристик: тип данных, кол-во уникальных значений\n",
    "\n",
    "print(df_geo_0.info(),'\\n')\n",
    "print(df_geo_1.info(),'\\n')\n",
    "print(df_geo_2.info())"
   ]
  },
  {
   "cell_type": "markdown",
   "metadata": {},
   "source": [
    "**Отметим:** NA-values нет, *id* строка (OK), другие фичи имеют тип float (OK)"
   ]
  },
  {
   "cell_type": "code",
   "execution_count": 8,
   "metadata": {},
   "outputs": [
    {
     "name": "stdout",
     "output_type": "stream",
     "text": [
      "                  f0             f1             f2        product\n",
      "count  100000.000000  100000.000000  100000.000000  100000.000000\n",
      "mean        0.500419       0.250143       2.502647      92.500000\n",
      "std         0.871832       0.504433       3.248248      44.288691\n",
      "min        -1.408605      -0.848218     -12.088328       0.000000\n",
      "25%        -0.072580      -0.200881       0.287748      56.497507\n",
      "50%         0.502360       0.250252       2.515969      91.849972\n",
      "75%         1.073581       0.700646       4.715088     128.564089\n",
      "max         2.362331       1.343769      16.003790     185.364347 \n",
      "\n",
      "                  f0             f1             f2        product\n",
      "count  100000.000000  100000.000000  100000.000000  100000.000000\n",
      "mean        1.141296      -4.796579       2.494541      68.825000\n",
      "std         8.965932       5.119872       1.703572      45.944423\n",
      "min       -31.609576     -26.358598      -0.018144       0.000000\n",
      "25%        -6.298551      -8.267985       1.000021      26.953261\n",
      "50%         1.153055      -4.813172       2.011479      57.085625\n",
      "75%         8.621015      -1.332816       3.999904     107.813044\n",
      "max        29.421755      18.734063       5.019721     137.945408 \n",
      "\n",
      "                  f0             f1             f2        product\n",
      "count  100000.000000  100000.000000  100000.000000  100000.000000\n",
      "mean        0.002023      -0.002081       2.495128      95.000000\n",
      "std         1.732045       1.730417       3.473445      44.749921\n",
      "min        -8.760004      -7.084020     -11.970335       0.000000\n",
      "25%        -1.162288      -1.174820       0.130359      59.450441\n",
      "50%         0.009424      -0.009482       2.484236      94.925613\n",
      "75%         1.158535       1.163678       4.858794     130.595027\n",
      "max         7.238262       7.844801      16.739402     190.029838\n"
     ]
    }
   ],
   "source": [
    "# статистика:\n",
    "print(df_geo_0.describe(),'\\n')\n",
    "print(df_geo_1.describe(),'\\n')\n",
    "print(df_geo_2.describe())"
   ]
  },
  {
   "cell_type": "markdown",
   "metadata": {},
   "source": [
    "**Notice:**\n",
    "1. фичи (f0,f1,f2) могут иметь отрицательные значения\n",
    "2. средние значения (f0,f1) по разным месторождениям значительно отличаются f0:(0,5 -> 1,14 -> 0.002) и f1:(0.25 -> -4,79 -> -0,02)\n",
    "3. Среди значений есть выбросы: $\\mu + 3*\\sigma $ (подробнее ниже) <br>\n",
    "Наличие выбросов не означает, что необходимо фильтровать данные. По сути без дополнительной информации (что из себя представляют эти данные) не стоит очищать данные. <br>\n",
    "Вариант 1 (\"хороший\"). Выбросами могут оказаться самые лучшие по показателям скважины. <br>\n",
    "Вариант 2 (\"плохой\"). Выбросами могут оказаться скважины на границе месторождения, где более низкое качество сейсмических данных."
   ]
  },
  {
   "cell_type": "code",
   "execution_count": 9,
   "metadata": {},
   "outputs": [
    {
     "name": "stdout",
     "output_type": "stream",
     "text": [
      "geo_0:\n",
      "No outliers        for f0 mu+3*sigma: 3.1 great than 2.4\n",
      "No outliers        for f1 mu+3*sigma: 1.8 great than 1.3\n",
      "There are outliers for f2 mu+3*sigma: 1.2e+01 less than 1.6e+01\n",
      "\n",
      "geo_1:\n",
      "There are outliers for f0 mu+3*sigma: 2.8e+01 less than 2.9e+01\n",
      "There are outliers for f1 mu+3*sigma: 1.1e+01 less than 1.9e+01\n",
      "No outliers        for f2 mu+3*sigma: 7.6 great than 5.0\n",
      "\n",
      "geo_2:\n",
      "There are outliers for f0 mu+3*sigma: 5.2 less than 7.2\n",
      "There are outliers for f1 mu+3*sigma: 5.2 less than 7.8\n",
      "There are outliers for f2 mu+3*sigma: 1.3e+01 less than 1.7e+01\n"
     ]
    }
   ],
   "source": [
    "# ниже идет вывод параметров, по которым наблюдаются выбросы, это сделано для каждого месторождения\n",
    "# в данном случае критерий mu+3*sigma\n",
    "\n",
    "def print_outliers(df_column):\n",
    "    three_sigma = df_column.mean() + 3 * df_column.std()\n",
    "    maximum = df_column.max()\n",
    "    if three_sigma >= maximum :\n",
    "        print ('No outliers        for {:} mu+3*sigma: {:.2} great than {:.2}'.format(\n",
    "                                                df_column.name, three_sigma, maximum))\n",
    "    else:\n",
    "        print ('There are outliers for {:} mu+3*sigma: {:.2} less than {:.2}'.format(\n",
    "                                                df_column.name, three_sigma, maximum))\n",
    "\n",
    "print('geo_0:')\n",
    "print_outliers(df_geo_0.f0)\n",
    "print_outliers(df_geo_0.f1)\n",
    "print_outliers(df_geo_0.f2)\n",
    "print()\n",
    "\n",
    "print('geo_1:')\n",
    "print_outliers(df_geo_1.f0)\n",
    "print_outliers(df_geo_1.f1)\n",
    "print_outliers(df_geo_1.f2)\n",
    "print()\n",
    "\n",
    "print('geo_2:')\n",
    "print_outliers(df_geo_2.f0)\n",
    "print_outliers(df_geo_2.f1)\n",
    "print_outliers(df_geo_2.f2)"
   ]
  },
  {
   "cell_type": "code",
   "execution_count": 10,
   "metadata": {},
   "outputs": [
    {
     "name": "stdout",
     "output_type": "stream",
     "text": [
      "There are 0 duplicates in df_geo_0\n",
      "There are 0 duplicates in df_geo_1\n",
      "There are 0 duplicates in df_geo_2\n"
     ]
    }
   ],
   "source": [
    "# проверка наличия дубликатов\n",
    "print('There are {:} duplicates in df_geo_0'.format(df_geo_0.duplicated().sum()))\n",
    "print('There are {:} duplicates in df_geo_1'.format(df_geo_1.duplicated().sum()))\n",
    "print('There are {:} duplicates in df_geo_2'.format(df_geo_2.duplicated().sum()))"
   ]
  },
  {
   "cell_type": "markdown",
   "metadata": {},
   "source": [
    "**Итак...** Дубликатов нет, нет необходимости фильтровать данные."
   ]
  },
  {
   "cell_type": "code",
   "execution_count": 11,
   "metadata": {},
   "outputs": [
    {
     "name": "stdout",
     "output_type": "stream",
     "text": [
      "geo_0:\n",
      "f0 unique values: 100000\n",
      "f1 unique values: 100000\n",
      "f2 unique values: 100000\n",
      "product unique values: 100000\n",
      "\n",
      "geo_1:\n",
      "f0 unique values: 100000\n",
      "f1 unique values: 100000\n",
      "f2 unique values: 100000\n",
      "product unique values: 100000\n",
      "\n",
      "geo_2:\n",
      "f0 unique values: 100000\n",
      "f1 unique values: 100000\n",
      "f2 unique values: 100000\n",
      "product unique values: 100000\n",
      "\n"
     ]
    }
   ],
   "source": [
    "# проверка данных на уникальность значений\n",
    "\n",
    "def print_num_uniques(df_column):\n",
    "    print('{:} unique values: {:}'.format(df_column.name, len(df_geo_0['f0'].unique())))\n",
    "\n",
    "print('geo_0:')\n",
    "print_num_uniques(df_geo_0['f0'])\n",
    "print_num_uniques(df_geo_0['f1'])\n",
    "print_num_uniques(df_geo_0['f2'])\n",
    "print_num_uniques(df_geo_0['product'])\n",
    "print()\n",
    "\n",
    "print('geo_1:')\n",
    "print_num_uniques(df_geo_1['f0'])\n",
    "print_num_uniques(df_geo_1['f1'])\n",
    "print_num_uniques(df_geo_1['f2'])\n",
    "print_num_uniques(df_geo_1['product'])\n",
    "print()\n",
    "\n",
    "print('geo_2:')\n",
    "print_num_uniques(df_geo_2['f0'])\n",
    "print_num_uniques(df_geo_2['f1'])\n",
    "print_num_uniques(df_geo_2['f2'])\n",
    "print_num_uniques(df_geo_2['product'])\n",
    "print()"
   ]
  },
  {
   "cell_type": "markdown",
   "metadata": {},
   "source": [
    "**Итак...** Все значения уникальны"
   ]
  },
  {
   "cell_type": "code",
   "execution_count": 12,
   "metadata": {
    "scrolled": true
   },
   "outputs": [
    {
     "name": "stdout",
     "output_type": "stream",
     "text": [
      "[[<AxesSubplot:title={'center':'f0'}> <AxesSubplot:title={'center':'f1'}>]\n",
      " [<AxesSubplot:title={'center':'f2'}>\n",
      "  <AxesSubplot:title={'center':'product'}>]]\n",
      "[[<AxesSubplot:title={'center':'f0'}> <AxesSubplot:title={'center':'f1'}>]\n",
      " [<AxesSubplot:title={'center':'f2'}>\n",
      "  <AxesSubplot:title={'center':'product'}>]]\n",
      "[[<AxesSubplot:title={'center':'f0'}> <AxesSubplot:title={'center':'f1'}>]\n",
      " [<AxesSubplot:title={'center':'f2'}>\n",
      "  <AxesSubplot:title={'center':'product'}>]]\n"
     ]
    },
    {
     "data": {
      "image/png": "[encoded data removed]",
      "text/plain": [
       "<Figure size 432x288 with 4 Axes>"
      ]
     },
     "metadata": {
      "needs_background": "light"
     },
     "output_type": "display_data"
    },
    {
     "data": {
      "image/png": "[encoded data removed]",
      "text/plain": [
       "<Figure size 432x288 with 4 Axes>"
      ]
     },
     "metadata": {
      "needs_background": "light"
     },
     "output_type": "display_data"
    },
    {
     "data": {
      "image/png": "[encoded data removed]",
      "text/plain": [
       "<Figure size 432x288 with 4 Axes>"
      ]
     },
     "metadata": {
      "needs_background": "light"
     },
     "output_type": "display_data"
    }
   ],
   "source": [
    "# вывод гистограмм (визуальное изучение данных)\n",
    "\n",
    "print(df_geo_0.hist())\n",
    "print(df_geo_1.hist())\n",
    "print(df_geo_2.hist())"
   ]
  },
  {
   "cell_type": "markdown",
   "metadata": {},
   "source": [
    "**Отметим:** все фичи и целевое значение df_geo_0 визуально имеют нормальное распределение"
   ]
  },
  {
   "cell_type": "code",
   "execution_count": 13,
   "metadata": {
    "scrolled": true
   },
   "outputs": [
    {
     "name": "stdout",
     "output_type": "stream",
     "text": [
      "df_geo_0:\n",
      "P-value of f0: 0.0\n",
      "P-value of f1: 0.0\n",
      "P-value of f2: 2.5829362598194747e-13\n",
      "P-value of product: 0.0\n",
      "df_geo_1:\n",
      "P-value of f0: 0.0\n",
      "P-value of f1: 0.03276406499792999\n",
      "P-value of f2: 0.0\n",
      "P-value of product: 0.0\n",
      "df_geo_2:\n",
      "P-value of f0: 0.5371167431415932\n",
      "P-value of f1: 0.11763198211551353\n",
      "P-value of f2: 2.873142751023688e-05\n",
      "P-value of product: 0.0\n"
     ]
    }
   ],
   "source": [
    "# проверка гипотезы (нормальное ли распределение)\n",
    "# null hypothesis: фичи и целевая функция распределены нормально\n",
    "# используется библиотека stats и функция normaltest (критерий Пирсона)\n",
    "# выводится P-value\n",
    "\n",
    "print('df_geo_0:')\n",
    "for name_col in df_geo_0:\n",
    "    if name_col != 'id':\n",
    "        print('P-value of {:}: {:}'.format(name_col, st.normaltest(df_geo_0[name_col]).pvalue))\n",
    "\n",
    "print('df_geo_1:')\n",
    "for name_col in df_geo_1:\n",
    "    if name_col != 'id':\n",
    "        print('P-value of {:}: {:}'.format(name_col, st.normaltest(df_geo_1[name_col]).pvalue))\n",
    "        \n",
    "print('df_geo_2:')\n",
    "for name_col in df_geo_2:\n",
    "    if name_col != 'id':\n",
    "        print('P-value of {:}: {:}'.format(name_col, st.normaltest(df_geo_2[name_col]).pvalue))"
   ]
  },
  {
   "cell_type": "markdown",
   "metadata": {},
   "source": [
    "**Отметим:** мы можем отвергнуть гипотезу если $P_{value} < \\alpha$ <br>\n",
    "Для $\\alpha=0.05$ мы можем с уверенностью отвергнуть все кроме df_geo_2['f0'] и df_geo_2['f1'] <br>\n",
    "Хотя казалось визуально, что данные распределены нормально, но это оказалось не так."
   ]
  },
  {
   "cell_type": "markdown",
   "metadata": {},
   "source": [
    "# Результат по Секции 1\n",
    "<font size=\"2\">\n",
    "1. <b> Данные были загружены корректно </b>. Получили 3 таблицы. <br>\n",
    "2. Нет NA-values и дубликатов. Все значения уникальны. <br>\n",
    "3. Типы данных корректны по смыслу. <br>\n",
    "4. <b> Exploratory Data Analysis(EDA) здесь не нужен </b>. Данные подготовлены достаточно, чтобы на их основе можно было построить модель. <br>\n",
    "5. df_geo_2['f0'] и df_geo_2['f1'] по критерию Пирсона распределены нормально\n",
    "    \n",
    "    \n"
   ]
  },
  {
   "cell_type": "markdown",
   "metadata": {},
   "source": [
    "# Секция 2\n",
    "Необходиом обучить и протестировать модель для каждого региона:<br>\n",
    "В данном случае для обучения будет использоваться только линейная модель"
   ]
  },
  {
   "cell_type": "code",
   "execution_count": 14,
   "metadata": {},
   "outputs": [],
   "source": [
    "# вводится функция, чтобы не дублировать расчеты для каждого региона\n",
    "# линейная модель позволяет за секунды проводить расчеты\n",
    "\n",
    "def rmse_linear_model(df):\n",
    "    features = df[['f0','f1','f2']] # we don't use id, as it doesn't influence on the target value\n",
    "    target = df['product']\n",
    "\n",
    "    features_train, features_valid, target_train, target_valid = train_test_split(\n",
    "                    features, target, test_size=0.25, random_state=12345)\n",
    "\n",
    "    model = LinearRegression()\n",
    "    model.fit(features_train, target_train)\n",
    "    predicted_valid = model.predict(features_valid)\n",
    "    print('RMSE: {:.2f}'.format(mean_squared_error(target_valid, predicted_valid)**0.5))\n",
    "    return model.predict(features)"
   ]
  },
  {
   "cell_type": "code",
   "execution_count": 18,
   "metadata": {
    "scrolled": false
   },
   "outputs": [
    {
     "name": "stdout",
     "output_type": "stream",
     "text": [
      "Region 0:\n",
      "RMSE: 37.58\n",
      "Region 1:\n",
      "RMSE: 0.89\n",
      "Region 2:\n",
      "RMSE: 40.03\n"
     ]
    }
   ],
   "source": [
    "# вывод RMSE\n",
    "\n",
    "print('Region 0:')\n",
    "predicted_values = rmse_linear_model(df_geo_0)\n",
    "df_geo_0['prod_predicted'] = predicted_values\n",
    "print('Region 1:')\n",
    "predicted_values = rmse_linear_model(df_geo_1)\n",
    "df_geo_1['prod_predicted'] = predicted_values\n",
    "print('Region 2:')\n",
    "predicted_values = rmse_linear_model(df_geo_2)\n",
    "df_geo_2['prod_predicted'] = predicted_values"
   ]
  },
  {
   "cell_type": "code",
   "execution_count": 16,
   "metadata": {},
   "outputs": [],
   "source": [
    "# сравнение расчета и целевого параметра\n",
    "\n",
    "def plot_predictions(x,y):\n",
    "    plt.figure()\n",
    "    plt.plot(x, y, '.')\n",
    "    plt.plot([0, 200], [0, 200], linestyle='--')\n",
    "    #plt.xlim(0,1)\n",
    "    #plt.ylim(0,1)\n",
    "    plt.ylabel(\"Product\")\n",
    "    plt.xlabel(\"Predited reserves\")\n",
    "    plt.title(\"Predicted vs True\")\n",
    "    plt.show()"
   ]
  },
  {
   "cell_type": "code",
   "execution_count": 17,
   "metadata": {
    "scrolled": true
   },
   "outputs": [
    {
     "name": "stdout",
     "output_type": "stream",
     "text": [
      "Region 0:\n"
     ]
    },
    {
     "data": {
      "image/png": "[encoded data removed]",
      "text/plain": [
       "<Figure size 432x288 with 1 Axes>"
      ]
     },
     "metadata": {
      "needs_background": "light"
     },
     "output_type": "display_data"
    },
    {
     "name": "stdout",
     "output_type": "stream",
     "text": [
      "Region 1:\n"
     ]
    },
    {
     "data": {
      "image/png": "[encoded data removed]",
      "text/plain": [
       "<Figure size 432x288 with 1 Axes>"
      ]
     },
     "metadata": {
      "needs_background": "light"
     },
     "output_type": "display_data"
    },
    {
     "name": "stdout",
     "output_type": "stream",
     "text": [
      "Region 2:\n"
     ]
    },
    {
     "data": {
      "image/png": "[encoded data removed]",
      "text/plain": [
       "<Figure size 432x288 with 1 Axes>"
      ]
     },
     "metadata": {
      "needs_background": "light"
     },
     "output_type": "display_data"
    }
   ],
   "source": [
    "print('Region 0:')\n",
    "plot_predictions(df_geo_0['prod_predicted'],df_geo_0['product'])\n",
    "print('Region 1:')\n",
    "plot_predictions(df_geo_1['prod_predicted'],df_geo_1['product'])\n",
    "print('Region 2:')\n",
    "plot_predictions(df_geo_2['prod_predicted'],df_geo_2['product'])"
   ]
  },
  {
   "cell_type": "markdown",
   "metadata": {},
   "source": [
    "# Результаты по секции 2\n",
    "<font size=\"2\">\n",
    "1. Была разработана линейная модель для расчета целевой функции (объема запасов нефти) <br>\n",
    "2. На графике хорошо видно, качество модели и почему RMSE для регионов 0 и 2 значительно выше. В целом такой прогноз для регионов 0 и 2 с трудом можно назвать удовлетворительным. Разброс данных очень значительный. <br>\n",
    "3. Довольно неплохой прогноз для Region 1 (RMSE is 0.89). Данные по всей видимости синтетические, так как \"облака данных\" лежат практически на прямой. <br>"
   ]
  },
  {
   "cell_type": "markdown",
   "metadata": {},
   "source": [
    "# Секция 3\n",
    "Расчет прибыли для каждого месторождения. <br>\n",
    "Определение объема запасов достаточного для безубыточной разработки новой скважины. <br>\n",
    "Сравнение полученного значения со средним объемом запасов в каждом регионе. <br>"
   ]
  },
  {
   "cell_type": "code",
   "execution_count": 19,
   "metadata": {},
   "outputs": [],
   "source": [
    "# key values\n",
    "num_wells_region = 500 # study of 500 points is carried\n",
    "num_wells_best = 200   # pick the best 200 points for the profit calculation\n",
    "budget = 1e8           # budget to drill best wells\n",
    "price_barrel = 4.5     # price of 1 barrel\n",
    "risk_bound = 0.025     # keep only the regions with the risk of losses lower than 2.5%"
   ]
  },
  {
   "cell_type": "code",
   "execution_count": 20,
   "metadata": {},
   "outputs": [
    {
     "name": "stdout",
     "output_type": "stream",
     "text": [
      " Total volume of reserves we should obtain in case of zero profit: 2e+04 thousand of barrels\n",
      " The volume of reserves sufficient for developing a new well without losses: 111.11 thousand of barrels\n"
     ]
    }
   ],
   "source": [
    "# calculate cost of 1 well based on total budget\n",
    "cost_one_well = 1.0 * budget / num_wells_best\n",
    "\n",
    "# calculate what volume of reserves we need to obtain based on the available budget\n",
    "volume_reserves_zero_profit = 1.0 * budget / price_barrel\n",
    "# print it\n",
    "text = 'Total volume of reserves we should obtain in case of zero profit:'\n",
    "print(' {:} {:.1} thousand of barrels'.format(text, volume_reserves_zero_profit / 1000))\n",
    "\n",
    "# calculate what volume of reserves **by 1 well** we need to obtain\n",
    "volume_reserves_one_well_zero_profit = 1.0 * budget / price_barrel / num_wells_best\n",
    "# print it\n",
    "text = 'The volume of reserves sufficient for developing a new well without losses:'\n",
    "print(' {:} {:.2f} thousand of barrels'.format(text, volume_reserves_one_well_zero_profit / 1000))"
   ]
  },
  {
   "cell_type": "markdown",
   "metadata": {},
   "source": [
    "**Отметим**\n",
    "Средний объем прогнозируемых запасов по регионам: Region 0: 92.59; Region 1: 68.73; Region 2: 94.97;  <br>\n",
    "Объем запасов достаточный для разработки скважины без потерь: 111.11\n",
    "Таким образом наша экономика (когда мы рассчитываем средний объем для всех скважин отрицательная (невыгодная).\n",
    "Тем не менее станет лучше, если будут выбраны наилучшие скважины, особенно, если модель позволяет делать качественный прогноз."
   ]
  },
  {
   "cell_type": "markdown",
   "metadata": {},
   "source": [
    "# Результат секции 3\n",
    "<font size=\"2\">\n",
    "1. Теперь мы готовы оценить прибыль для каждого региона. <br>\n",
    "2. В нашем бюджете предусмотрено бурение 200 нефтяных скважин. Безубыточный объем запасов в одной скважине составляет 111,11 тыс. баррелей. По нашей модели каждая скважина в Районе 0 в среднем может дать нам 92,59 тыс баррелей (меньше). Однако среднее значение не дает нам информации об отклонениях от него. Если у нас есть очень хорошая модель и если стандартное отклонение высокое, мы получим хороший экономический результат на следующем шаге. <br>\n",
    "3. Можно предположить, что регион 1 имеет хорошие шансы стать лучшим регионом. Ниже проводится проверка этого предположения."
   ]
  },
  {
   "cell_type": "markdown",
   "metadata": {},
   "source": [
    "# Секция 4\n",
    "Функция для расчета прибыли от набора выбранных нефтяных скважин и прогнозных значений.\n",
    "Рекомендации района разработки нефтяных скважин.\n",
    "Расчет прибыли по полученному объему запасов."
   ]
  },
  {
   "cell_type": "code",
   "execution_count": 22,
   "metadata": {},
   "outputs": [],
   "source": [
    "# define funtion to calculate profit of the wells\n",
    "def calculate_profit(model_volume, real_volume, num):\n",
    "    index_best_well = model_volume.sort_values(ascending=False)[:num].index # find index of the best wells\n",
    "    real_volume = real_volume[index_best_well] # find real volume of reserves in the best wells\n",
    "    total_volume = real_volume.sum() # return total volume of reserves in the best wells\n",
    "    return total_volume * price_barrel * 1e3 - budget # return profit (revenue minus budget)"
   ]
  },
  {
   "cell_type": "code",
   "execution_count": 19,
   "metadata": {
    "scrolled": false
   },
   "outputs": [
    {
     "name": "stdout",
     "output_type": "stream",
     "text": [
      "Region0 profit: 1967713.97\n",
      "Region1 profit: 3121725.38\n",
      "Region2 profit: -173046.57\n"
     ]
    }
   ],
   "source": [
    "sample = df_geo_0.sample(num_wells_region, random_state=12345)\n",
    "print('Region0 profit: {:.2f}'.format(calculate_profit(sample['prod_predicted'], sample['product'], num_wells_best)))\n",
    "sample = df_geo_1.sample(num_wells_region, random_state=12345)\n",
    "print('Region1 profit: {:.2f}'.format(calculate_profit(sample['prod_predicted'], sample['product'], num_wells_best)))\n",
    "sample = df_geo_2.sample(num_wells_region, random_state=12345)\n",
    "print('Region2 profit: {:.2f}'.format(calculate_profit(sample['prod_predicted'], sample['product'], num_wells_best)))"
   ]
  },
  {
   "cell_type": "markdown",
   "metadata": {},
   "source": [
    "**Отметим** <br>\n",
    "! Эти расчеты выполнены для рандомных выборок !\n",
    "1. Нельзя выбрать наилучший регион, основываясь только на этих данных, потому что выбор скважин производился случайным образом.\n",
    "Можно предворительно предположить, что наилуший регион Region 1.\n",
    "2. Доход по Region1 (103.1 mln USD) > бюджет (100.0 mln USD). Это хороший знак, значит можно сделать проект экономически целесообразным."
   ]
  },
  {
   "cell_type": "markdown",
   "metadata": {},
   "source": [
    "# Результат по секции 4\n",
    "<font size=\"2\">\n",
    "1. Функция для расчета прибыли написана. <br>\n",
    "2. Region1 имеет положительный баланс доходы/затраты, разница +3 mln USD"
   ]
  },
  {
   "cell_type": "markdown",
   "metadata": {},
   "source": [
    "# Секция 5\n",
    "Расчет рисков и прибыли по каждому региону <br>\n",
    "Оценка рисков"
   ]
  },
  {
   "cell_type": "code",
   "execution_count": 26,
   "metadata": {
    "scrolled": true
   },
   "outputs": [],
   "source": [
    "# save profits during bootstrapping\n",
    "state = RandomState(12345)\n",
    "\n",
    "profit_region_0 = []\n",
    "profit_region_1 = []\n",
    "profit_region_2 = []\n",
    "\n",
    "for k in range(1000):\n",
    "    sample = df_geo_0.sample(num_wells_region, replace=True, random_state=state)\n",
    "    profit_region_0.append(calculate_profit(sample['prod_predicted'], sample['product'], num_wells_best))\n",
    "    \n",
    "    sample = df_geo_1.sample(num_wells_region, random_state=state)\n",
    "    profit_region_1.append(calculate_profit(sample['prod_predicted'], sample['product'], num_wells_best))\n",
    "    \n",
    "    sample = df_geo_2.sample(num_wells_region, random_state=state)\n",
    "    profit_region_2.append(calculate_profit(sample['prod_predicted'], sample['product'], num_wells_best))\n",
    "\n"
   ]
  },
  {
   "cell_type": "code",
   "execution_count": 27,
   "metadata": {},
   "outputs": [
    {
     "name": "stdout",
     "output_type": "stream",
     "text": [
      "Average profit Region 0: 4.7925069866251775 mln USD\n",
      "Average profit Region 1: 4.553627114171752 mln USD\n",
      "Average profit Region 2: 3.591671708230166 mln USD\n"
     ]
    }
   ],
   "source": [
    "# find average profit\n",
    "average_profit_region_0 = pd.Series(profit_region_0).mean()\n",
    "average_profit_region_1 = pd.Series(profit_region_1).mean()\n",
    "average_profit_region_2 = pd.Series(profit_region_2).mean()\n",
    "print('Average profit Region 0:', average_profit_region_0 / 1000000, 'mln USD')\n",
    "print('Average profit Region 1:', average_profit_region_1 / 1000000, 'mln USD')\n",
    "print('Average profit Region 2:', average_profit_region_2 / 1000000, 'mln USD')"
   ]
  },
  {
   "cell_type": "markdown",
   "metadata": {},
   "source": [
    "**Итак:** По каждому региону средний профит положительный. Наименьший для региона Region 2  +3.6 mln USD, наибольший для региона Region 0 + 4.8 mln USD."
   ]
  },
  {
   "cell_type": "code",
   "execution_count": 28,
   "metadata": {
    "scrolled": true
   },
   "outputs": [
    {
     "name": "stdout",
     "output_type": "stream",
     "text": [
      "Region 0 confidence interval 95%: (4620789.20141389, 4964224.771836465)\n",
      "Region 1 confidence interval 95%: (4426591.372906484, 4680662.85543702)\n",
      "Region 2 confidence interval 95%: (3426040.109735584, 3757303.3067247476)\n"
     ]
    }
   ],
   "source": [
    "# 95% confidence interval using the Student distribution\n",
    "confidence_interval = st.t.interval(0.95, len(profit_region_0)-1, \n",
    "                                    loc=pd.Series(profit_region_0).mean(),\n",
    "                                    scale=pd.Series(profit_region_0).sem()) \n",
    "\n",
    "print(\"Region 0 confidence interval 95%:\", confidence_interval)\n",
    "\n",
    "# 95% confidence interval using the Student distribution\n",
    "confidence_interval = st.t.interval(0.95, len(profit_region_1)-1, \n",
    "                                    loc=pd.Series(profit_region_1).mean(),\n",
    "                                    scale=pd.Series(profit_region_1).sem()) \n",
    "\n",
    "print(\"Region 1 confidence interval 95%:\", confidence_interval)\n",
    "\n",
    "# 95% confidence interval using the Student distribution\n",
    "confidence_interval = st.t.interval(0.95, len(profit_region_2)-1, \n",
    "                                    loc=pd.Series(profit_region_2).mean(),\n",
    "                                    scale=pd.Series(profit_region_2).sem()) \n",
    "\n",
    "print(\"Region 2 confidence interval 95%:\", confidence_interval)"
   ]
  },
  {
   "cell_type": "markdown",
   "metadata": {},
   "source": [
    "**Отметим:** Наблюдается положительный баланс в 95% доверительном интервале"
   ]
  },
  {
   "cell_type": "code",
   "execution_count": 29,
   "metadata": {},
   "outputs": [
    {
     "data": {
      "text/plain": [
       "<AxesSubplot:>"
      ]
     },
     "execution_count": 29,
     "metadata": {},
     "output_type": "execute_result"
    },
    {
     "data": {
      "image/png": "[encoded data removed]",
      "text/plain": [
       "<Figure size 432x288 with 1 Axes>"
      ]
     },
     "metadata": {
      "needs_background": "light"
     },
     "output_type": "display_data"
    }
   ],
   "source": [
    "pd.Series(profit_region_0).hist()"
   ]
  },
  {
   "cell_type": "code",
   "execution_count": 30,
   "metadata": {
    "scrolled": true
   },
   "outputs": [
    {
     "name": "stdout",
     "output_type": "stream",
     "text": [
      "Region 0 risk of looses: 4.8%\n",
      "Region 1 risk of looses: 1.4%\n",
      "Region 2 risk of looses: 8.8%\n"
     ]
    }
   ],
   "source": [
    "# risk of looses determined by the negative profit\n",
    "print('Region 0 risk of looses: {:}%'.format(st.percentileofscore(pd.Series(profit_region_0), 0)))\n",
    "print('Region 1 risk of looses: {:}%'.format(st.percentileofscore(pd.Series(profit_region_1), 0)))\n",
    "print('Region 2 risk of looses: {:}%'.format(st.percentileofscore(pd.Series(profit_region_2), 0)))"
   ]
  },
  {
   "cell_type": "markdown",
   "metadata": {},
   "source": [
    "# Результат Секции 5\n",
    "\n",
    "1. Наилучший регион - это Region 1. Здесь наименьшие риски для достижения положительного баланса экономики (всего 1.4%), более того, здесь высокие значения профита в диапазоне (4426591.372906486, 4680662.855437022) USD в доверительном интервале 95% <br>\n",
    "</div>\n",
    "2. Другие регионы уступают (Region 1: 4.8%, Region 2: 8.8%). <br>\n",
    "Region 0 confidence interval 95%: (4620789.201413887, 4964224.7718364615) <br>\n",
    "Region 2 confidence interval 95%: (3426040.1097355834, 3757303.306724747)"
   ]
  },
  {
   "cell_type": "markdown",
   "metadata": {},
   "source": [
    "# Вывод"
   ]
  },
  {
   "cell_type": "markdown",
   "metadata": {},
   "source": [
    "Наилучшее решение - это разработка региона **Region 1** <br>\n",
    "Здесь наименьший шанс для того, чтобы экономика перестала быть выгодной меньше 1.5% <br>\n",
    "При этом эттот регион потенциально может дать самую высокую прибыль. <br>\n",
    "Для этого региона была разработана хорошая линейная модель RMSE составляет 0,89. <br>\n",
    "Анализируя более тщательно каждую скважину, можно будет еще улучшить эти показатели.\n"
   ]
  },
  {
   "cell_type": "code",
   "execution_count": null,
   "metadata": {},
   "outputs": [],
   "source": []
  }
 ],
 "metadata": {
  "kernelspec": {
   "display_name": "Python 3 (ipykernel)",
   "language": "python",
   "name": "python3"
  },
  "language_info": {
   "codemirror_mode": {
    "name": "ipython",
    "version": 3
   },
   "file_extension": ".py",
   "mimetype": "text/x-python",
   "name": "python",
   "nbconvert_exporter": "python",
   "pygments_lexer": "ipython3",
   "version": "3.9.7"
  },
  "toc": {
   "base_numbering": 1,
   "nav_menu": {},
   "number_sections": true,
   "sideBar": true,
   "skip_h1_title": true,
   "title_cell": "Table of Contents",
   "title_sidebar": "Contents",
   "toc_cell": false,
   "toc_position": {},
   "toc_section_display": true,
   "toc_window_display": false
  }
 },
 "nbformat": 4,
 "nbformat_minor": 2
}
