{
 "cells": [
  {
   "cell_type": "markdown",
   "metadata": {},
   "source": [
    "# Analyzing borrowers’ risk of defaulting¶\n",
    "Your project is to prepare a report for a bank’s loan division. You’ll need to find out if a customer’s marital status and number of children has an impact on whether they will default on a loan. The bank already has some data on customers’ credit worthiness.\n",
    "\n",
    "Your report will be considered when building a credit scoring of a potential customer. A ** credit scoring ** is used to evaluate the ability of a potential borrower to repay their loan."
   ]
  },
  {
   "cell_type": "markdown",
   "metadata": {},
   "source": [
    "### Step 1. Open the data file and have a look at the general information."
   ]
  },
  {
   "cell_type": "code",
   "execution_count": 560,
   "metadata": {},
   "outputs": [],
   "source": [
    "import pandas as pd\n",
    "\n",
    "data_loan = pd.read_csv('credit_scoring_eng.csv')"
   ]
  },
  {
   "cell_type": "code",
   "execution_count": 561,
   "metadata": {},
   "outputs": [
    {
     "name": "stdout",
     "output_type": "stream",
     "text": [
      "<class 'pandas.core.frame.DataFrame'>\n",
      "RangeIndex: 21525 entries, 0 to 21524\n",
      "Data columns (total 12 columns):\n",
      " #   Column            Non-Null Count  Dtype  \n",
      "---  ------            --------------  -----  \n",
      " 0   children          21525 non-null  int64  \n",
      " 1   days_employed     19351 non-null  float64\n",
      " 2   dob_years         21525 non-null  int64  \n",
      " 3   education         21525 non-null  object \n",
      " 4   education_id      21525 non-null  int64  \n",
      " 5   family_status     21525 non-null  object \n",
      " 6   family_status_id  21525 non-null  int64  \n",
      " 7   gender            21525 non-null  object \n",
      " 8   income_type       21525 non-null  object \n",
      " 9   debt              21525 non-null  int64  \n",
      " 10  total_income      19351 non-null  float64\n",
      " 11  purpose           21525 non-null  object \n",
      "dtypes: float64(2), int64(5), object(5)\n",
      "memory usage: 2.0+ MB\n"
     ]
    }
   ],
   "source": [
    "data_loan.info()"
   ]
  },
  {
   "cell_type": "code",
   "execution_count": 562,
   "metadata": {},
   "outputs": [
    {
     "data": {
      "text/html": [
       "<div>\n",
       "<style scoped>\n",
       "    .dataframe tbody tr th:only-of-type {\n",
       "        vertical-align: middle;\n",
       "    }\n",
       "\n",
       "    .dataframe tbody tr th {\n",
       "        vertical-align: top;\n",
       "    }\n",
       "\n",
       "    .dataframe thead th {\n",
       "        text-align: right;\n",
       "    }\n",
       "</style>\n",
       "<table border=\"1\" class=\"dataframe\">\n",
       "  <thead>\n",
       "    <tr style=\"text-align: right;\">\n",
       "      <th></th>\n",
       "      <th>children</th>\n",
       "      <th>days_employed</th>\n",
       "      <th>dob_years</th>\n",
       "      <th>education</th>\n",
       "      <th>education_id</th>\n",
       "      <th>family_status</th>\n",
       "      <th>family_status_id</th>\n",
       "      <th>gender</th>\n",
       "      <th>income_type</th>\n",
       "      <th>debt</th>\n",
       "      <th>total_income</th>\n",
       "      <th>purpose</th>\n",
       "    </tr>\n",
       "  </thead>\n",
       "  <tbody>\n",
       "    <tr>\n",
       "      <th>0</th>\n",
       "      <td>1</td>\n",
       "      <td>-8437.673028</td>\n",
       "      <td>42</td>\n",
       "      <td>bachelor's degree</td>\n",
       "      <td>0</td>\n",
       "      <td>married</td>\n",
       "      <td>0</td>\n",
       "      <td>F</td>\n",
       "      <td>employee</td>\n",
       "      <td>0</td>\n",
       "      <td>40620.102</td>\n",
       "      <td>purchase of the house</td>\n",
       "    </tr>\n",
       "    <tr>\n",
       "      <th>1</th>\n",
       "      <td>1</td>\n",
       "      <td>-4024.803754</td>\n",
       "      <td>36</td>\n",
       "      <td>secondary education</td>\n",
       "      <td>1</td>\n",
       "      <td>married</td>\n",
       "      <td>0</td>\n",
       "      <td>F</td>\n",
       "      <td>employee</td>\n",
       "      <td>0</td>\n",
       "      <td>17932.802</td>\n",
       "      <td>car purchase</td>\n",
       "    </tr>\n",
       "    <tr>\n",
       "      <th>2</th>\n",
       "      <td>0</td>\n",
       "      <td>-5623.422610</td>\n",
       "      <td>33</td>\n",
       "      <td>Secondary Education</td>\n",
       "      <td>1</td>\n",
       "      <td>married</td>\n",
       "      <td>0</td>\n",
       "      <td>M</td>\n",
       "      <td>employee</td>\n",
       "      <td>0</td>\n",
       "      <td>23341.752</td>\n",
       "      <td>purchase of the house</td>\n",
       "    </tr>\n",
       "    <tr>\n",
       "      <th>3</th>\n",
       "      <td>3</td>\n",
       "      <td>-4124.747207</td>\n",
       "      <td>32</td>\n",
       "      <td>secondary education</td>\n",
       "      <td>1</td>\n",
       "      <td>married</td>\n",
       "      <td>0</td>\n",
       "      <td>M</td>\n",
       "      <td>employee</td>\n",
       "      <td>0</td>\n",
       "      <td>42820.568</td>\n",
       "      <td>supplementary education</td>\n",
       "    </tr>\n",
       "    <tr>\n",
       "      <th>4</th>\n",
       "      <td>0</td>\n",
       "      <td>340266.072047</td>\n",
       "      <td>53</td>\n",
       "      <td>secondary education</td>\n",
       "      <td>1</td>\n",
       "      <td>civil partnership</td>\n",
       "      <td>1</td>\n",
       "      <td>F</td>\n",
       "      <td>retiree</td>\n",
       "      <td>0</td>\n",
       "      <td>25378.572</td>\n",
       "      <td>to have a wedding</td>\n",
       "    </tr>\n",
       "    <tr>\n",
       "      <th>5</th>\n",
       "      <td>0</td>\n",
       "      <td>-926.185831</td>\n",
       "      <td>27</td>\n",
       "      <td>bachelor's degree</td>\n",
       "      <td>0</td>\n",
       "      <td>civil partnership</td>\n",
       "      <td>1</td>\n",
       "      <td>M</td>\n",
       "      <td>business</td>\n",
       "      <td>0</td>\n",
       "      <td>40922.170</td>\n",
       "      <td>purchase of the house</td>\n",
       "    </tr>\n",
       "    <tr>\n",
       "      <th>6</th>\n",
       "      <td>0</td>\n",
       "      <td>-2879.202052</td>\n",
       "      <td>43</td>\n",
       "      <td>bachelor's degree</td>\n",
       "      <td>0</td>\n",
       "      <td>married</td>\n",
       "      <td>0</td>\n",
       "      <td>F</td>\n",
       "      <td>business</td>\n",
       "      <td>0</td>\n",
       "      <td>38484.156</td>\n",
       "      <td>housing transactions</td>\n",
       "    </tr>\n",
       "    <tr>\n",
       "      <th>7</th>\n",
       "      <td>0</td>\n",
       "      <td>-152.779569</td>\n",
       "      <td>50</td>\n",
       "      <td>SECONDARY EDUCATION</td>\n",
       "      <td>1</td>\n",
       "      <td>married</td>\n",
       "      <td>0</td>\n",
       "      <td>M</td>\n",
       "      <td>employee</td>\n",
       "      <td>0</td>\n",
       "      <td>21731.829</td>\n",
       "      <td>education</td>\n",
       "    </tr>\n",
       "    <tr>\n",
       "      <th>8</th>\n",
       "      <td>2</td>\n",
       "      <td>-6929.865299</td>\n",
       "      <td>35</td>\n",
       "      <td>BACHELOR'S DEGREE</td>\n",
       "      <td>0</td>\n",
       "      <td>civil partnership</td>\n",
       "      <td>1</td>\n",
       "      <td>F</td>\n",
       "      <td>employee</td>\n",
       "      <td>0</td>\n",
       "      <td>15337.093</td>\n",
       "      <td>having a wedding</td>\n",
       "    </tr>\n",
       "    <tr>\n",
       "      <th>9</th>\n",
       "      <td>0</td>\n",
       "      <td>-2188.756445</td>\n",
       "      <td>41</td>\n",
       "      <td>secondary education</td>\n",
       "      <td>1</td>\n",
       "      <td>married</td>\n",
       "      <td>0</td>\n",
       "      <td>M</td>\n",
       "      <td>employee</td>\n",
       "      <td>0</td>\n",
       "      <td>23108.150</td>\n",
       "      <td>purchase of the house for my family</td>\n",
       "    </tr>\n",
       "  </tbody>\n",
       "</table>\n",
       "</div>"
      ],
      "text/plain": [
       "   children  days_employed  dob_years            education  education_id  \\\n",
       "0         1   -8437.673028         42    bachelor's degree             0   \n",
       "1         1   -4024.803754         36  secondary education             1   \n",
       "2         0   -5623.422610         33  Secondary Education             1   \n",
       "3         3   -4124.747207         32  secondary education             1   \n",
       "4         0  340266.072047         53  secondary education             1   \n",
       "5         0    -926.185831         27    bachelor's degree             0   \n",
       "6         0   -2879.202052         43    bachelor's degree             0   \n",
       "7         0    -152.779569         50  SECONDARY EDUCATION             1   \n",
       "8         2   -6929.865299         35    BACHELOR'S DEGREE             0   \n",
       "9         0   -2188.756445         41  secondary education             1   \n",
       "\n",
       "       family_status  family_status_id gender income_type  debt  total_income  \\\n",
       "0            married                 0      F    employee     0     40620.102   \n",
       "1            married                 0      F    employee     0     17932.802   \n",
       "2            married                 0      M    employee     0     23341.752   \n",
       "3            married                 0      M    employee     0     42820.568   \n",
       "4  civil partnership                 1      F     retiree     0     25378.572   \n",
       "5  civil partnership                 1      M    business     0     40922.170   \n",
       "6            married                 0      F    business     0     38484.156   \n",
       "7            married                 0      M    employee     0     21731.829   \n",
       "8  civil partnership                 1      F    employee     0     15337.093   \n",
       "9            married                 0      M    employee     0     23108.150   \n",
       "\n",
       "                               purpose  \n",
       "0                purchase of the house  \n",
       "1                         car purchase  \n",
       "2                purchase of the house  \n",
       "3              supplementary education  \n",
       "4                    to have a wedding  \n",
       "5                purchase of the house  \n",
       "6                 housing transactions  \n",
       "7                            education  \n",
       "8                     having a wedding  \n",
       "9  purchase of the house for my family  "
      ]
     },
     "execution_count": 562,
     "metadata": {},
     "output_type": "execute_result"
    }
   ],
   "source": [
    "data_loan.head(10)"
   ]
  },
  {
   "cell_type": "markdown",
   "metadata": {},
   "source": [
    "### Conclusion"
   ]
  },
  {
   "cell_type": "markdown",
   "metadata": {},
   "source": [
    "Let's look through the DataFrame table and do some marks.<br>\n",
    "1. There are 12 columns:\n",
    "    - 7 of them are numbers\n",
    "    - 4 of them are strings;\n",
    "    - 1 of them boolean like ('M' or 'F'), although in our DataFrame it has type string.\n",
    "2. All numbers are stored as 'int' or 'float' types but for 'string'.\n",
    "3. For some reason \"days_employed\" has negative numbers **need to do something**; <br>\n",
    "    **QUESTION** Why does \"days_employed\" is a 'float' rather than 'int' (maybe it includes hours);\n",
    "4. 'education' recorded with low&CAPS letters **need to do something**\n",
    "5. There are null-values in \"*days_employed\", \"total_income\"* **need to do something**\n",
    "6. It is better change some name of columns **need to do something**"
   ]
  },
  {
   "cell_type": "code",
   "execution_count": 563,
   "metadata": {},
   "outputs": [],
   "source": [
    "name_columns_new = ['children', 'days_employed', 'age', 'education', 'education_id', \n",
    "                    'family_status', 'family_status_id', 'gender', 'income_type', \n",
    "                    'dept', 'income', 'purpose']\n",
    "data_loan.set_axis(name_columns_new, axis = 'columns', inplace = True)"
   ]
  },
  {
   "cell_type": "code",
   "execution_count": 564,
   "metadata": {
    "scrolled": true
   },
   "outputs": [
    {
     "data": {
      "text/html": [
       "<div>\n",
       "<style scoped>\n",
       "    .dataframe tbody tr th:only-of-type {\n",
       "        vertical-align: middle;\n",
       "    }\n",
       "\n",
       "    .dataframe tbody tr th {\n",
       "        vertical-align: top;\n",
       "    }\n",
       "\n",
       "    .dataframe thead th {\n",
       "        text-align: right;\n",
       "    }\n",
       "</style>\n",
       "<table border=\"1\" class=\"dataframe\">\n",
       "  <thead>\n",
       "    <tr style=\"text-align: right;\">\n",
       "      <th></th>\n",
       "      <th>children</th>\n",
       "      <th>days_employed</th>\n",
       "      <th>age</th>\n",
       "      <th>education</th>\n",
       "      <th>education_id</th>\n",
       "      <th>family_status</th>\n",
       "      <th>family_status_id</th>\n",
       "      <th>gender</th>\n",
       "      <th>income_type</th>\n",
       "      <th>dept</th>\n",
       "      <th>income</th>\n",
       "      <th>purpose</th>\n",
       "    </tr>\n",
       "  </thead>\n",
       "  <tbody>\n",
       "    <tr>\n",
       "      <th>0</th>\n",
       "      <td>1</td>\n",
       "      <td>-8437.673028</td>\n",
       "      <td>42</td>\n",
       "      <td>bachelor's degree</td>\n",
       "      <td>0</td>\n",
       "      <td>married</td>\n",
       "      <td>0</td>\n",
       "      <td>F</td>\n",
       "      <td>employee</td>\n",
       "      <td>0</td>\n",
       "      <td>40620.102</td>\n",
       "      <td>purchase of the house</td>\n",
       "    </tr>\n",
       "    <tr>\n",
       "      <th>1</th>\n",
       "      <td>1</td>\n",
       "      <td>-4024.803754</td>\n",
       "      <td>36</td>\n",
       "      <td>secondary education</td>\n",
       "      <td>1</td>\n",
       "      <td>married</td>\n",
       "      <td>0</td>\n",
       "      <td>F</td>\n",
       "      <td>employee</td>\n",
       "      <td>0</td>\n",
       "      <td>17932.802</td>\n",
       "      <td>car purchase</td>\n",
       "    </tr>\n",
       "  </tbody>\n",
       "</table>\n",
       "</div>"
      ],
      "text/plain": [
       "   children  days_employed  age            education  education_id  \\\n",
       "0         1   -8437.673028   42    bachelor's degree             0   \n",
       "1         1   -4024.803754   36  secondary education             1   \n",
       "\n",
       "  family_status  family_status_id gender income_type  dept     income  \\\n",
       "0       married                 0      F    employee     0  40620.102   \n",
       "1       married                 0      F    employee     0  17932.802   \n",
       "\n",
       "                 purpose  \n",
       "0  purchase of the house  \n",
       "1           car purchase  "
      ]
     },
     "execution_count": 564,
     "metadata": {},
     "output_type": "execute_result"
    }
   ],
   "source": [
    "data_loan.head(2)"
   ]
  },
  {
   "cell_type": "markdown",
   "metadata": {},
   "source": [
    "### Step 2. Data preprocessing"
   ]
  },
  {
   "cell_type": "markdown",
   "metadata": {},
   "source": [
    "**I want to add income category**"
   ]
  },
  {
   "cell_type": "code",
   "execution_count": 565,
   "metadata": {},
   "outputs": [
    {
     "name": "stdout",
     "output_type": "stream",
     "text": [
      "mean 26787.56835465871\n",
      "max 362496.645\n",
      "min 3306.762\n"
     ]
    }
   ],
   "source": [
    "print('mean',data_loan['income'].mean())\n",
    "print('max',data_loan['income'].max())\n",
    "print('min',data_loan['income'].min())\n",
    "def fun_income_category(row):\n",
    "    pay = row['income']\n",
    "    if pay < 10000:\n",
    "        return 'Poor'\n",
    "    elif pay < 20000:\n",
    "        return 'Low Average'\n",
    "    elif pay < 30000:\n",
    "        return 'Average'\n",
    "    elif pay < 40000:\n",
    "        return 'High Average'\n",
    "    elif pay < 50000:\n",
    "        return 'Rich'\n",
    "    elif not(pd.isnull(pay)):\n",
    "        return 'Luxury'\n",
    "    return"
   ]
  },
  {
   "cell_type": "code",
   "execution_count": 566,
   "metadata": {},
   "outputs": [],
   "source": [
    "data_loan['income_category'] = data_loan.apply(fun_income_category, axis=1)"
   ]
  },
  {
   "cell_type": "code",
   "execution_count": 567,
   "metadata": {},
   "outputs": [
    {
     "data": {
      "text/html": [
       "<div>\n",
       "<style scoped>\n",
       "    .dataframe tbody tr th:only-of-type {\n",
       "        vertical-align: middle;\n",
       "    }\n",
       "\n",
       "    .dataframe tbody tr th {\n",
       "        vertical-align: top;\n",
       "    }\n",
       "\n",
       "    .dataframe thead th {\n",
       "        text-align: right;\n",
       "    }\n",
       "</style>\n",
       "<table border=\"1\" class=\"dataframe\">\n",
       "  <thead>\n",
       "    <tr style=\"text-align: right;\">\n",
       "      <th></th>\n",
       "      <th>children</th>\n",
       "      <th>days_employed</th>\n",
       "      <th>age</th>\n",
       "      <th>education</th>\n",
       "      <th>education_id</th>\n",
       "      <th>family_status</th>\n",
       "      <th>family_status_id</th>\n",
       "      <th>gender</th>\n",
       "      <th>income_type</th>\n",
       "      <th>dept</th>\n",
       "      <th>income</th>\n",
       "      <th>purpose</th>\n",
       "      <th>income_category</th>\n",
       "    </tr>\n",
       "  </thead>\n",
       "  <tbody>\n",
       "    <tr>\n",
       "      <th>0</th>\n",
       "      <td>1</td>\n",
       "      <td>-8437.673028</td>\n",
       "      <td>42</td>\n",
       "      <td>bachelor's degree</td>\n",
       "      <td>0</td>\n",
       "      <td>married</td>\n",
       "      <td>0</td>\n",
       "      <td>F</td>\n",
       "      <td>employee</td>\n",
       "      <td>0</td>\n",
       "      <td>40620.102</td>\n",
       "      <td>purchase of the house</td>\n",
       "      <td>Rich</td>\n",
       "    </tr>\n",
       "    <tr>\n",
       "      <th>1</th>\n",
       "      <td>1</td>\n",
       "      <td>-4024.803754</td>\n",
       "      <td>36</td>\n",
       "      <td>secondary education</td>\n",
       "      <td>1</td>\n",
       "      <td>married</td>\n",
       "      <td>0</td>\n",
       "      <td>F</td>\n",
       "      <td>employee</td>\n",
       "      <td>0</td>\n",
       "      <td>17932.802</td>\n",
       "      <td>car purchase</td>\n",
       "      <td>Low Average</td>\n",
       "    </tr>\n",
       "    <tr>\n",
       "      <th>2</th>\n",
       "      <td>0</td>\n",
       "      <td>-5623.422610</td>\n",
       "      <td>33</td>\n",
       "      <td>Secondary Education</td>\n",
       "      <td>1</td>\n",
       "      <td>married</td>\n",
       "      <td>0</td>\n",
       "      <td>M</td>\n",
       "      <td>employee</td>\n",
       "      <td>0</td>\n",
       "      <td>23341.752</td>\n",
       "      <td>purchase of the house</td>\n",
       "      <td>Average</td>\n",
       "    </tr>\n",
       "    <tr>\n",
       "      <th>3</th>\n",
       "      <td>3</td>\n",
       "      <td>-4124.747207</td>\n",
       "      <td>32</td>\n",
       "      <td>secondary education</td>\n",
       "      <td>1</td>\n",
       "      <td>married</td>\n",
       "      <td>0</td>\n",
       "      <td>M</td>\n",
       "      <td>employee</td>\n",
       "      <td>0</td>\n",
       "      <td>42820.568</td>\n",
       "      <td>supplementary education</td>\n",
       "      <td>Rich</td>\n",
       "    </tr>\n",
       "    <tr>\n",
       "      <th>4</th>\n",
       "      <td>0</td>\n",
       "      <td>340266.072047</td>\n",
       "      <td>53</td>\n",
       "      <td>secondary education</td>\n",
       "      <td>1</td>\n",
       "      <td>civil partnership</td>\n",
       "      <td>1</td>\n",
       "      <td>F</td>\n",
       "      <td>retiree</td>\n",
       "      <td>0</td>\n",
       "      <td>25378.572</td>\n",
       "      <td>to have a wedding</td>\n",
       "      <td>Average</td>\n",
       "    </tr>\n",
       "  </tbody>\n",
       "</table>\n",
       "</div>"
      ],
      "text/plain": [
       "   children  days_employed  age            education  education_id  \\\n",
       "0         1   -8437.673028   42    bachelor's degree             0   \n",
       "1         1   -4024.803754   36  secondary education             1   \n",
       "2         0   -5623.422610   33  Secondary Education             1   \n",
       "3         3   -4124.747207   32  secondary education             1   \n",
       "4         0  340266.072047   53  secondary education             1   \n",
       "\n",
       "       family_status  family_status_id gender income_type  dept     income  \\\n",
       "0            married                 0      F    employee     0  40620.102   \n",
       "1            married                 0      F    employee     0  17932.802   \n",
       "2            married                 0      M    employee     0  23341.752   \n",
       "3            married                 0      M    employee     0  42820.568   \n",
       "4  civil partnership                 1      F     retiree     0  25378.572   \n",
       "\n",
       "                   purpose income_category  \n",
       "0    purchase of the house            Rich  \n",
       "1             car purchase     Low Average  \n",
       "2    purchase of the house         Average  \n",
       "3  supplementary education            Rich  \n",
       "4        to have a wedding         Average  "
      ]
     },
     "execution_count": 567,
     "metadata": {},
     "output_type": "execute_result"
    }
   ],
   "source": [
    "data_loan.head()"
   ]
  },
  {
   "cell_type": "code",
   "execution_count": 568,
   "metadata": {},
   "outputs": [
    {
     "data": {
      "text/plain": [
       "Low Average     6443\n",
       "Average         6063\n",
       "High Average    3107\n",
       "Rich            1492\n",
       "Luxury          1320\n",
       "Poor             926\n",
       "Name: income_category, dtype: int64"
      ]
     },
     "execution_count": 568,
     "metadata": {},
     "output_type": "execute_result"
    }
   ],
   "source": [
    "data_loan['income_category'].value_counts()"
   ]
  },
  {
   "cell_type": "markdown",
   "metadata": {},
   "source": [
    "**I want to add age category**"
   ]
  },
  {
   "cell_type": "code",
   "execution_count": 569,
   "metadata": {},
   "outputs": [],
   "source": [
    "#data_loan.groupby('age')['income'].mean()\n",
    "def fun_age_category(row):\n",
    "    age = row['age']\n",
    "    if age < 23:\n",
    "        return 'Forever young'\n",
    "    elif age < 50:\n",
    "        return 'Young'\n",
    "    elif age < 65:\n",
    "        return 'Sapient'\n",
    "    else:\n",
    "        return 'Master Yoda'"
   ]
  },
  {
   "cell_type": "code",
   "execution_count": 570,
   "metadata": {},
   "outputs": [],
   "source": [
    "data_loan['age_category'] = data_loan.apply(fun_age_category, axis=1)"
   ]
  },
  {
   "cell_type": "code",
   "execution_count": 571,
   "metadata": {},
   "outputs": [
    {
     "data": {
      "text/plain": [
       "Forever young      460\n",
       "Master Yoda        899\n",
       "Sapient           6297\n",
       "Young            13869\n",
       "Name: age_category, dtype: int64"
      ]
     },
     "execution_count": 571,
     "metadata": {},
     "output_type": "execute_result"
    }
   ],
   "source": [
    "data_loan['age_category'].value_counts().sort_values()"
   ]
  },
  {
   "cell_type": "markdown",
   "metadata": {},
   "source": [
    "---------------------------------------------------------------------------------------\n",
    "##### 2а.Step-by-step. 1st column 'children'\n",
    "BRIEFLY: I found '-1' and '20' values which were errrors and replaced them by '0'. <br>\n",
    "REASONs: 1) not many of these values; 2) '0' is a mean and median, 3) '0' is a carefull estimation to give a credit."
   ]
  },
  {
   "cell_type": "code",
   "execution_count": 572,
   "metadata": {},
   "outputs": [
    {
     "data": {
      "text/plain": [
       "array([ 1,  0,  3,  2, -1,  4, 20,  5], dtype=int64)"
      ]
     },
     "execution_count": 572,
     "metadata": {},
     "output_type": "execute_result"
    }
   ],
   "source": [
    "# find unique values\n",
    "data_loan['children'].unique()"
   ]
  },
  {
   "cell_type": "markdown",
   "metadata": {},
   "source": [
    "#### Mini-Conclusion 1:\n",
    "There are impossible \"-1\" and unbelivable \"20\" values. <br>\n",
    "I can check \"20\".\n",
    "- how many of them?\n",
    "- let's see \"age\" and understand if it is possible or not"
   ]
  },
  {
   "cell_type": "code",
   "execution_count": 573,
   "metadata": {},
   "outputs": [
    {
     "name": "stdout",
     "output_type": "stream",
     "text": [
      "20 children in: 76 rows\n",
      "-1 children in: 47 rows\n"
     ]
    }
   ],
   "source": [
    "print(\"20 children in:\",data_loan[data_loan['children'] == 20]['children'].count(), \"rows\")\n",
    "print(\"-1 children in:\",data_loan[data_loan['children'] == -1]['children'].count(), \"rows\")"
   ]
  },
  {
   "cell_type": "code",
   "execution_count": 574,
   "metadata": {},
   "outputs": [
    {
     "data": {
      "text/html": [
       "<div>\n",
       "<style scoped>\n",
       "    .dataframe tbody tr th:only-of-type {\n",
       "        vertical-align: middle;\n",
       "    }\n",
       "\n",
       "    .dataframe tbody tr th {\n",
       "        vertical-align: top;\n",
       "    }\n",
       "\n",
       "    .dataframe thead th {\n",
       "        text-align: right;\n",
       "    }\n",
       "</style>\n",
       "<table border=\"1\" class=\"dataframe\">\n",
       "  <thead>\n",
       "    <tr style=\"text-align: right;\">\n",
       "      <th></th>\n",
       "      <th>children</th>\n",
       "      <th>days_employed</th>\n",
       "      <th>age</th>\n",
       "      <th>education</th>\n",
       "      <th>education_id</th>\n",
       "      <th>family_status</th>\n",
       "      <th>family_status_id</th>\n",
       "      <th>gender</th>\n",
       "      <th>income_type</th>\n",
       "      <th>dept</th>\n",
       "      <th>income</th>\n",
       "      <th>purpose</th>\n",
       "      <th>income_category</th>\n",
       "      <th>age_category</th>\n",
       "    </tr>\n",
       "  </thead>\n",
       "  <tbody>\n",
       "    <tr>\n",
       "      <th>606</th>\n",
       "      <td>20</td>\n",
       "      <td>-880.221113</td>\n",
       "      <td>21</td>\n",
       "      <td>secondary education</td>\n",
       "      <td>1</td>\n",
       "      <td>married</td>\n",
       "      <td>0</td>\n",
       "      <td>M</td>\n",
       "      <td>business</td>\n",
       "      <td>0</td>\n",
       "      <td>23253.578</td>\n",
       "      <td>purchase of the house</td>\n",
       "      <td>Average</td>\n",
       "      <td>Forever young</td>\n",
       "    </tr>\n",
       "    <tr>\n",
       "      <th>720</th>\n",
       "      <td>20</td>\n",
       "      <td>-855.595512</td>\n",
       "      <td>44</td>\n",
       "      <td>secondary education</td>\n",
       "      <td>1</td>\n",
       "      <td>married</td>\n",
       "      <td>0</td>\n",
       "      <td>F</td>\n",
       "      <td>business</td>\n",
       "      <td>0</td>\n",
       "      <td>18079.798</td>\n",
       "      <td>buy real estate</td>\n",
       "      <td>Low Average</td>\n",
       "      <td>Young</td>\n",
       "    </tr>\n",
       "    <tr>\n",
       "      <th>1074</th>\n",
       "      <td>20</td>\n",
       "      <td>-3310.411598</td>\n",
       "      <td>56</td>\n",
       "      <td>secondary education</td>\n",
       "      <td>1</td>\n",
       "      <td>married</td>\n",
       "      <td>0</td>\n",
       "      <td>F</td>\n",
       "      <td>employee</td>\n",
       "      <td>1</td>\n",
       "      <td>36722.966</td>\n",
       "      <td>getting an education</td>\n",
       "      <td>High Average</td>\n",
       "      <td>Sapient</td>\n",
       "    </tr>\n",
       "    <tr>\n",
       "      <th>2510</th>\n",
       "      <td>20</td>\n",
       "      <td>-2714.161249</td>\n",
       "      <td>59</td>\n",
       "      <td>bachelor's degree</td>\n",
       "      <td>0</td>\n",
       "      <td>widow / widower</td>\n",
       "      <td>2</td>\n",
       "      <td>F</td>\n",
       "      <td>employee</td>\n",
       "      <td>0</td>\n",
       "      <td>42315.974</td>\n",
       "      <td>transactions with commercial real estate</td>\n",
       "      <td>Rich</td>\n",
       "      <td>Sapient</td>\n",
       "    </tr>\n",
       "    <tr>\n",
       "      <th>2941</th>\n",
       "      <td>20</td>\n",
       "      <td>-2161.591519</td>\n",
       "      <td>0</td>\n",
       "      <td>secondary education</td>\n",
       "      <td>1</td>\n",
       "      <td>married</td>\n",
       "      <td>0</td>\n",
       "      <td>F</td>\n",
       "      <td>employee</td>\n",
       "      <td>0</td>\n",
       "      <td>31958.391</td>\n",
       "      <td>to buy a car</td>\n",
       "      <td>High Average</td>\n",
       "      <td>Forever young</td>\n",
       "    </tr>\n",
       "  </tbody>\n",
       "</table>\n",
       "</div>"
      ],
      "text/plain": [
       "      children  days_employed  age            education  education_id  \\\n",
       "606         20    -880.221113   21  secondary education             1   \n",
       "720         20    -855.595512   44  secondary education             1   \n",
       "1074        20   -3310.411598   56  secondary education             1   \n",
       "2510        20   -2714.161249   59    bachelor's degree             0   \n",
       "2941        20   -2161.591519    0  secondary education             1   \n",
       "\n",
       "        family_status  family_status_id gender income_type  dept     income  \\\n",
       "606           married                 0      M    business     0  23253.578   \n",
       "720           married                 0      F    business     0  18079.798   \n",
       "1074          married                 0      F    employee     1  36722.966   \n",
       "2510  widow / widower                 2      F    employee     0  42315.974   \n",
       "2941          married                 0      F    employee     0  31958.391   \n",
       "\n",
       "                                       purpose income_category   age_category  \n",
       "606                      purchase of the house         Average  Forever young  \n",
       "720                            buy real estate     Low Average          Young  \n",
       "1074                      getting an education    High Average        Sapient  \n",
       "2510  transactions with commercial real estate            Rich        Sapient  \n",
       "2941                              to buy a car    High Average  Forever young  "
      ]
     },
     "execution_count": 574,
     "metadata": {},
     "output_type": "execute_result"
    }
   ],
   "source": [
    "data_loan[data_loan['children'] == 20].head(5)"
   ]
  },
  {
   "cell_type": "markdown",
   "metadata": {},
   "source": [
    "#### Mini-Conclusion 2:\n",
    "Unbelievable that somebody in 20-years old can have 20 children. So it is an error. <br>\n",
    "76 + 47 rows from 21525 is only a 0.57% of data. In fact I can just remove this data from data sample. But I want to train how to replace these values with some mean value."
   ]
  },
  {
   "cell_type": "code",
   "execution_count": 575,
   "metadata": {},
   "outputs": [
    {
     "name": "stdout",
     "output_type": "stream",
     "text": [
      "Average of children of who is married: 0.56\n"
     ]
    }
   ],
   "source": [
    "print(\"Average of children of who is married: {:.2f}\".format(data_loan[(data_loan['family_status'] == 'married') \n",
    "        & (data_loan['children'] != 20 ) & (data_loan['children'] != -1)]['children'].mean()))\n",
    "# exceptional values are excluded"
   ]
  },
  {
   "cell_type": "markdown",
   "metadata": {},
   "source": [
    "#### Mini-Conclusion 3:\n",
    "Better solution! In the average even besides of people who are in a marriage has 0.56 children, median is 0. So,\n",
    "1) I can replace it by mean-value 0;\n",
    "2) I think it is worse to give a loan which is not returned back. So 0-value-replace is a reasonable careful solution "
   ]
  },
  {
   "cell_type": "code",
   "execution_count": 576,
   "metadata": {},
   "outputs": [],
   "source": [
    "# replace '-1' and '20' with '0'\n",
    "data_loan.loc[(data_loan['children'] == 20 ) | (data_loan['children'] == -1),'children'] = 0"
   ]
  },
  {
   "cell_type": "code",
   "execution_count": 577,
   "metadata": {},
   "outputs": [
    {
     "data": {
      "text/plain": [
       "array([1, 0, 3, 2, 4, 5], dtype=int64)"
      ]
     },
     "execution_count": 577,
     "metadata": {},
     "output_type": "execute_result"
    }
   ],
   "source": [
    "data_loan['children'].unique()"
   ]
  },
  {
   "cell_type": "markdown",
   "metadata": {},
   "source": [
    "**Success!**"
   ]
  },
  {
   "cell_type": "markdown",
   "metadata": {},
   "source": [
    "---------------------------------------------------------------------------------------\n",
    "##### 2c.Step-by-step. 4th column 'education'\n",
    "(before do 3rd column, need to do this one) <br>\n",
    "BRIEFLY: I used lowercase to the strings in 'education' <br>\n",
    "REASONs: I wanted lead all this names to one kind."
   ]
  },
  {
   "cell_type": "code",
   "execution_count": 578,
   "metadata": {},
   "outputs": [],
   "source": [
    "data_loan['education'] = data_loan['education'].str.lower()"
   ]
  },
  {
   "cell_type": "code",
   "execution_count": 579,
   "metadata": {},
   "outputs": [
    {
     "data": {
      "text/plain": [
       "array([\"bachelor's degree\", 'secondary education', 'some college',\n",
       "       'primary education', 'graduate degree'], dtype=object)"
      ]
     },
     "execution_count": 579,
     "metadata": {},
     "output_type": "execute_result"
    }
   ],
   "source": [
    "data_loan['education'].unique()"
   ]
  },
  {
   "cell_type": "markdown",
   "metadata": {},
   "source": [
    "**Perfect!!!**"
   ]
  },
  {
   "cell_type": "markdown",
   "metadata": {},
   "source": [
    "---------------------------------------------------------------------------------------\n",
    "##### 2d.Step-by-step. 3rd column 'age'\n",
    "BRIEFLY: I replaced 0-value in age by mean value in each of educational group <br>\n",
    "REASONs: I think that age and education should has a good correlation especially for young people. Remember that the number of this values is too small 101 from 21525. <br>\n",
    "COMMENT: I really didn't like the way I did it. For some reasons the below code doesn't work <br>\n",
    "data_loan.loc[data_loan['age'] == 0,'age'] = data_age_zero (I applyed astype of course)"
   ]
  },
  {
   "cell_type": "code",
   "execution_count": 580,
   "metadata": {},
   "outputs": [
    {
     "data": {
      "text/plain": [
       "array([42, 36, 33, 32, 53, 27, 43, 50, 35, 41, 40, 65, 54, 56, 26, 48, 24,\n",
       "       21, 57, 67, 28, 63, 62, 47, 34, 68, 25, 31, 30, 20, 49, 37, 45, 61,\n",
       "       64, 44, 52, 46, 23, 38, 39, 51,  0, 59, 29, 60, 55, 58, 71, 22, 73,\n",
       "       66, 69, 19, 72, 70, 74, 75], dtype=int64)"
      ]
     },
     "execution_count": 580,
     "metadata": {},
     "output_type": "execute_result"
    }
   ],
   "source": [
    "data_loan['age'].unique()"
   ]
  },
  {
   "cell_type": "code",
   "execution_count": 581,
   "metadata": {},
   "outputs": [
    {
     "data": {
      "text/plain": [
       "101"
      ]
     },
     "execution_count": 581,
     "metadata": {},
     "output_type": "execute_result"
    }
   ],
   "source": [
    "# I see here \"0\" values; let's see how many of them\n",
    "data_loan[data_loan['age'] == 0]['age'].count()"
   ]
  },
  {
   "cell_type": "markdown",
   "metadata": {},
   "source": [
    "**Mini-Conclusion 6**: (1) Not many, (2) can use graduate to replace these values."
   ]
  },
  {
   "cell_type": "code",
   "execution_count": 582,
   "metadata": {},
   "outputs": [],
   "source": [
    "# I calculate mean with this zeros, but there are not so many 0-values, it wouldn't be a big errror\n",
    "data_loan_group_education = data_loan.groupby('education')['age'].mean()"
   ]
  },
  {
   "cell_type": "code",
   "execution_count": 583,
   "metadata": {},
   "outputs": [
    {
     "data": {
      "text/plain": [
       "education\n",
       "bachelor's degree      40.668061\n",
       "graduate degree        51.166667\n",
       "primary education      47.691489\n",
       "secondary education    44.536992\n",
       "some college           34.661290\n",
       "Name: age, dtype: float64"
      ]
     },
     "execution_count": 583,
     "metadata": {},
     "output_type": "execute_result"
    }
   ],
   "source": [
    "data_loan_group_education"
   ]
  },
  {
   "cell_type": "code",
   "execution_count": 584,
   "metadata": {},
   "outputs": [],
   "source": [
    "data_age_zero = data_loan_group_education[data_loan[data_loan['age'] == 0]['education']]"
   ]
  },
  {
   "cell_type": "code",
   "execution_count": 585,
   "metadata": {},
   "outputs": [],
   "source": [
    "def update_age(row):\n",
    "    age = row['age']\n",
    "    education = row['education']\n",
    "    \n",
    "    if age != 0:\n",
    "        return age\n",
    "    else:\n",
    "        if education == \"bachelor's degree\":\n",
    "            return 41\n",
    "        elif education == \"graduate degree\":\n",
    "            return 51\n",
    "        elif education == \"primary education\":\n",
    "            return 47\n",
    "        elif education == \"secondary education\":\n",
    "            return 45\n",
    "        elif education == \"some college\":\n",
    "            return 35"
   ]
  },
  {
   "cell_type": "code",
   "execution_count": 586,
   "metadata": {},
   "outputs": [],
   "source": [
    "data_loan['age'] = data_loan.apply(update_age, axis=1)\n",
    "    "
   ]
  },
  {
   "cell_type": "code",
   "execution_count": 587,
   "metadata": {
    "scrolled": true
   },
   "outputs": [
    {
     "data": {
      "text/plain": [
       "0"
      ]
     },
     "execution_count": 587,
     "metadata": {},
     "output_type": "execute_result"
    }
   ],
   "source": [
    "data_loan[data_loan['age'] == 0]['age'].count()"
   ]
  },
  {
   "cell_type": "code",
   "execution_count": 588,
   "metadata": {
    "scrolled": true
   },
   "outputs": [
    {
     "data": {
      "text/plain": [
       "pandas.core.series.Series"
      ]
     },
     "execution_count": 588,
     "metadata": {},
     "output_type": "execute_result"
    }
   ],
   "source": [
    "type(data_age_zero)"
   ]
  },
  {
   "cell_type": "markdown",
   "metadata": {},
   "source": [
    "---------------------------------------------------------------------------------------\n",
    "##### 2e.Step-by-step. 5rd column 'education_id'\n",
    "BRIEFLY: Nothing to do. It was OK. <br>\n",
    "REASONs:  <br>"
   ]
  },
  {
   "cell_type": "code",
   "execution_count": 589,
   "metadata": {
    "scrolled": true
   },
   "outputs": [
    {
     "data": {
      "text/plain": [
       "education\n",
       "secondary education    44.536992\n",
       "secondary education    44.536992\n",
       "secondary education    44.536992\n",
       "secondary education    44.536992\n",
       "bachelor's degree      40.668061\n",
       "                         ...    \n",
       "secondary education    44.536992\n",
       "secondary education    44.536992\n",
       "secondary education    44.536992\n",
       "bachelor's degree      40.668061\n",
       "secondary education    44.536992\n",
       "Name: age, Length: 101, dtype: float64"
      ]
     },
     "execution_count": 589,
     "metadata": {},
     "output_type": "execute_result"
    }
   ],
   "source": [
    "data_age_zero"
   ]
  },
  {
   "cell_type": "code",
   "execution_count": 590,
   "metadata": {},
   "outputs": [
    {
     "data": {
      "text/plain": [
       "array([0, 1, 2, 3, 4], dtype=int64)"
      ]
     },
     "execution_count": 590,
     "metadata": {},
     "output_type": "execute_result"
    }
   ],
   "source": [
    "data_loan['education_id'].unique()"
   ]
  },
  {
   "cell_type": "code",
   "execution_count": 591,
   "metadata": {},
   "outputs": [
    {
     "data": {
      "text/plain": [
       "education\n",
       "bachelor's degree      0\n",
       "secondary education    1\n",
       "some college           2\n",
       "primary education      3\n",
       "graduate degree        4\n",
       "Name: education_id, dtype: int64"
      ]
     },
     "execution_count": 591,
     "metadata": {},
     "output_type": "execute_result"
    }
   ],
   "source": [
    "data_loan.groupby('education')['education_id'].mean().sort_values()"
   ]
  },
  {
   "cell_type": "markdown",
   "metadata": {},
   "source": [
    "---------------------------------------------------------------------------------------\n",
    "##### 2f.Step-by-step. 6nd column 'family_status'\n",
    "BRIEFLY: I could combine 'divorced' with 'married' but I didn't do it. 'widow / widower' can't due to this group is to differ from other groups. <br>\n",
    "REASONs: I want to make some analysis with each group. If necessary I will combine them. <br>"
   ]
  },
  {
   "cell_type": "code",
   "execution_count": 592,
   "metadata": {},
   "outputs": [
    {
     "data": {
      "text/plain": [
       "array(['married', 'civil partnership', 'widow / widower', 'divorced',\n",
       "       'unmarried'], dtype=object)"
      ]
     },
     "execution_count": 592,
     "metadata": {},
     "output_type": "execute_result"
    }
   ],
   "source": [
    "data_loan['family_status'].unique()"
   ]
  },
  {
   "cell_type": "code",
   "execution_count": 593,
   "metadata": {},
   "outputs": [
    {
     "data": {
      "text/plain": [
       "married              12380\n",
       "civil partnership     4177\n",
       "unmarried             2813\n",
       "divorced              1195\n",
       "widow / widower        960\n",
       "Name: family_status, dtype: int64"
      ]
     },
     "execution_count": 593,
     "metadata": {},
     "output_type": "execute_result"
    }
   ],
   "source": [
    "data_loan['family_status'].value_counts()"
   ]
  },
  {
   "cell_type": "markdown",
   "metadata": {},
   "source": [
    "**Comment:** One can combine \"divorced\" and \"widow / widower\" with some groups, because they are too small. BUT it is necessary to understand what kind of group is the closest. For example, by total income or age."
   ]
  },
  {
   "cell_type": "code",
   "execution_count": 594,
   "metadata": {},
   "outputs": [
    {
     "data": {
      "text/plain": [
       "family_status\n",
       "civil partnership    26694.428597\n",
       "divorced             27189.354550\n",
       "married              27041.784689\n",
       "unmarried            26934.069805\n",
       "widow / widower      22984.208556\n",
       "Name: income, dtype: float64"
      ]
     },
     "execution_count": 594,
     "metadata": {},
     "output_type": "execute_result"
    }
   ],
   "source": [
    "# groupby total income\n",
    "data_loan.groupby('family_status')['income'].mean()"
   ]
  },
  {
   "cell_type": "code",
   "execution_count": 595,
   "metadata": {},
   "outputs": [
    {
     "data": {
      "text/plain": [
       "family_status\n",
       "civil partnership    42.346181\n",
       "divorced             45.877824\n",
       "married              43.738611\n",
       "unmarried            38.611091\n",
       "widow / widower      56.743750\n",
       "Name: age, dtype: float64"
      ]
     },
     "execution_count": 595,
     "metadata": {},
     "output_type": "execute_result"
    }
   ],
   "source": [
    "# groupby age\n",
    "data_loan.groupby('family_status')['age'].mean()"
   ]
  },
  {
   "cell_type": "code",
   "execution_count": 596,
   "metadata": {},
   "outputs": [
    {
     "data": {
      "text/plain": [
       "family_status\n",
       "civil partnership    0.092890\n",
       "divorced             0.071130\n",
       "married              0.075202\n",
       "unmarried            0.097405\n",
       "widow / widower      0.065625\n",
       "Name: dept, dtype: float64"
      ]
     },
     "execution_count": 596,
     "metadata": {},
     "output_type": "execute_result"
    }
   ],
   "source": [
    "# groupby age\n",
    "data_loan.groupby('family_status')['dept'].mean()"
   ]
  },
  {
   "cell_type": "markdown",
   "metadata": {},
   "source": [
    "**Mini-Conclusion 7:** \"widow / widower\" differ form other groups extremly. So I can't combine it with other groups. What about 'divorced'.. it is possible from my opinion to combine it with 'married'. I will do it later maybe."
   ]
  },
  {
   "cell_type": "markdown",
   "metadata": {},
   "source": [
    "---------------------------------------------------------------------------------------\n",
    "##### 2g.Step-by-step. 7nd column 'family_status_id'\n",
    "BRIEFLY: Nothing to do. It is OK <br>\n",
    "REASONs:  <br>"
   ]
  },
  {
   "cell_type": "code",
   "execution_count": 597,
   "metadata": {},
   "outputs": [
    {
     "data": {
      "text/plain": [
       "array([0, 1, 2, 3, 4], dtype=int64)"
      ]
     },
     "execution_count": 597,
     "metadata": {},
     "output_type": "execute_result"
    }
   ],
   "source": [
    "data_loan['family_status_id'].unique()"
   ]
  },
  {
   "cell_type": "code",
   "execution_count": 598,
   "metadata": {},
   "outputs": [
    {
     "data": {
      "text/plain": [
       "family_status\n",
       "married              0\n",
       "civil partnership    1\n",
       "widow / widower      2\n",
       "divorced             3\n",
       "unmarried            4\n",
       "Name: family_status_id, dtype: int64"
      ]
     },
     "execution_count": 598,
     "metadata": {},
     "output_type": "execute_result"
    }
   ],
   "source": [
    "data_loan.groupby('family_status')['family_status_id'].mean().sort_values()"
   ]
  },
  {
   "cell_type": "markdown",
   "metadata": {},
   "source": [
    "---------------------------------------------------------------------------------------\n",
    "##### 2h.Step-by-step. 8th column 'gender'\n",
    "BRIEFLY: I found one missing value and changed it with \"F\" value <br>\n",
    "REASONs: Number of women twice greater than men <br>"
   ]
  },
  {
   "cell_type": "code",
   "execution_count": 599,
   "metadata": {},
   "outputs": [
    {
     "data": {
      "text/plain": [
       "array(['F', 'M', 'XNA'], dtype=object)"
      ]
     },
     "execution_count": 599,
     "metadata": {},
     "output_type": "execute_result"
    }
   ],
   "source": [
    "# is there missing values?\n",
    "data_loan['gender'].unique()"
   ]
  },
  {
   "cell_type": "code",
   "execution_count": 600,
   "metadata": {},
   "outputs": [
    {
     "data": {
      "text/plain": [
       "F      14236\n",
       "M       7288\n",
       "XNA        1\n",
       "Name: gender, dtype: int64"
      ]
     },
     "execution_count": 600,
     "metadata": {},
     "output_type": "execute_result"
    }
   ],
   "source": [
    "data_loan['gender'].value_counts()"
   ]
  },
  {
   "cell_type": "code",
   "execution_count": 601,
   "metadata": {},
   "outputs": [
    {
     "data": {
      "text/html": [
       "<div>\n",
       "<style scoped>\n",
       "    .dataframe tbody tr th:only-of-type {\n",
       "        vertical-align: middle;\n",
       "    }\n",
       "\n",
       "    .dataframe tbody tr th {\n",
       "        vertical-align: top;\n",
       "    }\n",
       "\n",
       "    .dataframe thead th {\n",
       "        text-align: right;\n",
       "    }\n",
       "</style>\n",
       "<table border=\"1\" class=\"dataframe\">\n",
       "  <thead>\n",
       "    <tr style=\"text-align: right;\">\n",
       "      <th></th>\n",
       "      <th>children</th>\n",
       "      <th>days_employed</th>\n",
       "      <th>age</th>\n",
       "      <th>education</th>\n",
       "      <th>education_id</th>\n",
       "      <th>family_status</th>\n",
       "      <th>family_status_id</th>\n",
       "      <th>gender</th>\n",
       "      <th>income_type</th>\n",
       "      <th>dept</th>\n",
       "      <th>income</th>\n",
       "      <th>purpose</th>\n",
       "      <th>income_category</th>\n",
       "      <th>age_category</th>\n",
       "    </tr>\n",
       "  </thead>\n",
       "  <tbody>\n",
       "    <tr>\n",
       "      <th>10701</th>\n",
       "      <td>0</td>\n",
       "      <td>-2358.600502</td>\n",
       "      <td>24</td>\n",
       "      <td>some college</td>\n",
       "      <td>2</td>\n",
       "      <td>civil partnership</td>\n",
       "      <td>1</td>\n",
       "      <td>XNA</td>\n",
       "      <td>business</td>\n",
       "      <td>0</td>\n",
       "      <td>32624.825</td>\n",
       "      <td>buy real estate</td>\n",
       "      <td>High Average</td>\n",
       "      <td>Young</td>\n",
       "    </tr>\n",
       "  </tbody>\n",
       "</table>\n",
       "</div>"
      ],
      "text/plain": [
       "       children  days_employed  age     education  education_id  \\\n",
       "10701         0   -2358.600502   24  some college             2   \n",
       "\n",
       "           family_status  family_status_id gender income_type  dept  \\\n",
       "10701  civil partnership                 1    XNA    business     0   \n",
       "\n",
       "          income          purpose income_category age_category  \n",
       "10701  32624.825  buy real estate    High Average        Young  "
      ]
     },
     "execution_count": 601,
     "metadata": {},
     "output_type": "execute_result"
    }
   ],
   "source": [
    "# only one row with missing value, let's check it\n",
    "data_loan[data_loan['gender'] == 'XNA']"
   ]
  },
  {
   "cell_type": "code",
   "execution_count": 602,
   "metadata": {},
   "outputs": [],
   "source": [
    "# IT is more likely that it is a female because number of females twice greater than males. So\n",
    "data_loan.loc[data_loan['gender'] == 'XNA','gender'] = 'F'"
   ]
  },
  {
   "cell_type": "code",
   "execution_count": 603,
   "metadata": {},
   "outputs": [
    {
     "data": {
      "text/plain": [
       "F    14237\n",
       "M     7288\n",
       "Name: gender, dtype: int64"
      ]
     },
     "execution_count": 603,
     "metadata": {},
     "output_type": "execute_result"
    }
   ],
   "source": [
    "data_loan['gender'].value_counts()"
   ]
  },
  {
   "cell_type": "markdown",
   "metadata": {},
   "source": [
    "**!Great**"
   ]
  },
  {
   "cell_type": "markdown",
   "metadata": {},
   "source": [
    "---------------------------------------------------------------------------------------\n",
    "##### 2i.Step-by-step. 9th column 'income type'\n",
    "BRIEFLY: I see that there are 4 groups with extremely low data in it. But I don't understand what can I do. Combine? But for what reason? <br>\n",
    "REASONs:  <br>"
   ]
  },
  {
   "cell_type": "code",
   "execution_count": 604,
   "metadata": {},
   "outputs": [
    {
     "data": {
      "text/plain": [
       "employee                       11119\n",
       "business                        5085\n",
       "retiree                         3856\n",
       "civil servant                   1459\n",
       "unemployed                         2\n",
       "entrepreneur                       2\n",
       "student                            1\n",
       "paternity / maternity leave        1\n",
       "Name: income_type, dtype: int64"
      ]
     },
     "execution_count": 604,
     "metadata": {},
     "output_type": "execute_result"
    }
   ],
   "source": [
    "data_loan['income_type'].value_counts()"
   ]
  },
  {
   "cell_type": "code",
   "execution_count": 605,
   "metadata": {},
   "outputs": [
    {
     "data": {
      "text/html": [
       "<div>\n",
       "<style scoped>\n",
       "    .dataframe tbody tr th:only-of-type {\n",
       "        vertical-align: middle;\n",
       "    }\n",
       "\n",
       "    .dataframe tbody tr th {\n",
       "        vertical-align: top;\n",
       "    }\n",
       "\n",
       "    .dataframe thead th {\n",
       "        text-align: right;\n",
       "    }\n",
       "</style>\n",
       "<table border=\"1\" class=\"dataframe\">\n",
       "  <thead>\n",
       "    <tr style=\"text-align: right;\">\n",
       "      <th></th>\n",
       "      <th>children</th>\n",
       "      <th>days_employed</th>\n",
       "      <th>age</th>\n",
       "      <th>education</th>\n",
       "      <th>education_id</th>\n",
       "      <th>family_status</th>\n",
       "      <th>family_status_id</th>\n",
       "      <th>gender</th>\n",
       "      <th>income_type</th>\n",
       "      <th>dept</th>\n",
       "      <th>income</th>\n",
       "      <th>purpose</th>\n",
       "      <th>income_category</th>\n",
       "      <th>age_category</th>\n",
       "    </tr>\n",
       "  </thead>\n",
       "  <tbody>\n",
       "    <tr>\n",
       "      <th>5936</th>\n",
       "      <td>0</td>\n",
       "      <td>NaN</td>\n",
       "      <td>58</td>\n",
       "      <td>bachelor's degree</td>\n",
       "      <td>0</td>\n",
       "      <td>married</td>\n",
       "      <td>0</td>\n",
       "      <td>M</td>\n",
       "      <td>entrepreneur</td>\n",
       "      <td>0</td>\n",
       "      <td>NaN</td>\n",
       "      <td>buy residential real estate</td>\n",
       "      <td>None</td>\n",
       "      <td>Sapient</td>\n",
       "    </tr>\n",
       "    <tr>\n",
       "      <th>18697</th>\n",
       "      <td>0</td>\n",
       "      <td>-520.848083</td>\n",
       "      <td>27</td>\n",
       "      <td>bachelor's degree</td>\n",
       "      <td>0</td>\n",
       "      <td>civil partnership</td>\n",
       "      <td>1</td>\n",
       "      <td>F</td>\n",
       "      <td>entrepreneur</td>\n",
       "      <td>0</td>\n",
       "      <td>79866.103</td>\n",
       "      <td>having a wedding</td>\n",
       "      <td>Luxury</td>\n",
       "      <td>Young</td>\n",
       "    </tr>\n",
       "  </tbody>\n",
       "</table>\n",
       "</div>"
      ],
      "text/plain": [
       "       children  days_employed  age          education  education_id  \\\n",
       "5936          0            NaN   58  bachelor's degree             0   \n",
       "18697         0    -520.848083   27  bachelor's degree             0   \n",
       "\n",
       "           family_status  family_status_id gender   income_type  dept  \\\n",
       "5936             married                 0      M  entrepreneur     0   \n",
       "18697  civil partnership                 1      F  entrepreneur     0   \n",
       "\n",
       "          income                      purpose income_category age_category  \n",
       "5936         NaN  buy residential real estate            None      Sapient  \n",
       "18697  79866.103             having a wedding          Luxury        Young  "
      ]
     },
     "execution_count": 605,
     "metadata": {},
     "output_type": "execute_result"
    }
   ],
   "source": [
    "# let's see in detail each of group\n",
    "# number of last of them are so few\n",
    "data_loan[data_loan['income_type'] == 'entrepreneur']"
   ]
  },
  {
   "cell_type": "code",
   "execution_count": 606,
   "metadata": {},
   "outputs": [
    {
     "data": {
      "text/html": [
       "<div>\n",
       "<style scoped>\n",
       "    .dataframe tbody tr th:only-of-type {\n",
       "        vertical-align: middle;\n",
       "    }\n",
       "\n",
       "    .dataframe tbody tr th {\n",
       "        vertical-align: top;\n",
       "    }\n",
       "\n",
       "    .dataframe thead th {\n",
       "        text-align: right;\n",
       "    }\n",
       "</style>\n",
       "<table border=\"1\" class=\"dataframe\">\n",
       "  <thead>\n",
       "    <tr style=\"text-align: right;\">\n",
       "      <th></th>\n",
       "      <th>children</th>\n",
       "      <th>days_employed</th>\n",
       "      <th>age</th>\n",
       "      <th>education</th>\n",
       "      <th>education_id</th>\n",
       "      <th>family_status</th>\n",
       "      <th>family_status_id</th>\n",
       "      <th>gender</th>\n",
       "      <th>income_type</th>\n",
       "      <th>dept</th>\n",
       "      <th>income</th>\n",
       "      <th>purpose</th>\n",
       "      <th>income_category</th>\n",
       "      <th>age_category</th>\n",
       "    </tr>\n",
       "  </thead>\n",
       "  <tbody>\n",
       "    <tr>\n",
       "      <th>3133</th>\n",
       "      <td>1</td>\n",
       "      <td>337524.466835</td>\n",
       "      <td>31</td>\n",
       "      <td>secondary education</td>\n",
       "      <td>1</td>\n",
       "      <td>married</td>\n",
       "      <td>0</td>\n",
       "      <td>M</td>\n",
       "      <td>unemployed</td>\n",
       "      <td>1</td>\n",
       "      <td>9593.119</td>\n",
       "      <td>buying property for renting out</td>\n",
       "      <td>Poor</td>\n",
       "      <td>Young</td>\n",
       "    </tr>\n",
       "    <tr>\n",
       "      <th>14798</th>\n",
       "      <td>0</td>\n",
       "      <td>395302.838654</td>\n",
       "      <td>45</td>\n",
       "      <td>bachelor's degree</td>\n",
       "      <td>0</td>\n",
       "      <td>civil partnership</td>\n",
       "      <td>1</td>\n",
       "      <td>F</td>\n",
       "      <td>unemployed</td>\n",
       "      <td>0</td>\n",
       "      <td>32435.602</td>\n",
       "      <td>housing renovation</td>\n",
       "      <td>High Average</td>\n",
       "      <td>Young</td>\n",
       "    </tr>\n",
       "  </tbody>\n",
       "</table>\n",
       "</div>"
      ],
      "text/plain": [
       "       children  days_employed  age            education  education_id  \\\n",
       "3133          1  337524.466835   31  secondary education             1   \n",
       "14798         0  395302.838654   45    bachelor's degree             0   \n",
       "\n",
       "           family_status  family_status_id gender income_type  dept  \\\n",
       "3133             married                 0      M  unemployed     1   \n",
       "14798  civil partnership                 1      F  unemployed     0   \n",
       "\n",
       "          income                          purpose income_category age_category  \n",
       "3133    9593.119  buying property for renting out            Poor        Young  \n",
       "14798  32435.602               housing renovation    High Average        Young  "
      ]
     },
     "execution_count": 606,
     "metadata": {},
     "output_type": "execute_result"
    }
   ],
   "source": [
    "data_loan[data_loan['income_type'] == 'unemployed']"
   ]
  },
  {
   "cell_type": "code",
   "execution_count": 607,
   "metadata": {},
   "outputs": [
    {
     "data": {
      "text/html": [
       "<div>\n",
       "<style scoped>\n",
       "    .dataframe tbody tr th:only-of-type {\n",
       "        vertical-align: middle;\n",
       "    }\n",
       "\n",
       "    .dataframe tbody tr th {\n",
       "        vertical-align: top;\n",
       "    }\n",
       "\n",
       "    .dataframe thead th {\n",
       "        text-align: right;\n",
       "    }\n",
       "</style>\n",
       "<table border=\"1\" class=\"dataframe\">\n",
       "  <thead>\n",
       "    <tr style=\"text-align: right;\">\n",
       "      <th></th>\n",
       "      <th>children</th>\n",
       "      <th>days_employed</th>\n",
       "      <th>age</th>\n",
       "      <th>education</th>\n",
       "      <th>education_id</th>\n",
       "      <th>family_status</th>\n",
       "      <th>family_status_id</th>\n",
       "      <th>gender</th>\n",
       "      <th>income_type</th>\n",
       "      <th>dept</th>\n",
       "      <th>income</th>\n",
       "      <th>purpose</th>\n",
       "      <th>income_category</th>\n",
       "      <th>age_category</th>\n",
       "    </tr>\n",
       "  </thead>\n",
       "  <tbody>\n",
       "    <tr>\n",
       "      <th>9410</th>\n",
       "      <td>0</td>\n",
       "      <td>-578.751554</td>\n",
       "      <td>22</td>\n",
       "      <td>bachelor's degree</td>\n",
       "      <td>0</td>\n",
       "      <td>unmarried</td>\n",
       "      <td>4</td>\n",
       "      <td>M</td>\n",
       "      <td>student</td>\n",
       "      <td>0</td>\n",
       "      <td>15712.26</td>\n",
       "      <td>construction of own property</td>\n",
       "      <td>Low Average</td>\n",
       "      <td>Forever young</td>\n",
       "    </tr>\n",
       "  </tbody>\n",
       "</table>\n",
       "</div>"
      ],
      "text/plain": [
       "      children  days_employed  age          education  education_id  \\\n",
       "9410         0    -578.751554   22  bachelor's degree             0   \n",
       "\n",
       "     family_status  family_status_id gender income_type  dept    income  \\\n",
       "9410     unmarried                 4      M     student     0  15712.26   \n",
       "\n",
       "                           purpose income_category   age_category  \n",
       "9410  construction of own property     Low Average  Forever young  "
      ]
     },
     "execution_count": 607,
     "metadata": {},
     "output_type": "execute_result"
    }
   ],
   "source": [
    "data_loan[data_loan['income_type'] == 'student']"
   ]
  },
  {
   "cell_type": "code",
   "execution_count": 608,
   "metadata": {},
   "outputs": [
    {
     "data": {
      "text/html": [
       "<div>\n",
       "<style scoped>\n",
       "    .dataframe tbody tr th:only-of-type {\n",
       "        vertical-align: middle;\n",
       "    }\n",
       "\n",
       "    .dataframe tbody tr th {\n",
       "        vertical-align: top;\n",
       "    }\n",
       "\n",
       "    .dataframe thead th {\n",
       "        text-align: right;\n",
       "    }\n",
       "</style>\n",
       "<table border=\"1\" class=\"dataframe\">\n",
       "  <thead>\n",
       "    <tr style=\"text-align: right;\">\n",
       "      <th></th>\n",
       "      <th>children</th>\n",
       "      <th>days_employed</th>\n",
       "      <th>age</th>\n",
       "      <th>education</th>\n",
       "      <th>education_id</th>\n",
       "      <th>family_status</th>\n",
       "      <th>family_status_id</th>\n",
       "      <th>gender</th>\n",
       "      <th>income_type</th>\n",
       "      <th>dept</th>\n",
       "      <th>income</th>\n",
       "      <th>purpose</th>\n",
       "      <th>income_category</th>\n",
       "      <th>age_category</th>\n",
       "    </tr>\n",
       "  </thead>\n",
       "  <tbody>\n",
       "    <tr>\n",
       "      <th>20845</th>\n",
       "      <td>2</td>\n",
       "      <td>-3296.759962</td>\n",
       "      <td>39</td>\n",
       "      <td>secondary education</td>\n",
       "      <td>1</td>\n",
       "      <td>married</td>\n",
       "      <td>0</td>\n",
       "      <td>F</td>\n",
       "      <td>paternity / maternity leave</td>\n",
       "      <td>1</td>\n",
       "      <td>8612.661</td>\n",
       "      <td>car</td>\n",
       "      <td>Poor</td>\n",
       "      <td>Young</td>\n",
       "    </tr>\n",
       "  </tbody>\n",
       "</table>\n",
       "</div>"
      ],
      "text/plain": [
       "       children  days_employed  age            education  education_id  \\\n",
       "20845         2   -3296.759962   39  secondary education             1   \n",
       "\n",
       "      family_status  family_status_id gender                  income_type  \\\n",
       "20845       married                 0      F  paternity / maternity leave   \n",
       "\n",
       "       dept    income purpose income_category age_category  \n",
       "20845     1  8612.661     car            Poor        Young  "
      ]
     },
     "execution_count": 608,
     "metadata": {},
     "output_type": "execute_result"
    }
   ],
   "source": [
    "data_loan[data_loan['income_type'] == 'paternity / maternity leave']"
   ]
  },
  {
   "cell_type": "markdown",
   "metadata": {},
   "source": [
    "---------------------------------------------------------------------------------------\n",
    "##### 2k.Step-by-step. 10th column 'dept'\n",
    "BRIEFLY: Nothing to do. It is OK <br>\n",
    "REASONs:  <br>"
   ]
  },
  {
   "cell_type": "code",
   "execution_count": 609,
   "metadata": {},
   "outputs": [
    {
     "data": {
      "text/plain": [
       "0    19784\n",
       "1     1741\n",
       "Name: dept, dtype: int64"
      ]
     },
     "execution_count": 609,
     "metadata": {},
     "output_type": "execute_result"
    }
   ],
   "source": [
    "data_loan['dept'].value_counts()"
   ]
  },
  {
   "cell_type": "markdown",
   "metadata": {},
   "source": [
    "---------------------------------------------------------------------------------------\n",
    "##### 2l.Step-by-step. 11th column 'income'\n",
    "BRIEFLY: I add NA with average income based on grouping by age. BUT if it were my money I never gave a loan to a person without information about his income. So... It isn't a good idea to give this credit to such a person. I think in real life a remove all of this people from the data set. Especially if they ask too many. <br>\n",
    "REASONs:  <br>"
   ]
  },
  {
   "cell_type": "code",
   "execution_count": 610,
   "metadata": {
    "scrolled": true
   },
   "outputs": [
    {
     "name": "stdout",
     "output_type": "stream",
     "text": [
      "19351 < 21525\n"
     ]
    }
   ],
   "source": [
    "print(data_loan['income'].count(), '<', data_loan.shape[0])"
   ]
  },
  {
   "cell_type": "code",
   "execution_count": 611,
   "metadata": {},
   "outputs": [
    {
     "data": {
      "text/plain": [
       "age_category\n",
       "Forever young    22768.635545\n",
       "Master Yoda      21542.650450\n",
       "Sapient          25313.124503\n",
       "Young            27923.797357\n",
       "Name: income, dtype: float64"
      ]
     },
     "execution_count": 611,
     "metadata": {},
     "output_type": "execute_result"
    }
   ],
   "source": [
    "data_loan.groupby('age_category')['income'].mean()"
   ]
  },
  {
   "cell_type": "code",
   "execution_count": 612,
   "metadata": {},
   "outputs": [],
   "source": [
    "def income_update(row):\n",
    "    pay = row['income']\n",
    "    age = row['age_category']\n",
    "    \n",
    "    if not(pd.isnull(pay)):\n",
    "        return pay\n",
    "    elif age == 'Forever young':\n",
    "        return 22034.50\n",
    "    elif age == 'Master Yoda':\n",
    "        return 21542.65\n",
    "    elif age == 'Sapient':\n",
    "        return 25313.12\n",
    "    elif age == 'Young':\n",
    "        return 27905.09"
   ]
  },
  {
   "cell_type": "code",
   "execution_count": 613,
   "metadata": {},
   "outputs": [],
   "source": [
    "data_loan['income'] = data_loan.apply(income_update, axis=1)\n",
    "data_loan['income_category'] = data_loan.apply(fun_income_category, axis=1)"
   ]
  },
  {
   "cell_type": "code",
   "execution_count": 614,
   "metadata": {},
   "outputs": [
    {
     "name": "stdout",
     "output_type": "stream",
     "text": [
      "21525 < 21525\n"
     ]
    }
   ],
   "source": [
    "print(data_loan['income'].count(), '<', data_loan.shape[0])"
   ]
  },
  {
   "cell_type": "markdown",
   "metadata": {},
   "source": [
    "---------------------------------------------------------------------------------------\n",
    "##### 2b.Step-by-step. 2nd column 'days_employed'\n",
    "BRIEFLY: I did something useless. I removed all positive values, then changed all negative values to positive and eventually fillNA values with averaged values which I found by grouping 'income_category'. <br>\n",
    "REASONs: 'days_employed' doesn't influence on my study; but I like when things in order."
   ]
  },
  {
   "cell_type": "markdown",
   "metadata": {},
   "source": [
    "**Q1**: How many negative numbers in **\"days_employed\"**? If there is only a few of them it could be a human error."
   ]
  },
  {
   "cell_type": "code",
   "execution_count": 615,
   "metadata": {
    "scrolled": true
   },
   "outputs": [
    {
     "name": "stdout",
     "output_type": "stream",
     "text": [
      "Negative numbers in <days_employed>: 15906 from 21525\n",
      "Zeroes numbers in <days_employed>: 0 from 21525\n",
      "Positive numbers in <days_employed>: 3445 from 21525\n"
     ]
    }
   ],
   "source": [
    "print(\"Negative numbers in <days_employed>:\",data_loan[data_loan['days_employed'] < 0]['days_employed'].count(),\n",
    "     \"from\", data_loan.shape[0])\n",
    "print(\"Zeroes numbers in <days_employed>:\",data_loan[data_loan['days_employed'] == 0]['days_employed'].count(),\n",
    "     \"from\", data_loan.shape[0])\n",
    "print(\"Positive numbers in <days_employed>:\",data_loan[data_loan['days_employed'] > 0]['days_employed'].count(),\n",
    "     \"from\", data_loan.shape[0])"
   ]
  },
  {
   "cell_type": "markdown",
   "metadata": {},
   "source": [
    "**Mini-Conclusion 4**: Most of the data in **\"days_employed\"** is negative. So, this is a system errors. <br>\n",
    "**Q2**: Let's check positive numbers. Why do they positive? What's the peculiarity in them?"
   ]
  },
  {
   "cell_type": "code",
   "execution_count": 616,
   "metadata": {},
   "outputs": [
    {
     "name": "stdout",
     "output_type": "stream",
     "text": [
      "Minimal positive number in <days_employed>: 328728.72060451825\n",
      "That is 900.63 years\n",
      "Minimal negative number in <days_employed>: -18388.949900568383\n",
      "That is -50.38 years\n"
     ]
    }
   ],
   "source": [
    "print(\"Minimal positive number in <days_employed>:\", data_loan[data_loan['days_employed'] > 0]['days_employed'].min())\n",
    "print(\"That is {:.2f} years\".format(data_loan[data_loan['days_employed'] > 0]['days_employed'].min() / 365.))\n",
    "\n",
    "print(\"Minimal negative number in <days_employed>:\", data_loan[data_loan['days_employed'] < 0]['days_employed'].min())\n",
    "print(\"That is {:.2f} years\".format(data_loan[data_loan['days_employed'] < 0]['days_employed'].min() / 365.))"
   ]
  },
  {
   "cell_type": "markdown",
   "metadata": {},
   "source": [
    "*900 years could be the truth if we want give the loan to Connor MacLeod (refer to Highlander) :) <br>*"
   ]
  },
  {
   "cell_type": "code",
   "execution_count": 617,
   "metadata": {
    "scrolled": true
   },
   "outputs": [
    {
     "name": "stdout",
     "output_type": "stream",
     "text": [
      "Average age of people with positive <days_employed>:  59.342235123367196\n",
      "Average age of people with positive <days_employed>:  40.01930089274487\n"
     ]
    }
   ],
   "source": [
    "print('Average age of people with positive <days_employed>: ',data_loan[data_loan['days_employed'] > 0]['age'].mean())\n",
    "print('Average age of people with positive <days_employed>: ',data_loan[data_loan['days_employed'] < 0]['age'].mean())"
   ]
  },
  {
   "cell_type": "code",
   "execution_count": 618,
   "metadata": {},
   "outputs": [
    {
     "name": "stdout",
     "output_type": "stream",
     "text": [
      "Minimal age of people with positive <days_employed>:  22\n",
      "He is employed for days/hours:  1242    334764.259831\n",
      "Name: days_employed, dtype: float64\n"
     ]
    }
   ],
   "source": [
    "print('Minimal age of people with positive <days_employed>: ',\n",
    "      data_loan[(data_loan['days_employed'] > 0) & (data_loan['age'] != 0)]['age'].min())\n",
    "print('He is employed for days/hours: ',\n",
    "      data_loan[(data_loan['days_employed'] > 0) & (data_loan['age'] == 22)]['days_employed'])"
   ]
  },
  {
   "cell_type": "markdown",
   "metadata": {},
   "source": [
    "**Comment**: I thought, that this values are not days but hours. Unfortunately I was wrong. <br>\n",
    "A person 22-years old can't have 334764 hours (38 years) in 'days_employed'"
   ]
  },
  {
   "cell_type": "markdown",
   "metadata": {},
   "source": [
    "**Mini-Conclusion 5**: 'days_employed' is unnecessary. I just wand to replave positive numbers by average. And I change all negative numbers to positive."
   ]
  },
  {
   "cell_type": "code",
   "execution_count": 619,
   "metadata": {},
   "outputs": [],
   "source": [
    "data_loan.loc[data_loan['days_employed'] > 0, 'days_employed'] = float(\"nan\")   #NaN\n",
    "try:\n",
    "    data_loan['days_employed'] = (-1)*data_loan['days_employed']\n",
    "except:\n",
    "    data_loan['days_employed'] = data_loan['days_employed']"
   ]
  },
  {
   "cell_type": "code",
   "execution_count": 620,
   "metadata": {},
   "outputs": [
    {
     "data": {
      "text/plain": [
       "income_category\n",
       "Low Average     2306.484980\n",
       "High Average    2336.364951\n",
       "Average         2342.983940\n",
       "Poor            2368.292018\n",
       "Rich            2465.783414\n",
       "Luxury          2495.098411\n",
       "Name: days_employed, dtype: float64"
      ]
     },
     "execution_count": 620,
     "metadata": {},
     "output_type": "execute_result"
    }
   ],
   "source": [
    "data_loan.groupby('income_category')['days_employed'].mean().sort_values()"
   ]
  },
  {
   "cell_type": "code",
   "execution_count": 621,
   "metadata": {},
   "outputs": [],
   "source": [
    "def update_days_employed(row):\n",
    "    days_employed = row['days_employed']\n",
    "    income_category = row['income_category']\n",
    "    \n",
    "    if not(pd.isnull(days_employed)):\n",
    "        return int(days_employed)\n",
    "    else:\n",
    "        if income_category == \"Low Average\":\n",
    "            return 2306.48\n",
    "        elif income_category == \"High Average\":\n",
    "            return 2336.36\n",
    "        elif income_category == \"Average\":\n",
    "            return 2342.98\n",
    "        elif income_category == \"Poor\":\n",
    "            return 2368.29\n",
    "        elif income_category == \"Rich\":\n",
    "            return 2465.78\n",
    "        elif income_category == \"Luxury\":\n",
    "            return 2495.09"
   ]
  },
  {
   "cell_type": "code",
   "execution_count": 622,
   "metadata": {},
   "outputs": [],
   "source": [
    "data_loan['days_employed'] = data_loan.apply(update_days_employed, axis=1)"
   ]
  },
  {
   "cell_type": "code",
   "execution_count": 623,
   "metadata": {
    "scrolled": true
   },
   "outputs": [
    {
     "name": "stdout",
     "output_type": "stream",
     "text": [
      "<class 'pandas.core.frame.DataFrame'>\n",
      "RangeIndex: 21525 entries, 0 to 21524\n",
      "Data columns (total 14 columns):\n",
      " #   Column            Non-Null Count  Dtype  \n",
      "---  ------            --------------  -----  \n",
      " 0   children          21525 non-null  int64  \n",
      " 1   days_employed     21525 non-null  float64\n",
      " 2   age               21525 non-null  int64  \n",
      " 3   education         21525 non-null  object \n",
      " 4   education_id      21525 non-null  int64  \n",
      " 5   family_status     21525 non-null  object \n",
      " 6   family_status_id  21525 non-null  int64  \n",
      " 7   gender            21525 non-null  object \n",
      " 8   income_type       21525 non-null  object \n",
      " 9   dept              21525 non-null  int64  \n",
      " 10  income            21525 non-null  float64\n",
      " 11  purpose           21525 non-null  object \n",
      " 12  income_category   21525 non-null  object \n",
      " 13  age_category      21525 non-null  object \n",
      "dtypes: float64(2), int64(5), object(7)\n",
      "memory usage: 2.3+ MB\n"
     ]
    }
   ],
   "source": [
    "data_loan.info()"
   ]
  },
  {
   "cell_type": "code",
   "execution_count": 624,
   "metadata": {
    "scrolled": true
   },
   "outputs": [
    {
     "data": {
      "text/plain": [
       "children                              0\n",
       "days_employed                   2342.98\n",
       "age                                  65\n",
       "education           secondary education\n",
       "education_id                          1\n",
       "family_status         civil partnership\n",
       "family_status_id                      1\n",
       "gender                                M\n",
       "income_type                     retiree\n",
       "dept                                  0\n",
       "income                          21542.7\n",
       "purpose               to have a wedding\n",
       "income_category                 Average\n",
       "age_category                Master Yoda\n",
       "Name: 12, dtype: object"
      ]
     },
     "execution_count": 624,
     "metadata": {},
     "output_type": "execute_result"
    }
   ],
   "source": [
    "data_loan.loc[12,:]"
   ]
  },
  {
   "cell_type": "markdown",
   "metadata": {},
   "source": [
    "---------------------------------------------------------------------------------------\n",
    "##### 2m.Step-by-step. 12th column 'purpose'\n",
    "BRIEFLY: This column is not OK. Many duplicates. <br>\n",
    "REASONs:  <br>"
   ]
  },
  {
   "cell_type": "code",
   "execution_count": 625,
   "metadata": {},
   "outputs": [
    {
     "data": {
      "text/plain": [
       "array(['purchase of the house', 'car purchase', 'supplementary education',\n",
       "       'to have a wedding', 'housing transactions', 'education',\n",
       "       'having a wedding', 'purchase of the house for my family',\n",
       "       'buy real estate', 'buy commercial real estate',\n",
       "       'buy residential real estate', 'construction of own property',\n",
       "       'property', 'building a property', 'buying a second-hand car',\n",
       "       'buying my own car', 'transactions with commercial real estate',\n",
       "       'building a real estate', 'housing',\n",
       "       'transactions with my real estate', 'cars', 'to become educated',\n",
       "       'second-hand car purchase', 'getting an education', 'car',\n",
       "       'wedding ceremony', 'to get a supplementary education',\n",
       "       'purchase of my own house', 'real estate transactions',\n",
       "       'getting higher education', 'to own a car', 'purchase of a car',\n",
       "       'profile education', 'university education',\n",
       "       'buying property for renting out', 'to buy a car',\n",
       "       'housing renovation', 'going to university'], dtype=object)"
      ]
     },
     "execution_count": 625,
     "metadata": {},
     "output_type": "execute_result"
    }
   ],
   "source": [
    "data_loan.purpose.unique()"
   ]
  },
  {
   "cell_type": "code",
   "execution_count": 626,
   "metadata": {},
   "outputs": [
    {
     "data": {
      "text/plain": [
       "38"
      ]
     },
     "execution_count": 626,
     "metadata": {},
     "output_type": "execute_result"
    }
   ],
   "source": [
    "len(data_loan.purpose.unique())"
   ]
  },
  {
   "cell_type": "markdown",
   "metadata": {},
   "source": [
    "**Mini-Conclusion 8:** There are several type of purpose: 'house', 'car', 'education', 'wedding'."
   ]
  },
  {
   "cell_type": "code",
   "execution_count": 627,
   "metadata": {},
   "outputs": [],
   "source": [
    "# import libraries\n",
    "import nltk\n",
    "from nltk.stem import WordNetLemmatizer\n",
    "import pandas as pd\n",
    "from collections import Counter\n",
    "\n",
    "# WordNetLemmatizer \n",
    "dictionary_extended = ['house', 'car', 'education', 'wedding', 'property', 'house','estate','housing','university', 'cars', 'educated']\n",
    "purpose_category = []\n",
    "for goals in data_loan['purpose']:\n",
    "    wordnet_lemma = WordNetLemmatizer()\n",
    "    \n",
    "    words = nltk.word_tokenize(goals)\n",
    "    lemmas = [wordnet_lemma.lemmatize(w, pos = 'n') for w in words]\n",
    "    \n",
    "    for item_dictionary in dictionary_extended:\n",
    "        if item_dictionary in words:\n",
    "            purpose_category.append(item_dictionary)\n",
    "            break"
   ]
  },
  {
   "cell_type": "code",
   "execution_count": 628,
   "metadata": {},
   "outputs": [],
   "source": [
    "# SnowballStemmer to cut number of categories\n",
    "from nltk.stem import SnowballStemmer\n",
    "english_stemmer = SnowballStemmer('english')\n",
    "\n",
    "dictionary = ['hous','car','educ','wed']\n",
    "sum = 0\n",
    "for k, goals in enumerate(purpose_category):\n",
    "    stemming = english_stemmer.stem(goals)\n",
    "    if stemming in dictionary:\n",
    "        sum += 1\n",
    "        purpose_category[k] = stemming\n",
    "    if (stemming == 'properti') | (stemming == 'estat'):\n",
    "        sum += 1\n",
    "        purpose_category[k] = 'hous'\n",
    "    if stemming == 'univers':\n",
    "        sum += 1\n",
    "        purpose_category[k] = 'educ'"
   ]
  },
  {
   "cell_type": "code",
   "execution_count": 629,
   "metadata": {},
   "outputs": [],
   "source": [
    "data_loan['purpose_category'] = purpose_category"
   ]
  },
  {
   "cell_type": "markdown",
   "metadata": {},
   "source": [
    "### Not excellent: half-automatization in this solution."
   ]
  },
  {
   "cell_type": "markdown",
   "metadata": {},
   "source": [
    "# Conclusion of Step 2.\n",
    "\n",
    "1. I have replaced all miss- and extraordinary values\n",
    "2. I have added some useful category-columns\n",
    "\n",
    "It has been a preprocessing of data."
   ]
  },
  {
   "cell_type": "code",
   "execution_count": 630,
   "metadata": {
    "scrolled": true
   },
   "outputs": [
    {
     "data": {
      "text/html": [
       "<div>\n",
       "<style scoped>\n",
       "    .dataframe tbody tr th:only-of-type {\n",
       "        vertical-align: middle;\n",
       "    }\n",
       "\n",
       "    .dataframe tbody tr th {\n",
       "        vertical-align: top;\n",
       "    }\n",
       "\n",
       "    .dataframe thead th {\n",
       "        text-align: right;\n",
       "    }\n",
       "</style>\n",
       "<table border=\"1\" class=\"dataframe\">\n",
       "  <thead>\n",
       "    <tr style=\"text-align: right;\">\n",
       "      <th></th>\n",
       "      <th>children</th>\n",
       "      <th>days_employed</th>\n",
       "      <th>age</th>\n",
       "      <th>education</th>\n",
       "      <th>education_id</th>\n",
       "      <th>family_status</th>\n",
       "      <th>family_status_id</th>\n",
       "      <th>gender</th>\n",
       "      <th>income_type</th>\n",
       "      <th>dept</th>\n",
       "      <th>income</th>\n",
       "      <th>purpose</th>\n",
       "      <th>income_category</th>\n",
       "      <th>age_category</th>\n",
       "      <th>purpose_category</th>\n",
       "    </tr>\n",
       "  </thead>\n",
       "  <tbody>\n",
       "    <tr>\n",
       "      <th>0</th>\n",
       "      <td>1</td>\n",
       "      <td>8437.00</td>\n",
       "      <td>42</td>\n",
       "      <td>bachelor's degree</td>\n",
       "      <td>0</td>\n",
       "      <td>married</td>\n",
       "      <td>0</td>\n",
       "      <td>F</td>\n",
       "      <td>employee</td>\n",
       "      <td>0</td>\n",
       "      <td>40620.102</td>\n",
       "      <td>purchase of the house</td>\n",
       "      <td>Rich</td>\n",
       "      <td>Young</td>\n",
       "      <td>hous</td>\n",
       "    </tr>\n",
       "    <tr>\n",
       "      <th>1</th>\n",
       "      <td>1</td>\n",
       "      <td>4024.00</td>\n",
       "      <td>36</td>\n",
       "      <td>secondary education</td>\n",
       "      <td>1</td>\n",
       "      <td>married</td>\n",
       "      <td>0</td>\n",
       "      <td>F</td>\n",
       "      <td>employee</td>\n",
       "      <td>0</td>\n",
       "      <td>17932.802</td>\n",
       "      <td>car purchase</td>\n",
       "      <td>Low Average</td>\n",
       "      <td>Young</td>\n",
       "      <td>car</td>\n",
       "    </tr>\n",
       "    <tr>\n",
       "      <th>2</th>\n",
       "      <td>0</td>\n",
       "      <td>5623.00</td>\n",
       "      <td>33</td>\n",
       "      <td>secondary education</td>\n",
       "      <td>1</td>\n",
       "      <td>married</td>\n",
       "      <td>0</td>\n",
       "      <td>M</td>\n",
       "      <td>employee</td>\n",
       "      <td>0</td>\n",
       "      <td>23341.752</td>\n",
       "      <td>purchase of the house</td>\n",
       "      <td>Average</td>\n",
       "      <td>Young</td>\n",
       "      <td>hous</td>\n",
       "    </tr>\n",
       "    <tr>\n",
       "      <th>3</th>\n",
       "      <td>3</td>\n",
       "      <td>4124.00</td>\n",
       "      <td>32</td>\n",
       "      <td>secondary education</td>\n",
       "      <td>1</td>\n",
       "      <td>married</td>\n",
       "      <td>0</td>\n",
       "      <td>M</td>\n",
       "      <td>employee</td>\n",
       "      <td>0</td>\n",
       "      <td>42820.568</td>\n",
       "      <td>supplementary education</td>\n",
       "      <td>Rich</td>\n",
       "      <td>Young</td>\n",
       "      <td>educ</td>\n",
       "    </tr>\n",
       "    <tr>\n",
       "      <th>4</th>\n",
       "      <td>0</td>\n",
       "      <td>2342.98</td>\n",
       "      <td>53</td>\n",
       "      <td>secondary education</td>\n",
       "      <td>1</td>\n",
       "      <td>civil partnership</td>\n",
       "      <td>1</td>\n",
       "      <td>F</td>\n",
       "      <td>retiree</td>\n",
       "      <td>0</td>\n",
       "      <td>25378.572</td>\n",
       "      <td>to have a wedding</td>\n",
       "      <td>Average</td>\n",
       "      <td>Sapient</td>\n",
       "      <td>wed</td>\n",
       "    </tr>\n",
       "    <tr>\n",
       "      <th>5</th>\n",
       "      <td>0</td>\n",
       "      <td>926.00</td>\n",
       "      <td>27</td>\n",
       "      <td>bachelor's degree</td>\n",
       "      <td>0</td>\n",
       "      <td>civil partnership</td>\n",
       "      <td>1</td>\n",
       "      <td>M</td>\n",
       "      <td>business</td>\n",
       "      <td>0</td>\n",
       "      <td>40922.170</td>\n",
       "      <td>purchase of the house</td>\n",
       "      <td>Rich</td>\n",
       "      <td>Young</td>\n",
       "      <td>hous</td>\n",
       "    </tr>\n",
       "    <tr>\n",
       "      <th>6</th>\n",
       "      <td>0</td>\n",
       "      <td>2879.00</td>\n",
       "      <td>43</td>\n",
       "      <td>bachelor's degree</td>\n",
       "      <td>0</td>\n",
       "      <td>married</td>\n",
       "      <td>0</td>\n",
       "      <td>F</td>\n",
       "      <td>business</td>\n",
       "      <td>0</td>\n",
       "      <td>38484.156</td>\n",
       "      <td>housing transactions</td>\n",
       "      <td>High Average</td>\n",
       "      <td>Young</td>\n",
       "      <td>hous</td>\n",
       "    </tr>\n",
       "    <tr>\n",
       "      <th>7</th>\n",
       "      <td>0</td>\n",
       "      <td>152.00</td>\n",
       "      <td>50</td>\n",
       "      <td>secondary education</td>\n",
       "      <td>1</td>\n",
       "      <td>married</td>\n",
       "      <td>0</td>\n",
       "      <td>M</td>\n",
       "      <td>employee</td>\n",
       "      <td>0</td>\n",
       "      <td>21731.829</td>\n",
       "      <td>education</td>\n",
       "      <td>Average</td>\n",
       "      <td>Sapient</td>\n",
       "      <td>educ</td>\n",
       "    </tr>\n",
       "    <tr>\n",
       "      <th>8</th>\n",
       "      <td>2</td>\n",
       "      <td>6929.00</td>\n",
       "      <td>35</td>\n",
       "      <td>bachelor's degree</td>\n",
       "      <td>0</td>\n",
       "      <td>civil partnership</td>\n",
       "      <td>1</td>\n",
       "      <td>F</td>\n",
       "      <td>employee</td>\n",
       "      <td>0</td>\n",
       "      <td>15337.093</td>\n",
       "      <td>having a wedding</td>\n",
       "      <td>Low Average</td>\n",
       "      <td>Young</td>\n",
       "      <td>wed</td>\n",
       "    </tr>\n",
       "    <tr>\n",
       "      <th>9</th>\n",
       "      <td>0</td>\n",
       "      <td>2188.00</td>\n",
       "      <td>41</td>\n",
       "      <td>secondary education</td>\n",
       "      <td>1</td>\n",
       "      <td>married</td>\n",
       "      <td>0</td>\n",
       "      <td>M</td>\n",
       "      <td>employee</td>\n",
       "      <td>0</td>\n",
       "      <td>23108.150</td>\n",
       "      <td>purchase of the house for my family</td>\n",
       "      <td>Average</td>\n",
       "      <td>Young</td>\n",
       "      <td>hous</td>\n",
       "    </tr>\n",
       "  </tbody>\n",
       "</table>\n",
       "</div>"
      ],
      "text/plain": [
       "   children  days_employed  age            education  education_id  \\\n",
       "0         1        8437.00   42    bachelor's degree             0   \n",
       "1         1        4024.00   36  secondary education             1   \n",
       "2         0        5623.00   33  secondary education             1   \n",
       "3         3        4124.00   32  secondary education             1   \n",
       "4         0        2342.98   53  secondary education             1   \n",
       "5         0         926.00   27    bachelor's degree             0   \n",
       "6         0        2879.00   43    bachelor's degree             0   \n",
       "7         0         152.00   50  secondary education             1   \n",
       "8         2        6929.00   35    bachelor's degree             0   \n",
       "9         0        2188.00   41  secondary education             1   \n",
       "\n",
       "       family_status  family_status_id gender income_type  dept     income  \\\n",
       "0            married                 0      F    employee     0  40620.102   \n",
       "1            married                 0      F    employee     0  17932.802   \n",
       "2            married                 0      M    employee     0  23341.752   \n",
       "3            married                 0      M    employee     0  42820.568   \n",
       "4  civil partnership                 1      F     retiree     0  25378.572   \n",
       "5  civil partnership                 1      M    business     0  40922.170   \n",
       "6            married                 0      F    business     0  38484.156   \n",
       "7            married                 0      M    employee     0  21731.829   \n",
       "8  civil partnership                 1      F    employee     0  15337.093   \n",
       "9            married                 0      M    employee     0  23108.150   \n",
       "\n",
       "                               purpose income_category age_category  \\\n",
       "0                purchase of the house            Rich        Young   \n",
       "1                         car purchase     Low Average        Young   \n",
       "2                purchase of the house         Average        Young   \n",
       "3              supplementary education            Rich        Young   \n",
       "4                    to have a wedding         Average      Sapient   \n",
       "5                purchase of the house            Rich        Young   \n",
       "6                 housing transactions    High Average        Young   \n",
       "7                            education         Average      Sapient   \n",
       "8                     having a wedding     Low Average        Young   \n",
       "9  purchase of the house for my family         Average        Young   \n",
       "\n",
       "  purpose_category  \n",
       "0             hous  \n",
       "1              car  \n",
       "2             hous  \n",
       "3             educ  \n",
       "4              wed  \n",
       "5             hous  \n",
       "6             hous  \n",
       "7             educ  \n",
       "8              wed  \n",
       "9             hous  "
      ]
     },
     "execution_count": 630,
     "metadata": {},
     "output_type": "execute_result"
    }
   ],
   "source": [
    "data_loan.head(10)"
   ]
  },
  {
   "cell_type": "code",
   "execution_count": 631,
   "metadata": {},
   "outputs": [
    {
     "name": "stdout",
     "output_type": "stream",
     "text": [
      "<class 'pandas.core.frame.DataFrame'>\n",
      "RangeIndex: 21525 entries, 0 to 21524\n",
      "Data columns (total 15 columns):\n",
      " #   Column            Non-Null Count  Dtype  \n",
      "---  ------            --------------  -----  \n",
      " 0   children          21525 non-null  int64  \n",
      " 1   days_employed     21525 non-null  float64\n",
      " 2   age               21525 non-null  int64  \n",
      " 3   education         21525 non-null  object \n",
      " 4   education_id      21525 non-null  int64  \n",
      " 5   family_status     21525 non-null  object \n",
      " 6   family_status_id  21525 non-null  int64  \n",
      " 7   gender            21525 non-null  object \n",
      " 8   income_type       21525 non-null  object \n",
      " 9   dept              21525 non-null  int64  \n",
      " 10  income            21525 non-null  float64\n",
      " 11  purpose           21525 non-null  object \n",
      " 12  income_category   21525 non-null  object \n",
      " 13  age_category      21525 non-null  object \n",
      " 14  purpose_category  21525 non-null  object \n",
      "dtypes: float64(2), int64(5), object(8)\n",
      "memory usage: 2.5+ MB\n"
     ]
    }
   ],
   "source": [
    "data_loan.info()"
   ]
  },
  {
   "cell_type": "markdown",
   "metadata": {},
   "source": [
    "### Step 3. Answer these questions:\n",
    "- Is there a connection between having kids and repaying a loan on time?\n",
    "- Is there a connection between marital status and repaying a loan on time?\n",
    "- Is there a connection between income level and repaying a loan on time?\n",
    "- How do different loan purposes affect timely loan repayment?\n",
    "Interpret your answers. Explain what the results you obtained mean."
   ]
  },
  {
   "cell_type": "code",
   "execution_count": 638,
   "metadata": {},
   "outputs": [
    {
     "data": {
      "text/plain": [
       "children\n",
       "0    14272\n",
       "1     4818\n",
       "2     2055\n",
       "3      330\n",
       "4       41\n",
       "5        9\n",
       "Name: dept, dtype: int64"
      ]
     },
     "execution_count": 638,
     "metadata": {},
     "output_type": "execute_result"
    }
   ],
   "source": [
    "# let's see how many people with different number of children\n",
    "data_loan.groupby('children')['dept'].count()"
   ]
  },
  {
   "cell_type": "code",
   "execution_count": 642,
   "metadata": {},
   "outputs": [],
   "source": [
    "# Because number of people with 5 children is so small, we can combine them with '2', '3' and '4'\n",
    "def children_category(row):\n",
    "    num_child = row['children']\n",
    "    if num_child == 0:\n",
    "        return 'Free'\n",
    "    elif num_child == 1:\n",
    "        return 'Child'\n",
    "    else:\n",
    "        return 'Large_family'\n",
    "    \n",
    "data_loan['children_category'] = data_loan.apply(children_category, axis=1)"
   ]
  },
  {
   "cell_type": "code",
   "execution_count": 643,
   "metadata": {},
   "outputs": [
    {
     "data": {
      "text/plain": [
       "children_category\n",
       "Child            4818\n",
       "Free            14272\n",
       "Large_family     2435\n",
       "Name: dept, dtype: int64"
      ]
     },
     "execution_count": 643,
     "metadata": {},
     "output_type": "execute_result"
    }
   ],
   "source": [
    "data_loan.groupby('children_category')['dept'].count()"
   ]
  },
  {
   "cell_type": "code",
   "execution_count": 644,
   "metadata": {},
   "outputs": [
    {
     "data": {
      "text/plain": [
       "children_category\n",
       "Child           0.092154\n",
       "Free            0.075112\n",
       "Large_family    0.092402\n",
       "Name: dept, dtype: float64"
      ]
     },
     "execution_count": 644,
     "metadata": {},
     "output_type": "execute_result"
    }
   ],
   "source": [
    "# let's see how many 'depts' there are\n",
    "# here mean is a ratio of this value in each group\n",
    "data_loan.groupby('children_category')['dept'].mean()"
   ]
  },
  {
   "cell_type": "markdown",
   "metadata": {},
   "source": [
    "#### Answer:\n",
    "1. number of children slightly inflence on a repaying a loan on time. Although (it was unexpected for me) people without children more likely repaying a loan on time.\n"
   ]
  },
  {
   "cell_type": "code",
   "execution_count": 654,
   "metadata": {},
   "outputs": [
    {
     "data": {
      "text/plain": [
       "family_status\n",
       "civil partnership     4177\n",
       "divorced              1195\n",
       "married              12380\n",
       "unmarried             2813\n",
       "widow / widower        960\n",
       "Name: dept, dtype: int64"
      ]
     },
     "execution_count": 654,
     "metadata": {},
     "output_type": "execute_result"
    }
   ],
   "source": [
    "# let's see how many people with different number of children\n",
    "data_loan.groupby('family_status')['dept'].count()"
   ]
  },
  {
   "cell_type": "code",
   "execution_count": 656,
   "metadata": {},
   "outputs": [
    {
     "data": {
      "text/plain": [
       "family_status\n",
       "widow / widower      0.065625\n",
       "divorced             0.071130\n",
       "married              0.075202\n",
       "civil partnership    0.092890\n",
       "unmarried            0.097405\n",
       "Name: dept, dtype: float64"
      ]
     },
     "execution_count": 656,
     "metadata": {},
     "output_type": "execute_result"
    }
   ],
   "source": [
    "data_loan.groupby('family_status')['dept'].mean().sort_values()"
   ]
  },
  {
   "cell_type": "markdown",
   "metadata": {},
   "source": [
    "#### Answer:\n",
    "2. Better give a loan to widow/widower, divorced, married. Worse to civil partnership and unmarried"
   ]
  },
  {
   "cell_type": "code",
   "execution_count": 658,
   "metadata": {},
   "outputs": [
    {
     "data": {
      "text/plain": [
       "income_category\n",
       "Average         0.084618\n",
       "High Average    0.077889\n",
       "Low Average     0.085364\n",
       "Luxury          0.069697\n",
       "Poor            0.062635\n",
       "Rich            0.068365\n",
       "Name: dept, dtype: float64"
      ]
     },
     "execution_count": 658,
     "metadata": {},
     "output_type": "execute_result"
    }
   ],
   "source": [
    "# let's see how many people with different number of children\n",
    "data_loan.groupby('income_category')['dept'].mean()"
   ]
  },
  {
   "cell_type": "code",
   "execution_count": 659,
   "metadata": {},
   "outputs": [
    {
     "data": {
      "text/plain": [
       "income_category\n",
       "Average         8237\n",
       "High Average    3107\n",
       "Low Average     6443\n",
       "Luxury          1320\n",
       "Poor             926\n",
       "Rich            1492\n",
       "Name: dept, dtype: int64"
      ]
     },
     "execution_count": 659,
     "metadata": {},
     "output_type": "execute_result"
    }
   ],
   "source": [
    "data_loan.groupby('income_category')['dept'].count()"
   ]
  },
  {
   "cell_type": "markdown",
   "metadata": {},
   "source": [
    "#### Answer:\n",
    "3. Suddenly poor's as well as rich's and luxury are repaying a loan on time in compare with average's.\n",
    "Poor = [0, 10000]; Rich and Luxury = [40000, ...]\n",
    "Average's = [10 000. 40000]. But there are more average's than the rest."
   ]
  },
  {
   "cell_type": "code",
   "execution_count": 660,
   "metadata": {},
   "outputs": [
    {
     "data": {
      "text/plain": [
       "purpose_category\n",
       "car      4315\n",
       "educ     4022\n",
       "hous    10840\n",
       "wed      2348\n",
       "Name: dept, dtype: int64"
      ]
     },
     "execution_count": 660,
     "metadata": {},
     "output_type": "execute_result"
    }
   ],
   "source": [
    "data_loan.groupby('purpose_category')['dept'].count()"
   ]
  },
  {
   "cell_type": "code",
   "execution_count": 661,
   "metadata": {},
   "outputs": [
    {
     "data": {
      "text/plain": [
       "purpose_category\n",
       "car     0.093395\n",
       "educ    0.091994\n",
       "hous    0.072140\n",
       "wed     0.079216\n",
       "Name: dept, dtype: float64"
      ]
     },
     "execution_count": 661,
     "metadata": {},
     "output_type": "execute_result"
    }
   ],
   "source": [
    "data_loan.groupby('purpose_category')['dept'].mean()"
   ]
  },
  {
   "cell_type": "markdown",
   "metadata": {},
   "source": [
    "#### Answer:\n",
    "4. Depts are more often in 'car' and 'education' categories. I think the main reason is that 'house' is too expensive and people are more conscious when take a credit. Wedding credit is not so huge as educational and car's ones."
   ]
  },
  {
   "cell_type": "markdown",
   "metadata": {},
   "source": [
    "### Step 4. Overall conclusion\n",
    "1. As I see 'purpose' and 'income_category' have a strong connection with repaying loan on time. <br>\n",
    "Below the pivot table of this categories.\n",
    "2. The best way to have a returned credit on time is to give it to (Poor, Rich, Luxury) who is not in marriage to buy a house.\n",
    "3. The worse way is to give a loan for 'car' to a person with children with high-average income. Frankly say, this conclusion totaly against my view."
   ]
  },
  {
   "cell_type": "code",
   "execution_count": 674,
   "metadata": {},
   "outputs": [],
   "source": [
    "data_pivot = data_loan.pivot_table(index=['income_category', 'family_status'], columns='purpose_category', \n",
    "                                                                        values='dept', aggfunc='mean')"
   ]
  },
  {
   "cell_type": "code",
   "execution_count": 675,
   "metadata": {},
   "outputs": [
    {
     "data": {
      "text/html": [
       "<div>\n",
       "<style scoped>\n",
       "    .dataframe tbody tr th:only-of-type {\n",
       "        vertical-align: middle;\n",
       "    }\n",
       "\n",
       "    .dataframe tbody tr th {\n",
       "        vertical-align: top;\n",
       "    }\n",
       "\n",
       "    .dataframe thead th {\n",
       "        text-align: right;\n",
       "    }\n",
       "</style>\n",
       "<table border=\"1\" class=\"dataframe\">\n",
       "  <thead>\n",
       "    <tr style=\"text-align: right;\">\n",
       "      <th></th>\n",
       "      <th>purpose_category</th>\n",
       "      <th>car</th>\n",
       "      <th>educ</th>\n",
       "      <th>hous</th>\n",
       "      <th>wed</th>\n",
       "    </tr>\n",
       "    <tr>\n",
       "      <th>income_category</th>\n",
       "      <th>family_status</th>\n",
       "      <th></th>\n",
       "      <th></th>\n",
       "      <th></th>\n",
       "      <th></th>\n",
       "    </tr>\n",
       "  </thead>\n",
       "  <tbody>\n",
       "    <tr>\n",
       "      <th rowspan=\"5\" valign=\"top\">Average</th>\n",
       "      <th>civil partnership</th>\n",
       "      <td>0.122699</td>\n",
       "      <td>0.136054</td>\n",
       "      <td>0.101781</td>\n",
       "      <td>0.084650</td>\n",
       "    </tr>\n",
       "    <tr>\n",
       "      <th>divorced</th>\n",
       "      <td>0.094340</td>\n",
       "      <td>0.043956</td>\n",
       "      <td>0.078189</td>\n",
       "      <td>NaN</td>\n",
       "    </tr>\n",
       "    <tr>\n",
       "      <th>married</th>\n",
       "      <td>0.080426</td>\n",
       "      <td>0.087584</td>\n",
       "      <td>0.071562</td>\n",
       "      <td>NaN</td>\n",
       "    </tr>\n",
       "    <tr>\n",
       "      <th>unmarried</th>\n",
       "      <td>0.142857</td>\n",
       "      <td>0.100457</td>\n",
       "      <td>0.084127</td>\n",
       "      <td>NaN</td>\n",
       "    </tr>\n",
       "    <tr>\n",
       "      <th>widow / widower</th>\n",
       "      <td>0.114943</td>\n",
       "      <td>0.070588</td>\n",
       "      <td>0.085106</td>\n",
       "      <td>NaN</td>\n",
       "    </tr>\n",
       "    <tr>\n",
       "      <th rowspan=\"5\" valign=\"top\">High Average</th>\n",
       "      <th>civil partnership</th>\n",
       "      <td>0.115942</td>\n",
       "      <td>0.096774</td>\n",
       "      <td>0.066667</td>\n",
       "      <td>0.064140</td>\n",
       "    </tr>\n",
       "    <tr>\n",
       "      <th>divorced</th>\n",
       "      <td>0.065217</td>\n",
       "      <td>0.107143</td>\n",
       "      <td>0.052632</td>\n",
       "      <td>NaN</td>\n",
       "    </tr>\n",
       "    <tr>\n",
       "      <th>married</th>\n",
       "      <td>0.068720</td>\n",
       "      <td>0.077586</td>\n",
       "      <td>0.076389</td>\n",
       "      <td>NaN</td>\n",
       "    </tr>\n",
       "    <tr>\n",
       "      <th>unmarried</th>\n",
       "      <td>0.170455</td>\n",
       "      <td>0.089744</td>\n",
       "      <td>0.096491</td>\n",
       "      <td>NaN</td>\n",
       "    </tr>\n",
       "    <tr>\n",
       "      <th>widow / widower</th>\n",
       "      <td>0.071429</td>\n",
       "      <td>0.040000</td>\n",
       "      <td>0.057971</td>\n",
       "      <td>NaN</td>\n",
       "    </tr>\n",
       "    <tr>\n",
       "      <th rowspan=\"5\" valign=\"top\">Low Average</th>\n",
       "      <th>civil partnership</th>\n",
       "      <td>0.129771</td>\n",
       "      <td>0.217742</td>\n",
       "      <td>0.096774</td>\n",
       "      <td>0.096336</td>\n",
       "    </tr>\n",
       "    <tr>\n",
       "      <th>divorced</th>\n",
       "      <td>0.075949</td>\n",
       "      <td>0.080460</td>\n",
       "      <td>0.075000</td>\n",
       "      <td>NaN</td>\n",
       "    </tr>\n",
       "    <tr>\n",
       "      <th>married</th>\n",
       "      <td>0.085750</td>\n",
       "      <td>0.094164</td>\n",
       "      <td>0.069801</td>\n",
       "      <td>NaN</td>\n",
       "    </tr>\n",
       "    <tr>\n",
       "      <th>unmarried</th>\n",
       "      <td>0.120000</td>\n",
       "      <td>0.117647</td>\n",
       "      <td>0.074946</td>\n",
       "      <td>NaN</td>\n",
       "    </tr>\n",
       "    <tr>\n",
       "      <th>widow / widower</th>\n",
       "      <td>0.081081</td>\n",
       "      <td>0.095238</td>\n",
       "      <td>0.019512</td>\n",
       "      <td>NaN</td>\n",
       "    </tr>\n",
       "    <tr>\n",
       "      <th rowspan=\"5\" valign=\"top\">Luxury</th>\n",
       "      <th>civil partnership</th>\n",
       "      <td>0.040000</td>\n",
       "      <td>0.160000</td>\n",
       "      <td>0.118644</td>\n",
       "      <td>0.052239</td>\n",
       "    </tr>\n",
       "    <tr>\n",
       "      <th>divorced</th>\n",
       "      <td>0.058824</td>\n",
       "      <td>0.000000</td>\n",
       "      <td>0.061224</td>\n",
       "      <td>NaN</td>\n",
       "    </tr>\n",
       "    <tr>\n",
       "      <th>married</th>\n",
       "      <td>0.091892</td>\n",
       "      <td>0.065476</td>\n",
       "      <td>0.054945</td>\n",
       "      <td>NaN</td>\n",
       "    </tr>\n",
       "    <tr>\n",
       "      <th>unmarried</th>\n",
       "      <td>0.085714</td>\n",
       "      <td>0.041667</td>\n",
       "      <td>0.096154</td>\n",
       "      <td>NaN</td>\n",
       "    </tr>\n",
       "    <tr>\n",
       "      <th>widow / widower</th>\n",
       "      <td>0.000000</td>\n",
       "      <td>0.000000</td>\n",
       "      <td>0.095238</td>\n",
       "      <td>NaN</td>\n",
       "    </tr>\n",
       "    <tr>\n",
       "      <th rowspan=\"5\" valign=\"top\">Poor</th>\n",
       "      <th>civil partnership</th>\n",
       "      <td>0.111111</td>\n",
       "      <td>0.000000</td>\n",
       "      <td>0.028571</td>\n",
       "      <td>0.033708</td>\n",
       "    </tr>\n",
       "    <tr>\n",
       "      <th>divorced</th>\n",
       "      <td>0.100000</td>\n",
       "      <td>0.000000</td>\n",
       "      <td>0.043478</td>\n",
       "      <td>NaN</td>\n",
       "    </tr>\n",
       "    <tr>\n",
       "      <th>married</th>\n",
       "      <td>0.099174</td>\n",
       "      <td>0.040323</td>\n",
       "      <td>0.067901</td>\n",
       "      <td>NaN</td>\n",
       "    </tr>\n",
       "    <tr>\n",
       "      <th>unmarried</th>\n",
       "      <td>0.062500</td>\n",
       "      <td>0.153846</td>\n",
       "      <td>0.070175</td>\n",
       "      <td>NaN</td>\n",
       "    </tr>\n",
       "    <tr>\n",
       "      <th>widow / widower</th>\n",
       "      <td>0.086957</td>\n",
       "      <td>0.066667</td>\n",
       "      <td>0.030303</td>\n",
       "      <td>NaN</td>\n",
       "    </tr>\n",
       "    <tr>\n",
       "      <th rowspan=\"5\" valign=\"top\">Rich</th>\n",
       "      <th>civil partnership</th>\n",
       "      <td>0.107143</td>\n",
       "      <td>0.107143</td>\n",
       "      <td>0.083333</td>\n",
       "      <td>0.050314</td>\n",
       "    </tr>\n",
       "    <tr>\n",
       "      <th>divorced</th>\n",
       "      <td>0.000000</td>\n",
       "      <td>0.230769</td>\n",
       "      <td>0.063830</td>\n",
       "      <td>NaN</td>\n",
       "    </tr>\n",
       "    <tr>\n",
       "      <th>married</th>\n",
       "      <td>0.104712</td>\n",
       "      <td>0.064706</td>\n",
       "      <td>0.052529</td>\n",
       "      <td>NaN</td>\n",
       "    </tr>\n",
       "    <tr>\n",
       "      <th>unmarried</th>\n",
       "      <td>0.050000</td>\n",
       "      <td>0.140351</td>\n",
       "      <td>0.054054</td>\n",
       "      <td>NaN</td>\n",
       "    </tr>\n",
       "    <tr>\n",
       "      <th>widow / widower</th>\n",
       "      <td>0.066667</td>\n",
       "      <td>0.111111</td>\n",
       "      <td>0.037037</td>\n",
       "      <td>NaN</td>\n",
       "    </tr>\n",
       "  </tbody>\n",
       "</table>\n",
       "</div>"
      ],
      "text/plain": [
       "purpose_category                        car      educ      hous       wed\n",
       "income_category family_status                                            \n",
       "Average         civil partnership  0.122699  0.136054  0.101781  0.084650\n",
       "                divorced           0.094340  0.043956  0.078189       NaN\n",
       "                married            0.080426  0.087584  0.071562       NaN\n",
       "                unmarried          0.142857  0.100457  0.084127       NaN\n",
       "                widow / widower    0.114943  0.070588  0.085106       NaN\n",
       "High Average    civil partnership  0.115942  0.096774  0.066667  0.064140\n",
       "                divorced           0.065217  0.107143  0.052632       NaN\n",
       "                married            0.068720  0.077586  0.076389       NaN\n",
       "                unmarried          0.170455  0.089744  0.096491       NaN\n",
       "                widow / widower    0.071429  0.040000  0.057971       NaN\n",
       "Low Average     civil partnership  0.129771  0.217742  0.096774  0.096336\n",
       "                divorced           0.075949  0.080460  0.075000       NaN\n",
       "                married            0.085750  0.094164  0.069801       NaN\n",
       "                unmarried          0.120000  0.117647  0.074946       NaN\n",
       "                widow / widower    0.081081  0.095238  0.019512       NaN\n",
       "Luxury          civil partnership  0.040000  0.160000  0.118644  0.052239\n",
       "                divorced           0.058824  0.000000  0.061224       NaN\n",
       "                married            0.091892  0.065476  0.054945       NaN\n",
       "                unmarried          0.085714  0.041667  0.096154       NaN\n",
       "                widow / widower    0.000000  0.000000  0.095238       NaN\n",
       "Poor            civil partnership  0.111111  0.000000  0.028571  0.033708\n",
       "                divorced           0.100000  0.000000  0.043478       NaN\n",
       "                married            0.099174  0.040323  0.067901       NaN\n",
       "                unmarried          0.062500  0.153846  0.070175       NaN\n",
       "                widow / widower    0.086957  0.066667  0.030303       NaN\n",
       "Rich            civil partnership  0.107143  0.107143  0.083333  0.050314\n",
       "                divorced           0.000000  0.230769  0.063830       NaN\n",
       "                married            0.104712  0.064706  0.052529       NaN\n",
       "                unmarried          0.050000  0.140351  0.054054       NaN\n",
       "                widow / widower    0.066667  0.111111  0.037037       NaN"
      ]
     },
     "execution_count": 675,
     "metadata": {},
     "output_type": "execute_result"
    }
   ],
   "source": [
    "data_pivot"
   ]
  }
 ],
 "metadata": {
  "kernelspec": {
   "display_name": "Python 3 (ipykernel)",
   "language": "python",
   "name": "python3"
  },
  "language_info": {
   "codemirror_mode": {
    "name": "ipython",
    "version": 3
   },
   "file_extension": ".py",
   "mimetype": "text/x-python",
   "name": "python",
   "nbconvert_exporter": "python",
   "pygments_lexer": "ipython3",
   "version": "3.9.7"
  },
  "toc": {
   "base_numbering": 1,
   "nav_menu": {},
   "number_sections": true,
   "sideBar": true,
   "skip_h1_title": true,
   "title_cell": "Table of Contents",
   "title_sidebar": "Contents",
   "toc_cell": false,
   "toc_position": {},
   "toc_section_display": true,
   "toc_window_display": false
  }
 },
 "nbformat": 4,
 "nbformat_minor": 4
}
