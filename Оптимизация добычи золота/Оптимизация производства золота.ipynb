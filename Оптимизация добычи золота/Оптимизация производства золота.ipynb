{
 "cells": [
  {
   "cell_type": "markdown",
   "id": "76b4ed45",
   "metadata": {},
   "source": [
    "# Review\n",
    "Hi, my name is Dmitry and I will be reviewing your project.\n",
    "\n",
    "You can find my comments in colored markdown cells:\n",
    "\n",
    "<div class=\"alert alert-success\">\n",
    "    If everything is done succesfully.\n",
    "</div>\n",
    "\n",
    "<div class=\"alert alert-warning\">\n",
    "    If I have some (optional) suggestions, or questions to think about, or general comments.\n",
    "</div>\n",
    "\n",
    "<div class=\"alert alert-danger\">\n",
    "    If a section requires some corrections. Work can't be accepted with red comments.\n",
    "</div>\n",
    "\n",
    "Please don't remove my comments, as it will make further review iterations much harder for me.\n",
    "\n",
    "Feel free to reply to my comments or ask questions using the following template:\n",
    "\n",
    "<div class=\"alert alert-info\">\n",
    "    For your comments and questions.\n",
    "</div>\n",
    "\n",
    "First of all, thank you for turning in the project! You did an excellent job overall (I especially liked how you dealt with missing values, great work!), there are just a couple of small problems that need to be fixed before the project can be accepted. Good luck!"
   ]
  },
  {
   "cell_type": "markdown",
   "id": "ad04b58b",
   "metadata": {},
   "source": [
    "<div class=\"alert alert-info\">\n",
    "    Dmitry, thank you for your comments!\n",
    "</div>"
   ]
  },
  {
   "cell_type": "markdown",
   "id": "6a4bc65a",
   "metadata": {},
   "source": [
    "<div class=\"alert alert-success\">\n",
    "    <b>V2.</b>\n",
    "    Thanks for taking the time to improve the project and leaving comments! Now the project is accepted, and you can move on to the next sprint. Keep up the good work!\n",
    "</div>"
   ]
  },
  {
   "cell_type": "markdown",
   "id": "73f09feb",
   "metadata": {},
   "source": [
    "# Goal\n",
    "Optimize the gold production (flotation + purification)"
   ]
  },
  {
   "cell_type": "markdown",
   "id": "c6b5d134",
   "metadata": {},
   "source": [
    "# Project instructions\n",
    "<font size=\"3\">**Section 1**</font>\n",
    "1. Prepare the data\n",
    "- Open the files and look into the data.\n",
    "- Check that recovery is calculated correctly. Using the training set, calculate recovery for the rougher.output.recovery feature. Find the MAE between your calculations and the feature values. Provide findings.\n",
    "- Analyze the features not available in the test set. What are these parameters? What is their type?\n",
    "- Perform data preprocessing. <br>\n",
    "<font size=\"3\">**Section 2**</font>\n",
    "2. Analyze the data\n",
    "- Take note of how the concentrations of metals (Au, Ag, Pb) change depending on the purification stage.\n",
    "- Compare the feed particle size distributions in the training set and in the test set. If the distributions vary significantly, the model evaluation will be incorrect.\n",
    "- Consider the total concentrations of all substances at different stages: raw feed, rougher concentrate, and final concentrate. Do you notice any abnormal values in the total distribution? If you do, is it worth removing such values from both samples? Describe the findings and eliminate anomalies. <br>\n",
    "<font size=\"3\">**Section 3**</font>\n",
    "3. Build the model\n",
    "- Write a function to calculate the final sMAPE value.\n",
    "- Train different models. Evaluate them using cross-validation. Pick the best model and test it using the test sample. Provide findings."
   ]
  },
  {
   "cell_type": "code",
   "execution_count": 203,
   "id": "7773191f",
   "metadata": {},
   "outputs": [],
   "source": [
    "# import libraries\n",
    "\n",
    "import pandas as pd\n",
    "import numpy as np\n",
    "#from math import isnan\n",
    "#import seaborn as sns\n",
    "import matplotlib.pyplot as plt\n",
    "from scipy import interpolate\n",
    "\n",
    "from sklearn.preprocessing import StandardScaler \n",
    "from sklearn.linear_model import LinearRegression\n",
    "from sklearn.ensemble import RandomForestRegressor\n",
    "from sklearn.metrics import mean_absolute_error\n",
    "from sklearn.metrics import mean_squared_error\n",
    "\n",
    "from sklearn.metrics import make_scorer\n",
    "from sklearn.model_selection import cross_val_score\n",
    "\n",
    "from sklearn.dummy import DummyRegressor"
   ]
  },
  {
   "cell_type": "markdown",
   "id": "b4f47aa7",
   "metadata": {},
   "source": [
    "# Section 1\n",
    "1. Prepare the data\n",
    "- [x] Open the files and look into the data.\n",
    "- [x] Check that recovery is calculated correctly. Using the training set, calculate recovery for the rougher.output.recovery feature. Find the MAE between your calculations and the feature values. Provide findings.\n",
    "- [x] Analyze the features not available in the test set. What are these parameters? What is their type?\n",
    "- [x] Perform data preprocessing"
   ]
  },
  {
   "cell_type": "markdown",
   "id": "138b8a0c",
   "metadata": {},
   "source": [
    "**- [x] Open the files and look into the data.**"
   ]
  },
  {
   "cell_type": "code",
   "execution_count": 204,
   "id": "f7fa0410",
   "metadata": {},
   "outputs": [],
   "source": [
    "# open files in local machine or in server\n",
    "\n",
    "try:\n",
    "    df_train = pd.read_csv(\"datasets/gold_recovery_train.csv\")\n",
    "    df_test = pd.read_csv(\"datasets/gold_recovery_test.csv\")\n",
    "    df_full = pd.read_csv(\"datasets/gold_recovery_full.csv\")\n",
    "except:\n",
    "    df_train = pd.read_csv(\"/datasets/gold_recovery_train.csv\")\n",
    "    df_test = pd.read_csv(\"/datasets/gold_recovery_test.csv\")\n",
    "    df_full = pd.read_csv(\"/datasets/gold_recovery_full.csv\")    "
   ]
  },
  {
   "cell_type": "code",
   "execution_count": 205,
   "id": "d19bc138",
   "metadata": {
    "scrolled": true
   },
   "outputs": [
    {
     "data": {
      "text/html": [
       "<div>\n",
       "<style scoped>\n",
       "    .dataframe tbody tr th:only-of-type {\n",
       "        vertical-align: middle;\n",
       "    }\n",
       "\n",
       "    .dataframe tbody tr th {\n",
       "        vertical-align: top;\n",
       "    }\n",
       "\n",
       "    .dataframe thead th {\n",
       "        text-align: right;\n",
       "    }\n",
       "</style>\n",
       "<table border=\"1\" class=\"dataframe\">\n",
       "  <thead>\n",
       "    <tr style=\"text-align: right;\">\n",
       "      <th></th>\n",
       "      <th>date</th>\n",
       "      <th>final.output.concentrate_ag</th>\n",
       "      <th>final.output.concentrate_pb</th>\n",
       "      <th>final.output.concentrate_sol</th>\n",
       "      <th>final.output.concentrate_au</th>\n",
       "      <th>final.output.recovery</th>\n",
       "      <th>final.output.tail_ag</th>\n",
       "      <th>final.output.tail_pb</th>\n",
       "      <th>final.output.tail_sol</th>\n",
       "      <th>final.output.tail_au</th>\n",
       "      <th>...</th>\n",
       "      <th>secondary_cleaner.state.floatbank4_a_air</th>\n",
       "      <th>secondary_cleaner.state.floatbank4_a_level</th>\n",
       "      <th>secondary_cleaner.state.floatbank4_b_air</th>\n",
       "      <th>secondary_cleaner.state.floatbank4_b_level</th>\n",
       "      <th>secondary_cleaner.state.floatbank5_a_air</th>\n",
       "      <th>secondary_cleaner.state.floatbank5_a_level</th>\n",
       "      <th>secondary_cleaner.state.floatbank5_b_air</th>\n",
       "      <th>secondary_cleaner.state.floatbank5_b_level</th>\n",
       "      <th>secondary_cleaner.state.floatbank6_a_air</th>\n",
       "      <th>secondary_cleaner.state.floatbank6_a_level</th>\n",
       "    </tr>\n",
       "  </thead>\n",
       "  <tbody>\n",
       "    <tr>\n",
       "      <td>0</td>\n",
       "      <td>2016-01-15 00:00:00</td>\n",
       "      <td>6.055403</td>\n",
       "      <td>9.889648</td>\n",
       "      <td>5.507324</td>\n",
       "      <td>42.192020</td>\n",
       "      <td>70.541216</td>\n",
       "      <td>10.411962</td>\n",
       "      <td>0.895447</td>\n",
       "      <td>16.904297</td>\n",
       "      <td>2.143149</td>\n",
       "      <td>...</td>\n",
       "      <td>14.016835</td>\n",
       "      <td>-502.488007</td>\n",
       "      <td>12.099931</td>\n",
       "      <td>-504.715942</td>\n",
       "      <td>9.925633</td>\n",
       "      <td>-498.310211</td>\n",
       "      <td>8.079666</td>\n",
       "      <td>-500.470978</td>\n",
       "      <td>14.151341</td>\n",
       "      <td>-605.841980</td>\n",
       "    </tr>\n",
       "    <tr>\n",
       "      <td>1</td>\n",
       "      <td>2016-01-15 01:00:00</td>\n",
       "      <td>6.029369</td>\n",
       "      <td>9.968944</td>\n",
       "      <td>5.257781</td>\n",
       "      <td>42.701629</td>\n",
       "      <td>69.266198</td>\n",
       "      <td>10.462676</td>\n",
       "      <td>0.927452</td>\n",
       "      <td>16.634514</td>\n",
       "      <td>2.224930</td>\n",
       "      <td>...</td>\n",
       "      <td>13.992281</td>\n",
       "      <td>-505.503262</td>\n",
       "      <td>11.950531</td>\n",
       "      <td>-501.331529</td>\n",
       "      <td>10.039245</td>\n",
       "      <td>-500.169983</td>\n",
       "      <td>7.984757</td>\n",
       "      <td>-500.582168</td>\n",
       "      <td>13.998353</td>\n",
       "      <td>-599.787184</td>\n",
       "    </tr>\n",
       "    <tr>\n",
       "      <td>2</td>\n",
       "      <td>2016-01-15 02:00:00</td>\n",
       "      <td>6.055926</td>\n",
       "      <td>10.213995</td>\n",
       "      <td>5.383759</td>\n",
       "      <td>42.657501</td>\n",
       "      <td>68.116445</td>\n",
       "      <td>10.507046</td>\n",
       "      <td>0.953716</td>\n",
       "      <td>16.208849</td>\n",
       "      <td>2.257889</td>\n",
       "      <td>...</td>\n",
       "      <td>14.015015</td>\n",
       "      <td>-502.520901</td>\n",
       "      <td>11.912783</td>\n",
       "      <td>-501.133383</td>\n",
       "      <td>10.070913</td>\n",
       "      <td>-500.129135</td>\n",
       "      <td>8.013877</td>\n",
       "      <td>-500.517572</td>\n",
       "      <td>14.028663</td>\n",
       "      <td>-601.427363</td>\n",
       "    </tr>\n",
       "    <tr>\n",
       "      <td>3</td>\n",
       "      <td>2016-01-15 03:00:00</td>\n",
       "      <td>6.047977</td>\n",
       "      <td>9.977019</td>\n",
       "      <td>4.858634</td>\n",
       "      <td>42.689819</td>\n",
       "      <td>68.347543</td>\n",
       "      <td>10.422762</td>\n",
       "      <td>0.883763</td>\n",
       "      <td>16.532835</td>\n",
       "      <td>2.146849</td>\n",
       "      <td>...</td>\n",
       "      <td>14.036510</td>\n",
       "      <td>-500.857308</td>\n",
       "      <td>11.999550</td>\n",
       "      <td>-501.193686</td>\n",
       "      <td>9.970366</td>\n",
       "      <td>-499.201640</td>\n",
       "      <td>7.977324</td>\n",
       "      <td>-500.255908</td>\n",
       "      <td>14.005551</td>\n",
       "      <td>-599.996129</td>\n",
       "    </tr>\n",
       "    <tr>\n",
       "      <td>4</td>\n",
       "      <td>2016-01-15 04:00:00</td>\n",
       "      <td>6.148599</td>\n",
       "      <td>10.142511</td>\n",
       "      <td>4.939416</td>\n",
       "      <td>42.774141</td>\n",
       "      <td>66.927016</td>\n",
       "      <td>10.360302</td>\n",
       "      <td>0.792826</td>\n",
       "      <td>16.525686</td>\n",
       "      <td>2.055292</td>\n",
       "      <td>...</td>\n",
       "      <td>14.027298</td>\n",
       "      <td>-499.838632</td>\n",
       "      <td>11.953070</td>\n",
       "      <td>-501.053894</td>\n",
       "      <td>9.925709</td>\n",
       "      <td>-501.686727</td>\n",
       "      <td>7.894242</td>\n",
       "      <td>-500.356035</td>\n",
       "      <td>13.996647</td>\n",
       "      <td>-601.496691</td>\n",
       "    </tr>\n",
       "  </tbody>\n",
       "</table>\n",
       "<p>5 rows × 87 columns</p>\n",
       "</div>"
      ],
      "text/plain": [
       "                  date  final.output.concentrate_ag  \\\n",
       "0  2016-01-15 00:00:00                     6.055403   \n",
       "1  2016-01-15 01:00:00                     6.029369   \n",
       "2  2016-01-15 02:00:00                     6.055926   \n",
       "3  2016-01-15 03:00:00                     6.047977   \n",
       "4  2016-01-15 04:00:00                     6.148599   \n",
       "\n",
       "   final.output.concentrate_pb  final.output.concentrate_sol  \\\n",
       "0                     9.889648                      5.507324   \n",
       "1                     9.968944                      5.257781   \n",
       "2                    10.213995                      5.383759   \n",
       "3                     9.977019                      4.858634   \n",
       "4                    10.142511                      4.939416   \n",
       "\n",
       "   final.output.concentrate_au  final.output.recovery  final.output.tail_ag  \\\n",
       "0                    42.192020              70.541216             10.411962   \n",
       "1                    42.701629              69.266198             10.462676   \n",
       "2                    42.657501              68.116445             10.507046   \n",
       "3                    42.689819              68.347543             10.422762   \n",
       "4                    42.774141              66.927016             10.360302   \n",
       "\n",
       "   final.output.tail_pb  final.output.tail_sol  final.output.tail_au  ...  \\\n",
       "0              0.895447              16.904297              2.143149  ...   \n",
       "1              0.927452              16.634514              2.224930  ...   \n",
       "2              0.953716              16.208849              2.257889  ...   \n",
       "3              0.883763              16.532835              2.146849  ...   \n",
       "4              0.792826              16.525686              2.055292  ...   \n",
       "\n",
       "   secondary_cleaner.state.floatbank4_a_air  \\\n",
       "0                                 14.016835   \n",
       "1                                 13.992281   \n",
       "2                                 14.015015   \n",
       "3                                 14.036510   \n",
       "4                                 14.027298   \n",
       "\n",
       "   secondary_cleaner.state.floatbank4_a_level  \\\n",
       "0                                 -502.488007   \n",
       "1                                 -505.503262   \n",
       "2                                 -502.520901   \n",
       "3                                 -500.857308   \n",
       "4                                 -499.838632   \n",
       "\n",
       "   secondary_cleaner.state.floatbank4_b_air  \\\n",
       "0                                 12.099931   \n",
       "1                                 11.950531   \n",
       "2                                 11.912783   \n",
       "3                                 11.999550   \n",
       "4                                 11.953070   \n",
       "\n",
       "   secondary_cleaner.state.floatbank4_b_level  \\\n",
       "0                                 -504.715942   \n",
       "1                                 -501.331529   \n",
       "2                                 -501.133383   \n",
       "3                                 -501.193686   \n",
       "4                                 -501.053894   \n",
       "\n",
       "   secondary_cleaner.state.floatbank5_a_air  \\\n",
       "0                                  9.925633   \n",
       "1                                 10.039245   \n",
       "2                                 10.070913   \n",
       "3                                  9.970366   \n",
       "4                                  9.925709   \n",
       "\n",
       "   secondary_cleaner.state.floatbank5_a_level  \\\n",
       "0                                 -498.310211   \n",
       "1                                 -500.169983   \n",
       "2                                 -500.129135   \n",
       "3                                 -499.201640   \n",
       "4                                 -501.686727   \n",
       "\n",
       "   secondary_cleaner.state.floatbank5_b_air  \\\n",
       "0                                  8.079666   \n",
       "1                                  7.984757   \n",
       "2                                  8.013877   \n",
       "3                                  7.977324   \n",
       "4                                  7.894242   \n",
       "\n",
       "   secondary_cleaner.state.floatbank5_b_level  \\\n",
       "0                                 -500.470978   \n",
       "1                                 -500.582168   \n",
       "2                                 -500.517572   \n",
       "3                                 -500.255908   \n",
       "4                                 -500.356035   \n",
       "\n",
       "   secondary_cleaner.state.floatbank6_a_air  \\\n",
       "0                                 14.151341   \n",
       "1                                 13.998353   \n",
       "2                                 14.028663   \n",
       "3                                 14.005551   \n",
       "4                                 13.996647   \n",
       "\n",
       "   secondary_cleaner.state.floatbank6_a_level  \n",
       "0                                 -605.841980  \n",
       "1                                 -599.787184  \n",
       "2                                 -601.427363  \n",
       "3                                 -599.996129  \n",
       "4                                 -601.496691  \n",
       "\n",
       "[5 rows x 87 columns]"
      ]
     },
     "execution_count": 205,
     "metadata": {},
     "output_type": "execute_result"
    }
   ],
   "source": [
    "# check if we correctly imported the file (tabulations): train dataset\n",
    "\n",
    "df_train.head()"
   ]
  },
  {
   "cell_type": "code",
   "execution_count": 206,
   "id": "e20a70bc",
   "metadata": {
    "scrolled": true
   },
   "outputs": [
    {
     "data": {
      "text/html": [
       "<div>\n",
       "<style scoped>\n",
       "    .dataframe tbody tr th:only-of-type {\n",
       "        vertical-align: middle;\n",
       "    }\n",
       "\n",
       "    .dataframe tbody tr th {\n",
       "        vertical-align: top;\n",
       "    }\n",
       "\n",
       "    .dataframe thead th {\n",
       "        text-align: right;\n",
       "    }\n",
       "</style>\n",
       "<table border=\"1\" class=\"dataframe\">\n",
       "  <thead>\n",
       "    <tr style=\"text-align: right;\">\n",
       "      <th></th>\n",
       "      <th>date</th>\n",
       "      <th>primary_cleaner.input.sulfate</th>\n",
       "      <th>primary_cleaner.input.depressant</th>\n",
       "      <th>primary_cleaner.input.feed_size</th>\n",
       "      <th>primary_cleaner.input.xanthate</th>\n",
       "      <th>primary_cleaner.state.floatbank8_a_air</th>\n",
       "      <th>primary_cleaner.state.floatbank8_a_level</th>\n",
       "      <th>primary_cleaner.state.floatbank8_b_air</th>\n",
       "      <th>primary_cleaner.state.floatbank8_b_level</th>\n",
       "      <th>primary_cleaner.state.floatbank8_c_air</th>\n",
       "      <th>...</th>\n",
       "      <th>secondary_cleaner.state.floatbank4_a_air</th>\n",
       "      <th>secondary_cleaner.state.floatbank4_a_level</th>\n",
       "      <th>secondary_cleaner.state.floatbank4_b_air</th>\n",
       "      <th>secondary_cleaner.state.floatbank4_b_level</th>\n",
       "      <th>secondary_cleaner.state.floatbank5_a_air</th>\n",
       "      <th>secondary_cleaner.state.floatbank5_a_level</th>\n",
       "      <th>secondary_cleaner.state.floatbank5_b_air</th>\n",
       "      <th>secondary_cleaner.state.floatbank5_b_level</th>\n",
       "      <th>secondary_cleaner.state.floatbank6_a_air</th>\n",
       "      <th>secondary_cleaner.state.floatbank6_a_level</th>\n",
       "    </tr>\n",
       "  </thead>\n",
       "  <tbody>\n",
       "    <tr>\n",
       "      <td>0</td>\n",
       "      <td>2016-09-01 00:59:59</td>\n",
       "      <td>210.800909</td>\n",
       "      <td>14.993118</td>\n",
       "      <td>8.080000</td>\n",
       "      <td>1.005021</td>\n",
       "      <td>1398.981301</td>\n",
       "      <td>-500.225577</td>\n",
       "      <td>1399.144926</td>\n",
       "      <td>-499.919735</td>\n",
       "      <td>1400.102998</td>\n",
       "      <td>...</td>\n",
       "      <td>12.023554</td>\n",
       "      <td>-497.795834</td>\n",
       "      <td>8.016656</td>\n",
       "      <td>-501.289139</td>\n",
       "      <td>7.946562</td>\n",
       "      <td>-432.317850</td>\n",
       "      <td>4.872511</td>\n",
       "      <td>-500.037437</td>\n",
       "      <td>26.705889</td>\n",
       "      <td>-499.709414</td>\n",
       "    </tr>\n",
       "    <tr>\n",
       "      <td>1</td>\n",
       "      <td>2016-09-01 01:59:59</td>\n",
       "      <td>215.392455</td>\n",
       "      <td>14.987471</td>\n",
       "      <td>8.080000</td>\n",
       "      <td>0.990469</td>\n",
       "      <td>1398.777912</td>\n",
       "      <td>-500.057435</td>\n",
       "      <td>1398.055362</td>\n",
       "      <td>-499.778182</td>\n",
       "      <td>1396.151033</td>\n",
       "      <td>...</td>\n",
       "      <td>12.058140</td>\n",
       "      <td>-498.695773</td>\n",
       "      <td>8.130979</td>\n",
       "      <td>-499.634209</td>\n",
       "      <td>7.958270</td>\n",
       "      <td>-525.839648</td>\n",
       "      <td>4.878850</td>\n",
       "      <td>-500.162375</td>\n",
       "      <td>25.019940</td>\n",
       "      <td>-499.819438</td>\n",
       "    </tr>\n",
       "    <tr>\n",
       "      <td>2</td>\n",
       "      <td>2016-09-01 02:59:59</td>\n",
       "      <td>215.259946</td>\n",
       "      <td>12.884934</td>\n",
       "      <td>7.786667</td>\n",
       "      <td>0.996043</td>\n",
       "      <td>1398.493666</td>\n",
       "      <td>-500.868360</td>\n",
       "      <td>1398.860436</td>\n",
       "      <td>-499.764529</td>\n",
       "      <td>1398.075709</td>\n",
       "      <td>...</td>\n",
       "      <td>11.962366</td>\n",
       "      <td>-498.767484</td>\n",
       "      <td>8.096893</td>\n",
       "      <td>-500.827423</td>\n",
       "      <td>8.071056</td>\n",
       "      <td>-500.801673</td>\n",
       "      <td>4.905125</td>\n",
       "      <td>-499.828510</td>\n",
       "      <td>24.994862</td>\n",
       "      <td>-500.622559</td>\n",
       "    </tr>\n",
       "    <tr>\n",
       "      <td>3</td>\n",
       "      <td>2016-09-01 03:59:59</td>\n",
       "      <td>215.336236</td>\n",
       "      <td>12.006805</td>\n",
       "      <td>7.640000</td>\n",
       "      <td>0.863514</td>\n",
       "      <td>1399.618111</td>\n",
       "      <td>-498.863574</td>\n",
       "      <td>1397.440120</td>\n",
       "      <td>-499.211024</td>\n",
       "      <td>1400.129303</td>\n",
       "      <td>...</td>\n",
       "      <td>12.033091</td>\n",
       "      <td>-498.350935</td>\n",
       "      <td>8.074946</td>\n",
       "      <td>-499.474407</td>\n",
       "      <td>7.897085</td>\n",
       "      <td>-500.868509</td>\n",
       "      <td>4.931400</td>\n",
       "      <td>-499.963623</td>\n",
       "      <td>24.948919</td>\n",
       "      <td>-498.709987</td>\n",
       "    </tr>\n",
       "    <tr>\n",
       "      <td>4</td>\n",
       "      <td>2016-09-01 04:59:59</td>\n",
       "      <td>199.099327</td>\n",
       "      <td>10.682530</td>\n",
       "      <td>7.530000</td>\n",
       "      <td>0.805575</td>\n",
       "      <td>1401.268123</td>\n",
       "      <td>-500.808305</td>\n",
       "      <td>1398.128818</td>\n",
       "      <td>-499.504543</td>\n",
       "      <td>1402.172226</td>\n",
       "      <td>...</td>\n",
       "      <td>12.025367</td>\n",
       "      <td>-500.786497</td>\n",
       "      <td>8.054678</td>\n",
       "      <td>-500.397500</td>\n",
       "      <td>8.107890</td>\n",
       "      <td>-509.526725</td>\n",
       "      <td>4.957674</td>\n",
       "      <td>-500.360026</td>\n",
       "      <td>25.003331</td>\n",
       "      <td>-500.856333</td>\n",
       "    </tr>\n",
       "  </tbody>\n",
       "</table>\n",
       "<p>5 rows × 53 columns</p>\n",
       "</div>"
      ],
      "text/plain": [
       "                  date  primary_cleaner.input.sulfate  \\\n",
       "0  2016-09-01 00:59:59                     210.800909   \n",
       "1  2016-09-01 01:59:59                     215.392455   \n",
       "2  2016-09-01 02:59:59                     215.259946   \n",
       "3  2016-09-01 03:59:59                     215.336236   \n",
       "4  2016-09-01 04:59:59                     199.099327   \n",
       "\n",
       "   primary_cleaner.input.depressant  primary_cleaner.input.feed_size  \\\n",
       "0                         14.993118                         8.080000   \n",
       "1                         14.987471                         8.080000   \n",
       "2                         12.884934                         7.786667   \n",
       "3                         12.006805                         7.640000   \n",
       "4                         10.682530                         7.530000   \n",
       "\n",
       "   primary_cleaner.input.xanthate  primary_cleaner.state.floatbank8_a_air  \\\n",
       "0                        1.005021                             1398.981301   \n",
       "1                        0.990469                             1398.777912   \n",
       "2                        0.996043                             1398.493666   \n",
       "3                        0.863514                             1399.618111   \n",
       "4                        0.805575                             1401.268123   \n",
       "\n",
       "   primary_cleaner.state.floatbank8_a_level  \\\n",
       "0                               -500.225577   \n",
       "1                               -500.057435   \n",
       "2                               -500.868360   \n",
       "3                               -498.863574   \n",
       "4                               -500.808305   \n",
       "\n",
       "   primary_cleaner.state.floatbank8_b_air  \\\n",
       "0                             1399.144926   \n",
       "1                             1398.055362   \n",
       "2                             1398.860436   \n",
       "3                             1397.440120   \n",
       "4                             1398.128818   \n",
       "\n",
       "   primary_cleaner.state.floatbank8_b_level  \\\n",
       "0                               -499.919735   \n",
       "1                               -499.778182   \n",
       "2                               -499.764529   \n",
       "3                               -499.211024   \n",
       "4                               -499.504543   \n",
       "\n",
       "   primary_cleaner.state.floatbank8_c_air  ...  \\\n",
       "0                             1400.102998  ...   \n",
       "1                             1396.151033  ...   \n",
       "2                             1398.075709  ...   \n",
       "3                             1400.129303  ...   \n",
       "4                             1402.172226  ...   \n",
       "\n",
       "   secondary_cleaner.state.floatbank4_a_air  \\\n",
       "0                                 12.023554   \n",
       "1                                 12.058140   \n",
       "2                                 11.962366   \n",
       "3                                 12.033091   \n",
       "4                                 12.025367   \n",
       "\n",
       "   secondary_cleaner.state.floatbank4_a_level  \\\n",
       "0                                 -497.795834   \n",
       "1                                 -498.695773   \n",
       "2                                 -498.767484   \n",
       "3                                 -498.350935   \n",
       "4                                 -500.786497   \n",
       "\n",
       "   secondary_cleaner.state.floatbank4_b_air  \\\n",
       "0                                  8.016656   \n",
       "1                                  8.130979   \n",
       "2                                  8.096893   \n",
       "3                                  8.074946   \n",
       "4                                  8.054678   \n",
       "\n",
       "   secondary_cleaner.state.floatbank4_b_level  \\\n",
       "0                                 -501.289139   \n",
       "1                                 -499.634209   \n",
       "2                                 -500.827423   \n",
       "3                                 -499.474407   \n",
       "4                                 -500.397500   \n",
       "\n",
       "   secondary_cleaner.state.floatbank5_a_air  \\\n",
       "0                                  7.946562   \n",
       "1                                  7.958270   \n",
       "2                                  8.071056   \n",
       "3                                  7.897085   \n",
       "4                                  8.107890   \n",
       "\n",
       "   secondary_cleaner.state.floatbank5_a_level  \\\n",
       "0                                 -432.317850   \n",
       "1                                 -525.839648   \n",
       "2                                 -500.801673   \n",
       "3                                 -500.868509   \n",
       "4                                 -509.526725   \n",
       "\n",
       "   secondary_cleaner.state.floatbank5_b_air  \\\n",
       "0                                  4.872511   \n",
       "1                                  4.878850   \n",
       "2                                  4.905125   \n",
       "3                                  4.931400   \n",
       "4                                  4.957674   \n",
       "\n",
       "   secondary_cleaner.state.floatbank5_b_level  \\\n",
       "0                                 -500.037437   \n",
       "1                                 -500.162375   \n",
       "2                                 -499.828510   \n",
       "3                                 -499.963623   \n",
       "4                                 -500.360026   \n",
       "\n",
       "   secondary_cleaner.state.floatbank6_a_air  \\\n",
       "0                                 26.705889   \n",
       "1                                 25.019940   \n",
       "2                                 24.994862   \n",
       "3                                 24.948919   \n",
       "4                                 25.003331   \n",
       "\n",
       "   secondary_cleaner.state.floatbank6_a_level  \n",
       "0                                 -499.709414  \n",
       "1                                 -499.819438  \n",
       "2                                 -500.622559  \n",
       "3                                 -498.709987  \n",
       "4                                 -500.856333  \n",
       "\n",
       "[5 rows x 53 columns]"
      ]
     },
     "execution_count": 206,
     "metadata": {},
     "output_type": "execute_result"
    }
   ],
   "source": [
    "# check if we correctly imported the file (tabulations): test dataset\n",
    "\n",
    "df_test.head()"
   ]
  },
  {
   "cell_type": "code",
   "execution_count": 207,
   "id": "80ffd61c",
   "metadata": {
    "scrolled": true
   },
   "outputs": [
    {
     "data": {
      "text/html": [
       "<div>\n",
       "<style scoped>\n",
       "    .dataframe tbody tr th:only-of-type {\n",
       "        vertical-align: middle;\n",
       "    }\n",
       "\n",
       "    .dataframe tbody tr th {\n",
       "        vertical-align: top;\n",
       "    }\n",
       "\n",
       "    .dataframe thead th {\n",
       "        text-align: right;\n",
       "    }\n",
       "</style>\n",
       "<table border=\"1\" class=\"dataframe\">\n",
       "  <thead>\n",
       "    <tr style=\"text-align: right;\">\n",
       "      <th></th>\n",
       "      <th>date</th>\n",
       "      <th>final.output.concentrate_ag</th>\n",
       "      <th>final.output.concentrate_pb</th>\n",
       "      <th>final.output.concentrate_sol</th>\n",
       "      <th>final.output.concentrate_au</th>\n",
       "      <th>final.output.recovery</th>\n",
       "      <th>final.output.tail_ag</th>\n",
       "      <th>final.output.tail_pb</th>\n",
       "      <th>final.output.tail_sol</th>\n",
       "      <th>final.output.tail_au</th>\n",
       "      <th>...</th>\n",
       "      <th>secondary_cleaner.state.floatbank4_a_air</th>\n",
       "      <th>secondary_cleaner.state.floatbank4_a_level</th>\n",
       "      <th>secondary_cleaner.state.floatbank4_b_air</th>\n",
       "      <th>secondary_cleaner.state.floatbank4_b_level</th>\n",
       "      <th>secondary_cleaner.state.floatbank5_a_air</th>\n",
       "      <th>secondary_cleaner.state.floatbank5_a_level</th>\n",
       "      <th>secondary_cleaner.state.floatbank5_b_air</th>\n",
       "      <th>secondary_cleaner.state.floatbank5_b_level</th>\n",
       "      <th>secondary_cleaner.state.floatbank6_a_air</th>\n",
       "      <th>secondary_cleaner.state.floatbank6_a_level</th>\n",
       "    </tr>\n",
       "  </thead>\n",
       "  <tbody>\n",
       "    <tr>\n",
       "      <td>0</td>\n",
       "      <td>2016-01-15 00:00:00</td>\n",
       "      <td>6.055403</td>\n",
       "      <td>9.889648</td>\n",
       "      <td>5.507324</td>\n",
       "      <td>42.192020</td>\n",
       "      <td>70.541216</td>\n",
       "      <td>10.411962</td>\n",
       "      <td>0.895447</td>\n",
       "      <td>16.904297</td>\n",
       "      <td>2.143149</td>\n",
       "      <td>...</td>\n",
       "      <td>14.016835</td>\n",
       "      <td>-502.488007</td>\n",
       "      <td>12.099931</td>\n",
       "      <td>-504.715942</td>\n",
       "      <td>9.925633</td>\n",
       "      <td>-498.310211</td>\n",
       "      <td>8.079666</td>\n",
       "      <td>-500.470978</td>\n",
       "      <td>14.151341</td>\n",
       "      <td>-605.841980</td>\n",
       "    </tr>\n",
       "    <tr>\n",
       "      <td>1</td>\n",
       "      <td>2016-01-15 01:00:00</td>\n",
       "      <td>6.029369</td>\n",
       "      <td>9.968944</td>\n",
       "      <td>5.257781</td>\n",
       "      <td>42.701629</td>\n",
       "      <td>69.266198</td>\n",
       "      <td>10.462676</td>\n",
       "      <td>0.927452</td>\n",
       "      <td>16.634514</td>\n",
       "      <td>2.224930</td>\n",
       "      <td>...</td>\n",
       "      <td>13.992281</td>\n",
       "      <td>-505.503262</td>\n",
       "      <td>11.950531</td>\n",
       "      <td>-501.331529</td>\n",
       "      <td>10.039245</td>\n",
       "      <td>-500.169983</td>\n",
       "      <td>7.984757</td>\n",
       "      <td>-500.582168</td>\n",
       "      <td>13.998353</td>\n",
       "      <td>-599.787184</td>\n",
       "    </tr>\n",
       "    <tr>\n",
       "      <td>2</td>\n",
       "      <td>2016-01-15 02:00:00</td>\n",
       "      <td>6.055926</td>\n",
       "      <td>10.213995</td>\n",
       "      <td>5.383759</td>\n",
       "      <td>42.657501</td>\n",
       "      <td>68.116445</td>\n",
       "      <td>10.507046</td>\n",
       "      <td>0.953716</td>\n",
       "      <td>16.208849</td>\n",
       "      <td>2.257889</td>\n",
       "      <td>...</td>\n",
       "      <td>14.015015</td>\n",
       "      <td>-502.520901</td>\n",
       "      <td>11.912783</td>\n",
       "      <td>-501.133383</td>\n",
       "      <td>10.070913</td>\n",
       "      <td>-500.129135</td>\n",
       "      <td>8.013877</td>\n",
       "      <td>-500.517572</td>\n",
       "      <td>14.028663</td>\n",
       "      <td>-601.427363</td>\n",
       "    </tr>\n",
       "    <tr>\n",
       "      <td>3</td>\n",
       "      <td>2016-01-15 03:00:00</td>\n",
       "      <td>6.047977</td>\n",
       "      <td>9.977019</td>\n",
       "      <td>4.858634</td>\n",
       "      <td>42.689819</td>\n",
       "      <td>68.347543</td>\n",
       "      <td>10.422762</td>\n",
       "      <td>0.883763</td>\n",
       "      <td>16.532835</td>\n",
       "      <td>2.146849</td>\n",
       "      <td>...</td>\n",
       "      <td>14.036510</td>\n",
       "      <td>-500.857308</td>\n",
       "      <td>11.999550</td>\n",
       "      <td>-501.193686</td>\n",
       "      <td>9.970366</td>\n",
       "      <td>-499.201640</td>\n",
       "      <td>7.977324</td>\n",
       "      <td>-500.255908</td>\n",
       "      <td>14.005551</td>\n",
       "      <td>-599.996129</td>\n",
       "    </tr>\n",
       "    <tr>\n",
       "      <td>4</td>\n",
       "      <td>2016-01-15 04:00:00</td>\n",
       "      <td>6.148599</td>\n",
       "      <td>10.142511</td>\n",
       "      <td>4.939416</td>\n",
       "      <td>42.774141</td>\n",
       "      <td>66.927016</td>\n",
       "      <td>10.360302</td>\n",
       "      <td>0.792826</td>\n",
       "      <td>16.525686</td>\n",
       "      <td>2.055292</td>\n",
       "      <td>...</td>\n",
       "      <td>14.027298</td>\n",
       "      <td>-499.838632</td>\n",
       "      <td>11.953070</td>\n",
       "      <td>-501.053894</td>\n",
       "      <td>9.925709</td>\n",
       "      <td>-501.686727</td>\n",
       "      <td>7.894242</td>\n",
       "      <td>-500.356035</td>\n",
       "      <td>13.996647</td>\n",
       "      <td>-601.496691</td>\n",
       "    </tr>\n",
       "  </tbody>\n",
       "</table>\n",
       "<p>5 rows × 87 columns</p>\n",
       "</div>"
      ],
      "text/plain": [
       "                  date  final.output.concentrate_ag  \\\n",
       "0  2016-01-15 00:00:00                     6.055403   \n",
       "1  2016-01-15 01:00:00                     6.029369   \n",
       "2  2016-01-15 02:00:00                     6.055926   \n",
       "3  2016-01-15 03:00:00                     6.047977   \n",
       "4  2016-01-15 04:00:00                     6.148599   \n",
       "\n",
       "   final.output.concentrate_pb  final.output.concentrate_sol  \\\n",
       "0                     9.889648                      5.507324   \n",
       "1                     9.968944                      5.257781   \n",
       "2                    10.213995                      5.383759   \n",
       "3                     9.977019                      4.858634   \n",
       "4                    10.142511                      4.939416   \n",
       "\n",
       "   final.output.concentrate_au  final.output.recovery  final.output.tail_ag  \\\n",
       "0                    42.192020              70.541216             10.411962   \n",
       "1                    42.701629              69.266198             10.462676   \n",
       "2                    42.657501              68.116445             10.507046   \n",
       "3                    42.689819              68.347543             10.422762   \n",
       "4                    42.774141              66.927016             10.360302   \n",
       "\n",
       "   final.output.tail_pb  final.output.tail_sol  final.output.tail_au  ...  \\\n",
       "0              0.895447              16.904297              2.143149  ...   \n",
       "1              0.927452              16.634514              2.224930  ...   \n",
       "2              0.953716              16.208849              2.257889  ...   \n",
       "3              0.883763              16.532835              2.146849  ...   \n",
       "4              0.792826              16.525686              2.055292  ...   \n",
       "\n",
       "   secondary_cleaner.state.floatbank4_a_air  \\\n",
       "0                                 14.016835   \n",
       "1                                 13.992281   \n",
       "2                                 14.015015   \n",
       "3                                 14.036510   \n",
       "4                                 14.027298   \n",
       "\n",
       "   secondary_cleaner.state.floatbank4_a_level  \\\n",
       "0                                 -502.488007   \n",
       "1                                 -505.503262   \n",
       "2                                 -502.520901   \n",
       "3                                 -500.857308   \n",
       "4                                 -499.838632   \n",
       "\n",
       "   secondary_cleaner.state.floatbank4_b_air  \\\n",
       "0                                 12.099931   \n",
       "1                                 11.950531   \n",
       "2                                 11.912783   \n",
       "3                                 11.999550   \n",
       "4                                 11.953070   \n",
       "\n",
       "   secondary_cleaner.state.floatbank4_b_level  \\\n",
       "0                                 -504.715942   \n",
       "1                                 -501.331529   \n",
       "2                                 -501.133383   \n",
       "3                                 -501.193686   \n",
       "4                                 -501.053894   \n",
       "\n",
       "   secondary_cleaner.state.floatbank5_a_air  \\\n",
       "0                                  9.925633   \n",
       "1                                 10.039245   \n",
       "2                                 10.070913   \n",
       "3                                  9.970366   \n",
       "4                                  9.925709   \n",
       "\n",
       "   secondary_cleaner.state.floatbank5_a_level  \\\n",
       "0                                 -498.310211   \n",
       "1                                 -500.169983   \n",
       "2                                 -500.129135   \n",
       "3                                 -499.201640   \n",
       "4                                 -501.686727   \n",
       "\n",
       "   secondary_cleaner.state.floatbank5_b_air  \\\n",
       "0                                  8.079666   \n",
       "1                                  7.984757   \n",
       "2                                  8.013877   \n",
       "3                                  7.977324   \n",
       "4                                  7.894242   \n",
       "\n",
       "   secondary_cleaner.state.floatbank5_b_level  \\\n",
       "0                                 -500.470978   \n",
       "1                                 -500.582168   \n",
       "2                                 -500.517572   \n",
       "3                                 -500.255908   \n",
       "4                                 -500.356035   \n",
       "\n",
       "   secondary_cleaner.state.floatbank6_a_air  \\\n",
       "0                                 14.151341   \n",
       "1                                 13.998353   \n",
       "2                                 14.028663   \n",
       "3                                 14.005551   \n",
       "4                                 13.996647   \n",
       "\n",
       "   secondary_cleaner.state.floatbank6_a_level  \n",
       "0                                 -605.841980  \n",
       "1                                 -599.787184  \n",
       "2                                 -601.427363  \n",
       "3                                 -599.996129  \n",
       "4                                 -601.496691  \n",
       "\n",
       "[5 rows x 87 columns]"
      ]
     },
     "execution_count": 207,
     "metadata": {},
     "output_type": "execute_result"
    }
   ],
   "source": [
    "# check if we correctly imported the file (tabulations): full dataset\n",
    "\n",
    "df_full.head()"
   ]
  },
  {
   "cell_type": "code",
   "execution_count": 208,
   "id": "a6f65007",
   "metadata": {
    "scrolled": true
   },
   "outputs": [
    {
     "name": "stdout",
     "output_type": "stream",
     "text": [
      "<class 'pandas.core.frame.DataFrame'>\n",
      "RangeIndex: 16860 entries, 0 to 16859\n",
      "Data columns (total 87 columns):\n",
      "date                                                  16860 non-null object\n",
      "final.output.concentrate_ag                           16788 non-null float64\n",
      "final.output.concentrate_pb                           16788 non-null float64\n",
      "final.output.concentrate_sol                          16490 non-null float64\n",
      "final.output.concentrate_au                           16789 non-null float64\n",
      "final.output.recovery                                 15339 non-null float64\n",
      "final.output.tail_ag                                  16794 non-null float64\n",
      "final.output.tail_pb                                  16677 non-null float64\n",
      "final.output.tail_sol                                 16715 non-null float64\n",
      "final.output.tail_au                                  16794 non-null float64\n",
      "primary_cleaner.input.sulfate                         15553 non-null float64\n",
      "primary_cleaner.input.depressant                      15598 non-null float64\n",
      "primary_cleaner.input.feed_size                       16860 non-null float64\n",
      "primary_cleaner.input.xanthate                        15875 non-null float64\n",
      "primary_cleaner.output.concentrate_ag                 16778 non-null float64\n",
      "primary_cleaner.output.concentrate_pb                 16502 non-null float64\n",
      "primary_cleaner.output.concentrate_sol                16224 non-null float64\n",
      "primary_cleaner.output.concentrate_au                 16778 non-null float64\n",
      "primary_cleaner.output.tail_ag                        16777 non-null float64\n",
      "primary_cleaner.output.tail_pb                        16761 non-null float64\n",
      "primary_cleaner.output.tail_sol                       16579 non-null float64\n",
      "primary_cleaner.output.tail_au                        16777 non-null float64\n",
      "primary_cleaner.state.floatbank8_a_air                16820 non-null float64\n",
      "primary_cleaner.state.floatbank8_a_level              16827 non-null float64\n",
      "primary_cleaner.state.floatbank8_b_air                16820 non-null float64\n",
      "primary_cleaner.state.floatbank8_b_level              16833 non-null float64\n",
      "primary_cleaner.state.floatbank8_c_air                16822 non-null float64\n",
      "primary_cleaner.state.floatbank8_c_level              16833 non-null float64\n",
      "primary_cleaner.state.floatbank8_d_air                16821 non-null float64\n",
      "primary_cleaner.state.floatbank8_d_level              16833 non-null float64\n",
      "rougher.calculation.sulfate_to_au_concentrate         16833 non-null float64\n",
      "rougher.calculation.floatbank10_sulfate_to_au_feed    16833 non-null float64\n",
      "rougher.calculation.floatbank11_sulfate_to_au_feed    16833 non-null float64\n",
      "rougher.calculation.au_pb_ratio                       15618 non-null float64\n",
      "rougher.input.feed_ag                                 16778 non-null float64\n",
      "rougher.input.feed_pb                                 16632 non-null float64\n",
      "rougher.input.feed_rate                               16347 non-null float64\n",
      "rougher.input.feed_size                               16443 non-null float64\n",
      "rougher.input.feed_sol                                16568 non-null float64\n",
      "rougher.input.feed_au                                 16777 non-null float64\n",
      "rougher.input.floatbank10_sulfate                     15816 non-null float64\n",
      "rougher.input.floatbank10_xanthate                    16514 non-null float64\n",
      "rougher.input.floatbank11_sulfate                     16237 non-null float64\n",
      "rougher.input.floatbank11_xanthate                    14956 non-null float64\n",
      "rougher.output.concentrate_ag                         16778 non-null float64\n",
      "rougher.output.concentrate_pb                         16778 non-null float64\n",
      "rougher.output.concentrate_sol                        16698 non-null float64\n",
      "rougher.output.concentrate_au                         16778 non-null float64\n",
      "rougher.output.recovery                               14287 non-null float64\n",
      "rougher.output.tail_ag                                14610 non-null float64\n",
      "rougher.output.tail_pb                                16778 non-null float64\n",
      "rougher.output.tail_sol                               14611 non-null float64\n",
      "rougher.output.tail_au                                14611 non-null float64\n",
      "rougher.state.floatbank10_a_air                       16807 non-null float64\n",
      "rougher.state.floatbank10_a_level                     16807 non-null float64\n",
      "rougher.state.floatbank10_b_air                       16807 non-null float64\n",
      "rougher.state.floatbank10_b_level                     16807 non-null float64\n",
      "rougher.state.floatbank10_c_air                       16807 non-null float64\n",
      "rougher.state.floatbank10_c_level                     16814 non-null float64\n",
      "rougher.state.floatbank10_d_air                       16802 non-null float64\n",
      "rougher.state.floatbank10_d_level                     16809 non-null float64\n",
      "rougher.state.floatbank10_e_air                       16257 non-null float64\n",
      "rougher.state.floatbank10_e_level                     16809 non-null float64\n",
      "rougher.state.floatbank10_f_air                       16802 non-null float64\n",
      "rougher.state.floatbank10_f_level                     16802 non-null float64\n",
      "secondary_cleaner.output.tail_ag                      16776 non-null float64\n",
      "secondary_cleaner.output.tail_pb                      16764 non-null float64\n",
      "secondary_cleaner.output.tail_sol                     14874 non-null float64\n",
      "secondary_cleaner.output.tail_au                      16778 non-null float64\n",
      "secondary_cleaner.state.floatbank2_a_air              16497 non-null float64\n",
      "secondary_cleaner.state.floatbank2_a_level            16751 non-null float64\n",
      "secondary_cleaner.state.floatbank2_b_air              16705 non-null float64\n",
      "secondary_cleaner.state.floatbank2_b_level            16748 non-null float64\n",
      "secondary_cleaner.state.floatbank3_a_air              16763 non-null float64\n",
      "secondary_cleaner.state.floatbank3_a_level            16747 non-null float64\n",
      "secondary_cleaner.state.floatbank3_b_air              16752 non-null float64\n",
      "secondary_cleaner.state.floatbank3_b_level            16750 non-null float64\n",
      "secondary_cleaner.state.floatbank4_a_air              16731 non-null float64\n",
      "secondary_cleaner.state.floatbank4_a_level            16747 non-null float64\n",
      "secondary_cleaner.state.floatbank4_b_air              16768 non-null float64\n",
      "secondary_cleaner.state.floatbank4_b_level            16767 non-null float64\n",
      "secondary_cleaner.state.floatbank5_a_air              16775 non-null float64\n",
      "secondary_cleaner.state.floatbank5_a_level            16775 non-null float64\n",
      "secondary_cleaner.state.floatbank5_b_air              16775 non-null float64\n",
      "secondary_cleaner.state.floatbank5_b_level            16776 non-null float64\n",
      "secondary_cleaner.state.floatbank6_a_air              16757 non-null float64\n",
      "secondary_cleaner.state.floatbank6_a_level            16775 non-null float64\n",
      "dtypes: float64(86), object(1)\n",
      "memory usage: 11.2+ MB\n",
      "\n",
      "Type of column date: <class 'str'> \n",
      "\n",
      "<class 'pandas.core.frame.DataFrame'>\n",
      "RangeIndex: 5856 entries, 0 to 5855\n",
      "Data columns (total 53 columns):\n",
      "date                                          5856 non-null object\n",
      "primary_cleaner.input.sulfate                 5554 non-null float64\n",
      "primary_cleaner.input.depressant              5572 non-null float64\n",
      "primary_cleaner.input.feed_size               5856 non-null float64\n",
      "primary_cleaner.input.xanthate                5690 non-null float64\n",
      "primary_cleaner.state.floatbank8_a_air        5840 non-null float64\n",
      "primary_cleaner.state.floatbank8_a_level      5840 non-null float64\n",
      "primary_cleaner.state.floatbank8_b_air        5840 non-null float64\n",
      "primary_cleaner.state.floatbank8_b_level      5840 non-null float64\n",
      "primary_cleaner.state.floatbank8_c_air        5840 non-null float64\n",
      "primary_cleaner.state.floatbank8_c_level      5840 non-null float64\n",
      "primary_cleaner.state.floatbank8_d_air        5840 non-null float64\n",
      "primary_cleaner.state.floatbank8_d_level      5840 non-null float64\n",
      "rougher.input.feed_ag                         5840 non-null float64\n",
      "rougher.input.feed_pb                         5840 non-null float64\n",
      "rougher.input.feed_rate                       5816 non-null float64\n",
      "rougher.input.feed_size                       5834 non-null float64\n",
      "rougher.input.feed_sol                        5789 non-null float64\n",
      "rougher.input.feed_au                         5840 non-null float64\n",
      "rougher.input.floatbank10_sulfate             5599 non-null float64\n",
      "rougher.input.floatbank10_xanthate            5733 non-null float64\n",
      "rougher.input.floatbank11_sulfate             5801 non-null float64\n",
      "rougher.input.floatbank11_xanthate            5503 non-null float64\n",
      "rougher.state.floatbank10_a_air               5839 non-null float64\n",
      "rougher.state.floatbank10_a_level             5840 non-null float64\n",
      "rougher.state.floatbank10_b_air               5839 non-null float64\n",
      "rougher.state.floatbank10_b_level             5840 non-null float64\n",
      "rougher.state.floatbank10_c_air               5839 non-null float64\n",
      "rougher.state.floatbank10_c_level             5840 non-null float64\n",
      "rougher.state.floatbank10_d_air               5839 non-null float64\n",
      "rougher.state.floatbank10_d_level             5840 non-null float64\n",
      "rougher.state.floatbank10_e_air               5839 non-null float64\n",
      "rougher.state.floatbank10_e_level             5840 non-null float64\n",
      "rougher.state.floatbank10_f_air               5839 non-null float64\n",
      "rougher.state.floatbank10_f_level             5840 non-null float64\n",
      "secondary_cleaner.state.floatbank2_a_air      5836 non-null float64\n",
      "secondary_cleaner.state.floatbank2_a_level    5840 non-null float64\n",
      "secondary_cleaner.state.floatbank2_b_air      5833 non-null float64\n",
      "secondary_cleaner.state.floatbank2_b_level    5840 non-null float64\n",
      "secondary_cleaner.state.floatbank3_a_air      5822 non-null float64\n",
      "secondary_cleaner.state.floatbank3_a_level    5840 non-null float64\n",
      "secondary_cleaner.state.floatbank3_b_air      5840 non-null float64\n",
      "secondary_cleaner.state.floatbank3_b_level    5840 non-null float64\n",
      "secondary_cleaner.state.floatbank4_a_air      5840 non-null float64\n",
      "secondary_cleaner.state.floatbank4_a_level    5840 non-null float64\n",
      "secondary_cleaner.state.floatbank4_b_air      5840 non-null float64\n",
      "secondary_cleaner.state.floatbank4_b_level    5840 non-null float64\n",
      "secondary_cleaner.state.floatbank5_a_air      5840 non-null float64\n",
      "secondary_cleaner.state.floatbank5_a_level    5840 non-null float64\n",
      "secondary_cleaner.state.floatbank5_b_air      5840 non-null float64\n",
      "secondary_cleaner.state.floatbank5_b_level    5840 non-null float64\n",
      "secondary_cleaner.state.floatbank6_a_air      5840 non-null float64\n",
      "secondary_cleaner.state.floatbank6_a_level    5840 non-null float64\n",
      "dtypes: float64(52), object(1)\n",
      "memory usage: 2.4+ MB\n",
      "\n",
      "Type of column date: <class 'str'> \n",
      "\n",
      "<class 'pandas.core.frame.DataFrame'>\n",
      "RangeIndex: 22716 entries, 0 to 22715\n",
      "Data columns (total 87 columns):\n",
      "date                                                  22716 non-null object\n",
      "final.output.concentrate_ag                           22627 non-null float64\n",
      "final.output.concentrate_pb                           22629 non-null float64\n",
      "final.output.concentrate_sol                          22331 non-null float64\n",
      "final.output.concentrate_au                           22630 non-null float64\n",
      "final.output.recovery                                 20753 non-null float64\n",
      "final.output.tail_ag                                  22633 non-null float64\n",
      "final.output.tail_pb                                  22516 non-null float64\n",
      "final.output.tail_sol                                 22445 non-null float64\n",
      "final.output.tail_au                                  22635 non-null float64\n",
      "primary_cleaner.input.sulfate                         21107 non-null float64\n",
      "primary_cleaner.input.depressant                      21170 non-null float64\n",
      "primary_cleaner.input.feed_size                       22716 non-null float64\n",
      "primary_cleaner.input.xanthate                        21565 non-null float64\n",
      "primary_cleaner.output.concentrate_ag                 22618 non-null float64\n",
      "primary_cleaner.output.concentrate_pb                 22268 non-null float64\n",
      "primary_cleaner.output.concentrate_sol                21918 non-null float64\n",
      "primary_cleaner.output.concentrate_au                 22618 non-null float64\n",
      "primary_cleaner.output.tail_ag                        22614 non-null float64\n",
      "primary_cleaner.output.tail_pb                        22594 non-null float64\n",
      "primary_cleaner.output.tail_sol                       22365 non-null float64\n",
      "primary_cleaner.output.tail_au                        22617 non-null float64\n",
      "primary_cleaner.state.floatbank8_a_air                22660 non-null float64\n",
      "primary_cleaner.state.floatbank8_a_level              22667 non-null float64\n",
      "primary_cleaner.state.floatbank8_b_air                22660 non-null float64\n",
      "primary_cleaner.state.floatbank8_b_level              22673 non-null float64\n",
      "primary_cleaner.state.floatbank8_c_air                22662 non-null float64\n",
      "primary_cleaner.state.floatbank8_c_level              22673 non-null float64\n",
      "primary_cleaner.state.floatbank8_d_air                22661 non-null float64\n",
      "primary_cleaner.state.floatbank8_d_level              22673 non-null float64\n",
      "rougher.calculation.sulfate_to_au_concentrate         22672 non-null float64\n",
      "rougher.calculation.floatbank10_sulfate_to_au_feed    22672 non-null float64\n",
      "rougher.calculation.floatbank11_sulfate_to_au_feed    22672 non-null float64\n",
      "rougher.calculation.au_pb_ratio                       21089 non-null float64\n",
      "rougher.input.feed_ag                                 22618 non-null float64\n",
      "rougher.input.feed_pb                                 22472 non-null float64\n",
      "rougher.input.feed_rate                               22163 non-null float64\n",
      "rougher.input.feed_size                               22277 non-null float64\n",
      "rougher.input.feed_sol                                22357 non-null float64\n",
      "rougher.input.feed_au                                 22617 non-null float64\n",
      "rougher.input.floatbank10_sulfate                     21415 non-null float64\n",
      "rougher.input.floatbank10_xanthate                    22247 non-null float64\n",
      "rougher.input.floatbank11_sulfate                     22038 non-null float64\n",
      "rougher.input.floatbank11_xanthate                    20459 non-null float64\n",
      "rougher.output.concentrate_ag                         22618 non-null float64\n",
      "rougher.output.concentrate_pb                         22618 non-null float64\n",
      "rougher.output.concentrate_sol                        22526 non-null float64\n",
      "rougher.output.concentrate_au                         22618 non-null float64\n",
      "rougher.output.recovery                               19597 non-null float64\n",
      "rougher.output.tail_ag                                19979 non-null float64\n",
      "rougher.output.tail_pb                                22618 non-null float64\n",
      "rougher.output.tail_sol                               19980 non-null float64\n",
      "rougher.output.tail_au                                19980 non-null float64\n",
      "rougher.state.floatbank10_a_air                       22646 non-null float64\n",
      "rougher.state.floatbank10_a_level                     22647 non-null float64\n",
      "rougher.state.floatbank10_b_air                       22646 non-null float64\n",
      "rougher.state.floatbank10_b_level                     22647 non-null float64\n",
      "rougher.state.floatbank10_c_air                       22646 non-null float64\n",
      "rougher.state.floatbank10_c_level                     22654 non-null float64\n",
      "rougher.state.floatbank10_d_air                       22641 non-null float64\n",
      "rougher.state.floatbank10_d_level                     22649 non-null float64\n",
      "rougher.state.floatbank10_e_air                       22096 non-null float64\n",
      "rougher.state.floatbank10_e_level                     22649 non-null float64\n",
      "rougher.state.floatbank10_f_air                       22641 non-null float64\n",
      "rougher.state.floatbank10_f_level                     22642 non-null float64\n",
      "secondary_cleaner.output.tail_ag                      22616 non-null float64\n",
      "secondary_cleaner.output.tail_pb                      22600 non-null float64\n",
      "secondary_cleaner.output.tail_sol                     20501 non-null float64\n",
      "secondary_cleaner.output.tail_au                      22618 non-null float64\n",
      "secondary_cleaner.state.floatbank2_a_air              22333 non-null float64\n",
      "secondary_cleaner.state.floatbank2_a_level            22591 non-null float64\n",
      "secondary_cleaner.state.floatbank2_b_air              22538 non-null float64\n",
      "secondary_cleaner.state.floatbank2_b_level            22588 non-null float64\n",
      "secondary_cleaner.state.floatbank3_a_air              22585 non-null float64\n",
      "secondary_cleaner.state.floatbank3_a_level            22587 non-null float64\n",
      "secondary_cleaner.state.floatbank3_b_air              22592 non-null float64\n",
      "secondary_cleaner.state.floatbank3_b_level            22590 non-null float64\n",
      "secondary_cleaner.state.floatbank4_a_air              22571 non-null float64\n",
      "secondary_cleaner.state.floatbank4_a_level            22587 non-null float64\n",
      "secondary_cleaner.state.floatbank4_b_air              22608 non-null float64\n",
      "secondary_cleaner.state.floatbank4_b_level            22607 non-null float64\n",
      "secondary_cleaner.state.floatbank5_a_air              22615 non-null float64\n",
      "secondary_cleaner.state.floatbank5_a_level            22615 non-null float64\n",
      "secondary_cleaner.state.floatbank5_b_air              22615 non-null float64\n",
      "secondary_cleaner.state.floatbank5_b_level            22616 non-null float64\n",
      "secondary_cleaner.state.floatbank6_a_air              22597 non-null float64\n",
      "secondary_cleaner.state.floatbank6_a_level            22615 non-null float64\n",
      "dtypes: float64(86), object(1)\n",
      "memory usage: 15.1+ MB\n",
      "\n",
      "Type of column date: <class 'str'>\n"
     ]
    }
   ],
   "source": [
    "# get info about train, test and full datasets\n",
    "\n",
    "df_train.info()\n",
    "print('\\nType of column date:',type(df_train['date'][0]),'\\n')\n",
    "\n",
    "df_test.info()\n",
    "print('\\nType of column date:',type(df_train['date'][0]),'\\n')\n",
    "\n",
    "df_full.info()\n",
    "print('\\nType of column date:',type(df_train['date'][0]))"
   ]
  },
  {
   "cell_type": "markdown",
   "id": "474a1c71",
   "metadata": {},
   "source": [
    "**Notice:**\n",
    "1. Date is not a date-type. It is a string.\n",
    "2. All other columns are float type (shouldn't change type).\n",
    "3. There are a lot of missing N/A-values, number of those differ from column to column."
   ]
  },
  {
   "cell_type": "code",
   "execution_count": 209,
   "id": "9c0a88a5",
   "metadata": {},
   "outputs": [
    {
     "name": "stdout",
     "output_type": "stream",
     "text": [
      "There are 0 duplicates in train dataset\n",
      "There are 0 duplicates in test dataset\n",
      "There are 0 duplicates in full dataset\n"
     ]
    }
   ],
   "source": [
    "# check if there are duplicates in datasets\n",
    "\n",
    "print('There are {:} duplicates in train dataset'.format(sum(df_train.duplicated())))\n",
    "print('There are {:} duplicates in test dataset'.format(sum(df_test.duplicated())))\n",
    "print('There are {:} duplicates in full dataset'.format(sum(df_full.duplicated())))"
   ]
  },
  {
   "cell_type": "code",
   "execution_count": 210,
   "id": "4a2b8d9b",
   "metadata": {},
   "outputs": [],
   "source": [
    "# rename columns to avoid dots in names (instead of them use '_')\n",
    "# it is reall helpfull, cause we could directly address the name of column, for example in query\n",
    "\n",
    "cols = df_train.columns\n",
    "cols = cols.map(lambda x: x.replace('.', '_'))\n",
    "df_train.columns = cols\n",
    "\n",
    "cols = df_test.columns\n",
    "cols = cols.map(lambda x: x.replace('.', '_'))\n",
    "df_test.columns = cols\n",
    "\n",
    "cols = df_full.columns\n",
    "cols = cols.map(lambda x: x.replace('.', '_'))\n",
    "df_full.columns = cols"
   ]
  },
  {
   "cell_type": "code",
   "execution_count": 211,
   "id": "03c35bac",
   "metadata": {},
   "outputs": [],
   "source": [
    "# add target values from full dataset to test dataset (for comfort)\n",
    "\n",
    "df_test = df_test.merge(df_full[['date', 'final_output_recovery', 'rougher_output_recovery']], \n",
    "                        how='left', on='date')"
   ]
  },
  {
   "cell_type": "markdown",
   "id": "73330c3c",
   "metadata": {},
   "source": [
    "<div class=\"alert alert-success\">\n",
    "    Great, you loaded the data and inspected it!\n",
    "</div>"
   ]
  },
  {
   "cell_type": "markdown",
   "id": "5ce99e73",
   "metadata": {},
   "source": [
    "**- [x] Check that recovery is calculated correctly. Using the training set, calculate recovery for the rougher.output.recovery feature. Find the MAE between your calculations and the feature values. Provide findings.**"
   ]
  },
  {
   "cell_type": "markdown",
   "id": "b0f04880",
   "metadata": {},
   "source": [
    "<img src=\"https://pictures.s3.yandex.net/resources/Recovery_1576238822_1589899219.jpg\" alt=\"Drawing\" style=\"width: 400px;\"/>\n",
    "where: <br>\n",
    "C — share of gold in the concentrate right after flotation (for finding the rougher concentrate recovery)/after purification (for finding the final concentrate recovery) <br>\n",
    "F — share of gold in the feed before flotation (for finding the rougher concentrate recovery)/in the concentrate right after flotation (for finding the final concentrate recovery) <br>\n",
    "T — share of gold in the rougher tails right after flotation (for finding the rougher concentrate recovery)/after purification (for finding the final concentrate recovery)"
   ]
  },
  {
   "cell_type": "code",
   "execution_count": 212,
   "id": "c69e9908",
   "metadata": {},
   "outputs": [],
   "source": [
    "# save variables to simplify the formula\n",
    "\n",
    "C = df_train['rougher_output_concentrate_au']\n",
    "F = df_train['rougher_input_feed_au']\n",
    "T = df_train['rougher_output_tail_au']"
   ]
  },
  {
   "cell_type": "code",
   "execution_count": 213,
   "id": "3d58700a",
   "metadata": {},
   "outputs": [
    {
     "name": "stdout",
     "output_type": "stream",
     "text": [
      "median: 85.24\n",
      "quantile 0.05-0.95: 66.01-94.60\n"
     ]
    },
    {
     "data": {
      "image/png": "[encoded data removed]",
      "text/plain": [
       "<Figure size 432x288 with 1 Axes>"
      ]
     },
     "metadata": {
      "needs_background": "light"
     },
     "output_type": "display_data"
    }
   ],
   "source": [
    "# plot histogram rougher_output_recovery in train dataset\n",
    "# calculate median and quantiles (not necessary, but interesting)\n",
    "\n",
    "df_train['rougher_output_recovery'].hist(figsize=(6,4))\n",
    "print('median: {:.2f}'.format(df_train['rougher_output_recovery'].median()))\n",
    "print('quantile 0.05-0.95: {:.2f}-{:.2f}'.format(\n",
    "                    df_train['rougher_output_recovery'].quantile(0.05),\n",
    "                    df_train['rougher_output_recovery'].quantile(0.95)))"
   ]
  },
  {
   "cell_type": "markdown",
   "id": "f1223164",
   "metadata": {},
   "source": [
    "**Notice:**\n",
    "1. *rougher_output_recovery* changes between 0-100%\n",
    "2. median: 85.24\n",
    "3. quantile 0.05-0.95: 66.01-94.60\n",
    "3. There are ~300 zero values."
   ]
  },
  {
   "cell_type": "markdown",
   "id": "c2a2e041",
   "metadata": {},
   "source": [
    "**note:** if (a) F==0 or (b) C-T == 0 in formula then Recovery will be undefined, so we assigned N/A-value. <br>\n",
    "**note:** if (c) Recovery > 100% or (d) Recovery < 0% then Recovery will be undefined, so we assigned N/A-value. <br>"
   ]
  },
  {
   "cell_type": "code",
   "execution_count": 214,
   "id": "0ac33eeb",
   "metadata": {
    "scrolled": true
   },
   "outputs": [
    {
     "data": {
      "text/html": [
       "<div>\n",
       "<style scoped>\n",
       "    .dataframe tbody tr th:only-of-type {\n",
       "        vertical-align: middle;\n",
       "    }\n",
       "\n",
       "    .dataframe tbody tr th {\n",
       "        vertical-align: top;\n",
       "    }\n",
       "\n",
       "    .dataframe thead th {\n",
       "        text-align: right;\n",
       "    }\n",
       "</style>\n",
       "<table border=\"1\" class=\"dataframe\">\n",
       "  <thead>\n",
       "    <tr style=\"text-align: right;\">\n",
       "      <th></th>\n",
       "      <th>date</th>\n",
       "      <th>final_output_concentrate_ag</th>\n",
       "      <th>final_output_concentrate_pb</th>\n",
       "      <th>final_output_concentrate_sol</th>\n",
       "      <th>final_output_concentrate_au</th>\n",
       "      <th>final_output_recovery</th>\n",
       "      <th>final_output_tail_ag</th>\n",
       "      <th>final_output_tail_pb</th>\n",
       "      <th>final_output_tail_sol</th>\n",
       "      <th>final_output_tail_au</th>\n",
       "      <th>...</th>\n",
       "      <th>secondary_cleaner_state_floatbank4_a_air</th>\n",
       "      <th>secondary_cleaner_state_floatbank4_a_level</th>\n",
       "      <th>secondary_cleaner_state_floatbank4_b_air</th>\n",
       "      <th>secondary_cleaner_state_floatbank4_b_level</th>\n",
       "      <th>secondary_cleaner_state_floatbank5_a_air</th>\n",
       "      <th>secondary_cleaner_state_floatbank5_a_level</th>\n",
       "      <th>secondary_cleaner_state_floatbank5_b_air</th>\n",
       "      <th>secondary_cleaner_state_floatbank5_b_level</th>\n",
       "      <th>secondary_cleaner_state_floatbank6_a_air</th>\n",
       "      <th>secondary_cleaner_state_floatbank6_a_level</th>\n",
       "    </tr>\n",
       "  </thead>\n",
       "  <tbody>\n",
       "    <tr>\n",
       "      <td>99</td>\n",
       "      <td>2016-01-19 03:00:00</td>\n",
       "      <td>0.0</td>\n",
       "      <td>0.0</td>\n",
       "      <td>0.0</td>\n",
       "      <td>0.0</td>\n",
       "      <td>NaN</td>\n",
       "      <td>0.0</td>\n",
       "      <td>0.0</td>\n",
       "      <td>0.0</td>\n",
       "      <td>0.0</td>\n",
       "      <td>...</td>\n",
       "      <td>13.985160</td>\n",
       "      <td>-799.601232</td>\n",
       "      <td>12.036072</td>\n",
       "      <td>-603.234250</td>\n",
       "      <td>9.974968</td>\n",
       "      <td>-497.092974</td>\n",
       "      <td>7.953962</td>\n",
       "      <td>-499.698442</td>\n",
       "      <td>11.941642</td>\n",
       "      <td>-598.541756</td>\n",
       "    </tr>\n",
       "    <tr>\n",
       "      <td>100</td>\n",
       "      <td>2016-01-19 04:00:00</td>\n",
       "      <td>0.0</td>\n",
       "      <td>0.0</td>\n",
       "      <td>0.0</td>\n",
       "      <td>0.0</td>\n",
       "      <td>NaN</td>\n",
       "      <td>0.0</td>\n",
       "      <td>0.0</td>\n",
       "      <td>0.0</td>\n",
       "      <td>0.0</td>\n",
       "      <td>...</td>\n",
       "      <td>14.034374</td>\n",
       "      <td>-799.600946</td>\n",
       "      <td>12.040491</td>\n",
       "      <td>-623.446329</td>\n",
       "      <td>9.898782</td>\n",
       "      <td>-499.623262</td>\n",
       "      <td>7.979302</td>\n",
       "      <td>-500.283366</td>\n",
       "      <td>11.959950</td>\n",
       "      <td>-600.998301</td>\n",
       "    </tr>\n",
       "    <tr>\n",
       "      <td>101</td>\n",
       "      <td>2016-01-19 05:00:00</td>\n",
       "      <td>0.0</td>\n",
       "      <td>0.0</td>\n",
       "      <td>0.0</td>\n",
       "      <td>0.0</td>\n",
       "      <td>NaN</td>\n",
       "      <td>0.0</td>\n",
       "      <td>0.0</td>\n",
       "      <td>0.0</td>\n",
       "      <td>0.0</td>\n",
       "      <td>...</td>\n",
       "      <td>13.943929</td>\n",
       "      <td>-799.600659</td>\n",
       "      <td>12.040238</td>\n",
       "      <td>-638.103348</td>\n",
       "      <td>9.956309</td>\n",
       "      <td>-499.791870</td>\n",
       "      <td>7.978806</td>\n",
       "      <td>-500.202026</td>\n",
       "      <td>11.987839</td>\n",
       "      <td>-600.302819</td>\n",
       "    </tr>\n",
       "    <tr>\n",
       "      <td>102</td>\n",
       "      <td>2016-01-19 06:00:00</td>\n",
       "      <td>0.0</td>\n",
       "      <td>0.0</td>\n",
       "      <td>0.0</td>\n",
       "      <td>0.0</td>\n",
       "      <td>NaN</td>\n",
       "      <td>0.0</td>\n",
       "      <td>0.0</td>\n",
       "      <td>0.0</td>\n",
       "      <td>0.0</td>\n",
       "      <td>...</td>\n",
       "      <td>14.040873</td>\n",
       "      <td>-799.600372</td>\n",
       "      <td>12.030771</td>\n",
       "      <td>-641.310327</td>\n",
       "      <td>9.966952</td>\n",
       "      <td>-499.842458</td>\n",
       "      <td>8.053455</td>\n",
       "      <td>-499.588522</td>\n",
       "      <td>11.987935</td>\n",
       "      <td>-600.523057</td>\n",
       "    </tr>\n",
       "    <tr>\n",
       "      <td>103</td>\n",
       "      <td>2016-01-19 07:00:00</td>\n",
       "      <td>0.0</td>\n",
       "      <td>0.0</td>\n",
       "      <td>0.0</td>\n",
       "      <td>0.0</td>\n",
       "      <td>NaN</td>\n",
       "      <td>0.0</td>\n",
       "      <td>0.0</td>\n",
       "      <td>0.0</td>\n",
       "      <td>0.0</td>\n",
       "      <td>...</td>\n",
       "      <td>13.972371</td>\n",
       "      <td>-799.600085</td>\n",
       "      <td>12.021058</td>\n",
       "      <td>-641.457227</td>\n",
       "      <td>10.033820</td>\n",
       "      <td>-501.291438</td>\n",
       "      <td>7.985956</td>\n",
       "      <td>-499.934267</td>\n",
       "      <td>12.027556</td>\n",
       "      <td>-600.108918</td>\n",
       "    </tr>\n",
       "    <tr>\n",
       "      <td>...</td>\n",
       "      <td>...</td>\n",
       "      <td>...</td>\n",
       "      <td>...</td>\n",
       "      <td>...</td>\n",
       "      <td>...</td>\n",
       "      <td>...</td>\n",
       "      <td>...</td>\n",
       "      <td>...</td>\n",
       "      <td>...</td>\n",
       "      <td>...</td>\n",
       "      <td>...</td>\n",
       "      <td>...</td>\n",
       "      <td>...</td>\n",
       "      <td>...</td>\n",
       "      <td>...</td>\n",
       "      <td>...</td>\n",
       "      <td>...</td>\n",
       "      <td>...</td>\n",
       "      <td>...</td>\n",
       "      <td>...</td>\n",
       "      <td>...</td>\n",
       "    </tr>\n",
       "    <tr>\n",
       "      <td>12052</td>\n",
       "      <td>2018-01-30 03:59:59</td>\n",
       "      <td>0.0</td>\n",
       "      <td>0.0</td>\n",
       "      <td>0.0</td>\n",
       "      <td>0.0</td>\n",
       "      <td>NaN</td>\n",
       "      <td>0.0</td>\n",
       "      <td>0.0</td>\n",
       "      <td>0.0</td>\n",
       "      <td>0.0</td>\n",
       "      <td>...</td>\n",
       "      <td>20.005303</td>\n",
       "      <td>-500.893527</td>\n",
       "      <td>14.922286</td>\n",
       "      <td>-500.230461</td>\n",
       "      <td>10.909829</td>\n",
       "      <td>-500.314837</td>\n",
       "      <td>9.007956</td>\n",
       "      <td>-500.153163</td>\n",
       "      <td>10.988968</td>\n",
       "      <td>-500.387261</td>\n",
       "    </tr>\n",
       "    <tr>\n",
       "      <td>12053</td>\n",
       "      <td>2018-01-30 04:59:59</td>\n",
       "      <td>0.0</td>\n",
       "      <td>0.0</td>\n",
       "      <td>0.0</td>\n",
       "      <td>0.0</td>\n",
       "      <td>NaN</td>\n",
       "      <td>0.0</td>\n",
       "      <td>0.0</td>\n",
       "      <td>0.0</td>\n",
       "      <td>0.0</td>\n",
       "      <td>...</td>\n",
       "      <td>19.962859</td>\n",
       "      <td>-655.489381</td>\n",
       "      <td>14.956567</td>\n",
       "      <td>-524.758657</td>\n",
       "      <td>10.961487</td>\n",
       "      <td>-500.066426</td>\n",
       "      <td>9.004925</td>\n",
       "      <td>-500.040902</td>\n",
       "      <td>10.961121</td>\n",
       "      <td>-500.023096</td>\n",
       "    </tr>\n",
       "    <tr>\n",
       "      <td>12054</td>\n",
       "      <td>2018-01-30 05:59:59</td>\n",
       "      <td>0.0</td>\n",
       "      <td>0.0</td>\n",
       "      <td>0.0</td>\n",
       "      <td>0.0</td>\n",
       "      <td>NaN</td>\n",
       "      <td>0.0</td>\n",
       "      <td>0.0</td>\n",
       "      <td>0.0</td>\n",
       "      <td>0.0</td>\n",
       "      <td>...</td>\n",
       "      <td>20.017100</td>\n",
       "      <td>-523.801393</td>\n",
       "      <td>15.013965</td>\n",
       "      <td>-499.995375</td>\n",
       "      <td>10.991333</td>\n",
       "      <td>-499.941268</td>\n",
       "      <td>9.062215</td>\n",
       "      <td>-499.992738</td>\n",
       "      <td>10.996987</td>\n",
       "      <td>-499.871678</td>\n",
       "    </tr>\n",
       "    <tr>\n",
       "      <td>12055</td>\n",
       "      <td>2018-01-30 06:59:59</td>\n",
       "      <td>0.0</td>\n",
       "      <td>0.0</td>\n",
       "      <td>0.0</td>\n",
       "      <td>0.0</td>\n",
       "      <td>NaN</td>\n",
       "      <td>0.0</td>\n",
       "      <td>0.0</td>\n",
       "      <td>0.0</td>\n",
       "      <td>0.0</td>\n",
       "      <td>...</td>\n",
       "      <td>19.947963</td>\n",
       "      <td>-521.792599</td>\n",
       "      <td>15.041185</td>\n",
       "      <td>-500.303435</td>\n",
       "      <td>10.980523</td>\n",
       "      <td>-500.095725</td>\n",
       "      <td>9.041985</td>\n",
       "      <td>-499.916563</td>\n",
       "      <td>11.010581</td>\n",
       "      <td>-500.083532</td>\n",
       "    </tr>\n",
       "    <tr>\n",
       "      <td>12056</td>\n",
       "      <td>2018-01-30 07:59:59</td>\n",
       "      <td>0.0</td>\n",
       "      <td>0.0</td>\n",
       "      <td>0.0</td>\n",
       "      <td>0.0</td>\n",
       "      <td>NaN</td>\n",
       "      <td>0.0</td>\n",
       "      <td>0.0</td>\n",
       "      <td>0.0</td>\n",
       "      <td>0.0</td>\n",
       "      <td>...</td>\n",
       "      <td>19.979025</td>\n",
       "      <td>-569.020440</td>\n",
       "      <td>15.068404</td>\n",
       "      <td>-499.966176</td>\n",
       "      <td>10.950164</td>\n",
       "      <td>-499.910890</td>\n",
       "      <td>9.016255</td>\n",
       "      <td>-499.821464</td>\n",
       "      <td>11.006784</td>\n",
       "      <td>-499.988820</td>\n",
       "    </tr>\n",
       "  </tbody>\n",
       "</table>\n",
       "<p>1159 rows × 87 columns</p>\n",
       "</div>"
      ],
      "text/plain": [
       "                      date  final_output_concentrate_ag  \\\n",
       "99     2016-01-19 03:00:00                          0.0   \n",
       "100    2016-01-19 04:00:00                          0.0   \n",
       "101    2016-01-19 05:00:00                          0.0   \n",
       "102    2016-01-19 06:00:00                          0.0   \n",
       "103    2016-01-19 07:00:00                          0.0   \n",
       "...                    ...                          ...   \n",
       "12052  2018-01-30 03:59:59                          0.0   \n",
       "12053  2018-01-30 04:59:59                          0.0   \n",
       "12054  2018-01-30 05:59:59                          0.0   \n",
       "12055  2018-01-30 06:59:59                          0.0   \n",
       "12056  2018-01-30 07:59:59                          0.0   \n",
       "\n",
       "       final_output_concentrate_pb  final_output_concentrate_sol  \\\n",
       "99                             0.0                           0.0   \n",
       "100                            0.0                           0.0   \n",
       "101                            0.0                           0.0   \n",
       "102                            0.0                           0.0   \n",
       "103                            0.0                           0.0   \n",
       "...                            ...                           ...   \n",
       "12052                          0.0                           0.0   \n",
       "12053                          0.0                           0.0   \n",
       "12054                          0.0                           0.0   \n",
       "12055                          0.0                           0.0   \n",
       "12056                          0.0                           0.0   \n",
       "\n",
       "       final_output_concentrate_au  final_output_recovery  \\\n",
       "99                             0.0                    NaN   \n",
       "100                            0.0                    NaN   \n",
       "101                            0.0                    NaN   \n",
       "102                            0.0                    NaN   \n",
       "103                            0.0                    NaN   \n",
       "...                            ...                    ...   \n",
       "12052                          0.0                    NaN   \n",
       "12053                          0.0                    NaN   \n",
       "12054                          0.0                    NaN   \n",
       "12055                          0.0                    NaN   \n",
       "12056                          0.0                    NaN   \n",
       "\n",
       "       final_output_tail_ag  final_output_tail_pb  final_output_tail_sol  \\\n",
       "99                      0.0                   0.0                    0.0   \n",
       "100                     0.0                   0.0                    0.0   \n",
       "101                     0.0                   0.0                    0.0   \n",
       "102                     0.0                   0.0                    0.0   \n",
       "103                     0.0                   0.0                    0.0   \n",
       "...                     ...                   ...                    ...   \n",
       "12052                   0.0                   0.0                    0.0   \n",
       "12053                   0.0                   0.0                    0.0   \n",
       "12054                   0.0                   0.0                    0.0   \n",
       "12055                   0.0                   0.0                    0.0   \n",
       "12056                   0.0                   0.0                    0.0   \n",
       "\n",
       "       final_output_tail_au  ...  secondary_cleaner_state_floatbank4_a_air  \\\n",
       "99                      0.0  ...                                 13.985160   \n",
       "100                     0.0  ...                                 14.034374   \n",
       "101                     0.0  ...                                 13.943929   \n",
       "102                     0.0  ...                                 14.040873   \n",
       "103                     0.0  ...                                 13.972371   \n",
       "...                     ...  ...                                       ...   \n",
       "12052                   0.0  ...                                 20.005303   \n",
       "12053                   0.0  ...                                 19.962859   \n",
       "12054                   0.0  ...                                 20.017100   \n",
       "12055                   0.0  ...                                 19.947963   \n",
       "12056                   0.0  ...                                 19.979025   \n",
       "\n",
       "       secondary_cleaner_state_floatbank4_a_level  \\\n",
       "99                                    -799.601232   \n",
       "100                                   -799.600946   \n",
       "101                                   -799.600659   \n",
       "102                                   -799.600372   \n",
       "103                                   -799.600085   \n",
       "...                                           ...   \n",
       "12052                                 -500.893527   \n",
       "12053                                 -655.489381   \n",
       "12054                                 -523.801393   \n",
       "12055                                 -521.792599   \n",
       "12056                                 -569.020440   \n",
       "\n",
       "       secondary_cleaner_state_floatbank4_b_air  \\\n",
       "99                                    12.036072   \n",
       "100                                   12.040491   \n",
       "101                                   12.040238   \n",
       "102                                   12.030771   \n",
       "103                                   12.021058   \n",
       "...                                         ...   \n",
       "12052                                 14.922286   \n",
       "12053                                 14.956567   \n",
       "12054                                 15.013965   \n",
       "12055                                 15.041185   \n",
       "12056                                 15.068404   \n",
       "\n",
       "       secondary_cleaner_state_floatbank4_b_level  \\\n",
       "99                                    -603.234250   \n",
       "100                                   -623.446329   \n",
       "101                                   -638.103348   \n",
       "102                                   -641.310327   \n",
       "103                                   -641.457227   \n",
       "...                                           ...   \n",
       "12052                                 -500.230461   \n",
       "12053                                 -524.758657   \n",
       "12054                                 -499.995375   \n",
       "12055                                 -500.303435   \n",
       "12056                                 -499.966176   \n",
       "\n",
       "       secondary_cleaner_state_floatbank5_a_air  \\\n",
       "99                                     9.974968   \n",
       "100                                    9.898782   \n",
       "101                                    9.956309   \n",
       "102                                    9.966952   \n",
       "103                                   10.033820   \n",
       "...                                         ...   \n",
       "12052                                 10.909829   \n",
       "12053                                 10.961487   \n",
       "12054                                 10.991333   \n",
       "12055                                 10.980523   \n",
       "12056                                 10.950164   \n",
       "\n",
       "       secondary_cleaner_state_floatbank5_a_level  \\\n",
       "99                                    -497.092974   \n",
       "100                                   -499.623262   \n",
       "101                                   -499.791870   \n",
       "102                                   -499.842458   \n",
       "103                                   -501.291438   \n",
       "...                                           ...   \n",
       "12052                                 -500.314837   \n",
       "12053                                 -500.066426   \n",
       "12054                                 -499.941268   \n",
       "12055                                 -500.095725   \n",
       "12056                                 -499.910890   \n",
       "\n",
       "       secondary_cleaner_state_floatbank5_b_air  \\\n",
       "99                                     7.953962   \n",
       "100                                    7.979302   \n",
       "101                                    7.978806   \n",
       "102                                    8.053455   \n",
       "103                                    7.985956   \n",
       "...                                         ...   \n",
       "12052                                  9.007956   \n",
       "12053                                  9.004925   \n",
       "12054                                  9.062215   \n",
       "12055                                  9.041985   \n",
       "12056                                  9.016255   \n",
       "\n",
       "       secondary_cleaner_state_floatbank5_b_level  \\\n",
       "99                                    -499.698442   \n",
       "100                                   -500.283366   \n",
       "101                                   -500.202026   \n",
       "102                                   -499.588522   \n",
       "103                                   -499.934267   \n",
       "...                                           ...   \n",
       "12052                                 -500.153163   \n",
       "12053                                 -500.040902   \n",
       "12054                                 -499.992738   \n",
       "12055                                 -499.916563   \n",
       "12056                                 -499.821464   \n",
       "\n",
       "       secondary_cleaner_state_floatbank6_a_air  \\\n",
       "99                                    11.941642   \n",
       "100                                   11.959950   \n",
       "101                                   11.987839   \n",
       "102                                   11.987935   \n",
       "103                                   12.027556   \n",
       "...                                         ...   \n",
       "12052                                 10.988968   \n",
       "12053                                 10.961121   \n",
       "12054                                 10.996987   \n",
       "12055                                 11.010581   \n",
       "12056                                 11.006784   \n",
       "\n",
       "       secondary_cleaner_state_floatbank6_a_level  \n",
       "99                                    -598.541756  \n",
       "100                                   -600.998301  \n",
       "101                                   -600.302819  \n",
       "102                                   -600.523057  \n",
       "103                                   -600.108918  \n",
       "...                                           ...  \n",
       "12052                                 -500.387261  \n",
       "12053                                 -500.023096  \n",
       "12054                                 -499.871678  \n",
       "12055                                 -500.083532  \n",
       "12056                                 -499.988820  \n",
       "\n",
       "[1159 rows x 87 columns]"
      ]
     },
     "execution_count": 214,
     "metadata": {},
     "output_type": "execute_result"
    }
   ],
   "source": [
    "# before calculation let's look through what this conditions mean\n",
    "# it is not necessary, but it is helpfull for understanding Recovery coefficient\n",
    "\n",
    "# (a) F==0 \n",
    "df_train.query('rougher_input_feed_au == 0')"
   ]
  },
  {
   "cell_type": "code",
   "execution_count": 215,
   "id": "fddb5b54",
   "metadata": {},
   "outputs": [
    {
     "name": "stdout",
     "output_type": "stream",
     "text": [
      "Mean rougher_input_feed_rate when rougher_input_feed_au is zero: 28.52\n"
     ]
    },
    {
     "data": {
      "image/png": "[encoded data removed]",
      "text/plain": [
       "<Figure size 432x288 with 1 Axes>"
      ]
     },
     "metadata": {
      "needs_background": "light"
     },
     "output_type": "display_data"
    }
   ],
   "source": [
    "# check what values of <rougher_input_feed_rate> in this observations(rows) when F==0\n",
    "\n",
    "df_train.query('rougher_input_feed_au == 0')['rougher_input_feed_rate'].hist(alpha=0.5)\n",
    "df_train.query('rougher_input_feed_au != 0')['rougher_input_feed_rate'].hist(alpha=0.5)\n",
    "\n",
    "print('Mean rougher_input_feed_rate when rougher_input_feed_au is zero: {:.2f}'.format(\n",
    "                df_train.query('rougher_input_feed_au == 0')['rougher_input_feed_rate'].mean()))\n"
   ]
  },
  {
   "cell_type": "markdown",
   "id": "df8bcf31",
   "metadata": {},
   "source": [
    "**So...** When *rougher_input_feed_au* is zero (F==0) *rougher_input_feed_rate* is very low (mean 28.52). We assume that flotation machine doesn't work (no source material) and so can't produce the gold. "
   ]
  },
  {
   "cell_type": "code",
   "execution_count": 216,
   "id": "a1eaccda",
   "metadata": {
    "scrolled": true
   },
   "outputs": [
    {
     "data": {
      "text/html": [
       "<div>\n",
       "<style scoped>\n",
       "    .dataframe tbody tr th:only-of-type {\n",
       "        vertical-align: middle;\n",
       "    }\n",
       "\n",
       "    .dataframe tbody tr th {\n",
       "        vertical-align: top;\n",
       "    }\n",
       "\n",
       "    .dataframe thead th {\n",
       "        text-align: right;\n",
       "    }\n",
       "</style>\n",
       "<table border=\"1\" class=\"dataframe\">\n",
       "  <thead>\n",
       "    <tr style=\"text-align: right;\">\n",
       "      <th></th>\n",
       "      <th>date</th>\n",
       "      <th>final_output_concentrate_ag</th>\n",
       "      <th>final_output_concentrate_pb</th>\n",
       "      <th>final_output_concentrate_sol</th>\n",
       "      <th>final_output_concentrate_au</th>\n",
       "      <th>final_output_recovery</th>\n",
       "      <th>final_output_tail_ag</th>\n",
       "      <th>final_output_tail_pb</th>\n",
       "      <th>final_output_tail_sol</th>\n",
       "      <th>final_output_tail_au</th>\n",
       "      <th>...</th>\n",
       "      <th>secondary_cleaner_state_floatbank4_a_air</th>\n",
       "      <th>secondary_cleaner_state_floatbank4_a_level</th>\n",
       "      <th>secondary_cleaner_state_floatbank4_b_air</th>\n",
       "      <th>secondary_cleaner_state_floatbank4_b_level</th>\n",
       "      <th>secondary_cleaner_state_floatbank5_a_air</th>\n",
       "      <th>secondary_cleaner_state_floatbank5_a_level</th>\n",
       "      <th>secondary_cleaner_state_floatbank5_b_air</th>\n",
       "      <th>secondary_cleaner_state_floatbank5_b_level</th>\n",
       "      <th>secondary_cleaner_state_floatbank6_a_air</th>\n",
       "      <th>secondary_cleaner_state_floatbank6_a_level</th>\n",
       "    </tr>\n",
       "  </thead>\n",
       "  <tbody>\n",
       "  </tbody>\n",
       "</table>\n",
       "<p>0 rows × 87 columns</p>\n",
       "</div>"
      ],
      "text/plain": [
       "Empty DataFrame\n",
       "Columns: [date, final_output_concentrate_ag, final_output_concentrate_pb, final_output_concentrate_sol, final_output_concentrate_au, final_output_recovery, final_output_tail_ag, final_output_tail_pb, final_output_tail_sol, final_output_tail_au, primary_cleaner_input_sulfate, primary_cleaner_input_depressant, primary_cleaner_input_feed_size, primary_cleaner_input_xanthate, primary_cleaner_output_concentrate_ag, primary_cleaner_output_concentrate_pb, primary_cleaner_output_concentrate_sol, primary_cleaner_output_concentrate_au, primary_cleaner_output_tail_ag, primary_cleaner_output_tail_pb, primary_cleaner_output_tail_sol, primary_cleaner_output_tail_au, primary_cleaner_state_floatbank8_a_air, primary_cleaner_state_floatbank8_a_level, primary_cleaner_state_floatbank8_b_air, primary_cleaner_state_floatbank8_b_level, primary_cleaner_state_floatbank8_c_air, primary_cleaner_state_floatbank8_c_level, primary_cleaner_state_floatbank8_d_air, primary_cleaner_state_floatbank8_d_level, rougher_calculation_sulfate_to_au_concentrate, rougher_calculation_floatbank10_sulfate_to_au_feed, rougher_calculation_floatbank11_sulfate_to_au_feed, rougher_calculation_au_pb_ratio, rougher_input_feed_ag, rougher_input_feed_pb, rougher_input_feed_rate, rougher_input_feed_size, rougher_input_feed_sol, rougher_input_feed_au, rougher_input_floatbank10_sulfate, rougher_input_floatbank10_xanthate, rougher_input_floatbank11_sulfate, rougher_input_floatbank11_xanthate, rougher_output_concentrate_ag, rougher_output_concentrate_pb, rougher_output_concentrate_sol, rougher_output_concentrate_au, rougher_output_recovery, rougher_output_tail_ag, rougher_output_tail_pb, rougher_output_tail_sol, rougher_output_tail_au, rougher_state_floatbank10_a_air, rougher_state_floatbank10_a_level, rougher_state_floatbank10_b_air, rougher_state_floatbank10_b_level, rougher_state_floatbank10_c_air, rougher_state_floatbank10_c_level, rougher_state_floatbank10_d_air, rougher_state_floatbank10_d_level, rougher_state_floatbank10_e_air, rougher_state_floatbank10_e_level, rougher_state_floatbank10_f_air, rougher_state_floatbank10_f_level, secondary_cleaner_output_tail_ag, secondary_cleaner_output_tail_pb, secondary_cleaner_output_tail_sol, secondary_cleaner_output_tail_au, secondary_cleaner_state_floatbank2_a_air, secondary_cleaner_state_floatbank2_a_level, secondary_cleaner_state_floatbank2_b_air, secondary_cleaner_state_floatbank2_b_level, secondary_cleaner_state_floatbank3_a_air, secondary_cleaner_state_floatbank3_a_level, secondary_cleaner_state_floatbank3_b_air, secondary_cleaner_state_floatbank3_b_level, secondary_cleaner_state_floatbank4_a_air, secondary_cleaner_state_floatbank4_a_level, secondary_cleaner_state_floatbank4_b_air, secondary_cleaner_state_floatbank4_b_level, secondary_cleaner_state_floatbank5_a_air, secondary_cleaner_state_floatbank5_a_level, secondary_cleaner_state_floatbank5_b_air, secondary_cleaner_state_floatbank5_b_level, secondary_cleaner_state_floatbank6_a_air, secondary_cleaner_state_floatbank6_a_level]\n",
       "Index: []\n",
       "\n",
       "[0 rows x 87 columns]"
      ]
     },
     "execution_count": 216,
     "metadata": {},
     "output_type": "execute_result"
    }
   ],
   "source": [
    "# (b) C==T \n",
    "# rougher_output_concentrate_au == rougher_output_tail_au\n",
    "df_train.query('rougher_output_concentrate_au == rougher_output_tail_au')"
   ]
  },
  {
   "cell_type": "markdown",
   "id": "30efcfd2",
   "metadata": {},
   "source": [
    "**So...** For this dataset it is unnecessary to use this condition (C==T); but to make this code more general, we will use it."
   ]
  },
  {
   "cell_type": "code",
   "execution_count": 217,
   "id": "0f958047",
   "metadata": {},
   "outputs": [],
   "source": [
    "# calculate RECOVERY, manually assign NaN-value in case (a), (b), (c) and (d) (see previous comments)\n",
    "# if we do it in matrix record (like recovery = C*(F-T)/...*100%) then in some rows there will be Inf-values.\n",
    "#    to escape them I calculate parameter in cycle (it is slower, but without surprises) \n",
    "\n",
    "def Recovery_calculator(C_calc, F_calc, T_calc):\n",
    "    Recovery_list = []\n",
    "    for k in range(len(C_calc)):\n",
    "        if F_calc[k] == 0 or (C_calc-T_calc)[k] == 0 or \\\n",
    "                    C_calc[k] * (F_calc[k] - T_calc[k]) / F_calc[k] / (C_calc[k] - T_calc[k]) > 1. or \\\n",
    "                    C_calc[k] * (F_calc[k] - T_calc[k]) / F_calc[k] / (C_calc[k] - T_calc[k]) < 0.:            \n",
    "            Recovery_list.append(np.nan)\n",
    "        else:\n",
    "            Recovery_list.append(C_calc[k] * (F_calc[k] - T_calc[k]) / F_calc[k] / (C_calc[k] - T_calc[k]) * 100.)\n",
    "    return Recovery_list\n",
    "\n",
    "# save calculations in dataframe train\n",
    "df_train['rougher_calculationML_recovery'] = Recovery_calculator(C, F, T)"
   ]
  },
  {
   "cell_type": "code",
   "execution_count": 218,
   "id": "171783f7",
   "metadata": {
    "scrolled": true
   },
   "outputs": [
    {
     "name": "stdout",
     "output_type": "stream",
     "text": [
      "Number of N/A values in calculated recovery: 2573\n",
      "Number of Inf values in calculated recovery: 0\n",
      "Number of N/A values in dataset recovery: 2573\n"
     ]
    }
   ],
   "source": [
    "# print number of N/A values in calculated recovery\n",
    "\n",
    "print('Number of N/A values in calculated recovery: {:}'.format(\n",
    "            (df_train['rougher_calculationML_recovery'].isnull()).sum()))\n",
    "\n",
    "# check for errors in calculated recovery (infinite values)\n",
    "print('Number of Inf values in calculated recovery: {:}'.format(\n",
    "            df_train['rougher_calculationML_recovery'].isin([np.inf, -np.inf]).sum()))\n",
    "\n",
    "# print number of N/A values in recovery (train set)\n",
    "print('Number of N/A values in dataset recovery: {:}'.format(\n",
    "            (df_train['rougher_output_recovery'].isnull()).sum()))"
   ]
  },
  {
   "cell_type": "code",
   "execution_count": 219,
   "id": "a3247ca5",
   "metadata": {},
   "outputs": [
    {
     "data": {
      "text/plain": [
       "0"
      ]
     },
     "execution_count": 219,
     "metadata": {},
     "output_type": "execute_result"
    }
   ],
   "source": [
    "# if all N/A-values are in the same row print 0\n",
    "\n",
    "(df_train[df_train['rougher_calculationML_recovery'].isnull()].index != \\\n",
    "df_train[df_train['rougher_output_recovery'].isnull()].index).sum()"
   ]
  },
  {
   "cell_type": "code",
   "execution_count": 220,
   "id": "4df39074",
   "metadata": {},
   "outputs": [
    {
     "name": "stdout",
     "output_type": "stream",
     "text": [
      "MAE: 1.0512313043960013e-14\n"
     ]
    }
   ],
   "source": [
    "# find the MAE between calculations and the feature values\n",
    "print('MAE:',mean_absolute_error(df_train['rougher_output_recovery'].dropna(),\n",
    "                    df_train['rougher_calculationML_recovery'].dropna()))\n"
   ]
  },
  {
   "cell_type": "markdown",
   "id": "7a6d7c01",
   "metadata": {},
   "source": [
    "**So...**\n",
    "1. We have calculated rougher_output_recovery using formula. We assign N/A-values in 4 cases: if <br>\n",
    "(a) F==0,\n",
    "(b) C-T == 0\n",
    "(c) Recovery > 100%\n",
    "(d) Recovery < 0%. \n",
    "2. These N/A values have the same index as they are in the dataset parameter rougher_output_recovery.\n",
    "3. Number of N/A values in calculated recovery: 2573. Later in this section we should remove them (we can't use N/A-values to train the model).\n",
    "4. MAE is extremely low (deviation of computational error), so we can surely claim that the rougher_output_recovery in the dataframe is correct, we can calculate it."
   ]
  },
  {
   "cell_type": "markdown",
   "id": "27e714e2",
   "metadata": {},
   "source": [
    "<div class=\"alert alert-success\">\n",
    "    Recovery data was validated successfully!\n",
    "</div>"
   ]
  },
  {
   "cell_type": "markdown",
   "id": "03819646",
   "metadata": {},
   "source": [
    "**- [x] Analyze the features not available in the test set. What are these parameters? What is their type?**"
   ]
  },
  {
   "cell_type": "code",
   "execution_count": 221,
   "id": "644b68fb",
   "metadata": {},
   "outputs": [
    {
     "data": {
      "text/plain": [
       "32"
      ]
     },
     "execution_count": 221,
     "metadata": {},
     "output_type": "execute_result"
    }
   ],
   "source": [
    "# number of those features\n",
    "\n",
    "len(df_train.columns) - len(df_test.columns) - 1 # substracted 1 because we added one column in train dataset (recovery)"
   ]
  },
  {
   "cell_type": "code",
   "execution_count": 222,
   "id": "f21d077c",
   "metadata": {},
   "outputs": [],
   "source": [
    "# determine the features not available in the test set\n",
    "# save it in list\n",
    "\n",
    "features_not_in_test = []\n",
    "for item in df_train.columns:   # cycle over columns in train\n",
    "    if item not in df_test.columns: # if any column not in test dataset,\n",
    "        features_not_in_test.append(item) # it append to the reserve list"
   ]
  },
  {
   "cell_type": "code",
   "execution_count": 223,
   "id": "ca66726c",
   "metadata": {
    "scrolled": true
   },
   "outputs": [
    {
     "data": {
      "text/plain": [
       "['final_output_concentrate_ag',\n",
       " 'final_output_concentrate_pb',\n",
       " 'final_output_concentrate_sol',\n",
       " 'final_output_concentrate_au',\n",
       " 'final_output_tail_ag',\n",
       " 'final_output_tail_pb',\n",
       " 'final_output_tail_sol',\n",
       " 'final_output_tail_au',\n",
       " 'primary_cleaner_output_concentrate_ag',\n",
       " 'primary_cleaner_output_concentrate_pb',\n",
       " 'primary_cleaner_output_concentrate_sol',\n",
       " 'primary_cleaner_output_concentrate_au',\n",
       " 'primary_cleaner_output_tail_ag',\n",
       " 'primary_cleaner_output_tail_pb',\n",
       " 'primary_cleaner_output_tail_sol',\n",
       " 'primary_cleaner_output_tail_au',\n",
       " 'rougher_calculation_sulfate_to_au_concentrate',\n",
       " 'rougher_calculation_floatbank10_sulfate_to_au_feed',\n",
       " 'rougher_calculation_floatbank11_sulfate_to_au_feed',\n",
       " 'rougher_calculation_au_pb_ratio',\n",
       " 'rougher_output_concentrate_ag',\n",
       " 'rougher_output_concentrate_pb',\n",
       " 'rougher_output_concentrate_sol',\n",
       " 'rougher_output_concentrate_au',\n",
       " 'rougher_output_tail_ag',\n",
       " 'rougher_output_tail_pb',\n",
       " 'rougher_output_tail_sol',\n",
       " 'rougher_output_tail_au',\n",
       " 'secondary_cleaner_output_tail_ag',\n",
       " 'secondary_cleaner_output_tail_pb',\n",
       " 'secondary_cleaner_output_tail_sol',\n",
       " 'secondary_cleaner_output_tail_au',\n",
       " 'rougher_calculationML_recovery']"
      ]
     },
     "execution_count": 223,
     "metadata": {},
     "output_type": "execute_result"
    }
   ],
   "source": [
    "# print it\n",
    "# type of all of those columns is float as it was mentioned above\n",
    "\n",
    "features_not_in_test"
   ]
  },
  {
   "cell_type": "markdown",
   "id": "294fe6ef",
   "metadata": {},
   "source": [
    "**So...**\n",
    "1. There are: final_output_..., secondary_cleaner_output_..., primary_cleaner_output_..., rougher_output_... and rougher_calculation_...\n",
    "2. Some parameters are not available because they were measured and/or calculated much later. That's why, some of the features that are present in the training set may be absent from the test set. The test set also doesn't contain targets.\n",
    "3. Type float.\n",
    "4. We need to find the share of gold in the concentrate and the tails to predict target features"
   ]
  },
  {
   "cell_type": "markdown",
   "id": "32d71d16",
   "metadata": {},
   "source": [
    "<div class=\"alert alert-success\">\n",
    "    Yep, you are right!\n",
    "</div>"
   ]
  },
  {
   "cell_type": "markdown",
   "id": "5fe4fa79",
   "metadata": {},
   "source": [
    "**- [x] Perform data preprocessing**"
   ]
  },
  {
   "cell_type": "markdown",
   "id": "137adfe9",
   "metadata": {},
   "source": [
    "**convert date type**"
   ]
  },
  {
   "cell_type": "code",
   "execution_count": 224,
   "id": "8941b4f6",
   "metadata": {},
   "outputs": [],
   "source": [
    "# convert date from string to date-type format \n",
    "\n",
    "df_train['date'] = pd.to_datetime(df_train['date'], format='%Y-%m-%d %H:%M:%S')\n",
    "df_test['date'] = pd.to_datetime(df_test['date'], format='%Y-%m-%d %H:%M:%S')\n",
    "df_full['date'] = pd.to_datetime(df_full['date'], format='%Y-%m-%d %H:%M:%S')"
   ]
  },
  {
   "cell_type": "markdown",
   "id": "164e3c66",
   "metadata": {},
   "source": [
    "**N/A-values: 1 step (Nan in target)**"
   ]
  },
  {
   "cell_type": "code",
   "execution_count": 225,
   "id": "6b6e1e06",
   "metadata": {},
   "outputs": [
    {
     "name": "stdout",
     "output_type": "stream",
     "text": [
      "N/A values in <rougher_output_recovery>:  2573\n",
      "N/A values in <final_output_recovery>:  1521\n"
     ]
    }
   ],
   "source": [
    "# <rougher_output_recovery> is our target. That's why we should dropna this values.\n",
    "# in train dataset we have N/A values in <rougher_output_recovery>\n",
    "\n",
    "print('N/A values in <rougher_output_recovery>: ', df_train['rougher_output_recovery'].isnull().sum())\n",
    "print('N/A values in <final_output_recovery>: ', df_train['final_output_recovery'].isnull().sum())"
   ]
  },
  {
   "cell_type": "code",
   "execution_count": 226,
   "id": "bd44d9bd",
   "metadata": {},
   "outputs": [
    {
     "name": "stdout",
     "output_type": "stream",
     "text": [
      "N/A values in <rougher_output_recovery>:  546\n",
      "N/A values in <final_output_recovery>:  442\n"
     ]
    }
   ],
   "source": [
    "# in test dataset\n",
    "\n",
    "print('N/A values in <rougher_output_recovery>: ', df_test['rougher_output_recovery'].isnull().sum())\n",
    "print('N/A values in <final_output_recovery>: ', df_test['final_output_recovery'].isnull().sum())"
   ]
  },
  {
   "cell_type": "code",
   "execution_count": 227,
   "id": "d938001d",
   "metadata": {
    "scrolled": true
   },
   "outputs": [
    {
     "name": "stdout",
     "output_type": "stream",
     "text": [
      "Size of train dataset before dropna: 16860\n",
      "Size of train dataset after dropna: 14149\n",
      "Size of train dataset before dropna: 5856\n",
      "Size of train dataset after dropna: 5290\n"
     ]
    }
   ],
   "source": [
    "# dropna in train dataset where targets: <rougher_output_recovery> and <final_output_recovery> == Nan\n",
    "\n",
    "# in train dataset\n",
    "print('Size of train dataset before dropna:',len(df_train))\n",
    "df_train = df_train.dropna(subset=['rougher_output_recovery', 'final_output_recovery'])\n",
    "print('Size of train dataset after dropna:',len(df_train))\n",
    "\n",
    "# in test dataset (we drop them because we want calculate metric)\n",
    "print('Size of train dataset before dropna:',len(df_test))\n",
    "df_test = df_test.dropna(subset=['rougher_output_recovery', 'final_output_recovery'])\n",
    "print('Size of train dataset after dropna:',len(df_test))"
   ]
  },
  {
   "cell_type": "markdown",
   "id": "645f031e",
   "metadata": {},
   "source": [
    "**N/A-values: 2 step (Nan in features)**"
   ]
  },
  {
   "cell_type": "markdown",
   "id": "4f3b393e",
   "metadata": {},
   "source": [
    "**Notice:** In fact we need do something with Nan only in features, which we can use to train the model, i.e. ignore -output- and -calculation-"
   ]
  },
  {
   "cell_type": "code",
   "execution_count": 228,
   "id": "f642bfeb",
   "metadata": {},
   "outputs": [],
   "source": [
    "# save list of columns which are in both train and test model\n",
    "\n",
    "list_removeNan = []\n",
    "for item in df_train.columns:\n",
    "    if not('output' in item) and (not('calculation' in item)):\n",
    "        list_removeNan.append(item)"
   ]
  },
  {
   "cell_type": "code",
   "execution_count": 229,
   "id": "766563f4",
   "metadata": {
    "scrolled": true
   },
   "outputs": [
    {
     "data": {
      "text/plain": [
       "rougher_state_floatbank10_e_air               436\n",
       "rougher_input_floatbank11_xanthate            428\n",
       "secondary_cleaner_state_floatbank2_a_air      217\n",
       "rougher_input_feed_size                       144\n",
       "primary_cleaner_input_xanthate                100\n",
       "rougher_input_feed_pb                         100\n",
       "rougher_input_feed_sol                         78\n",
       "rougher_input_floatbank11_sulfate              36\n",
       "primary_cleaner_input_depressant               32\n",
       "rougher_input_floatbank10_sulfate              29\n",
       "secondary_cleaner_state_floatbank2_b_air       21\n",
       "primary_cleaner_input_sulfate                  20\n",
       "rougher_input_floatbank10_xanthate              8\n",
       "rougher_input_feed_rate                         8\n",
       "secondary_cleaner_state_floatbank4_a_air        6\n",
       "primary_cleaner_state_floatbank8_b_air          4\n",
       "secondary_cleaner_state_floatbank3_a_air        4\n",
       "primary_cleaner_state_floatbank8_a_air          4\n",
       "primary_cleaner_state_floatbank8_d_air          3\n",
       "primary_cleaner_state_floatbank8_c_air          2\n",
       "secondary_cleaner_state_floatbank6_a_air        2\n",
       "secondary_cleaner_state_floatbank6_a_level      1\n",
       "primary_cleaner_state_floatbank8_d_level        1\n",
       "rougher_state_floatbank10_a_level               1\n",
       "primary_cleaner_state_floatbank8_c_level        1\n",
       "primary_cleaner_state_floatbank8_b_level        1\n",
       "primary_cleaner_state_floatbank8_a_level        1\n",
       "rougher_state_floatbank10_a_air                 1\n",
       "rougher_state_floatbank10_b_level               1\n",
       "rougher_state_floatbank10_b_air                 1\n",
       "rougher_state_floatbank10_c_air                 1\n",
       "secondary_cleaner_state_floatbank5_b_level      1\n",
       "secondary_cleaner_state_floatbank5_b_air        1\n",
       "secondary_cleaner_state_floatbank5_a_level      1\n",
       "secondary_cleaner_state_floatbank5_a_air        1\n",
       "secondary_cleaner_state_floatbank4_b_level      1\n",
       "secondary_cleaner_state_floatbank4_b_air        1\n",
       "secondary_cleaner_state_floatbank4_a_level      1\n",
       "secondary_cleaner_state_floatbank3_b_level      1\n",
       "secondary_cleaner_state_floatbank3_b_air        1\n",
       "secondary_cleaner_state_floatbank3_a_level      1\n",
       "secondary_cleaner_state_floatbank2_b_level      1\n",
       "secondary_cleaner_state_floatbank2_a_level      1\n",
       "rougher_state_floatbank10_c_level               1\n",
       "rougher_input_feed_ag                           0\n",
       "rougher_state_floatbank10_f_level               0\n",
       "rougher_state_floatbank10_f_air                 0\n",
       "rougher_state_floatbank10_e_level               0\n",
       "rougher_input_feed_au                           0\n",
       "rougher_state_floatbank10_d_level               0\n",
       "primary_cleaner_input_feed_size                 0\n",
       "rougher_state_floatbank10_d_air                 0\n",
       "date                                            0\n",
       "dtype: int64"
      ]
     },
     "execution_count": 229,
     "metadata": {},
     "output_type": "execute_result"
    }
   ],
   "source": [
    "# print number of Nan in each feature\n",
    "\n",
    "df_train[list_removeNan].isnull().sum().sort_values(ascending=False)"
   ]
  },
  {
   "cell_type": "markdown",
   "id": "9b44f161",
   "metadata": {},
   "source": [
    "**Notice:** There are no many Nan-values. The maximal number of them in *rougher_input_floatbank11_xanthate* and *rougher_state_floatbank10_e_air*"
   ]
  },
  {
   "cell_type": "markdown",
   "id": "b2998165",
   "metadata": {},
   "source": [
    "**N/A-values: 2 step (rougher_input_floatbank11_xanthate)**"
   ]
  },
  {
   "cell_type": "code",
   "execution_count": 230,
   "id": "86ba6d1a",
   "metadata": {},
   "outputs": [
    {
     "data": {
      "text/plain": [
       "rougher_input_floatbank11_xanthate    1.000000\n",
       "rougher_input_floatbank10_xanthate    0.940049\n",
       "rougher_input_feed_rate               0.591576\n",
       "primary_cleaner_input_xanthate        0.379290\n",
       "primary_cleaner_input_depressant      0.368112\n",
       "Name: rougher_input_floatbank11_xanthate, dtype: float64"
      ]
     },
     "execution_count": 230,
     "metadata": {},
     "output_type": "execute_result"
    }
   ],
   "source": [
    "# find the best correlation for rougher_input_floatbank11_xanthate\n",
    "\n",
    "df_train[list_removeNan].corr()['rougher_input_floatbank11_xanthate'].sort_values(ascending=False)[:5]"
   ]
  },
  {
   "cell_type": "markdown",
   "id": "1d6fe5a2",
   "metadata": {},
   "source": [
    "**Notice:** rougher_input_floatbank10_xanthate has very high correlation (0.94). Maybe it is better even exclude such a high correlation (to avoid this zombie-duplicated parameter). But we remain it."
   ]
  },
  {
   "cell_type": "code",
   "execution_count": 231,
   "id": "baed9ccf",
   "metadata": {
    "scrolled": true
   },
   "outputs": [
    {
     "data": {
      "text/plain": [
       "[<matplotlib.lines.Line2D at 0x7fc3334fb290>]"
      ]
     },
     "execution_count": 231,
     "metadata": {},
     "output_type": "execute_result"
    },
    {
     "data": {
      "image/png": "[encoded data removed]",
      "text/plain": [
       "<Figure size 432x288 with 1 Axes>"
      ]
     },
     "metadata": {
      "needs_background": "light"
     },
     "output_type": "display_data"
    }
   ],
   "source": [
    "# plot this correlation\n",
    "\n",
    "plt.figure()\n",
    "plt.plot(df_train['rougher_input_floatbank11_xanthate'],df_train['rougher_input_floatbank10_xanthate'],'.')"
   ]
  },
  {
   "cell_type": "markdown",
   "id": "abfe3d00",
   "metadata": {},
   "source": [
    "**So...** without any doubth this is y=x. So we can use *rougher_input_floatbank10_xanthate* to fillna in *rougher_input_floatbank11_xanthate*"
   ]
  },
  {
   "cell_type": "code",
   "execution_count": 232,
   "id": "ab20921e",
   "metadata": {},
   "outputs": [],
   "source": [
    "index_na = df_train['rougher_input_floatbank11_xanthate'].isnull()\n",
    "df_train.loc[index_na,'rougher_input_floatbank11_xanthate'] = df_train.loc[index_na,'rougher_input_floatbank10_xanthate']"
   ]
  },
  {
   "cell_type": "code",
   "execution_count": 233,
   "id": "b7a6dc45",
   "metadata": {
    "scrolled": true
   },
   "outputs": [
    {
     "name": "stdout",
     "output_type": "stream",
     "text": [
      "We still have 8 N/A-values\n"
     ]
    }
   ],
   "source": [
    "print('We still have',df_train['rougher_input_floatbank11_xanthate'].isnull().sum(),'N/A-values')"
   ]
  },
  {
   "cell_type": "markdown",
   "id": "f305cf3d",
   "metadata": {},
   "source": [
    "**N/A-values: 2 step (rougher_state_floatbank10_e_air)**"
   ]
  },
  {
   "cell_type": "code",
   "execution_count": 234,
   "id": "40b4d824",
   "metadata": {
    "scrolled": false
   },
   "outputs": [
    {
     "data": {
      "text/plain": [
       "rougher_state_floatbank10_e_air    1.000000\n",
       "rougher_state_floatbank10_f_air    0.940696\n",
       "rougher_state_floatbank10_d_air    0.884600\n",
       "rougher_state_floatbank10_b_air    0.830794\n",
       "rougher_state_floatbank10_c_air    0.779243\n",
       "Name: rougher_state_floatbank10_e_air, dtype: float64"
      ]
     },
     "execution_count": 234,
     "metadata": {},
     "output_type": "execute_result"
    }
   ],
   "source": [
    "# find the best correlation for rougher_state_floatbank10_e_air\n",
    "\n",
    "df_train[list_removeNan].corr()['rougher_state_floatbank10_e_air'].sort_values(ascending=False)[:5]"
   ]
  },
  {
   "cell_type": "markdown",
   "id": "de57f6bc",
   "metadata": {},
   "source": [
    "**Notice:** rougher_state_floatbank10_f_air has very high correlation (0.94). Maybe it is better even exclude such a high correlation (to avoid this zombie-duplicated parameter). But we remain it."
   ]
  },
  {
   "cell_type": "code",
   "execution_count": 235,
   "id": "8d506019",
   "metadata": {
    "scrolled": false
   },
   "outputs": [
    {
     "data": {
      "text/plain": [
       "(0, 1750)"
      ]
     },
     "execution_count": 235,
     "metadata": {},
     "output_type": "execute_result"
    },
    {
     "data": {
      "image/png": "[encoded data removed]",
      "text/plain": [
       "<Figure size 432x288 with 1 Axes>"
      ]
     },
     "metadata": {
      "needs_background": "light"
     },
     "output_type": "display_data"
    }
   ],
   "source": [
    "# plot this correlation\n",
    "\n",
    "plt.figure()\n",
    "plt.plot(df_train['rougher_state_floatbank10_f_air'],df_train['rougher_state_floatbank10_e_air'],'.')\n",
    "plt.xlim(0,1750)\n",
    "plt.ylim(0,1750)"
   ]
  },
  {
   "cell_type": "markdown",
   "id": "f4d5b3c0",
   "metadata": {},
   "source": [
    "**So...** without any doubth this is y=x. So we can use *rougher_state_floatbank10_f_air* to fillna in *rougher_state_floatbank10_e_air*"
   ]
  },
  {
   "cell_type": "code",
   "execution_count": 236,
   "id": "271d85ac",
   "metadata": {},
   "outputs": [],
   "source": [
    "index_na = df_train['rougher_state_floatbank10_e_air'].isnull()\n",
    "df_train.loc[index_na,'rougher_state_floatbank10_e_air'] = df_train.loc[index_na,'rougher_state_floatbank10_f_air']"
   ]
  },
  {
   "cell_type": "code",
   "execution_count": 237,
   "id": "9e09c9f8",
   "metadata": {
    "scrolled": false
   },
   "outputs": [
    {
     "name": "stdout",
     "output_type": "stream",
     "text": [
      "We still have 0 N/A-values\n"
     ]
    }
   ],
   "source": [
    "print('We still have',df_train['rougher_state_floatbank10_e_air'].isnull().sum(),'N/A-values')"
   ]
  },
  {
   "cell_type": "markdown",
   "id": "5c89345e",
   "metadata": {},
   "source": [
    "**N/A-values: 2 step (secondary_cleaner_state_floatbank2_a_air)**"
   ]
  },
  {
   "cell_type": "code",
   "execution_count": 238,
   "id": "b9902911",
   "metadata": {},
   "outputs": [
    {
     "data": {
      "text/plain": [
       "secondary_cleaner_state_floatbank2_a_air      1.000000\n",
       "secondary_cleaner_state_floatbank2_b_air      0.882160\n",
       "secondary_cleaner_state_floatbank2_b_level    0.545462\n",
       "secondary_cleaner_state_floatbank2_a_level    0.532005\n",
       "secondary_cleaner_state_floatbank4_a_air      0.432598\n",
       "Name: secondary_cleaner_state_floatbank2_a_air, dtype: float64"
      ]
     },
     "execution_count": 238,
     "metadata": {},
     "output_type": "execute_result"
    }
   ],
   "source": [
    "# find the best correlation for secondary_cleaner_state_floatbank2_a_air\n",
    "\n",
    "df_train[list_removeNan].corr()['secondary_cleaner_state_floatbank2_a_air'].sort_values(ascending=False)[:5]"
   ]
  },
  {
   "cell_type": "markdown",
   "id": "65cf2fc1",
   "metadata": {},
   "source": [
    "**Notice:** *secondary_cleaner_state_floatbank2_b_air* has high correlation (0.88)."
   ]
  },
  {
   "cell_type": "code",
   "execution_count": 239,
   "id": "f5cce468",
   "metadata": {
    "scrolled": true
   },
   "outputs": [
    {
     "data": {
      "text/plain": [
       "(0, 40)"
      ]
     },
     "execution_count": 239,
     "metadata": {},
     "output_type": "execute_result"
    },
    {
     "data": {
      "image/png": "[encoded data removed]",
      "text/plain": [
       "<Figure size 432x288 with 1 Axes>"
      ]
     },
     "metadata": {
      "needs_background": "light"
     },
     "output_type": "display_data"
    }
   ],
   "source": [
    "# plot this correlation\n",
    "\n",
    "plt.figure()\n",
    "plt.plot(df_train['secondary_cleaner_state_floatbank2_b_air'],df_train['secondary_cleaner_state_floatbank2_a_air'],'.')\n",
    "plt.xlim(0,40)\n",
    "plt.ylim(0,40)"
   ]
  },
  {
   "cell_type": "code",
   "execution_count": 240,
   "id": "873d1c13",
   "metadata": {},
   "outputs": [],
   "source": [
    "# find linear approximation function to calculate <secondary_cleaner_state_floatbank2_a_air>\n",
    "f = interpolate.interp1d(df_train['secondary_cleaner_state_floatbank2_b_air'],\n",
    "              df_train['secondary_cleaner_state_floatbank2_a_air'], kind='linear')"
   ]
  },
  {
   "cell_type": "code",
   "execution_count": 241,
   "id": "b0ab9843",
   "metadata": {},
   "outputs": [],
   "source": [
    "index_na = df_train['secondary_cleaner_state_floatbank2_a_air'].isnull()"
   ]
  },
  {
   "cell_type": "code",
   "execution_count": 242,
   "id": "23d29a1a",
   "metadata": {},
   "outputs": [],
   "source": [
    "# I don't understand how to do it in the right-beautifull matrix way; I just go through the cycle\n",
    "\n",
    "for k in df_train[df_train['secondary_cleaner_state_floatbank2_a_air'].isnull()].index:\n",
    "    df_train.loc[k,'secondary_cleaner_state_floatbank2_a_air'] = \\\n",
    "        df_train.loc[k,'secondary_cleaner_state_floatbank2_b_air']"
   ]
  },
  {
   "cell_type": "code",
   "execution_count": 243,
   "id": "1e1db4e3",
   "metadata": {
    "scrolled": true
   },
   "outputs": [
    {
     "name": "stdout",
     "output_type": "stream",
     "text": [
      "We still have 6 N/A-values\n"
     ]
    }
   ],
   "source": [
    "print('We still have',df_train['secondary_cleaner_state_floatbank2_a_air'].isnull().sum(),'N/A-values')"
   ]
  },
  {
   "cell_type": "markdown",
   "id": "bbc2c57e",
   "metadata": {},
   "source": [
    "**N/A-values: 2 step (rougher_input_feed_pb)**"
   ]
  },
  {
   "cell_type": "code",
   "execution_count": 244,
   "id": "93af8137",
   "metadata": {},
   "outputs": [
    {
     "data": {
      "text/plain": [
       "rougher_input_feed_pb                1.000000\n",
       "rougher_input_feed_au                0.691097\n",
       "primary_cleaner_input_sulfate        0.547225\n",
       "rougher_input_feed_ag                0.494735\n",
       "rougher_state_floatbank10_a_level    0.309202\n",
       "Name: rougher_input_feed_pb, dtype: float64"
      ]
     },
     "execution_count": 244,
     "metadata": {},
     "output_type": "execute_result"
    }
   ],
   "source": [
    "# find the best correlation for rougher_input_feed_pb\n",
    "\n",
    "df_train[list_removeNan].corr()['rougher_input_feed_pb'].sort_values(ascending=False)[:5]"
   ]
  },
  {
   "cell_type": "markdown",
   "id": "32fbcb8c",
   "metadata": {},
   "source": [
    "**Notice:** *rougher_input_feed_au* has high correlation (0.69)."
   ]
  },
  {
   "cell_type": "code",
   "execution_count": 245,
   "id": "7b405d0a",
   "metadata": {
    "scrolled": true
   },
   "outputs": [
    {
     "data": {
      "text/plain": [
       "(0, 14)"
      ]
     },
     "execution_count": 245,
     "metadata": {},
     "output_type": "execute_result"
    },
    {
     "data": {
      "image/png": "[encoded data removed]",
      "text/plain": [
       "<Figure size 432x288 with 1 Axes>"
      ]
     },
     "metadata": {
      "needs_background": "light"
     },
     "output_type": "display_data"
    }
   ],
   "source": [
    "# plot this correlation\n",
    "\n",
    "plt.figure()\n",
    "plt.plot(df_train['rougher_input_feed_au'],df_train['rougher_input_feed_pb'],'.')\n",
    "plt.xlim(0,14)\n",
    "plt.ylim(0,14)"
   ]
  },
  {
   "cell_type": "code",
   "execution_count": 246,
   "id": "776a1e3a",
   "metadata": {},
   "outputs": [],
   "source": [
    "# find linear approximation function to calculate <rougher_input_feed_pb>\n",
    "f = interpolate.interp1d(df_train['rougher_input_feed_au'],\n",
    "              df_train['rougher_input_feed_pb'], kind='linear')"
   ]
  },
  {
   "cell_type": "code",
   "execution_count": 247,
   "id": "555beb70",
   "metadata": {},
   "outputs": [],
   "source": [
    "index_na = df_train['rougher_input_feed_pb'].isnull()"
   ]
  },
  {
   "cell_type": "code",
   "execution_count": 248,
   "id": "60d48caf",
   "metadata": {},
   "outputs": [],
   "source": [
    "# I don't understand how to do it in the right-beautifull matrix way; I just go through the cycle\n",
    "\n",
    "for k in df_train[df_train['rougher_input_feed_pb'].isnull()].index:\n",
    "    df_train.loc[k,'rougher_input_feed_pb'] = \\\n",
    "        df_train.loc[k,'rougher_input_feed_au']"
   ]
  },
  {
   "cell_type": "code",
   "execution_count": 249,
   "id": "f589efbf",
   "metadata": {
    "scrolled": false
   },
   "outputs": [
    {
     "name": "stdout",
     "output_type": "stream",
     "text": [
      "We still have 0 N/A-values\n"
     ]
    }
   ],
   "source": [
    "print('We still have',df_train['rougher_input_feed_pb'].isnull().sum(),'N/A-values')"
   ]
  },
  {
   "cell_type": "code",
   "execution_count": 250,
   "id": "874b0770",
   "metadata": {
    "scrolled": true
   },
   "outputs": [
    {
     "data": {
      "text/plain": [
       "rougher_input_feed_size                       144\n",
       "primary_cleaner_input_xanthate                100\n",
       "rougher_input_feed_sol                         78\n",
       "rougher_input_floatbank11_sulfate              36\n",
       "primary_cleaner_input_depressant               32\n",
       "rougher_input_floatbank10_sulfate              29\n",
       "secondary_cleaner_state_floatbank2_b_air       21\n",
       "primary_cleaner_input_sulfate                  20\n",
       "rougher_input_floatbank10_xanthate              8\n",
       "rougher_input_feed_rate                         8\n",
       "rougher_input_floatbank11_xanthate              8\n",
       "secondary_cleaner_state_floatbank4_a_air        6\n",
       "secondary_cleaner_state_floatbank2_a_air        6\n",
       "primary_cleaner_state_floatbank8_b_air          4\n",
       "primary_cleaner_state_floatbank8_a_air          4\n",
       "secondary_cleaner_state_floatbank3_a_air        4\n",
       "primary_cleaner_state_floatbank8_d_air          3\n",
       "secondary_cleaner_state_floatbank6_a_air        2\n",
       "primary_cleaner_state_floatbank8_c_air          2\n",
       "primary_cleaner_state_floatbank8_d_level        1\n",
       "rougher_state_floatbank10_b_air                 1\n",
       "primary_cleaner_state_floatbank8_c_level        1\n",
       "primary_cleaner_state_floatbank8_b_level        1\n",
       "primary_cleaner_state_floatbank8_a_level        1\n",
       "rougher_state_floatbank10_a_air                 1\n",
       "rougher_state_floatbank10_a_level               1\n",
       "secondary_cleaner_state_floatbank6_a_level      1\n",
       "rougher_state_floatbank10_b_level               1\n",
       "rougher_state_floatbank10_c_air                 1\n",
       "rougher_state_floatbank10_c_level               1\n",
       "secondary_cleaner_state_floatbank5_b_level      1\n",
       "secondary_cleaner_state_floatbank5_b_air        1\n",
       "secondary_cleaner_state_floatbank5_a_level      1\n",
       "secondary_cleaner_state_floatbank5_a_air        1\n",
       "secondary_cleaner_state_floatbank4_b_level      1\n",
       "secondary_cleaner_state_floatbank4_b_air        1\n",
       "secondary_cleaner_state_floatbank4_a_level      1\n",
       "secondary_cleaner_state_floatbank3_b_level      1\n",
       "secondary_cleaner_state_floatbank3_b_air        1\n",
       "secondary_cleaner_state_floatbank3_a_level      1\n",
       "secondary_cleaner_state_floatbank2_b_level      1\n",
       "secondary_cleaner_state_floatbank2_a_level      1\n",
       "rougher_input_feed_ag                           0\n",
       "rougher_input_feed_pb                           0\n",
       "rougher_state_floatbank10_f_level               0\n",
       "rougher_state_floatbank10_f_air                 0\n",
       "rougher_input_feed_au                           0\n",
       "rougher_state_floatbank10_e_level               0\n",
       "rougher_state_floatbank10_e_air                 0\n",
       "primary_cleaner_input_feed_size                 0\n",
       "rougher_state_floatbank10_d_level               0\n",
       "rougher_state_floatbank10_d_air                 0\n",
       "date                                            0\n",
       "dtype: int64"
      ]
     },
     "execution_count": 250,
     "metadata": {},
     "output_type": "execute_result"
    }
   ],
   "source": [
    "# print number of Nan in each feature (what remain)\n",
    "\n",
    "df_train[list_removeNan].isnull().sum().sort_values(ascending=False)"
   ]
  },
  {
   "cell_type": "markdown",
   "id": "0d7d91e5",
   "metadata": {},
   "source": [
    "**N/A-values: 3 step** <br>\n",
    "I haven't found a good correlation for the rest features. <br>\n",
    "I could fillna with mean-values, but I don't think that it is a good idea. <br>\n",
    "We have enough data to remove the rest ~ 400 observations with N/A from ~ 14 000 (about 3%)."
   ]
  },
  {
   "cell_type": "code",
   "execution_count": 251,
   "id": "73f240bb",
   "metadata": {
    "scrolled": true
   },
   "outputs": [],
   "source": [
    "# remove the rest N/A-values\n",
    "\n",
    "df_train = df_train.dropna(subset=list_removeNan)"
   ]
  },
  {
   "cell_type": "code",
   "execution_count": 252,
   "id": "b35b0cb5",
   "metadata": {
    "scrolled": true
   },
   "outputs": [
    {
     "name": "stdout",
     "output_type": "stream",
     "text": [
      "number of N/A-values in features: 0\n"
     ]
    }
   ],
   "source": [
    "# check if we correctly fill N/A-values\n",
    "\n",
    "print('number of N/A-values in features:',df_train[list_removeNan].isnull().sum().sum())"
   ]
  },
  {
   "cell_type": "markdown",
   "id": "ea273b9c",
   "metadata": {},
   "source": [
    "**0-values (in target):** <br>\n",
    "We will not obtain a good result of model fitting, if in the train dataset there will be zeros in target, which connected with lost of data"
   ]
  },
  {
   "cell_type": "code",
   "execution_count": 253,
   "id": "8eeb2031",
   "metadata": {},
   "outputs": [
    {
     "name": "stdout",
     "output_type": "stream",
     "text": [
      "Number of 0-values in rougher_output_recovery: 286\n",
      "It is only 2% of dataset\n"
     ]
    }
   ],
   "source": [
    "print('Number of 0-values in rougher_output_recovery:',len(df_train.query('rougher_output_recovery == 0')))\n",
    "print('It is only {:.0%} of dataset'.format(\n",
    "      len(df_train.query('rougher_output_recovery == 0')) / len(df_train)))"
   ]
  },
  {
   "cell_type": "code",
   "execution_count": 254,
   "id": "f77365b7",
   "metadata": {},
   "outputs": [],
   "source": [
    "df_train = df_train.query('rougher_output_recovery != 0')"
   ]
  },
  {
   "cell_type": "markdown",
   "id": "47fb6725",
   "metadata": {},
   "source": [
    "**Notice:** that in linear model (I calculated it, but not remain in the code to reduce size of code)<br>\n",
    "MAE and MSE between predicted and true rougher_output_recovery <br>\n",
    "MAE (with zeros): 6.21; MAE (without zeros): 3.64 <br>\n",
    "MSE (with zeros): 155.72; MSE (without zeros): 26.64 <br>\n",
    "**MSE** decreased rapidly. That means that we removed some outliers of  deviation"
   ]
  },
  {
   "cell_type": "code",
   "execution_count": 255,
   "id": "be18a57f",
   "metadata": {},
   "outputs": [
    {
     "name": "stdout",
     "output_type": "stream",
     "text": [
      "Number of 0-values in final_output_recovery: 42\n",
      "It is only 0.3% of dataset\n"
     ]
    }
   ],
   "source": [
    "print('Number of 0-values in final_output_recovery:',len(df_train.query('final_output_recovery == 0')))\n",
    "print('It is only {:.1%} of dataset'.format(\n",
    "      len(df_train.query('final_output_recovery == 0')) / len(df_train)))\n",
    "\n",
    "# remove 0-values in final_output_recovery\n",
    "df_train = df_train.query('final_output_recovery != 0')"
   ]
  },
  {
   "cell_type": "code",
   "execution_count": 256,
   "id": "d0eb1878",
   "metadata": {},
   "outputs": [
    {
     "name": "stdout",
     "output_type": "stream",
     "text": [
      "Number of 100%-values in final_output_recovery: 55\n",
      "It is only 0.4% of dataset\n"
     ]
    }
   ],
   "source": [
    "print('Number of 100%-values in final_output_recovery:',len(df_train.query('final_output_recovery == 100.')))\n",
    "print('It is only {:.1%} of dataset'.format(\n",
    "      len(df_train.query('final_output_recovery == 100.')) / len(df_train)))\n",
    "\n",
    "# remove 100%-values in final_output_recovery\n",
    "df_train = df_train.query('final_output_recovery != 100.')"
   ]
  },
  {
   "cell_type": "markdown",
   "id": "a9461251",
   "metadata": {},
   "source": [
    "**Notice:** that in linear model <br>\n",
    "MAE (with zeros): 5.15; MAE (without zeros): 4.8 <br>\n",
    "MSE (with zeros): 64.4; MSE (without zeros): 47.9 <br>\n",
    "MAE between predicted and true final_output_recovery"
   ]
  },
  {
   "cell_type": "markdown",
   "id": "e042b1e8",
   "metadata": {},
   "source": [
    "**in test dataset:** <br>\n",
    "We can't just dropna in test dataset. Because there are not many N/A-values, we can fillna with median values."
   ]
  },
  {
   "cell_type": "code",
   "execution_count": 257,
   "id": "4878487c",
   "metadata": {},
   "outputs": [],
   "source": [
    "df_test = df_test.fillna(df_test.isnull().mean())"
   ]
  },
  {
   "cell_type": "markdown",
   "id": "66a60107",
   "metadata": {},
   "source": [
    "<div class=\"alert alert-success\">\n",
    "    Wow, very thorough section dealing with missing values! Missing targets were dropped, and for missing features you used very reasonable estimates. In most projects I review people just do something very crude like filling everything with mean, so your approach is very impressive!\n",
    "</div>"
   ]
  },
  {
   "cell_type": "markdown",
   "id": "3b2871b7",
   "metadata": {},
   "source": [
    "# Summary of Section 1\n",
    "1. We opened files and take a look on them.\n",
    "2. We checked that recovery is calculated correctly. We found the observations where there are no values (Nan).\n",
    "3. MAE is very close to zero. That means that our calculations are very close to those in train dataset.\n",
    "4. There are no features, which we plan to predict (target), in test dataset.\n",
    "5. The first data preprocessing has been completed: change of date-type + fill N/A values"
   ]
  },
  {
   "cell_type": "markdown",
   "id": "676d427a",
   "metadata": {},
   "source": [
    "# Section 2\n",
    "2. Analyze the data\n",
    "- [x] Take note of how the concentrations of metals (Au, Ag, Pb) change depending on the purification stage.\n",
    "- [x] Compare the feed particle size distributions in the training set and in the test set. If the distributions vary significantly, the model evaluation will be incorrect.\n",
    "- [x] Consider the total concentrations of all substances at different stages: raw feed, rougher concentrate, and final concentrate. Do you notice any abnormal values in the total distribution? If you do, is it worth removing such values from both samples? Describe the findings and eliminate anomalies."
   ]
  },
  {
   "cell_type": "markdown",
   "id": "26dcebf1",
   "metadata": {},
   "source": [
    "**- [ ] Take note of how the concentrations of metals (Au, Ag, Pb) change depending on the purification stage.**"
   ]
  },
  {
   "cell_type": "code",
   "execution_count": 258,
   "id": "66ae5244",
   "metadata": {
    "scrolled": false
   },
   "outputs": [],
   "source": [
    "# save name of features that contains information about Au, Ag and Pb\n",
    "\n",
    "au_concentrate_name = ['rougher_input_feed_au',\n",
    "                        'rougher_output_concentrate_au',\n",
    "                        'primary_cleaner_output_concentrate_au',\n",
    "                        'final_output_concentrate_au']\n",
    "\n",
    "ag_concentrate_name = ['rougher_input_feed_ag',\n",
    "                        'rougher_output_concentrate_ag',\n",
    "                        'primary_cleaner_output_concentrate_ag',\n",
    "                        'final_output_concentrate_ag']\n",
    "\n",
    "pb_concentrate_name = ['rougher_input_feed_pb',\n",
    "                        'rougher_output_concentrate_pb',\n",
    "                        'primary_cleaner_output_concentrate_pb',\n",
    "                        'final_output_concentrate_pb']\n"
   ]
  },
  {
   "cell_type": "code",
   "execution_count": 259,
   "id": "b188737e",
   "metadata": {
    "scrolled": true
   },
   "outputs": [
    {
     "data": {
      "text/plain": [
       "array([[<matplotlib.axes._subplots.AxesSubplot object at 0x7fc3330d4250>,\n",
       "        <matplotlib.axes._subplots.AxesSubplot object at 0x7fc333080990>],\n",
       "       [<matplotlib.axes._subplots.AxesSubplot object at 0x7fc333036c90>,\n",
       "        <matplotlib.axes._subplots.AxesSubplot object at 0x7fc332fecf90>]],\n",
       "      dtype=object)"
      ]
     },
     "execution_count": 259,
     "metadata": {},
     "output_type": "execute_result"
    },
    {
     "data": {
      "image/png": "[encoded data removed]",
      "text/plain": [
       "<Figure size 432x288 with 4 Axes>"
      ]
     },
     "metadata": {
      "needs_background": "light"
     },
     "output_type": "display_data"
    },
    {
     "data": {
      "image/png": "[encoded data removed]",
      "text/plain": [
       "<Figure size 432x288 with 4 Axes>"
      ]
     },
     "metadata": {
      "needs_background": "light"
     },
     "output_type": "display_data"
    },
    {
     "data": {
      "image/png": "[encoded data removed]",
      "text/plain": [
       "<Figure size 432x288 with 4 Axes>"
      ]
     },
     "metadata": {
      "needs_background": "light"
     },
     "output_type": "display_data"
    }
   ],
   "source": [
    "# plot histogram\n",
    "\n",
    "df_train[au_concentrate_name].hist(range=(0,60))\n",
    "df_train[ag_concentrate_name].hist(range=(0,25))\n",
    "df_train[pb_concentrate_name].hist(range=(0,20))"
   ]
  },
  {
   "cell_type": "markdown",
   "id": "1d81a4d9",
   "metadata": {},
   "source": [
    "**Notice:**\n",
    "1. Aurum concentration: it increases step-by-step in each stage (10%-20%-30%-45%)\n",
    "2. Argentum concentration: it increase after flotation (8%-12%), then decrease (12%-8%-5%)\n",
    "3. Plumbum concentration: it increase after flotation (4%-8%), after primary filter (8%-10%), in output it still 10%"
   ]
  },
  {
   "cell_type": "markdown",
   "id": "52162dbf",
   "metadata": {},
   "source": [
    "<div class=\"alert alert-warning\">\n",
    "    Great! I would only suggest putting all the concentrations of one metal at different stages on one axis for easier comparison.\n",
    "</div>"
   ]
  },
  {
   "cell_type": "markdown",
   "id": "61a0d4b5",
   "metadata": {},
   "source": [
    "<div class=\"alert alert-info\">\n",
    "    Updated (below).\n",
    "</div>"
   ]
  },
  {
   "cell_type": "markdown",
   "id": "6c125c0a",
   "metadata": {},
   "source": [
    "<div class=\"alert alert-success\">\n",
    "    <b>V2.</b>\n",
    "    Cool, now it's easier to track the changes :)\n",
    "</div>"
   ]
  },
  {
   "cell_type": "code",
   "execution_count": 260,
   "id": "18cd1200",
   "metadata": {
    "scrolled": false
   },
   "outputs": [
    {
     "data": {
      "text/plain": [
       "<matplotlib.legend.Legend at 0x7fc332f09b50>"
      ]
     },
     "execution_count": 260,
     "metadata": {},
     "output_type": "execute_result"
    },
    {
     "data": {
      "image/png": "[encoded data removed]",
      "text/plain": [
       "<Figure size 864x432 with 1 Axes>"
      ]
     },
     "metadata": {
      "needs_background": "light"
     },
     "output_type": "display_data"
    }
   ],
   "source": [
    "n_bins = 50\n",
    "const_alpha = 0.7\n",
    "\n",
    "plt.figure(figsize=(12,6))\n",
    "plt.hist(df_train['rougher_input_feed_au'], bins=n_bins, alpha=const_alpha, label='input_feed')\n",
    "plt.hist(df_train['rougher_output_concentrate_au'], bins=n_bins, alpha=const_alpha, label='output_rougher')\n",
    "plt.hist(df_train['primary_cleaner_output_concentrate_au'], bins=n_bins, alpha=const_alpha, label='output_primary')\n",
    "plt.hist(df_train['final_output_concentrate_au'], bins=n_bins, alpha=const_alpha, label='output_final')\n",
    "\n",
    "plt.title('Concentration of aurum in different stages')\n",
    "plt.xlabel('Concentration, %')\n",
    "plt.title('Concentration of aurum in different stages')\n",
    "plt.legend()"
   ]
  },
  {
   "cell_type": "code",
   "execution_count": 261,
   "id": "79222c18",
   "metadata": {},
   "outputs": [
    {
     "data": {
      "text/plain": [
       "<matplotlib.legend.Legend at 0x7fc3330e1f90>"
      ]
     },
     "execution_count": 261,
     "metadata": {},
     "output_type": "execute_result"
    },
    {
     "data": {
      "image/png": "[encoded data removed]",
      "text/plain": [
       "<Figure size 864x432 with 1 Axes>"
      ]
     },
     "metadata": {
      "needs_background": "light"
     },
     "output_type": "display_data"
    }
   ],
   "source": [
    "n_bins = 50\n",
    "const_alpha = 0.5\n",
    "\n",
    "plt.figure(figsize=(12,6))\n",
    "plt.hist(df_train['rougher_input_feed_ag'], bins=n_bins, alpha=const_alpha, label='input_feed')\n",
    "plt.hist(df_train['rougher_output_concentrate_ag'], bins=n_bins, alpha=const_alpha, label='output_rougher')\n",
    "plt.hist(df_train['primary_cleaner_output_concentrate_ag'], bins=n_bins, alpha=const_alpha, label='output_primary')\n",
    "plt.hist(df_train['final_output_concentrate_ag'], bins=n_bins, alpha=const_alpha, label='output_final')\n",
    "\n",
    "plt.title('Concentration of argentum in different stages')\n",
    "plt.xlabel('Concentration, %')\n",
    "plt.title('Concentration of argentum in different stages')\n",
    "plt.legend()"
   ]
  },
  {
   "cell_type": "code",
   "execution_count": 262,
   "id": "36b51baa",
   "metadata": {},
   "outputs": [
    {
     "data": {
      "text/plain": [
       "<matplotlib.legend.Legend at 0x7fc333521950>"
      ]
     },
     "execution_count": 262,
     "metadata": {},
     "output_type": "execute_result"
    },
    {
     "data": {
      "image/png": "[encoded data removed]",
      "text/plain": [
       "<Figure size 864x432 with 1 Axes>"
      ]
     },
     "metadata": {
      "needs_background": "light"
     },
     "output_type": "display_data"
    }
   ],
   "source": [
    "n_bins = 50\n",
    "const_alpha = 0.5\n",
    "\n",
    "plt.figure(figsize=(12,6))\n",
    "plt.hist(df_train['rougher_input_feed_pb'], bins=n_bins, alpha=const_alpha, label='input_feed')\n",
    "plt.hist(df_train['rougher_output_concentrate_pb'], bins=n_bins, alpha=const_alpha, label='output_rougher')\n",
    "plt.hist(df_train['primary_cleaner_output_concentrate_pb'], bins=n_bins, alpha=const_alpha, label='output_primary')\n",
    "plt.hist(df_train['final_output_concentrate_pb'], bins=n_bins, alpha=const_alpha, label='output_final')\n",
    "\n",
    "plt.title('Concentration of plumbum in different stages')\n",
    "plt.xlabel('Concentration, %')\n",
    "plt.title('Concentration of plumbum in different stages')\n",
    "plt.legend()"
   ]
  },
  {
   "cell_type": "markdown",
   "id": "f8d88577",
   "metadata": {},
   "source": [
    "**- [ ] Compare the feed particle size distributions in the training set and in the test set. If the distributions vary significantly, the model evaluation will be incorrect.**"
   ]
  },
  {
   "cell_type": "code",
   "execution_count": 263,
   "id": "3ffa7273",
   "metadata": {},
   "outputs": [
    {
     "name": "stdout",
     "output_type": "stream",
     "text": [
      "Mean value in train dataset: 60.1\n",
      "Median value in train dataset: 55.5\n",
      "Standard deviation in train dataset: 22.0\n",
      "Maximum in train dataset: 485.0\n"
     ]
    },
    {
     "data": {
      "image/png": "[encoded data removed]",
      "text/plain": [
       "<Figure size 432x288 with 1 Axes>"
      ]
     },
     "metadata": {
      "needs_background": "light"
     },
     "output_type": "display_data"
    }
   ],
   "source": [
    "# feed particle size distribution in train dataset\n",
    "\n",
    "# plot histogram and find mean and standard deviation\n",
    "# later we plot both histogram in the same figure\n",
    "df_train['rougher_input_feed_size'].hist(range=(0,150),bins=30)\n",
    "\n",
    "print('Mean value in train dataset: {:.1f}'.format(df_train['rougher_input_feed_size'].mean()))\n",
    "print('Median value in train dataset: {:.1f}'.format(df_train['rougher_input_feed_size'].median()))\n",
    "print('Standard deviation in train dataset: {:.1f}'.format(df_train['rougher_input_feed_size'].std()))\n",
    "print('Maximum in train dataset: {:.1f}'.format(df_train['rougher_input_feed_size'].max()))"
   ]
  },
  {
   "cell_type": "code",
   "execution_count": 264,
   "id": "ec57a3a3",
   "metadata": {
    "scrolled": true
   },
   "outputs": [
    {
     "name": "stdout",
     "output_type": "stream",
     "text": [
      "Mean value in train dataset: 55.9\n",
      "Median value in train dataset: 50.8\n",
      "Standard deviation in train dataset: 19.1\n",
      "Maximum in train dataset: 392.5\n"
     ]
    },
    {
     "data": {
      "image/png": "[encoded data removed]",
      "text/plain": [
       "<Figure size 432x288 with 1 Axes>"
      ]
     },
     "metadata": {
      "needs_background": "light"
     },
     "output_type": "display_data"
    }
   ],
   "source": [
    "# feed particle size distribution in train dataset\n",
    "\n",
    "# plot histogram and find mean and standard deviation\n",
    "# later we plot both histogram in the same figure\n",
    "df_test['rougher_input_feed_size'].hist(range=(0,150),bins=30)\n",
    "\n",
    "print('Mean value in train dataset: {:.1f}'.format(df_test['rougher_input_feed_size'].mean()))\n",
    "print('Median value in train dataset: {:.1f}'.format(df_test['rougher_input_feed_size'].median()))\n",
    "print('Standard deviation in train dataset: {:.1f}'.format(df_test['rougher_input_feed_size'].std()))\n",
    "print('Maximum in train dataset: {:.1f}'.format(df_test['rougher_input_feed_size'].max()))\n",
    "\n",
    "# save u + 3sigma (later filter)\n",
    "sigma3 = df_train['rougher_input_feed_size'].mean() + 3 * df_train['rougher_input_feed_size'].std()"
   ]
  },
  {
   "cell_type": "markdown",
   "id": "ec4d1ce0",
   "metadata": {},
   "source": [
    "**So...** mean (60.0 vs 55.9), median (55.3 vs 50.0) and standard deviation (22.4 vs 22.7) differ slightly. <br>\n",
    "\n",
    "We can filter observations with too high feed particle size (3$\\sigma$-criteria)"
   ]
  },
  {
   "cell_type": "code",
   "execution_count": 265,
   "id": "9cce6bb4",
   "metadata": {},
   "outputs": [
    {
     "data": {
      "text/plain": [
       "<matplotlib.axes._subplots.AxesSubplot at 0x7fc332992790>"
      ]
     },
     "execution_count": 265,
     "metadata": {},
     "output_type": "execute_result"
    },
    {
     "data": {
      "image/png": "[encoded data removed]",
      "text/plain": [
       "<Figure size 432x288 with 1 Axes>"
      ]
     },
     "metadata": {
      "needs_background": "light"
     },
     "output_type": "display_data"
    }
   ],
   "source": [
    "# filter outliers > u + 3sigma\n",
    "df_train = df_train.query('rougher_input_feed_size <= @sigma3')\n",
    "\n",
    "# plot updated histogram\n",
    "df_train['rougher_input_feed_size'].hist(bins=30)"
   ]
  },
  {
   "cell_type": "code",
   "execution_count": 266,
   "id": "7a0c806f",
   "metadata": {},
   "outputs": [
    {
     "data": {
      "text/plain": [
       "<matplotlib.legend.Legend at 0x7fc3328377d0>"
      ]
     },
     "execution_count": 266,
     "metadata": {},
     "output_type": "execute_result"
    },
    {
     "data": {
      "image/png": "[encoded data removed]",
      "text/plain": [
       "<Figure size 432x288 with 1 Axes>"
      ]
     },
     "metadata": {
      "needs_background": "light"
     },
     "output_type": "display_data"
    }
   ],
   "source": [
    "ax = df_train['rougher_input_feed_size'].hist(bins=20, alpha=0.3,label=['train'])\n",
    "df_test['rougher_input_feed_size'].hist(bins=20, alpha=0.3, ax=ax,label=['test'], range=(0,150))\n",
    "ax.set_title('feed particle size distribution')\n",
    "ax.legend()"
   ]
  },
  {
   "cell_type": "markdown",
   "id": "adf96a92",
   "metadata": {},
   "source": [
    "<div class=\"alert alert-danger\">\n",
    "    <s>When we compare distributions, histograms should be normalized, otherwise, well done!\n",
    "</div>"
   ]
  },
  {
   "cell_type": "markdown",
   "id": "9c1420f8",
   "metadata": {},
   "source": [
    "<div class=\"alert alert-info\">\n",
    "    Updated (below).\n",
    "</div>"
   ]
  },
  {
   "cell_type": "markdown",
   "id": "3215691c",
   "metadata": {},
   "source": [
    "<div class=\"alert alert-success\">\n",
    "    <b>V2.</b>\n",
    "    Fixed! \n",
    "</div>"
   ]
  },
  {
   "cell_type": "code",
   "execution_count": 267,
   "id": "1983293a",
   "metadata": {},
   "outputs": [
    {
     "data": {
      "text/plain": [
       "<matplotlib.legend.Legend at 0x7fc332716e10>"
      ]
     },
     "execution_count": 267,
     "metadata": {},
     "output_type": "execute_result"
    },
    {
     "data": {
      "image/png": "[encoded data removed]",
      "text/plain": [
       "<Figure size 432x288 with 1 Axes>"
      ]
     },
     "metadata": {
      "needs_background": "light"
     },
     "output_type": "display_data"
    }
   ],
   "source": [
    "ax = df_train['rougher_input_feed_size'].hist(bins=20, alpha=0.3,label=['train'], density=1)\n",
    "df_test['rougher_input_feed_size'].hist(bins=20, alpha=0.3, ax=ax,label=['test'], range=(0,150), density=1)\n",
    "ax.set_title('feed particle size distribution')\n",
    "ax.legend()"
   ]
  },
  {
   "cell_type": "markdown",
   "id": "2d7452b9",
   "metadata": {},
   "source": [
    "**- [ ] Consider the total concentrations of all substances at different stages: raw feed, rougher concentrate, and final concentrate. Do you notice any abnormal values in the total distribution? If you do, is it worth removing such values from both samples? Describe the findings and eliminate anomalies.**"
   ]
  },
  {
   "cell_type": "code",
   "execution_count": 268,
   "id": "a36c7bf9",
   "metadata": {},
   "outputs": [
    {
     "data": {
      "text/plain": [
       "rougher_input_feed_ag                 0\n",
       "rougher_input_feed_pb                 0\n",
       "rougher_input_feed_sol                0\n",
       "rougher_input_feed_au                 0\n",
       "rougher_input_floatbank10_sulfate     0\n",
       "rougher_input_floatbank10_xanthate    0\n",
       "rougher_input_floatbank11_sulfate     0\n",
       "rougher_input_floatbank11_xanthate    0\n",
       "dtype: int64"
      ]
     },
     "execution_count": 268,
     "metadata": {},
     "output_type": "execute_result"
    }
   ],
   "source": [
    "# raw feed: list of concentration\n",
    "concentration_raw_feed = ['rougher_input_feed_ag',\n",
    "       'rougher_input_feed_pb', 'rougher_input_feed_sol',\n",
    "       'rougher_input_feed_au', 'rougher_input_floatbank10_sulfate',\n",
    "       'rougher_input_floatbank10_xanthate',\n",
    "       'rougher_input_floatbank11_sulfate',\n",
    "       'rougher_input_floatbank11_xanthate']\n",
    "\n",
    "# raw feed: nulls \n",
    "df_train[concentration_raw_feed].isnull().sum()"
   ]
  },
  {
   "cell_type": "code",
   "execution_count": 269,
   "id": "cd5bcc69",
   "metadata": {},
   "outputs": [
    {
     "data": {
      "text/plain": [
       "array([[<matplotlib.axes._subplots.AxesSubplot object at 0x7fc33268d710>,\n",
       "        <matplotlib.axes._subplots.AxesSubplot object at 0x7fc33261db10>,\n",
       "        <matplotlib.axes._subplots.AxesSubplot object at 0x7fc3325d8e50>],\n",
       "       [<matplotlib.axes._subplots.AxesSubplot object at 0x7fc33260fb10>,\n",
       "        <matplotlib.axes._subplots.AxesSubplot object at 0x7fc3325cde90>,\n",
       "        <matplotlib.axes._subplots.AxesSubplot object at 0x7fc332585b50>],\n",
       "       [<matplotlib.axes._subplots.AxesSubplot object at 0x7fc332544fd0>,\n",
       "        <matplotlib.axes._subplots.AxesSubplot object at 0x7fc3324fab90>,\n",
       "        <matplotlib.axes._subplots.AxesSubplot object at 0x7fc332504710>]],\n",
       "      dtype=object)"
      ]
     },
     "execution_count": 269,
     "metadata": {},
     "output_type": "execute_result"
    },
    {
     "data": {
      "image/png": "[encoded data removed]",
      "text/plain": [
       "<Figure size 720x720 with 9 Axes>"
      ]
     },
     "metadata": {
      "needs_background": "light"
     },
     "output_type": "display_data"
    }
   ],
   "source": [
    "# raw feed: plot histograms\n",
    "df_train[concentration_raw_feed].hist(figsize=(10,10))"
   ]
  },
  {
   "cell_type": "code",
   "execution_count": 270,
   "id": "10bbc929",
   "metadata": {
    "scrolled": true
   },
   "outputs": [
    {
     "data": {
      "text/plain": [
       "rougher_output_concentrate_ag        0\n",
       "rougher_output_concentrate_pb        0\n",
       "rougher_output_concentrate_sol      17\n",
       "rougher_output_concentrate_au        0\n",
       "primary_cleaner_input_sulfate        0\n",
       "primary_cleaner_input_depressant     0\n",
       "primary_cleaner_input_xanthate       0\n",
       "dtype: int64"
      ]
     },
     "execution_count": 270,
     "metadata": {},
     "output_type": "execute_result"
    }
   ],
   "source": [
    "# rougher: list of concentration\n",
    "concentration_rougher_concentrate = ['rougher_output_concentrate_ag',\n",
    "       'rougher_output_concentrate_pb', 'rougher_output_concentrate_sol',\n",
    "       'rougher_output_concentrate_au', 'primary_cleaner_input_sulfate', 'primary_cleaner_input_depressant',\n",
    "       'primary_cleaner_input_xanthate']\n",
    "\n",
    "# rougher: nulls \n",
    "df_train[concentration_rougher_concentrate].isnull().sum()"
   ]
  },
  {
   "cell_type": "code",
   "execution_count": 271,
   "id": "a1578d1b",
   "metadata": {
    "scrolled": false
   },
   "outputs": [
    {
     "data": {
      "text/plain": [
       "array([[<matplotlib.axes._subplots.AxesSubplot object at 0x7fc332313810>,\n",
       "        <matplotlib.axes._subplots.AxesSubplot object at 0x7fc332235fd0>,\n",
       "        <matplotlib.axes._subplots.AxesSubplot object at 0x7fc3321e6c50>],\n",
       "       [<matplotlib.axes._subplots.AxesSubplot object at 0x7fc3321a6fd0>,\n",
       "        <matplotlib.axes._subplots.AxesSubplot object at 0x7fc332158c90>,\n",
       "        <matplotlib.axes._subplots.AxesSubplot object at 0x7fc3321194d0>],\n",
       "       [<matplotlib.axes._subplots.AxesSubplot object at 0x7fc33214dcd0>,\n",
       "        <matplotlib.axes._subplots.AxesSubplot object at 0x7fc33210e510>,\n",
       "        <matplotlib.axes._subplots.AxesSubplot object at 0x7fc332099090>]],\n",
       "      dtype=object)"
      ]
     },
     "execution_count": 271,
     "metadata": {},
     "output_type": "execute_result"
    },
    {
     "data": {
      "image/png": "[encoded data removed]",
      "text/plain": [
       "<Figure size 720x720 with 9 Axes>"
      ]
     },
     "metadata": {
      "needs_background": "light"
     },
     "output_type": "display_data"
    }
   ],
   "source": [
    "# rougher: plot histograms\n",
    "df_train[concentration_rougher_concentrate].hist(figsize=(10,10))"
   ]
  },
  {
   "cell_type": "code",
   "execution_count": 272,
   "id": "98b692dd",
   "metadata": {
    "scrolled": true
   },
   "outputs": [
    {
     "data": {
      "text/plain": [
       "final_output_concentrate_ag       1\n",
       "final_output_concentrate_pb       1\n",
       "final_output_concentrate_sol    192\n",
       "final_output_concentrate_au       0\n",
       "dtype: int64"
      ]
     },
     "execution_count": 272,
     "metadata": {},
     "output_type": "execute_result"
    }
   ],
   "source": [
    "# final: list of concentration\n",
    "concentration_final = ['final_output_concentrate_ag', 'final_output_concentrate_pb',\n",
    "       'final_output_concentrate_sol', 'final_output_concentrate_au']\n",
    "\n",
    "# final: nulls \n",
    "df_train[concentration_final].isnull().sum()"
   ]
  },
  {
   "cell_type": "code",
   "execution_count": 273,
   "id": "5943c27d",
   "metadata": {
    "scrolled": true
   },
   "outputs": [
    {
     "data": {
      "text/plain": [
       "array([[<matplotlib.axes._subplots.AxesSubplot object at 0x7fc33296fc10>,\n",
       "        <matplotlib.axes._subplots.AxesSubplot object at 0x7fc3329bf890>],\n",
       "       [<matplotlib.axes._subplots.AxesSubplot object at 0x7fc331fa1c10>,\n",
       "        <matplotlib.axes._subplots.AxesSubplot object at 0x7fc331f548d0>]],\n",
       "      dtype=object)"
      ]
     },
     "execution_count": 273,
     "metadata": {},
     "output_type": "execute_result"
    },
    {
     "data": {
      "image/png": "[encoded data removed]",
      "text/plain": [
       "<Figure size 504x288 with 4 Axes>"
      ]
     },
     "metadata": {
      "needs_background": "light"
     },
     "output_type": "display_data"
    }
   ],
   "source": [
    "# final: plot histograms\n",
    "df_train[concentration_final].hist(figsize=(7,4))"
   ]
  },
  {
   "cell_type": "code",
   "execution_count": 274,
   "id": "abe2d30a",
   "metadata": {},
   "outputs": [],
   "source": [
    "# as we predict final recovery, we should drop N/A values in _au_, _ag_, _pb_ \n",
    "# only 4-5 observations with N/A-values, so we can drop it without any negative consequences\n",
    "\n",
    "df_train = df_train.dropna(subset=['final_output_concentrate_ag',\n",
    "                               'final_output_concentrate_pb', 'final_output_concentrate_au'])"
   ]
  },
  {
   "cell_type": "markdown",
   "id": "c8ce9432",
   "metadata": {},
   "source": [
    "<div class=\"alert alert-danger\">\n",
    "    <s>Not quite what the task meant; you are supposed to consider each stage, and sum the concentrations of all metals at that stage, and then look at the distributions\n",
    "</div>"
   ]
  },
  {
   "cell_type": "markdown",
   "id": "fd9b09ec",
   "metadata": {},
   "source": [
    "<div class=\"alert alert-info\">\n",
    "    Updated (below).\n",
    "</div>"
   ]
  },
  {
   "cell_type": "code",
   "execution_count": 275,
   "id": "21580443",
   "metadata": {},
   "outputs": [
    {
     "data": {
      "text/plain": [
       "<matplotlib.legend.Legend at 0x7fc331dfaa10>"
      ]
     },
     "execution_count": 275,
     "metadata": {},
     "output_type": "execute_result"
    },
    {
     "data": {
      "image/png": "[encoded data removed]",
      "text/plain": [
       "<Figure size 432x288 with 1 Axes>"
      ]
     },
     "metadata": {
      "needs_background": "light"
     },
     "output_type": "display_data"
    }
   ],
   "source": [
    "# calculate the total concentrations of all substances at different stages\n",
    "\n",
    "total_raw_feed = df_train['rougher_input_feed_au'] + \\\n",
    "                    df_train['rougher_input_feed_ag'] + \\\n",
    "                    df_train['rougher_input_feed_pb']\n",
    "\n",
    "total_rougher = df_train['rougher_output_concentrate_au'] + \\\n",
    "                    df_train['rougher_output_concentrate_ag'] + \\\n",
    "                    df_train['rougher_output_concentrate_pb']\n",
    "\n",
    "total_final = df_train['final_output_concentrate_au'] + \\\n",
    "                    df_train['final_output_concentrate_ag'] + \\\n",
    "                    df_train['final_output_concentrate_pb']\n",
    "\n",
    "plt.figure()\n",
    "plt.hist(total_raw_feed, bins=30, alpha=0.7, label='raw', density=1)\n",
    "plt.hist(total_rougher, bins=30, alpha=0.7, label='rougher', density=1)\n",
    "plt.hist(total_final, bins=30, alpha=0.7, label='final', density=1)\n",
    "plt.legend()"
   ]
  },
  {
   "cell_type": "markdown",
   "id": "7ab2b23c",
   "metadata": {},
   "source": [
    "<div class=\"alert alert-info\">\n",
    "    <b>Notice...</b> <br>\n",
    "    1. We have already done data preprocessing, so we don't see zero-values. Although they were in both datasets. <br>\n",
    "    2. So, total concentration is great than zero. <br>\n",
    "    3. Distributions become narrower after each stage. That's mean that each stage is highly important. Distributions without doubts differ from each other.\n",
    "</div>"
   ]
  },
  {
   "cell_type": "markdown",
   "id": "06c41198",
   "metadata": {},
   "source": [
    "<div class=\"alert alert-success\">\n",
    "    <b>V2.</b>\n",
    "    Very good, that makes sense!\n",
    "</div>"
   ]
  },
  {
   "cell_type": "markdown",
   "id": "46af911f",
   "metadata": {},
   "source": [
    "# Summary of Section 2\n",
    "1. We have analyzed the data after preprocessing.\n",
    "2. We investigate how changes different concentration."
   ]
  },
  {
   "cell_type": "markdown",
   "id": "2dcd0ac6",
   "metadata": {},
   "source": [
    "# Section 3\n",
    "3. Build the model\n",
    "- [x] Write a function to calculate the final sMAPE value.\n",
    "- [x] Train different models. Evaluate them using cross-validation. Pick the best model and test it using the test sample. Provide findings."
   ]
  },
  {
   "cell_type": "markdown",
   "id": "220fa3fb",
   "metadata": {},
   "source": [
    "**- [ ] Write a function to calculate the final sMAPE value.**"
   ]
  },
  {
   "cell_type": "markdown",
   "id": "9b77d8be",
   "metadata": {},
   "source": [
    "<img src=\"https://pictures.s3.yandex.net/resources/smape_1576238825_1589899257.jpg\" alt=\"Drawing\" style=\"width: 400px;\"/>\n",
    "where: <br>\n",
    "yi is value of target for the observation with the i index in the sample used to measure quality. <br>\n",
    "y^i is value of prediction for the observation with the i index, for example, in the test sample. <br>\n",
    "N is number of observations in the sample. <br>\n",
    "<img src=\"https://pictures.s3.yandex.net/resources/_smape_1589899561.jpg\" alt=\"Drawing\" style=\"width: 400px;\"/>"
   ]
  },
  {
   "cell_type": "code",
   "execution_count": 276,
   "id": "67a43ef8",
   "metadata": {},
   "outputs": [],
   "source": [
    "# calculate sMAPE\n",
    "def sMAPE(y_true, y_pred):\n",
    "    if len(y_true) == 0:\n",
    "        print('N should be great than 0')\n",
    "        return\n",
    "    \n",
    "    sum_i = 0\n",
    "    for k in range(len(y_true)):\n",
    "        if abs(y_true[k]) + abs(y_pred[k]) == 0:\n",
    "            print('abs(y_true[k]) + abs(y_pred[k]) should be great than 0')\n",
    "        else:\n",
    "            sum_i += 2.0 * abs(y_true[k] - y_pred[k]) / (abs(y_true[k]) + abs(y_pred[k]))\n",
    "    \n",
    "    return sum_i * 100. / len(y_true)\n",
    "\n",
    "# calculate final sMAPE\n",
    "def finalsMAPE(y_true_rougher0_final1, y_pred_rougher0_final1):\n",
    "    return 0.25 * sMAPE(y_true_rougher0_final1.values[:,0], y_pred_rougher0_final1[:,0]) + \\\n",
    "                0.75 * sMAPE(y_true_rougher0_final1.values[:,1], y_pred_rougher0_final1[:,1])"
   ]
  },
  {
   "cell_type": "markdown",
   "id": "0755c682",
   "metadata": {},
   "source": [
    "<div class=\"alert alert-success\">\n",
    "    SMAPE function is correct!\n",
    "</div>"
   ]
  },
  {
   "cell_type": "markdown",
   "id": "709721a8",
   "metadata": {},
   "source": [
    "**- [ ] Train different models. Evaluate them using cross-validation. Pick the best model and test it using the test sample. Provide findings.**"
   ]
  },
  {
   "cell_type": "code",
   "execution_count": 277,
   "id": "8b7be70a",
   "metadata": {},
   "outputs": [],
   "source": [
    "# save list of columns which are in both train and test model, exclude date\n",
    "\n",
    "list_features_name = []\n",
    "for item in df_train.columns:\n",
    "    if not('output' in item) and (not('calculation' in item)) and item != 'date':\n",
    "        list_features_name.append(item)\n",
    "   \n",
    "list_target_name = ['rougher_output_recovery', 'final_output_recovery']"
   ]
  },
  {
   "cell_type": "markdown",
   "id": "61f8b249",
   "metadata": {},
   "source": [
    "<div class=\"alert alert-warning\">\n",
    "    Would be easier to just intersect the columns of train and test, but alright :)\n",
    "</div>"
   ]
  },
  {
   "cell_type": "markdown",
   "id": "2510f7bc",
   "metadata": {},
   "source": [
    "<div class=\"alert alert-info\">\n",
    "    ah, I have merged test dataset with final.. So, I can't just inersect the columns. But it is really good idea. <br>\n",
    "    In stackoverfklow there is interesting way to do it <br> list(set(a) & set(b))\n",
    "</div>"
   ]
  },
  {
   "cell_type": "markdown",
   "id": "7554dd1e",
   "metadata": {},
   "source": [
    "<div class=\"alert alert-warning\">\n",
    "    <b>V2.</b>\n",
    "    One possible solution is to intersect them before merging and save the result :)\n",
    "</div>"
   ]
  },
  {
   "cell_type": "code",
   "execution_count": 278,
   "id": "d38f6342",
   "metadata": {},
   "outputs": [],
   "source": [
    "# define train and test datasets\n",
    "\n",
    "features_train = df_train[list_features_name]\n",
    "target_train = df_train[list_target_name]\n",
    "\n",
    "features_test = df_test[list_features_name]\n",
    "target_test = df_test[list_target_name]"
   ]
  },
  {
   "cell_type": "code",
   "execution_count": 279,
   "id": "7c23938d",
   "metadata": {},
   "outputs": [
    {
     "data": {
      "text/plain": [
       "LinearRegression(copy_X=True, fit_intercept=True, n_jobs=None, normalize=False)"
      ]
     },
     "execution_count": 279,
     "metadata": {},
     "output_type": "execute_result"
    }
   ],
   "source": [
    "# learn the model (on)\n",
    "\n",
    "# normal\n",
    "model = LinearRegression()\n",
    "model.fit(features_train, target_train)"
   ]
  },
  {
   "cell_type": "code",
   "execution_count": 280,
   "id": "0bcffe6b",
   "metadata": {},
   "outputs": [],
   "source": [
    "# predicted_rougher_recovery, predicted_final_recovery\n",
    "\n",
    "# normal\n",
    "prediction_train = model.predict(features_train)\n",
    "predicted_rougher_recovery = prediction_train[:,0]\n",
    "predicted_final_recovery = prediction_train[:,1]\n",
    "\n",
    "true_rougher_recovery = target_train['rougher_output_recovery']\n",
    "true_final_recovery = target_train['final_output_recovery']"
   ]
  },
  {
   "cell_type": "markdown",
   "id": "92eeed11",
   "metadata": {},
   "source": [
    "**rougher_output_recovery: itself**"
   ]
  },
  {
   "cell_type": "code",
   "execution_count": 281,
   "id": "4aa497a5",
   "metadata": {
    "scrolled": false
   },
   "outputs": [
    {
     "data": {
      "text/plain": [
       "Text(0.5, 1.0, 'rougher_recovery vs calculated rougher_recovery')"
      ]
     },
     "execution_count": 281,
     "metadata": {},
     "output_type": "execute_result"
    },
    {
     "data": {
      "image/png": "[encoded data removed]",
      "text/plain": [
       "<Figure size 432x288 with 1 Axes>"
      ]
     },
     "metadata": {
      "needs_background": "light"
     },
     "output_type": "display_data"
    }
   ],
   "source": [
    "plt.plot(predicted_rougher_recovery, df_train['rougher_output_recovery'],'.')\n",
    "plt.plot([50, 110], [50, 110], linestyle='--')\n",
    "plt.xlim(50,110)\n",
    "plt.ylim(50,110)\n",
    "plt.xlabel(\"Calculated rougher recovery\")\n",
    "plt.ylabel(\"True rougher recovery\")\n",
    "plt.title(\"rougher_recovery vs calculated rougher_recovery\")"
   ]
  },
  {
   "cell_type": "markdown",
   "id": "e1d88c1d",
   "metadata": {},
   "source": [
    "**So..** the result of prediction looks promisingly"
   ]
  },
  {
   "cell_type": "code",
   "execution_count": 282,
   "id": "50801f89",
   "metadata": {},
   "outputs": [
    {
     "name": "stdout",
     "output_type": "stream",
     "text": [
      "rougher_output_recovery MAE: 3.6\n",
      "rougher_output_recovery MSE: 26.1\n",
      "rougher_output_recovery sMAPE: 4.5%\n"
     ]
    }
   ],
   "source": [
    "print('rougher_output_recovery MAE: {:.1f}'.format(\n",
    "                    mean_absolute_error(df_train['rougher_output_recovery'].values, predicted_rougher_recovery) ))\n",
    "print('rougher_output_recovery MSE: {:.1f}'.format(\n",
    "                    mean_squared_error(df_train['rougher_output_recovery'].values, predicted_rougher_recovery) ))\n",
    "print('rougher_output_recovery sMAPE: {:.1f}%'.format(\n",
    "                    sMAPE(df_train['rougher_output_recovery'].values, predicted_rougher_recovery) ))"
   ]
  },
  {
   "cell_type": "markdown",
   "id": "f3b38069",
   "metadata": {},
   "source": [
    "**final_output_recovery: itself**"
   ]
  },
  {
   "cell_type": "code",
   "execution_count": 283,
   "id": "0cdb0bbb",
   "metadata": {
    "scrolled": false
   },
   "outputs": [
    {
     "data": {
      "text/plain": [
       "Text(0.5, 1.0, 'Final recovery vs calculated final recovery')"
      ]
     },
     "execution_count": 283,
     "metadata": {},
     "output_type": "execute_result"
    },
    {
     "data": {
      "image/png": "[encoded data removed]",
      "text/plain": [
       "<Figure size 432x288 with 1 Axes>"
      ]
     },
     "metadata": {
      "needs_background": "light"
     },
     "output_type": "display_data"
    }
   ],
   "source": [
    "plt.plot(predicted_final_recovery, df_train['final_output_recovery'],'.')\n",
    "plt.plot([0, 110], [0, 110], linestyle='--')\n",
    "plt.xlim(40,90)\n",
    "plt.ylim(40,90)\n",
    "plt.xlabel(\"Calculated final recovery\")\n",
    "plt.ylabel(\"True final recovery\")\n",
    "plt.title(\"Final recovery vs calculated final recovery\")"
   ]
  },
  {
   "cell_type": "markdown",
   "id": "05150e12",
   "metadata": {},
   "source": [
    "**So..** the result of prediction looks promisingly too"
   ]
  },
  {
   "cell_type": "code",
   "execution_count": 284,
   "id": "598811b8",
   "metadata": {
    "scrolled": true
   },
   "outputs": [
    {
     "name": "stdout",
     "output_type": "stream",
     "text": [
      "rougher_output_recovery MAE: 4.8\n",
      "rougher_output_recovery MSE: 47.9\n",
      "rougher_output_recovery sMAPE: 7.6%\n"
     ]
    }
   ],
   "source": [
    "print('rougher_output_recovery MAE: {:.1f}'.format(\n",
    "                    mean_absolute_error(df_train['final_output_recovery'].values, predicted_final_recovery) ))\n",
    "print('rougher_output_recovery MSE: {:.1f}'.format(\n",
    "                    mean_squared_error(df_train['final_output_recovery'].values, predicted_final_recovery) ))\n",
    "print('rougher_output_recovery sMAPE: {:.1f}%'.format(\n",
    "                    sMAPE(df_train['final_output_recovery'].values, predicted_final_recovery) ))"
   ]
  },
  {
   "cell_type": "markdown",
   "id": "91644841",
   "metadata": {},
   "source": [
    "**final_output_recovery & rougher_output_recovery: metrics sMAPE**"
   ]
  },
  {
   "cell_type": "code",
   "execution_count": 285,
   "id": "a456a0b5",
   "metadata": {},
   "outputs": [
    {
     "name": "stdout",
     "output_type": "stream",
     "text": [
      "finalsMAPE of train test: 6.82%\n"
     ]
    }
   ],
   "source": [
    "#finalsMAPE(y_true_rougher0_final1, y_pred_rougher0_final1)\n",
    "\n",
    "print('finalsMAPE of train test: {:.2f}%'.format(\n",
    "            finalsMAPE(target_train, prediction_train) ))"
   ]
  },
  {
   "cell_type": "markdown",
   "id": "488f5309",
   "metadata": {},
   "source": [
    "**cross-validation**"
   ]
  },
  {
   "cell_type": "code",
   "execution_count": 286,
   "id": "fef39861",
   "metadata": {},
   "outputs": [],
   "source": [
    "finalsMAPE_score = make_scorer(finalsMAPE)"
   ]
  },
  {
   "cell_type": "code",
   "execution_count": 287,
   "id": "1bf4b73f",
   "metadata": {
    "scrolled": true
   },
   "outputs": [
    {
     "name": "stdout",
     "output_type": "stream",
     "text": [
      "cross-validation finalsMAPE of train test: 9.23%\n"
     ]
    }
   ],
   "source": [
    "print('cross-validation finalsMAPE of train test: {:.2f}%'.format(\n",
    "            cross_val_score(model, features_train, target_train, cv=5, scoring=finalsMAPE_score).mean() ))"
   ]
  },
  {
   "cell_type": "markdown",
   "id": "7baec4ce",
   "metadata": {},
   "source": [
    "**model: Random Forest**"
   ]
  },
  {
   "cell_type": "code",
   "execution_count": 288,
   "id": "a06c6fad",
   "metadata": {},
   "outputs": [],
   "source": [
    "# scale feature in train and test datasets\n",
    "\n",
    "scaler = StandardScaler()\n",
    "scaler.fit(features_train) \n",
    "features_train_scaled = scaler.transform(features_train)\n",
    "features_test_scaled = scaler.transform(features_test) "
   ]
  },
  {
   "cell_type": "markdown",
   "id": "37237802",
   "metadata": {},
   "source": [
    "<div class=\"alert alert-warning\">\n",
    "    Scaling isn't really necessary for tree-based models\n",
    "</div>"
   ]
  },
  {
   "cell_type": "markdown",
   "id": "f42ba3c6",
   "metadata": {},
   "source": [
    "<div class=\"alert alert-info\">\n",
    "    OK. I don't understand why right now. I need read something about it later. <br>\n",
    "</div>"
   ]
  },
  {
   "cell_type": "markdown",
   "id": "df803eab",
   "metadata": {},
   "source": [
    "<div class=\"alert alert-warning\">\n",
    "    <b>V2.</b>\n",
    "    See <a href='https://sebastianraschka.com/faq/docs/when-to-standardize.html'>here</a> or <a href='https://ai.stackexchange.com/questions/22307/why-are-decision-trees-and-random-forests-scale-invariant'>here</a>. Basically tree-based models are invariant to scaling. Although it wouldn't hurt either, so no harm done! :)\n",
    "</div>"
   ]
  },
  {
   "cell_type": "code",
   "execution_count": 289,
   "id": "b5610169",
   "metadata": {},
   "outputs": [
    {
     "data": {
      "text/plain": [
       "RandomForestRegressor(bootstrap=True, criterion='mse', max_depth=3,\n",
       "                      max_features='auto', max_leaf_nodes=None,\n",
       "                      min_impurity_decrease=0.0, min_impurity_split=None,\n",
       "                      min_samples_leaf=1, min_samples_split=2,\n",
       "                      min_weight_fraction_leaf=0.0, n_estimators=3, n_jobs=None,\n",
       "                      oob_score=False, random_state=12345, verbose=0,\n",
       "                      warm_start=False)"
      ]
     },
     "execution_count": 289,
     "metadata": {},
     "output_type": "execute_result"
    }
   ],
   "source": [
    "# fit model\n",
    "\n",
    "model_forest = RandomForestRegressor(max_depth=3, n_estimators=3, random_state=12345)\n",
    "model_forest.fit(features_train_scaled, target_train)"
   ]
  },
  {
   "cell_type": "code",
   "execution_count": 290,
   "id": "86e0a8c4",
   "metadata": {},
   "outputs": [],
   "source": [
    "# predict train\n",
    "\n",
    "prediction_train_scaled = model_forest.predict(features_train_scaled)\n",
    "predicted_rougher_recovery = prediction_train_scaled[:,0]\n",
    "predicted_final_recovery = prediction_train_scaled[:,1]\n",
    "\n",
    "true_rougher_recovery = target_train['rougher_output_recovery']\n",
    "true_final_recovery = target_train['final_output_recovery']"
   ]
  },
  {
   "cell_type": "markdown",
   "id": "f1655ad3",
   "metadata": {},
   "source": [
    "**rougher_output_recovery: itself**"
   ]
  },
  {
   "cell_type": "code",
   "execution_count": 291,
   "id": "bcf65519",
   "metadata": {
    "scrolled": false
   },
   "outputs": [
    {
     "data": {
      "text/plain": [
       "Text(0.5, 1.0, 'rougher_recovery vs calculated rougher_recovery')"
      ]
     },
     "execution_count": 291,
     "metadata": {},
     "output_type": "execute_result"
    },
    {
     "data": {
      "image/png": "[encoded data removed]",
      "text/plain": [
       "<Figure size 432x288 with 1 Axes>"
      ]
     },
     "metadata": {
      "needs_background": "light"
     },
     "output_type": "display_data"
    }
   ],
   "source": [
    "plt.plot(predicted_rougher_recovery, df_train['rougher_output_recovery'],'.')\n",
    "plt.plot([30, 110], [30, 110], linestyle='--')\n",
    "plt.xlim(30,110)\n",
    "plt.ylim(30,110)\n",
    "plt.xlabel(\"Calculated rougher recovery\")\n",
    "plt.ylabel(\"True rougher recovery\")\n",
    "plt.title(\"rougher_recovery vs calculated rougher_recovery\")"
   ]
  },
  {
   "cell_type": "markdown",
   "id": "27f39014",
   "metadata": {},
   "source": [
    "**So..** the result of prediction looks promisingly"
   ]
  },
  {
   "cell_type": "code",
   "execution_count": 292,
   "id": "c7034d6a",
   "metadata": {},
   "outputs": [
    {
     "name": "stdout",
     "output_type": "stream",
     "text": [
      "rougher_output_recovery MAE: 3.9\n",
      "rougher_output_recovery MSE: 31.4\n",
      "rougher_output_recovery sMAPE: 4.8%\n"
     ]
    }
   ],
   "source": [
    "print('rougher_output_recovery MAE: {:.1f}'.format(\n",
    "                    mean_absolute_error(df_train['rougher_output_recovery'].values, predicted_rougher_recovery) ))\n",
    "print('rougher_output_recovery MSE: {:.1f}'.format(\n",
    "                    mean_squared_error(df_train['rougher_output_recovery'].values, predicted_rougher_recovery) ))\n",
    "print('rougher_output_recovery sMAPE: {:.1f}%'.format(\n",
    "                    sMAPE(df_train['rougher_output_recovery'].values, predicted_rougher_recovery) ))"
   ]
  },
  {
   "cell_type": "markdown",
   "id": "b31851e8",
   "metadata": {},
   "source": [
    "**final_output_recovery: itself**"
   ]
  },
  {
   "cell_type": "code",
   "execution_count": 293,
   "id": "3dc01cc6",
   "metadata": {
    "scrolled": true
   },
   "outputs": [
    {
     "data": {
      "text/plain": [
       "Text(0.5, 1.0, 'Final recovery vs calculated final recovery')"
      ]
     },
     "execution_count": 293,
     "metadata": {},
     "output_type": "execute_result"
    },
    {
     "data": {
      "image/png": "[encoded data removed]",
      "text/plain": [
       "<Figure size 432x288 with 1 Axes>"
      ]
     },
     "metadata": {
      "needs_background": "light"
     },
     "output_type": "display_data"
    }
   ],
   "source": [
    "plt.plot(predicted_final_recovery, df_train['final_output_recovery'],'.')\n",
    "plt.plot([0, 110], [0, 110], linestyle='--')\n",
    "plt.xlim(40,90)\n",
    "plt.ylim(40,90)\n",
    "plt.xlabel(\"Calculated final recovery\")\n",
    "plt.ylabel(\"True final recovery\")\n",
    "plt.title(\"Final recovery vs calculated final recovery\")"
   ]
  },
  {
   "cell_type": "markdown",
   "id": "75d08395",
   "metadata": {},
   "source": [
    "**So..** the result of prediction looks promisingly too"
   ]
  },
  {
   "cell_type": "markdown",
   "id": "91f94ce3",
   "metadata": {},
   "source": [
    "<div class=\"alert alert-warning\">\n",
    "    It would be more interesting to look at such plots for test set predictions\n",
    "</div>"
   ]
  },
  {
   "cell_type": "markdown",
   "id": "b07e223e",
   "metadata": {},
   "source": [
    "<div class=\"alert alert-info\">\n",
    "    Done after calculatons on test dataset. <br>\n",
    "</div>"
   ]
  },
  {
   "cell_type": "code",
   "execution_count": 294,
   "id": "eea6a6e2",
   "metadata": {
    "scrolled": true
   },
   "outputs": [
    {
     "name": "stdout",
     "output_type": "stream",
     "text": [
      "rougher_output_recovery MAE: 5.0\n",
      "rougher_output_recovery MSE: 53.4\n",
      "rougher_output_recovery sMAPE: 7.9%\n"
     ]
    }
   ],
   "source": [
    "print('rougher_output_recovery MAE: {:.1f}'.format(\n",
    "                    mean_absolute_error(df_train['final_output_recovery'].values, predicted_final_recovery) ))\n",
    "print('rougher_output_recovery MSE: {:.1f}'.format(\n",
    "                    mean_squared_error(df_train['final_output_recovery'].values, predicted_final_recovery) ))\n",
    "print('rougher_output_recovery sMAPE: {:.1f}%'.format(\n",
    "                    sMAPE(df_train['final_output_recovery'].values, predicted_final_recovery) ))"
   ]
  },
  {
   "cell_type": "markdown",
   "id": "d0f89716",
   "metadata": {},
   "source": [
    "**final_output_recovery & rougher_output_recovery: metrics sMAPE**"
   ]
  },
  {
   "cell_type": "code",
   "execution_count": 295,
   "id": "70863e58",
   "metadata": {},
   "outputs": [
    {
     "name": "stdout",
     "output_type": "stream",
     "text": [
      "finalsMAPE of train test: 7.15%\n"
     ]
    }
   ],
   "source": [
    "#finalsMAPE(y_true_rougher0_final1, y_pred_rougher0_final1)\n",
    "\n",
    "print('finalsMAPE of train test: {:.2f}%'.format(\n",
    "            finalsMAPE(target_train, prediction_train_scaled) ))"
   ]
  },
  {
   "cell_type": "markdown",
   "id": "1354a37e",
   "metadata": {},
   "source": [
    "**cross-validation**"
   ]
  },
  {
   "cell_type": "code",
   "execution_count": 296,
   "id": "4370853f",
   "metadata": {
    "scrolled": true
   },
   "outputs": [
    {
     "name": "stdout",
     "output_type": "stream",
     "text": [
      "cross-validation finalsMAPE of train test: 8.42%\n"
     ]
    }
   ],
   "source": [
    "print('cross-validation finalsMAPE of train test: {:.2f}%'.format(\n",
    "            cross_val_score(model_forest, features_train_scaled, target_train, cv=5, scoring=finalsMAPE_score).mean() ))"
   ]
  },
  {
   "cell_type": "markdown",
   "id": "3622a455",
   "metadata": {},
   "source": [
    "**So...** even without the parameter tuning it gives better result finalsMAPE (8.42%) vs LinearModel (9.23%)"
   ]
  },
  {
   "cell_type": "code",
   "execution_count": 297,
   "id": "74b497f6",
   "metadata": {},
   "outputs": [],
   "source": [
    "# scores_random = []\n",
    "# best_parameters = []\n",
    "# minimal_MAPE = -999\n",
    "# for step_max_depth in range(3,6,1):\n",
    "#     for step_n_estim in range(5,60,5):\n",
    "#         model_forest = RandomForestRegressor(max_depth=step_max_depth,\n",
    "#                                              n_estimators=step_n_estim,\n",
    "#                                              random_state=12345)\n",
    "#         model_forest.fit(features_train_scaled, target_train)\n",
    "        \n",
    "#         prediction_train_scaled = model_forest.predict(features_train_scaled)\n",
    "#         predicted_rougher_recovery = prediction_train_scaled[:,0]\n",
    "#         predicted_final_recovery = prediction_train_scaled[:,1]\n",
    "\n",
    "#         score_i = cross_val_score( model_forest, features_train_scaled,\n",
    "#                                   target_train, cv=5,\n",
    "#                                   scoring=finalsMAPE_score).mean() \n",
    "        \n",
    "#         scores_random.append([step_max_depth, step_n_estim, score_i])\n",
    "        \n",
    "#         if minimal_MAPE < score_i:\n",
    "#             best_parameters = [step_max_depth, step_n_estim, score_i]"
   ]
  },
  {
   "cell_type": "code",
   "execution_count": 298,
   "id": "75d81222",
   "metadata": {},
   "outputs": [],
   "source": [
    "# print(best_parameters)"
   ]
  },
  {
   "cell_type": "code",
   "execution_count": 299,
   "id": "c73e41f0",
   "metadata": {
    "scrolled": true
   },
   "outputs": [
    {
     "name": "stdout",
     "output_type": "stream",
     "text": [
      "cross-validation finalsMAPE of train test: 8.21%\n"
     ]
    }
   ],
   "source": [
    "# check if it is correct\n",
    "\n",
    "model_forest = RandomForestRegressor(max_depth=4,\n",
    "                                     n_estimators=5,\n",
    "                                     random_state=12345)\n",
    "model_forest.fit(features_train_scaled, target_train)\n",
    "\n",
    "prediction_train_scaled = model_forest.predict(features_train_scaled)\n",
    "predicted_rougher_recovery = prediction_train_scaled[:,0]\n",
    "predicted_final_recovery = prediction_train_scaled[:,1]\n",
    "\n",
    "print('cross-validation finalsMAPE of train test: {:.2f}%'.format(\n",
    "            cross_val_score(model_forest, features_train_scaled, target_train, cv=5, scoring=finalsMAPE_score).mean() ))"
   ]
  },
  {
   "cell_type": "markdown",
   "id": "bc9dacf9",
   "metadata": {},
   "source": [
    "**So...** after tuning finalsMAPE is 8.21% vs without tuning (8.42%)"
   ]
  },
  {
   "cell_type": "markdown",
   "id": "3d562f16",
   "metadata": {},
   "source": [
    "**apply to test dataset**"
   ]
  },
  {
   "cell_type": "code",
   "execution_count": 300,
   "id": "e2d71ce4",
   "metadata": {
    "scrolled": false
   },
   "outputs": [
    {
     "name": "stdout",
     "output_type": "stream",
     "text": [
      "finalsMAPE of train test: 9.72%\n"
     ]
    }
   ],
   "source": [
    "# predicted test\n",
    "prediction_test_scaled = model_forest.predict(features_test_scaled)\n",
    "predicted_rougher_recovery = prediction_test_scaled[:,0]\n",
    "predicted_final_recovery = prediction_test_scaled[:,1]\n",
    "\n",
    "print('finalsMAPE of train test: {:.2f}%'.format(\n",
    "            finalsMAPE(target_test, prediction_test_scaled) ))"
   ]
  },
  {
   "cell_type": "code",
   "execution_count": 301,
   "id": "b9ce45aa",
   "metadata": {
    "scrolled": false
   },
   "outputs": [
    {
     "data": {
      "text/plain": [
       "5290"
      ]
     },
     "execution_count": 301,
     "metadata": {},
     "output_type": "execute_result"
    }
   ],
   "source": [
    "len(target_test)"
   ]
  },
  {
   "cell_type": "markdown",
   "id": "7a7414f4",
   "metadata": {},
   "source": [
    "<div class=\"alert alert-info\">\n",
    "    Plot test dataset. <br>\n",
    "</div>"
   ]
  },
  {
   "cell_type": "code",
   "execution_count": 302,
   "id": "f437d141",
   "metadata": {
    "scrolled": true
   },
   "outputs": [
    {
     "data": {
      "text/plain": [
       "Text(0.5, 1.0, 'Rougher recovery vs calculated rougher recovery')"
      ]
     },
     "execution_count": 302,
     "metadata": {},
     "output_type": "execute_result"
    },
    {
     "data": {
      "image/png": "[encoded data removed]",
      "text/plain": [
       "<Figure size 432x288 with 1 Axes>"
      ]
     },
     "metadata": {
      "needs_background": "light"
     },
     "output_type": "display_data"
    }
   ],
   "source": [
    "plt.plot(predicted_rougher_recovery, df_test['rougher_output_recovery'],'.')\n",
    "plt.plot([50, 110], [50, 110], linestyle='--')\n",
    "plt.xlim(50,100)\n",
    "plt.ylim(50,100)\n",
    "plt.xlabel(\"Calculated rougher recovery\")\n",
    "plt.ylabel(\"True rougher recovery\")\n",
    "plt.title(\"Rougher recovery vs calculated rougher recovery\")"
   ]
  },
  {
   "cell_type": "code",
   "execution_count": 303,
   "id": "2c7942a1",
   "metadata": {
    "scrolled": false
   },
   "outputs": [
    {
     "data": {
      "text/plain": [
       "Text(0.5, 1.0, 'Final recovery vs calculated final recovery')"
      ]
     },
     "execution_count": 303,
     "metadata": {},
     "output_type": "execute_result"
    },
    {
     "data": {
      "image/png": "[encoded data removed]",
      "text/plain": [
       "<Figure size 432x288 with 1 Axes>"
      ]
     },
     "metadata": {
      "needs_background": "light"
     },
     "output_type": "display_data"
    }
   ],
   "source": [
    "plt.plot(predicted_final_recovery, df_test['final_output_recovery'],'.')\n",
    "plt.plot([0, 110], [0, 110], linestyle='--')\n",
    "plt.xlim(30,100)\n",
    "plt.ylim(30,100)\n",
    "plt.xlabel(\"Calculated final recovery\")\n",
    "plt.ylabel(\"True final recovery\")\n",
    "plt.title(\"Final recovery vs calculated final recovery\")"
   ]
  },
  {
   "cell_type": "markdown",
   "id": "aac5b977",
   "metadata": {},
   "source": [
    "<div class=\"alert alert-info\">\n",
    "    In my opinion this result is far from the excellent. We see a lot of points, which are far from the center of this figure. <br>\n",
    "    (1) When I studied the dataset I noticed some patterns: before the observations where concetration of substance is zero, there are observations (rows) with a slow decrease of this concentration. It should somehow influence on the output parameters. I haven't filter them because of deadline :)<br>\n",
    "    (2) I think we could try to group (classify) rougher recovery. We can see in the plot that when calculated rougher recovery is under 80%, we systematically give an error result. Systematical error is a good sign to find a place, that we can improve.<br>\n",
    "    (3) I have forgotten how, but it is really interesting to plot weigh-plot figures. We could know how distribute our results. Now it is just a lot of point on figure (we don't know the density). I'll check it later.<br>\n",
    "</div>"
   ]
  },
  {
   "cell_type": "markdown",
   "id": "6b17a5f2",
   "metadata": {},
   "source": [
    "<div class=\"alert alert-warning\">\n",
    "    <b>V2.</b>\n",
    "    Yeah, looks worse than the train set predictions. The problem with trying to classify recovery before regression is that it's not really easier than just doing a regression directly, and can lead to compound error (i.e. if we mispredict the group recovery value falls in, it may lead to even bigger regression error)\n",
    "</div>"
   ]
  },
  {
   "cell_type": "markdown",
   "id": "dc997591",
   "metadata": {},
   "source": [
    "<div class=\"alert alert-info\">\n",
    "    Thank you for the link on dummyregressor. I even didn't know about it.\n",
    "</div>"
   ]
  },
  {
   "cell_type": "markdown",
   "id": "b71ea5d9",
   "metadata": {},
   "source": [
    "<div class=\"alert alert-success\">\n",
    "    <b>V2.</b>\n",
    "    No problem! There's a lot of useful stuff in scikit-learn somewhere :)\n",
    "</div>"
   ]
  },
  {
   "cell_type": "code",
   "execution_count": 304,
   "id": "93294e6d",
   "metadata": {},
   "outputs": [],
   "source": [
    "dummy_regr = DummyRegressor(strategy=\"mean\")\n",
    "dummy_regr.fit(features_train_scaled, target_train)\n",
    "prediction_test_scaled = dummy_regr.predict(features_test_scaled)\n",
    "\n",
    "predicted_rougher_recovery = prediction_test_scaled[:,0]\n",
    "predicted_final_recovery = prediction_test_scaled[:,1]"
   ]
  },
  {
   "cell_type": "code",
   "execution_count": 305,
   "id": "ddc2c643",
   "metadata": {
    "scrolled": true
   },
   "outputs": [
    {
     "data": {
      "text/plain": [
       "Text(0.5, 1.0, 'Rougher recovery vs calculated rougher recovery')"
      ]
     },
     "execution_count": 305,
     "metadata": {},
     "output_type": "execute_result"
    },
    {
     "data": {
      "image/png": "[encoded data removed]",
      "text/plain": [
       "<Figure size 432x288 with 1 Axes>"
      ]
     },
     "metadata": {
      "needs_background": "light"
     },
     "output_type": "display_data"
    }
   ],
   "source": [
    "plt.plot(predicted_rougher_recovery, df_test['rougher_output_recovery'],'.')\n",
    "plt.plot([50, 110], [50, 110], linestyle='--')\n",
    "plt.xlim(50,100)\n",
    "plt.ylim(50,100)\n",
    "plt.xlabel(\"Calculated rougher recovery\")\n",
    "plt.ylabel(\"True rougher recovery\")\n",
    "plt.title(\"Rougher recovery vs calculated rougher recovery\")"
   ]
  },
  {
   "cell_type": "code",
   "execution_count": 306,
   "id": "e21f46dc",
   "metadata": {
    "scrolled": false
   },
   "outputs": [
    {
     "data": {
      "text/plain": [
       "Text(0.5, 1.0, 'Final recovery vs calculated final recovery')"
      ]
     },
     "execution_count": 306,
     "metadata": {},
     "output_type": "execute_result"
    },
    {
     "data": {
      "image/png": "[encoded data removed]",
      "text/plain": [
       "<Figure size 432x288 with 1 Axes>"
      ]
     },
     "metadata": {
      "needs_background": "light"
     },
     "output_type": "display_data"
    }
   ],
   "source": [
    "plt.plot(predicted_final_recovery, df_test['final_output_recovery'],'.')\n",
    "plt.plot([0, 110], [0, 110], linestyle='--')\n",
    "plt.xlim(30,100)\n",
    "plt.ylim(30,100)\n",
    "plt.xlabel(\"Calculated final recovery\")\n",
    "plt.ylabel(\"True final recovery\")\n",
    "plt.title(\"Final recovery vs calculated final recovery\")"
   ]
  },
  {
   "cell_type": "code",
   "execution_count": 307,
   "id": "00b4abcc",
   "metadata": {
    "scrolled": false
   },
   "outputs": [
    {
     "name": "stdout",
     "output_type": "stream",
     "text": [
      "finalsMAPE of test dataset (mean Dummy): 9.77%\n",
      "finalsMAPE of train dataset (median Dummy): 9.11%\n"
     ]
    }
   ],
   "source": [
    "prediction_train_scaled = dummy_regr.predict(features_train_scaled)\n",
    "\n",
    "# predicted test\n",
    "print('finalsMAPE of test dataset (mean Dummy): {:.2f}%'.format(\n",
    "            finalsMAPE(target_test, prediction_test_scaled) ))\n",
    "# predicted train\n",
    "print('finalsMAPE of train dataset (median Dummy): {:.2f}%'.format(\n",
    "            finalsMAPE(target_train, prediction_train_scaled) ))"
   ]
  },
  {
   "cell_type": "code",
   "execution_count": 308,
   "id": "eaf59964",
   "metadata": {
    "scrolled": true
   },
   "outputs": [
    {
     "name": "stdout",
     "output_type": "stream",
     "text": [
      "finalsMAPE of test dataset (median Dummy): 9.40%\n",
      "finalsMAPE of train dataset (median Dummy): 9.07%\n"
     ]
    }
   ],
   "source": [
    "dummy_regr = DummyRegressor(strategy=\"median\")\n",
    "dummy_regr.fit(features_train_scaled, target_train)\n",
    "prediction_train_scaled = dummy_regr.predict(features_train_scaled)\n",
    "prediction_test_scaled = dummy_regr.predict(features_test_scaled)\n",
    "\n",
    "predicted_rougher_recovery = prediction_test_scaled[:,0]\n",
    "predicted_final_recovery = prediction_test_scaled[:,1]\n",
    "\n",
    "# predicted test\n",
    "print('finalsMAPE of test dataset (median Dummy): {:.2f}%'.format(\n",
    "            finalsMAPE(target_test, prediction_test_scaled) ))\n",
    "# predicted train\n",
    "print('finalsMAPE of train dataset (median Dummy): {:.2f}%'.format(\n",
    "            finalsMAPE(target_train, prediction_train_scaled) ))"
   ]
  },
  {
   "cell_type": "markdown",
   "id": "84e77c48",
   "metadata": {},
   "source": [
    "<div class=\"alert alert-info\">\n",
    "    <b>So...</b> <br>\n",
    "    DummyRegressor mean: train finalsMAPE 9.11%, test finalsMAPE 9.77% <br>\n",
    "    DummyRegressor median: train finalsMAPE 9.07%, test finalsMAPE 9.40% <br>\n",
    "    Random forest: train finalsMAPE 8.21%, test finalsMAPE 9.72% <br>\n",
    "    In fact on test dataset DummyRegressor median is the best. But in total it is worse than RandomForest. <br>\n",
    "    It was really unexpectedly.\n",
    "</div>"
   ]
  },
  {
   "cell_type": "markdown",
   "id": "84de0c4a",
   "metadata": {},
   "source": [
    "<div class=\"alert alert-warning\">\n",
    "    <b>V2.</b>\n",
    "    Yeah, but we only really care about the test scores, as the test score is our best possible estimate of how model performs on new unseen data. And a sufficiently complex model can easily memorize the whole train set and get perfect scores. When a test score is worse than a train score, that indicates <a href='https://en.wikipedia.org/wiki/Overfitting'>overfitting</a>. In our case it seems that either the data is faulty, or maybe there isn't really any non-trivial relationship to learn from it, and something simple can work as well as any fancy machine learning model. Don't worry, I believe that's an intended outcome of this project :)\n",
    "</div>"
   ]
  },
  {
   "cell_type": "markdown",
   "id": "fa5fefa6",
   "metadata": {},
   "source": [
    "# Summary of Section 3\n",
    "1. We developed different models to predict gold after final and recovery stages.\n",
    "2. The best models is random forest (finalsMAPE is 8.21%) vs linear model (9.23%)\n",
    "3. On dataset finalsMAPE is 9.72%. It is worse then in train dataset because we haven't filtered the test dataset. Should we filter it or not it is depends on a business task. Maybe we should give prediction for every observations. "
   ]
  },
  {
   "cell_type": "markdown",
   "id": "b94fc142",
   "metadata": {},
   "source": [
    "<div class=\"alert alert-danger\">\n",
    "    <s>The modelling section is great: you tried two models and did some hyperparameter tuning for the random forest. One small problem: you need to add a constant baseline model (e.g. always predicting mean or median, see DummyRegressor from sklearn)\n",
    "</div>"
   ]
  },
  {
   "cell_type": "markdown",
   "id": "8479d878",
   "metadata": {},
   "source": [
    "<div class=\"alert alert-success\">\n",
    "    <b>V2.</b>\n",
    "    Fixed!\n",
    "</div>"
   ]
  },
  {
   "cell_type": "markdown",
   "id": "64eb4202",
   "metadata": {},
   "source": [
    "# Conclusion\n",
    "1. We developed a model based on random forest, which finalsMAPE is 8.21% on train dataset and 9.72% on test dataset.\n",
    "2. I know that we can improve model if we analyze what parameters we could remove from prediction. In fact some of them have very high correlations up to 0.9.\n",
    "3. It is a pity that we can't use our metrics in random forest. It is obvious that we should pay more attention on final concentration. Now in our work we treated recovery and final stages the same.\n",
    "4. This task was really interesting and more challenging than others."
   ]
  },
  {
   "cell_type": "markdown",
   "id": "1fb7ce64",
   "metadata": {},
   "source": [
    "<div class=\"alert alert-warning\">\n",
    "    Could you explain what you mean by the third point? What metrics we can't use with random forest?\n",
    "</div>"
   ]
  },
  {
   "cell_type": "markdown",
   "id": "05b83fb1",
   "metadata": {},
   "source": [
    "<div class=\"alert alert-info\">\n",
    "    I mean that in random forest there is no any difference between final concentration and rough concentration. The model learn to be the best in estimation both of them. But in fact finalsMAPE = 0.25[rough] + 0.75[final]. That means that we should be more accurate in prediction of final output, not rough. Do I correctly understand, how does random forest works? <br>    \n",
    "</div>"
   ]
  },
  {
   "cell_type": "markdown",
   "id": "4dc19bfd",
   "metadata": {},
   "source": [
    "<div class=\"alert alert-success\">\n",
    "    <b>V2.</b>\n",
    "    Oh, okay, I see. Yes, you are right!\n",
    "</div>"
   ]
  }
 ],
 "metadata": {
  "kernelspec": {
   "display_name": "Python 3 (ipykernel)",
   "language": "python",
   "name": "python3"
  },
  "language_info": {
   "codemirror_mode": {
    "name": "ipython",
    "version": 3
   },
   "file_extension": ".py",
   "mimetype": "text/x-python",
   "name": "python",
   "nbconvert_exporter": "python",
   "pygments_lexer": "ipython3",
   "version": "3.9.7"
  },
  "toc": {
   "base_numbering": 1,
   "nav_menu": {},
   "number_sections": true,
   "sideBar": true,
   "skip_h1_title": true,
   "title_cell": "Table of Contents",
   "title_sidebar": "Contents",
   "toc_cell": false,
   "toc_position": {},
   "toc_section_display": true,
   "toc_window_display": false
  }
 },
 "nbformat": 4,
 "nbformat_minor": 5
}
