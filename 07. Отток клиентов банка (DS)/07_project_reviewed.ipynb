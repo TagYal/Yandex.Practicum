{
 "cells": [
  {
   "cell_type": "markdown",
   "metadata": {},
   "source": [
    "# Goal\n",
    "We need to predict whether a customer will leave the bank soon. You have the data on clients’ past behavior and termination of contracts with the bank. <br>\n",
    "Build a model with the maximum possible F1 score. "
   ]
  },
  {
   "cell_type": "markdown",
   "metadata": {},
   "source": [
    "# Project instructions\n",
    "1. [x] **Chapter 1** Download and prepare the data. Explain the procedure.\n",
    "2. [x] **Chapter 2** Examine the balance of classes. Train the model without taking into account the imbalance. Briefly describe your findings.\n",
    "3. [x] **Chapter 3** Improve the quality of the model. Make sure you use at least two approaches to fixing class imbalance. Use the training set to pick the best parameters. Train different models on training and validation sets. Find the best one. Briefly describe your findings.\n",
    "4. [x] **Chapter 4** Perform the final testing.\n",
    "\n",
    "This <span style=\"color:red\">word</span> is not black."
   ]
  },
  {
   "cell_type": "markdown",
   "metadata": {},
   "source": [
    "# Project evaluation\n",
    "- How did you prepare the data for training? Have you processed all of the feature types?\n",
    "- Have you explained the preprocessing steps well enough?\n",
    "- How did you investigate the balance of classes?\n",
    "- Did you study the model without taking into account the imbalance of classes?\n",
    "- What are your findings about the task research?\n",
    "- Have you correctly split the data into sets?\n",
    "- How have you worked with the imbalance of classes?\n",
    "- Did you use at least two techniques for imbalance fixing?\n",
    "- Have you performed the model training, validation, and final testing correctly?\n",
    "- How high is your F1 score?\n",
    "- Did you examine the AUC-ROC values?\n",
    "- Have you kept to the project structure and kept the code neat?"
   ]
  },
  {
   "cell_type": "code",
   "execution_count": 210,
   "metadata": {},
   "outputs": [],
   "source": [
    "# import necessary libraries\n",
    "import pandas as pd\n",
    "import numpy as np\n",
    "import seaborn as sns\n",
    "import matplotlib.pyplot as plt\n",
    "\n",
    "from sklearn.model_selection import train_test_split\n",
    "from sklearn.tree import DecisionTreeClassifier\n",
    "from sklearn.ensemble import RandomForestClassifier\n",
    "from sklearn.linear_model import LogisticRegression\n",
    "from sklearn.metrics import accuracy_score, precision_score, recall_score, f1_score\n",
    "from sklearn.metrics import roc_auc_score, roc_curve\n",
    "\n",
    "from sklearn.utils import shuffle"
   ]
  },
  {
   "cell_type": "markdown",
   "metadata": {},
   "source": [
    "# Chapter 1\n",
    "<font size=\"3\">**Download and prepare the data. Explain the procedure.**</font> "
   ]
  },
  {
   "cell_type": "code",
   "execution_count": 149,
   "metadata": {},
   "outputs": [],
   "source": [
    "# import data\n",
    "df = pd.read_csv('/datasets/Churn.csv')"
   ]
  },
  {
   "cell_type": "code",
   "execution_count": 150,
   "metadata": {
    "scrolled": true
   },
   "outputs": [
    {
     "name": "stdout",
     "output_type": "stream",
     "text": [
      "(10000, 14)\n"
     ]
    },
    {
     "data": {
      "text/html": [
       "<div>\n",
       "<style scoped>\n",
       "    .dataframe tbody tr th:only-of-type {\n",
       "        vertical-align: middle;\n",
       "    }\n",
       "\n",
       "    .dataframe tbody tr th {\n",
       "        vertical-align: top;\n",
       "    }\n",
       "\n",
       "    .dataframe thead th {\n",
       "        text-align: right;\n",
       "    }\n",
       "</style>\n",
       "<table border=\"1\" class=\"dataframe\">\n",
       "  <thead>\n",
       "    <tr style=\"text-align: right;\">\n",
       "      <th></th>\n",
       "      <th>RowNumber</th>\n",
       "      <th>CustomerId</th>\n",
       "      <th>Surname</th>\n",
       "      <th>CreditScore</th>\n",
       "      <th>Geography</th>\n",
       "      <th>Gender</th>\n",
       "      <th>Age</th>\n",
       "      <th>Tenure</th>\n",
       "      <th>Balance</th>\n",
       "      <th>NumOfProducts</th>\n",
       "      <th>HasCrCard</th>\n",
       "      <th>IsActiveMember</th>\n",
       "      <th>EstimatedSalary</th>\n",
       "      <th>Exited</th>\n",
       "    </tr>\n",
       "  </thead>\n",
       "  <tbody>\n",
       "    <tr>\n",
       "      <td>0</td>\n",
       "      <td>1</td>\n",
       "      <td>15634602</td>\n",
       "      <td>Hargrave</td>\n",
       "      <td>619</td>\n",
       "      <td>France</td>\n",
       "      <td>Female</td>\n",
       "      <td>42</td>\n",
       "      <td>2.0</td>\n",
       "      <td>0.00</td>\n",
       "      <td>1</td>\n",
       "      <td>1</td>\n",
       "      <td>1</td>\n",
       "      <td>101348.88</td>\n",
       "      <td>1</td>\n",
       "    </tr>\n",
       "    <tr>\n",
       "      <td>1</td>\n",
       "      <td>2</td>\n",
       "      <td>15647311</td>\n",
       "      <td>Hill</td>\n",
       "      <td>608</td>\n",
       "      <td>Spain</td>\n",
       "      <td>Female</td>\n",
       "      <td>41</td>\n",
       "      <td>1.0</td>\n",
       "      <td>83807.86</td>\n",
       "      <td>1</td>\n",
       "      <td>0</td>\n",
       "      <td>1</td>\n",
       "      <td>112542.58</td>\n",
       "      <td>0</td>\n",
       "    </tr>\n",
       "    <tr>\n",
       "      <td>2</td>\n",
       "      <td>3</td>\n",
       "      <td>15619304</td>\n",
       "      <td>Onio</td>\n",
       "      <td>502</td>\n",
       "      <td>France</td>\n",
       "      <td>Female</td>\n",
       "      <td>42</td>\n",
       "      <td>8.0</td>\n",
       "      <td>159660.80</td>\n",
       "      <td>3</td>\n",
       "      <td>1</td>\n",
       "      <td>0</td>\n",
       "      <td>113931.57</td>\n",
       "      <td>1</td>\n",
       "    </tr>\n",
       "    <tr>\n",
       "      <td>3</td>\n",
       "      <td>4</td>\n",
       "      <td>15701354</td>\n",
       "      <td>Boni</td>\n",
       "      <td>699</td>\n",
       "      <td>France</td>\n",
       "      <td>Female</td>\n",
       "      <td>39</td>\n",
       "      <td>1.0</td>\n",
       "      <td>0.00</td>\n",
       "      <td>2</td>\n",
       "      <td>0</td>\n",
       "      <td>0</td>\n",
       "      <td>93826.63</td>\n",
       "      <td>0</td>\n",
       "    </tr>\n",
       "    <tr>\n",
       "      <td>4</td>\n",
       "      <td>5</td>\n",
       "      <td>15737888</td>\n",
       "      <td>Mitchell</td>\n",
       "      <td>850</td>\n",
       "      <td>Spain</td>\n",
       "      <td>Female</td>\n",
       "      <td>43</td>\n",
       "      <td>2.0</td>\n",
       "      <td>125510.82</td>\n",
       "      <td>1</td>\n",
       "      <td>1</td>\n",
       "      <td>1</td>\n",
       "      <td>79084.10</td>\n",
       "      <td>0</td>\n",
       "    </tr>\n",
       "  </tbody>\n",
       "</table>\n",
       "</div>"
      ],
      "text/plain": [
       "   RowNumber  CustomerId   Surname  CreditScore Geography  Gender  Age  \\\n",
       "0          1    15634602  Hargrave          619    France  Female   42   \n",
       "1          2    15647311      Hill          608     Spain  Female   41   \n",
       "2          3    15619304      Onio          502    France  Female   42   \n",
       "3          4    15701354      Boni          699    France  Female   39   \n",
       "4          5    15737888  Mitchell          850     Spain  Female   43   \n",
       "\n",
       "   Tenure    Balance  NumOfProducts  HasCrCard  IsActiveMember  \\\n",
       "0     2.0       0.00              1          1               1   \n",
       "1     1.0   83807.86              1          0               1   \n",
       "2     8.0  159660.80              3          1               0   \n",
       "3     1.0       0.00              2          0               0   \n",
       "4     2.0  125510.82              1          1               1   \n",
       "\n",
       "   EstimatedSalary  Exited  \n",
       "0        101348.88       1  \n",
       "1        112542.58       0  \n",
       "2        113931.57       1  \n",
       "3         93826.63       0  \n",
       "4         79084.10       0  "
      ]
     },
     "execution_count": 150,
     "metadata": {},
     "output_type": "execute_result"
    }
   ],
   "source": [
    "# look through the table to make sure that it is imported correctly\n",
    "print(df.shape)\n",
    "df.head()"
   ]
  },
  {
   "cell_type": "markdown",
   "metadata": {},
   "source": [
    "**Notice:** <br>\n",
    "1. *RowNumber* doesn't contain important information that can be used to predict target. We can only check if there are  dublicates in the table (low probability).\n",
    "2. The same thing we can say about *CustomerId*.\n",
    "3. It is logical to assume that *Surname* can't influence on target prediction. There could be a low chance to influence on predicted value... if one family member have already exited bank and then the other family member want to exit (low probability)."
   ]
  },
  {
   "cell_type": "code",
   "execution_count": 151,
   "metadata": {},
   "outputs": [
    {
     "name": "stdout",
     "output_type": "stream",
     "text": [
      "Number of unique values in column _RowNumber_: 10000\n"
     ]
    }
   ],
   "source": [
    "# check if there any duplicates in data\n",
    "print('Number of unique values in column _RowNumber_:',len(df.RowNumber.unique()))"
   ]
  },
  {
   "cell_type": "code",
   "execution_count": 152,
   "metadata": {
    "scrolled": true
   },
   "outputs": [
    {
     "name": "stdout",
     "output_type": "stream",
     "text": [
      "Number of unique values in column _CustomerId_: 10000\n"
     ]
    }
   ],
   "source": [
    "# check if there any duplicates in data\n",
    "print('Number of unique values in column _CustomerId_:',len(df.CustomerId.unique()))"
   ]
  },
  {
   "cell_type": "markdown",
   "metadata": {},
   "source": [
    "**so...** as it was expected there are no duplicates <br>\n",
    "And we can just drop these columns (not use them as features)"
   ]
  },
  {
   "cell_type": "code",
   "execution_count": 153,
   "metadata": {
    "scrolled": true
   },
   "outputs": [
    {
     "name": "stdout",
     "output_type": "stream",
     "text": [
      "<class 'pandas.core.frame.DataFrame'>\n",
      "RangeIndex: 10000 entries, 0 to 9999\n",
      "Data columns (total 14 columns):\n",
      "RowNumber          10000 non-null int64\n",
      "CustomerId         10000 non-null int64\n",
      "Surname            10000 non-null object\n",
      "CreditScore        10000 non-null int64\n",
      "Geography          10000 non-null object\n",
      "Gender             10000 non-null object\n",
      "Age                10000 non-null int64\n",
      "Tenure             9091 non-null float64\n",
      "Balance            10000 non-null float64\n",
      "NumOfProducts      10000 non-null int64\n",
      "HasCrCard          10000 non-null int64\n",
      "IsActiveMember     10000 non-null int64\n",
      "EstimatedSalary    10000 non-null float64\n",
      "Exited             10000 non-null int64\n",
      "dtypes: float64(3), int64(8), object(3)\n",
      "memory usage: 1.1+ MB\n"
     ]
    }
   ],
   "source": [
    "# look through the table check types and NA-values\n",
    "df.info()"
   ]
  },
  {
   "cell_type": "markdown",
   "metadata": {},
   "source": [
    "**Notice:** <br>\n",
    "1. All columns have the type as it should be. That is good!\n",
    "2. Only in *Tenure* there is less than 10 000 significant (not NA) rows. That is good!\n",
    "3. ~1000 NA-values in *Tenure*. It is ~10% of data. It is too much. So we should fill NA "
   ]
  },
  {
   "cell_type": "code",
   "execution_count": 154,
   "metadata": {
    "scrolled": true
   },
   "outputs": [
    {
     "data": {
      "text/plain": [
       "array([ 0.,  1.,  2.,  3.,  4.,  5.,  6.,  7.,  8.,  9., 10., nan])"
      ]
     },
     "execution_count": 154,
     "metadata": {},
     "output_type": "execute_result"
    }
   ],
   "source": [
    "# check unique values\n",
    "np.sort(df.Tenure.unique())"
   ]
  },
  {
   "cell_type": "markdown",
   "metadata": {},
   "source": [
    "**Notice:** <br>\n",
    "1. As I understand 0-value in *Tenure* means that a person is a client of the bank less than 1 year. So, it is meaningfull.\n",
    "2. Nan-value is here as we see previously.\n",
    "3. There are two ways to fill this NA-values: (1) find some correlation and fillna with mean or median values or (2) just make a new cathegory. The last one is not so good because the **order** is important."
   ]
  },
  {
   "cell_type": "code",
   "execution_count": 155,
   "metadata": {},
   "outputs": [
    {
     "data": {
      "text/plain": [
       "<matplotlib.axes._subplots.AxesSubplot at 0x7fe719c68d90>"
      ]
     },
     "execution_count": 155,
     "metadata": {},
     "output_type": "execute_result"
    },
    {
     "data": {
      "image/png": "[encoded data removed]",
      "text/plain": [
       "<Figure size 432x288 with 2 Axes>"
      ]
     },
     "metadata": {
      "needs_background": "light"
     },
     "output_type": "display_data"
    }
   ],
   "source": [
    "# build heat correlation map\n",
    "sns.heatmap(df.corr(), \n",
    "        xticklabels=df.corr().columns,\n",
    "        yticklabels=df.corr().columns)"
   ]
  },
  {
   "cell_type": "markdown",
   "metadata": {},
   "source": [
    "**Notice:** <br>\n",
    "1. There is a high correlation between *Age* and target value *Exited*.\n",
    "2. What about *Tenure*.. it is hard to say somethimg from this map."
   ]
  },
  {
   "cell_type": "code",
   "execution_count": 156,
   "metadata": {},
   "outputs": [
    {
     "data": {
      "text/plain": [
       "CreditScore        0.000062\n",
       "RowNumber          0.007322\n",
       "Balance            0.007911\n",
       "EstimatedSalary    0.010520\n",
       "NumOfProducts      0.011979\n",
       "Age                0.013134\n",
       "Exited             0.016761\n",
       "CustomerId         0.021418\n",
       "HasCrCard          0.027232\n",
       "IsActiveMember     0.032178\n",
       "Name: Tenure, dtype: float64"
      ]
     },
     "execution_count": 156,
     "metadata": {},
     "output_type": "execute_result"
    }
   ],
   "source": [
    "# find concrete values on correlation; remove selfcorrelation; absolute values; print in ascending order \n",
    "abs(df.corr().Tenure).sort_values()[0:10]"
   ]
  },
  {
   "cell_type": "markdown",
   "metadata": {},
   "source": [
    "**So...** Corelations are extremely low. Even that *IsActiveMember* is the best from the outsiders, we can't use it to restore missing values in *Tenure*. <br>\n",
    "One can see that even randomness *CustomerId* has close value of correlation. <br>\n",
    "Let's use *Age* to restore *Tenure* but not as itself. We classify it in ages and than in each class find median value. Why not? It is not a very good idea. But it is not bad too."
   ]
  },
  {
   "cell_type": "code",
   "execution_count": 157,
   "metadata": {},
   "outputs": [
    {
     "data": {
      "text/plain": [
       "<matplotlib.axes._subplots.AxesSubplot at 0x7fe719a59710>"
      ]
     },
     "execution_count": 157,
     "metadata": {},
     "output_type": "execute_result"
    },
    {
     "data": {
      "image/png": "[encoded data removed]",
      "text/plain": [
       "<Figure size 432x288 with 1 Axes>"
      ]
     },
     "metadata": {
      "needs_background": "light"
     },
     "output_type": "display_data"
    }
   ],
   "source": [
    "# let's take a look on *Age* data\n",
    "df.Age.hist()"
   ]
  },
  {
   "cell_type": "markdown",
   "metadata": {},
   "source": [
    "**So...** I could find boundaries of groups manually BUT I think it is better do it more strictly <br>\n",
    "I think it is better group by quantile, because in each group we will have the same number of people. There will not be group with extremely low number of people."
   ]
  },
  {
   "cell_type": "code",
   "execution_count": 158,
   "metadata": {},
   "outputs": [
    {
     "name": "stdout",
     "output_type": "stream",
     "text": [
      "[31.0, 35.0, 40.0, 46.0, 92]\n",
      "['Forever young', 'Young', 'Helthy', 'Wizard', 'Master Yoda']\n"
     ]
    }
   ],
   "source": [
    "# create new column Age_categories  \n",
    "\n",
    "# determine boundaries as quantile 20%\n",
    "age_boundaries = []\n",
    "for share in np.arange(0.2, 1, 0.2):\n",
    "    age_boundaries.append(df.Age.quantile(share))\n",
    "age_boundaries.append(max(df.Age))\n",
    "\n",
    "name_age_group = ['Forever young',\n",
    "                    'Young',\n",
    "                    'Helthy',\n",
    "                    'Wizard',\n",
    "                    'Master Yoda']\n",
    "\n",
    "# create new column: apply\n",
    "def age_categories(row):\n",
    "    age_k = 0\n",
    "    for age in age_boundaries:\n",
    "        if row.Age <= age:\n",
    "            return name_age_group[age_k]\n",
    "        else:\n",
    "            age_k += 1\n",
    "            \n",
    "df['Age_group'] = df.apply(age_categories, axis=1)\n",
    "print(age_boundaries)\n",
    "print(name_age_group)"
   ]
  },
  {
   "cell_type": "code",
   "execution_count": 159,
   "metadata": {},
   "outputs": [
    {
     "name": "stdout",
     "output_type": "stream",
     "text": [
      "Age_group\n",
      "Forever young    5.0\n",
      "Helthy           5.0\n",
      "Master Yoda      5.0\n",
      "Wizard           5.0\n",
      "Young            5.0\n",
      "Name: median, dtype: float64\n"
     ]
    }
   ],
   "source": [
    "# groupby:\n",
    "age_group_median = df.groupby('Age_group').agg({'Tenure': ['median']})\n",
    "age_group_median.columns = ['median']\n",
    "print(age_group_median['median'].sort_values())"
   ]
  },
  {
   "cell_type": "markdown",
   "metadata": {},
   "source": [
    "**Hah...** When correletion so low, in each group *Tenure* values distributed chaotically"
   ]
  },
  {
   "cell_type": "code",
   "execution_count": 160,
   "metadata": {},
   "outputs": [
    {
     "data": {
      "text/plain": [
       "<matplotlib.axes._subplots.AxesSubplot at 0x7fe7199e4850>"
      ]
     },
     "execution_count": 160,
     "metadata": {},
     "output_type": "execute_result"
    },
    {
     "data": {
      "image/png": "[encoded data removed]",
      "text/plain": [
       "<Figure size 432x288 with 1 Axes>"
      ]
     },
     "metadata": {
      "needs_background": "light"
     },
     "output_type": "display_data"
    }
   ],
   "source": [
    "# one can see it\n",
    "df.query('Age_group == \"Helthy\"')['Tenure'].hist()"
   ]
  },
  {
   "cell_type": "code",
   "execution_count": 161,
   "metadata": {
    "scrolled": true
   },
   "outputs": [
    {
     "data": {
      "text/plain": [
       "array([[<matplotlib.axes._subplots.AxesSubplot object at 0x7fe7199ac410>,\n",
       "        <matplotlib.axes._subplots.AxesSubplot object at 0x7fe7199d6990>,\n",
       "        <matplotlib.axes._subplots.AxesSubplot object at 0x7fe71998e650>],\n",
       "       [<matplotlib.axes._subplots.AxesSubplot object at 0x7fe719944cd0>,\n",
       "        <matplotlib.axes._subplots.AxesSubplot object at 0x7fe7198c3510>,\n",
       "        <matplotlib.axes._subplots.AxesSubplot object at 0x7fe719878d10>],\n",
       "       [<matplotlib.axes._subplots.AxesSubplot object at 0x7fe719bedfd0>,\n",
       "        <matplotlib.axes._subplots.AxesSubplot object at 0x7fe7197e0150>,\n",
       "        <matplotlib.axes._subplots.AxesSubplot object at 0x7fe7197e0c90>],\n",
       "       [<matplotlib.axes._subplots.AxesSubplot object at 0x7fe71979b650>,\n",
       "        <matplotlib.axes._subplots.AxesSubplot object at 0x7fe719780990>,\n",
       "        <matplotlib.axes._subplots.AxesSubplot object at 0x7fe71973bd10>]],\n",
       "      dtype=object)"
      ]
     },
     "execution_count": 161,
     "metadata": {},
     "output_type": "execute_result"
    },
    {
     "data": {
      "image/png": "[encoded data removed]",
      "text/plain": [
       "<Figure size 432x288 with 12 Axes>"
      ]
     },
     "metadata": {
      "needs_background": "light"
     },
     "output_type": "display_data"
    }
   ],
   "source": [
    "df.query('Tenure.isnull() == True').hist()"
   ]
  },
  {
   "cell_type": "code",
   "execution_count": 162,
   "metadata": {},
   "outputs": [
    {
     "data": {
      "text/plain": [
       "array([[<matplotlib.axes._subplots.AxesSubplot object at 0x7fe7194db790>,\n",
       "        <matplotlib.axes._subplots.AxesSubplot object at 0x7fe71945d6d0>,\n",
       "        <matplotlib.axes._subplots.AxesSubplot object at 0x7fe7194db3d0>],\n",
       "       [<matplotlib.axes._subplots.AxesSubplot object at 0x7fe719419390>,\n",
       "        <matplotlib.axes._subplots.AxesSubplot object at 0x7fe7193e5a10>,\n",
       "        <matplotlib.axes._subplots.AxesSubplot object at 0x7fe7193a1d90>],\n",
       "       [<matplotlib.axes._subplots.AxesSubplot object at 0x7fe719357a50>,\n",
       "        <matplotlib.axes._subplots.AxesSubplot object at 0x7fe719315290>,\n",
       "        <matplotlib.axes._subplots.AxesSubplot object at 0x7fe719315dd0>],\n",
       "       [<matplotlib.axes._subplots.AxesSubplot object at 0x7fe7192d6790>,\n",
       "        <matplotlib.axes._subplots.AxesSubplot object at 0x7fe7192c2ad0>,\n",
       "        <matplotlib.axes._subplots.AxesSubplot object at 0x7fe719282e50>]],\n",
       "      dtype=object)"
      ]
     },
     "execution_count": 162,
     "metadata": {},
     "output_type": "execute_result"
    },
    {
     "data": {
      "image/png": "[encoded data removed]",
      "text/plain": [
       "<Figure size 432x288 with 12 Axes>"
      ]
     },
     "metadata": {
      "needs_background": "light"
     },
     "output_type": "display_data"
    }
   ],
   "source": [
    "df.hist()"
   ]
  },
  {
   "cell_type": "markdown",
   "metadata": {},
   "source": [
    "**So...** I really don't see any connection this parameter with others. If we groupby data by another parameter we obtain the similar result. <br>\n",
    "I prefer drop off these NA-values. If I assing to NA-values some value randomly it just add a noise to our  dataframe. <br>\n",
    "The other way is to drop off the column itself (not use it as a feature). But I prefer the first way."
   ]
  },
  {
   "cell_type": "code",
   "execution_count": 163,
   "metadata": {
    "scrolled": true
   },
   "outputs": [
    {
     "name": "stdout",
     "output_type": "stream",
     "text": [
      "<class 'pandas.core.frame.DataFrame'>\n",
      "Int64Index: 9091 entries, 0 to 9998\n",
      "Data columns (total 15 columns):\n",
      "RowNumber          9091 non-null int64\n",
      "CustomerId         9091 non-null int64\n",
      "Surname            9091 non-null object\n",
      "CreditScore        9091 non-null int64\n",
      "Geography          9091 non-null object\n",
      "Gender             9091 non-null object\n",
      "Age                9091 non-null int64\n",
      "Tenure             9091 non-null float64\n",
      "Balance            9091 non-null float64\n",
      "NumOfProducts      9091 non-null int64\n",
      "HasCrCard          9091 non-null int64\n",
      "IsActiveMember     9091 non-null int64\n",
      "EstimatedSalary    9091 non-null float64\n",
      "Exited             9091 non-null int64\n",
      "Age_group          9091 non-null object\n",
      "dtypes: float64(3), int64(8), object(4)\n",
      "memory usage: 1.1+ MB\n"
     ]
    }
   ],
   "source": [
    "df_drop = df.dropna()\n",
    "df_drop.info()"
   ]
  },
  {
   "cell_type": "code",
   "execution_count": 164,
   "metadata": {
    "scrolled": true
   },
   "outputs": [
    {
     "name": "stdout",
     "output_type": "stream",
     "text": [
      "There are 2787 unique values in Surname\n"
     ]
    }
   ],
   "source": [
    "# about Surname column\n",
    "print('There are',len(df_drop['Surname'].unique()), 'unique values in Surname')"
   ]
  },
  {
   "cell_type": "markdown",
   "metadata": {},
   "source": [
    "**I think..**\n",
    "1. *Surname* shouldn't influence on target value\n",
    "2. If I apply OHE to *Surname* I get 2786 of new columns-features. I think it is challenging for our model and unecessary. There are more cons than pros."
   ]
  },
  {
   "cell_type": "markdown",
   "metadata": {},
   "source": [
    "**-OHE-**\n",
    "We discussed already what we will use as features (what to drop) <br>\n",
    "So.. we should prepare only categorical columns *Gender* and *Geography*."
   ]
  },
  {
   "cell_type": "code",
   "execution_count": 165,
   "metadata": {},
   "outputs": [],
   "source": [
    "data_OHE = pd.get_dummies(df_drop, columns=['Gender','Geography'], drop_first=True)"
   ]
  },
  {
   "cell_type": "markdown",
   "metadata": {},
   "source": [
    "### Result of chapter 1\n",
    "Data is prepared to use it to train a model. <br>\n",
    "DROP: RowNumber\tCustomerId\tSurname\n",
    "OHE: Geography\tGender\t\n",
    "AS IS: CreditScore\tAge\tTenure\tBalance\tNumOfProducts\tHasCrCard\tIsActiveMember\tEstimatedSalary\tExited"
   ]
  },
  {
   "cell_type": "markdown",
   "metadata": {},
   "source": [
    "# Chapter 2\n",
    "<font size=\"3\">**Examine the balance of classes. Train the model without taking into account the imbalance. Briefly describe your findings.**</font> "
   ]
  },
  {
   "cell_type": "code",
   "execution_count": 166,
   "metadata": {},
   "outputs": [],
   "source": [
    "# determine features and target\n",
    "features = data_OHE.drop(['Exited', 'RowNumber', 'CustomerId','Surname','Age_group'], axis=1)\n",
    "target = data_OHE['Exited']\n",
    "\n",
    "# split dataset on training and validation+test sets\n",
    "features_train, features_valid, target_train, target_valid = train_test_split(\n",
    "                    features, target, test_size=0.40, random_state=10)\n",
    "\n",
    "# split dataset on validation and test sets\n",
    "features_test, features_valid, target_test, target_valid = train_test_split(\n",
    "                    features_valid, target_valid, test_size=0.50, random_state=10)"
   ]
  },
  {
   "cell_type": "code",
   "execution_count": 167,
   "metadata": {},
   "outputs": [
    {
     "name": "stdout",
     "output_type": "stream",
     "text": [
      "Share of exited clients: 20%\n",
      "Share of exited clients in original dataframe: 20%\n"
     ]
    }
   ],
   "source": [
    "# check balance of target feature\n",
    "print('Share of exited clients: {:.0%}'.format(target.sum()/len(target)))\n",
    "\n",
    "# note that in the original set of data there is the same share of exited clients\n",
    "print('Share of exited clients in original dataframe: {:.0%}'.format(df['Exited'].sum()/len(df)))"
   ]
  },
  {
   "cell_type": "markdown",
   "metadata": {},
   "source": [
    "**Notice:** <br>\n",
    "1. That means that target feature is unbalanced. <br>\n",
    "2. It is easy to proceed **sanity check**: if we predict directly only zeros, than our model will be correct (accuracy) in 80% of cases.<br>\n",
    "3. But we need maximize f1, in that case f1 is 0%. So we need model better than 0%<br>\n",
    "4. **Globally** we solve a binary classification problem (1 - exited; 0 - stayed). <br>\n",
    "That's why we can use: *DecisionTreeClassifier, RandomForestClassifier* and *LogisticRegression*"
   ]
  },
  {
   "cell_type": "markdown",
   "metadata": {},
   "source": [
    "**Train the model without taking into account the imbalance.**"
   ]
  },
  {
   "cell_type": "code",
   "execution_count": 168,
   "metadata": {
    "scrolled": true
   },
   "outputs": [
    {
     "data": {
      "text/plain": [
       "LogisticRegression(C=1.0, class_weight=None, dual=False, fit_intercept=True,\n",
       "                   intercept_scaling=1, l1_ratio=None, max_iter=100,\n",
       "                   multi_class='warn', n_jobs=None, penalty='l2',\n",
       "                   random_state=12345, solver='liblinear', tol=0.0001,\n",
       "                   verbose=0, warm_start=False)"
      ]
     },
     "execution_count": 168,
     "metadata": {},
     "output_type": "execute_result"
    }
   ],
   "source": [
    "# train linear model (I choose it in this task)\n",
    "model = LogisticRegression(solver='liblinear', random_state=12345)\n",
    "model.fit(features_train, target_train)"
   ]
  },
  {
   "cell_type": "code",
   "execution_count": 169,
   "metadata": {},
   "outputs": [],
   "source": [
    "# this is a function to print scores\n",
    "def print_scores(features_train, features_valid, target_train, target_valid):\n",
    "    predicted_train = model.predict(features_train)\n",
    "    predicted_valid = model.predict(features_valid)\n",
    "    print('             Accuracy: Precision: Recall:  F1:')\n",
    "    print('Train set:      {:.2%} {:.2%}     {:.2%}   {:.2%}'.format(\n",
    "                                        accuracy_score(target_train, predicted_train),\n",
    "                                        precision_score(target_train, predicted_train),\n",
    "                                        recall_score(target_train, predicted_train),\n",
    "                                        f1_score(target_train, predicted_train)))\n",
    "    print('Validation set: {:.2%} {:.2%}     {:.2%}   {:.2%}'.format(\n",
    "                                        accuracy_score(target_valid, predicted_valid),\n",
    "                                        precision_score(target_valid, predicted_valid),\n",
    "                                        recall_score(target_valid, predicted_valid),\n",
    "                                        f1_score(target_valid, predicted_valid)))"
   ]
  },
  {
   "cell_type": "code",
   "execution_count": 170,
   "metadata": {},
   "outputs": [
    {
     "name": "stdout",
     "output_type": "stream",
     "text": [
      "             Accuracy: Precision: Recall:  F1:\n",
      "Train set:      79.01% 40.38%     5.65%   9.91%\n",
      "Validation set: 78.06% 46.00%     5.82%   10.34%\n"
     ]
    }
   ],
   "source": [
    "print_scores(features_train, features_valid, target_train, target_valid)"
   ]
  },
  {
   "cell_type": "markdown",
   "metadata": {},
   "source": [
    "**So...**<br>\n",
    "1. F1 is extremly low 10%!\n",
    "2. Accuracy ... 79% in the level of sanity check. Happy not to use this metric."
   ]
  },
  {
   "cell_type": "code",
   "execution_count": 171,
   "metadata": {
    "scrolled": false
   },
   "outputs": [
    {
     "data": {
      "text/plain": [
       "DecisionTreeClassifier(class_weight=None, criterion='gini', max_depth=3,\n",
       "                       max_features=None, max_leaf_nodes=None,\n",
       "                       min_impurity_decrease=0.0, min_impurity_split=None,\n",
       "                       min_samples_leaf=1, min_samples_split=2,\n",
       "                       min_weight_fraction_leaf=0.0, presort=False,\n",
       "                       random_state=12345, splitter='best')"
      ]
     },
     "execution_count": 171,
     "metadata": {},
     "output_type": "execute_result"
    }
   ],
   "source": [
    "# train decision tree model\n",
    "model = DecisionTreeClassifier(max_depth=3, random_state=12345)\n",
    "model.fit(features_train, target_train)"
   ]
  },
  {
   "cell_type": "code",
   "execution_count": 172,
   "metadata": {
    "scrolled": true
   },
   "outputs": [
    {
     "name": "stdout",
     "output_type": "stream",
     "text": [
      "             Accuracy: Precision: Recall:  F1:\n",
      "Train set:      84.32% 85.71%     27.98%   42.19%\n",
      "Validation set: 83.29% 85.27%     27.85%   41.98%\n"
     ]
    }
   ],
   "source": [
    "print_scores(features_train, features_valid, target_train, target_valid)"
   ]
  },
  {
   "cell_type": "markdown",
   "metadata": {},
   "source": [
    "**So...**<br>\n",
    "1. F1 become better 41%!\n",
    "2. Accuracy is better 83.3%."
   ]
  },
  {
   "cell_type": "code",
   "execution_count": 173,
   "metadata": {
    "scrolled": false
   },
   "outputs": [
    {
     "data": {
      "text/plain": [
       "RandomForestClassifier(bootstrap=True, class_weight=None, criterion='gini',\n",
       "                       max_depth=5, max_features='auto', max_leaf_nodes=None,\n",
       "                       min_impurity_decrease=0.0, min_impurity_split=None,\n",
       "                       min_samples_leaf=1, min_samples_split=2,\n",
       "                       min_weight_fraction_leaf=0.0, n_estimators=150,\n",
       "                       n_jobs=None, oob_score=False, random_state=12345,\n",
       "                       verbose=0, warm_start=False)"
      ]
     },
     "execution_count": 173,
     "metadata": {},
     "output_type": "execute_result"
    }
   ],
   "source": [
    "# train decision tree model\n",
    "model = RandomForestClassifier(n_estimators=150, max_depth=5, random_state=12345)\n",
    "model.fit(features_train, target_train)"
   ]
  },
  {
   "cell_type": "code",
   "execution_count": 174,
   "metadata": {
    "scrolled": true
   },
   "outputs": [
    {
     "name": "stdout",
     "output_type": "stream",
     "text": [
      "             Accuracy: Precision: Recall:  F1:\n",
      "Train set:      85.85% 88.37%     35.43%   50.58%\n",
      "Validation set: 83.51% 81.46%     31.14%   45.05%\n"
     ]
    }
   ],
   "source": [
    "print_scores(features_train, features_valid, target_train, target_valid)"
   ]
  },
  {
   "cell_type": "markdown",
   "metadata": {},
   "source": [
    "**So...**<br>\n",
    "1. F1 become even better 45%!\n",
    "2. Accuracy even better 83.5%."
   ]
  },
  {
   "cell_type": "markdown",
   "metadata": {},
   "source": [
    "### Results of chapter 2\n",
    "1. Target is not balanced 80%/20% (zero/one)\n",
    "2. I apply 3 models without any tuning to estimate the quality of predicition.\n",
    "3. I checked 3 metrics: accuracy, recall, precision (+f1) to estimate quality. This not good preliminary study showed that Random forest here is the best"
   ]
  },
  {
   "cell_type": "markdown",
   "metadata": {},
   "source": [
    "# Chapter 3\n",
    "<font size=\"3\">**Improve the quality of the model. Make sure you use at least two approaches to fixing class imbalance. Use the training set to pick the best parameters. Train different models on training and validation sets. Find the best one. Briefly describe your findings.**</font> "
   ]
  },
  {
   "cell_type": "markdown",
   "metadata": {},
   "source": [
    "<font size=\"3\">**Consider balance-problem**</font> "
   ]
  },
  {
   "cell_type": "markdown",
   "metadata": {},
   "source": [
    "<font size=\"3\">*1st technique: class_weight = balanced*</font>"
   ]
  },
  {
   "cell_type": "code",
   "execution_count": 175,
   "metadata": {
    "scrolled": true
   },
   "outputs": [
    {
     "data": {
      "text/plain": [
       "RandomForestClassifier(bootstrap=True, class_weight='balanced',\n",
       "                       criterion='gini', max_depth=5, max_features='auto',\n",
       "                       max_leaf_nodes=None, min_impurity_decrease=0.0,\n",
       "                       min_impurity_split=None, min_samples_leaf=1,\n",
       "                       min_samples_split=2, min_weight_fraction_leaf=0.0,\n",
       "                       n_estimators=150, n_jobs=None, oob_score=False,\n",
       "                       random_state=12345, verbose=0, warm_start=False)"
      ]
     },
     "execution_count": 175,
     "metadata": {},
     "output_type": "execute_result"
    }
   ],
   "source": [
    "# train random forest model\n",
    "model = RandomForestClassifier(n_estimators=150, max_depth=5, class_weight='balanced', random_state=12345)\n",
    "model.fit(features_train, target_train)"
   ]
  },
  {
   "cell_type": "code",
   "execution_count": 176,
   "metadata": {
    "scrolled": true
   },
   "outputs": [
    {
     "name": "stdout",
     "output_type": "stream",
     "text": [
      "             Accuracy: Precision: Recall:  F1:\n",
      "Train set:      80.80% 52.18%     73.09%   60.89%\n",
      "Validation set: 77.63% 48.90%     67.59%   56.75%\n"
     ]
    }
   ],
   "source": [
    "print_scores(features_train, features_valid, target_train, target_valid)"
   ]
  },
  {
   "cell_type": "markdown",
   "metadata": {},
   "source": [
    "**So...**<br>\n",
    "1. F1 after balance become 56%! And we haven't tuning our model yet.\n",
    "2. Accuracy in the level of sanity check."
   ]
  },
  {
   "cell_type": "markdown",
   "metadata": {},
   "source": [
    "<font size=\"3\">*2nd technique: upsampling*</font>"
   ]
  },
  {
   "cell_type": "code",
   "execution_count": 177,
   "metadata": {},
   "outputs": [],
   "source": [
    "# use function for upsampling\n",
    "def upsample(features, target, repeat):\n",
    "    features_zeros = features[target == 0]\n",
    "    features_ones = features[target == 1]\n",
    "    target_zeros = target[target == 0]\n",
    "    target_ones = target[target == 1]\n",
    "    \n",
    "    features_upsampled = pd.concat([features_zeros] + [features_ones] * repeat)\n",
    "    target_upsampled = pd.concat([target_zeros] + [target_ones] * repeat)\n",
    "    \n",
    "    features_upsampled, target_upsampled = shuffle(\n",
    "                        features_upsampled, target_upsampled, random_state=12345)\n",
    "    \n",
    "    return features_upsampled, target_upsampled\n",
    "\n",
    "# apply it on train set\n",
    "features_upsampled, target_upsampled = upsample(features_train, target_train, 4)"
   ]
  },
  {
   "cell_type": "code",
   "execution_count": 178,
   "metadata": {
    "scrolled": true
   },
   "outputs": [
    {
     "name": "stdout",
     "output_type": "stream",
     "text": [
      "1-values in data: 4339\n",
      "0-values in data: 4460\n"
     ]
    },
    {
     "name": "stderr",
     "output_type": "stream",
     "text": [
      "/opt/conda/lib/python3.7/site-packages/ipykernel_launcher.py:1: UserWarning: Boolean Series key will be reindexed to match DataFrame index.\n",
      "  \"\"\"Entry point for launching an IPython kernel.\n",
      "/opt/conda/lib/python3.7/site-packages/ipykernel_launcher.py:2: UserWarning: Boolean Series key will be reindexed to match DataFrame index.\n",
      "  \n"
     ]
    }
   ],
   "source": [
    "print('1-values in data:',len(features_upsampled[target == 0]))\n",
    "print('0-values in data:',len(features_upsampled[target == 1]))"
   ]
  },
  {
   "cell_type": "code",
   "execution_count": 179,
   "metadata": {
    "scrolled": true
   },
   "outputs": [
    {
     "data": {
      "text/plain": [
       "RandomForestClassifier(bootstrap=True, class_weight=None, criterion='gini',\n",
       "                       max_depth=5, max_features='auto', max_leaf_nodes=None,\n",
       "                       min_impurity_decrease=0.0, min_impurity_split=None,\n",
       "                       min_samples_leaf=1, min_samples_split=2,\n",
       "                       min_weight_fraction_leaf=0.0, n_estimators=150,\n",
       "                       n_jobs=None, oob_score=False, random_state=12345,\n",
       "                       verbose=0, warm_start=False)"
      ]
     },
     "execution_count": 179,
     "metadata": {},
     "output_type": "execute_result"
    }
   ],
   "source": [
    "# train random forest model\n",
    "model = RandomForestClassifier(n_estimators=150, max_depth=5, random_state=12345)\n",
    "model.fit(features_upsampled, target_upsampled)"
   ]
  },
  {
   "cell_type": "code",
   "execution_count": 180,
   "metadata": {
    "scrolled": true
   },
   "outputs": [
    {
     "name": "stdout",
     "output_type": "stream",
     "text": [
      "             Accuracy: Precision: Recall:  F1:\n",
      "Train set:      78.40% 80.87%     75.16%   77.91%\n",
      "Validation set: 77.19% 48.25%     69.62%   56.99%\n"
     ]
    }
   ],
   "source": [
    "print_scores(features_upsampled, features_valid, target_upsampled, target_valid)"
   ]
  },
  {
   "cell_type": "markdown",
   "metadata": {},
   "source": [
    "**So...**<br>\n",
    "1. F1 after upsampling become 57%. It gives better result on training set, but on validation set it is near the same 56.99% (before 56.75%).\n",
    "2. We have good recall score 70% and still low precision."
   ]
  },
  {
   "cell_type": "markdown",
   "metadata": {},
   "source": [
    "<font size=\"3\">**Choose best model with balanced dataset**</font> "
   ]
  },
  {
   "cell_type": "markdown",
   "metadata": {},
   "source": [
    "<font size=\"3\">*Random Forest (upsampled)*</font>"
   ]
  },
  {
   "cell_type": "code",
   "execution_count": 181,
   "metadata": {
    "scrolled": true
   },
   "outputs": [],
   "source": [
    "# train random forest model and find best parameters\n",
    "# we save all calculated results in list f1_scores_res [[max_depth, n_estimators, f1_score]_i...]\n",
    "f1_scores_res = []\n",
    "for mdepth in range(1,10):\n",
    "    for nestimat in range (30,220,30):\n",
    "        model = RandomForestClassifier(n_estimators=nestimat, max_depth=mdepth, random_state=12345)\n",
    "        model.fit(features_upsampled, target_upsampled)\n",
    "        \n",
    "        predicted_valid = model.predict(features_valid)\n",
    "        f1_scores_res.append([mdepth, nestimat, f1_score(target_valid, predicted_valid)])"
   ]
  },
  {
   "cell_type": "code",
   "execution_count": 182,
   "metadata": {},
   "outputs": [
    {
     "name": "stdout",
     "output_type": "stream",
     "text": [
      "max_depth = 9 n_estimator = 30\n"
     ]
    }
   ],
   "source": [
    "# find from the list maximal f1_score\n",
    "f1_best = max([row[2] for row in f1_scores_res])\n",
    "\n",
    "# find corresponding max_depth and n_estimators \n",
    "max_depthB, n_estimatosB = [ [row[0],row[1]]  for row in f1_scores_res if row[2] == f1_best][0]\n",
    "print('max_depth =',max_depthB, 'n_estimator =',n_estimatosB)"
   ]
  },
  {
   "cell_type": "code",
   "execution_count": 183,
   "metadata": {
    "scrolled": false
   },
   "outputs": [
    {
     "name": "stdout",
     "output_type": "stream",
     "text": [
      "             Accuracy: Precision: Recall:  F1:\n",
      "Train set:      87.28% 88.93%     85.56%   87.21%\n",
      "Validation set: 80.54% 54.18%     67.34%   60.05%\n"
     ]
    }
   ],
   "source": [
    "model = RandomForestClassifier(n_estimators=n_estimatosB, max_depth=max_depthB, random_state=12345)\n",
    "model.fit(features_upsampled, target_upsampled)\n",
    "predicted_valid = model.predict(features_valid) \n",
    "print_scores(features_upsampled, features_valid, target_upsampled, target_valid)"
   ]
  },
  {
   "cell_type": "markdown",
   "metadata": {},
   "source": [
    "**So...**<br>\n",
    "1. F1 after upsampling + random forest with best parameters give **60%**! (train set: 87%)\n",
    "2. Could the difference between F1 on train set and validation set show us that it is overtraining?"
   ]
  },
  {
   "cell_type": "markdown",
   "metadata": {},
   "source": [
    "<font size=\"3\">*Random Forest (class_weight)*</font>"
   ]
  },
  {
   "cell_type": "code",
   "execution_count": 218,
   "metadata": {
    "scrolled": true
   },
   "outputs": [],
   "source": [
    "# train random forest model and find best parameters\n",
    "# we save all calculated results in list f1_scores_res [[max_depth, n_estimators, f1_score]_i...]\n",
    "f1_scores_res = []\n",
    "for mdepth in range(1,10):\n",
    "    for nestimat in range (30,220,30):\n",
    "        model = RandomForestClassifier(n_estimators=nestimat, max_depth=mdepth, class_weight='balanced', random_state=12345)\n",
    "        model.fit(features_train, target_train)\n",
    "        \n",
    "        predicted_valid = model.predict(features_valid)\n",
    "        f1_scores_res.append([mdepth, nestimat, f1_score(target_valid, predicted_valid)])"
   ]
  },
  {
   "cell_type": "code",
   "execution_count": 219,
   "metadata": {},
   "outputs": [
    {
     "name": "stdout",
     "output_type": "stream",
     "text": [
      "max_depth = 9 n_estimator = 30\n"
     ]
    }
   ],
   "source": [
    "# find from the list maximal f1_score\n",
    "f1_best = max([row[2] for row in f1_scores_res])\n",
    "\n",
    "# find corresponding max_depth and n_estimators \n",
    "max_depthBfor, n_estimatosBfor = [ [row[0],row[1]]  for row in f1_scores_res if row[2] == f1_best][0]\n",
    "print('max_depth =',max_depthBfor, 'n_estimator =',n_estimatosBfor)"
   ]
  },
  {
   "cell_type": "code",
   "execution_count": 221,
   "metadata": {
    "scrolled": false
   },
   "outputs": [
    {
     "name": "stdout",
     "output_type": "stream",
     "text": [
      "             Accuracy: Precision: Recall:  F1:\n",
      "Train set:      89.53% 71.25%     81.79%   76.16%\n",
      "Validation set: 82.35% 58.69%     63.29%   60.90%\n"
     ]
    }
   ],
   "source": [
    "model = RandomForestClassifier(n_estimators=n_estimatosBfor, max_depth=max_depthBfor, \n",
    "                               class_weight='balanced', random_state=12345)\n",
    "model.fit(features_train, target_train)\n",
    "predicted_valid = model.predict(features_valid) \n",
    "print_scores(features_train, features_valid, target_train, target_valid)"
   ]
  },
  {
   "cell_type": "markdown",
   "metadata": {},
   "source": [
    "**So...**<br>\n",
    "1. F1 after upsampling + random forest with best parameters give **60.9%**! (train set: 76%)"
   ]
  },
  {
   "cell_type": "markdown",
   "metadata": {},
   "source": [
    "<font size=\"3\">*ROC-AUC: Random Forest (class_weight)*</font>"
   ]
  },
  {
   "cell_type": "code",
   "execution_count": 222,
   "metadata": {},
   "outputs": [],
   "source": [
    "probabilities_valid = model.predict_proba(features_valid)\n",
    "probabilities_one_valid = probabilities_valid[:, 1]"
   ]
  },
  {
   "cell_type": "code",
   "execution_count": 223,
   "metadata": {},
   "outputs": [
    {
     "data": {
      "image/png": "[encoded data removed]",
      "text/plain": [
       "<Figure size 432x288 with 1 Axes>"
      ]
     },
     "metadata": {
      "needs_background": "light"
     },
     "output_type": "display_data"
    }
   ],
   "source": [
    "fpr, tpr, thresholds = roc_curve(target_valid, probabilities_one_valid)\n",
    "\n",
    "# plot the graph\n",
    "plt.figure()\n",
    "plt.plot(fpr, tpr)\n",
    "plt.plot([0, 1], [0, 1], linestyle='--')\n",
    "plt.xlim(0,1)\n",
    "plt.ylim(0,1)\n",
    "plt.xlabel(\"False Positive Rate\")\n",
    "plt.xlabel(\"True Positive Rate\")\n",
    "plt.title(\"ROC curve\")\n",
    "plt.show()"
   ]
  },
  {
   "cell_type": "code",
   "execution_count": 224,
   "metadata": {},
   "outputs": [
    {
     "name": "stdout",
     "output_type": "stream",
     "text": [
      "roc_auc_score: 84%\n"
     ]
    }
   ],
   "source": [
    "print('roc_auc_score: {:.0%}'.format(roc_auc_score(target_valid, probabilities_one_valid)))"
   ]
  },
  {
   "cell_type": "markdown",
   "metadata": {},
   "source": [
    "<font size=\"3\">*Decision Tree*</font>"
   ]
  },
  {
   "cell_type": "code",
   "execution_count": 225,
   "metadata": {
    "scrolled": true
   },
   "outputs": [],
   "source": [
    "# train random forest model and find best parameters\n",
    "# we save all calculated results in list f1_scores_res [[max_depth, n_estimators, f1_score]_i...]\n",
    "f1_scores_res = []\n",
    "for mdepth in range(1,10):\n",
    "    model = DecisionTreeClassifier(max_depth=mdepth, class_weight='balanced', random_state=12345)\n",
    "    model.fit(features_train, target_train)\n",
    "    predicted_valid = model.predict(features_valid)        \n",
    "    f1_scores_res.append([mdepth, f1_score(target_valid, predicted_valid)])"
   ]
  },
  {
   "cell_type": "code",
   "execution_count": 226,
   "metadata": {
    "scrolled": true
   },
   "outputs": [
    {
     "name": "stdout",
     "output_type": "stream",
     "text": [
      "max_depth = [6]\n"
     ]
    }
   ],
   "source": [
    "# find from the list maximal f1_score\n",
    "f1_best = max([row[1] for row in f1_scores_res])\n",
    "\n",
    "# find corresponding max_depth and n_estimators \n",
    "max_depthB = [ [row[0]]  for row in f1_scores_res if row[1] == f1_best][0]\n",
    "print('max_depth =',max_depthB)"
   ]
  },
  {
   "cell_type": "code",
   "execution_count": 227,
   "metadata": {
    "scrolled": false
   },
   "outputs": [
    {
     "name": "stdout",
     "output_type": "stream",
     "text": [
      "             Accuracy: Precision: Recall:  F1:\n",
      "Train set:      78.71% 48.75%     80.36%   60.68%\n",
      "Validation set: 75.10% 45.54%     74.94%   56.65%\n"
     ]
    }
   ],
   "source": [
    "model = DecisionTreeClassifier(max_depth=6, class_weight='balanced', random_state=12345)\n",
    "model.fit(features_train, target_train)\n",
    "predicted_valid = model.predict(features_valid) \n",
    "print_scores(features_train, features_valid, target_train, target_valid)"
   ]
  },
  {
   "cell_type": "markdown",
   "metadata": {},
   "source": [
    "**So...**<br>\n",
    "1. F1 after upsampling + tree decision with best parameters give **56.6%**! (train set: 60%)\n",
    "2. It is not bad but it worse than random forest (random forest: 60.9%)"
   ]
  },
  {
   "cell_type": "markdown",
   "metadata": {},
   "source": [
    "### Results of chapter3\n",
    "1. Solved problem with unbalanced data (upsampling + class_weight)\n",
    "2. I apply 2 models (Random forest and DecisionTree) and tune parameters.\n",
    "3. The best result for validation set is F1_score = 60.9%."
   ]
  },
  {
   "cell_type": "markdown",
   "metadata": {},
   "source": [
    "# Chapter 4\n",
    "<font size=\"3\">**Perform the final testing.**</font> "
   ]
  },
  {
   "cell_type": "code",
   "execution_count": 228,
   "metadata": {
    "scrolled": false
   },
   "outputs": [
    {
     "name": "stdout",
     "output_type": "stream",
     "text": [
      "             Accuracy: Precision: Recall:  F1:\n",
      "Train set:      89.53% 71.25%     81.79%   76.16%\n",
      "Validation set: 82.35% 58.69%     63.29%   60.90%\n"
     ]
    }
   ],
   "source": [
    "model = RandomForestClassifier(n_estimators=n_estimatosBfor, max_depth=max_depthBfor, class_weight='balanced', random_state=12345)\n",
    "model.fit(features_train, target_train)\n",
    "predicted_valid = model.predict(features_valid) \n",
    "print_scores(features_train, features_valid, target_train, target_valid)"
   ]
  },
  {
   "cell_type": "code",
   "execution_count": 234,
   "metadata": {},
   "outputs": [
    {
     "name": "stdout",
     "output_type": "stream",
     "text": [
      "60.2%\n"
     ]
    }
   ],
   "source": [
    "predicted_test = model.predict(features_test) \n",
    "print('{:.1%}'.format(f1_score(target_test, predicted_test)))\n",
    "#print_scores(features_valid, features_test, target_valid, target_test)"
   ]
  },
  {
   "cell_type": "markdown",
   "metadata": {},
   "source": [
    "# Conclusion\n",
    "1. We us F1 as a clue metric.\n",
    "2. The best model is a Random forest with max_depth = 9 n_estimator = 30\n",
    "3. Balance the data with class_weight is realle matter in this problem\n",
    "4. The result of testing the model gives f1_score = 60%. In fact it is not so good. We found 63% of those who can exit the bank (recall 63%) and do a lot of wrong decisions (Precision = 58%)\n",
    "\n",
    "I think that we can do our model better if we increase weight of *Age*. We say that it gives the best correlation.\n",
    "Hope to see your comments, because this is the first really not easy project."
   ]
  }
 ],
 "metadata": {
  "kernelspec": {
   "display_name": "Python 3 (ipykernel)",
   "language": "python",
   "name": "python3"
  },
  "language_info": {
   "codemirror_mode": {
    "name": "ipython",
    "version": 3
   },
   "file_extension": ".py",
   "mimetype": "text/x-python",
   "name": "python",
   "nbconvert_exporter": "python",
   "pygments_lexer": "ipython3",
   "version": "3.9.7"
  },
  "toc": {
   "base_numbering": 1,
   "nav_menu": {},
   "number_sections": true,
   "sideBar": true,
   "skip_h1_title": true,
   "title_cell": "Table of Contents",
   "title_sidebar": "Contents",
   "toc_cell": false,
   "toc_position": {},
   "toc_section_display": true,
   "toc_window_display": false
  }
 },
 "nbformat": 4,
 "nbformat_minor": 2
}
